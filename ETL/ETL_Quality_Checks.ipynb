{
 "cells": [
  {
   "cell_type": "code",
   "execution_count": 37,
   "metadata": {
    "collapsed": false
   },
   "outputs": [
    {
     "data": {
      "text/html": [
       "\n",
       "          <script src=\"/static/components/requirejs/require.js\"></script>\n",
       "          <script>\n",
       "            requirejs.config({\n",
       "              paths: {\n",
       "                base: '/static/base',\n",
       "              },\n",
       "            });\n",
       "          </script>\n",
       "          "
      ],
      "text/plain": [
       "<IPython.core.display.HTML object>"
      ]
     },
     "metadata": {},
     "output_type": "display_data"
    }
   ],
   "source": [
    "# load libraries\n",
    "import google.datalab.bigquery as bq\n",
    "import pandas as pd\n",
    "import matplotlib.pyplot as plt\n",
    "import numpy as np\n",
    "import datetime as dt"
   ]
  },
  {
   "cell_type": "code",
   "execution_count": 70,
   "metadata": {
    "collapsed": false
   },
   "outputs": [
    {
     "data": {
      "text/html": [
       "\n",
       "          <script src=\"/static/components/requirejs/require.js\"></script>\n",
       "          <script>\n",
       "            requirejs.config({\n",
       "              paths: {\n",
       "                base: '/static/base',\n",
       "              },\n",
       "            });\n",
       "          </script>\n",
       "          "
      ],
      "text/plain": [
       "<IPython.core.display.HTML object>"
      ]
     },
     "metadata": {},
     "output_type": "display_data"
    },
    {
     "data": {
      "text/html": [
       "\n",
       "    <div class=\"bqtv\" id=\"33_151053768816\"><table><tr><th>num_employees</th></tr><tr><td>4375415</td></tr></table></div>\n",
       "    <br />(rows: 1, time: 9.2s,     1GB processed, job: job_qBLW_odMXD-NRqE2Wz3kUA4H3ASx)<br />\n",
       "    <script>\n",
       "\n",
       "      require.config({\n",
       "        paths: {\n",
       "          d3: '//cdnjs.cloudflare.com/ajax/libs/d3/3.4.13/d3',\n",
       "          plotly: 'https://cdn.plot.ly/plotly-1.5.1.min.js?noext',\n",
       "          jquery: '//ajax.googleapis.com/ajax/libs/jquery/2.0.0/jquery.min'\n",
       "        },\n",
       "        map: {\n",
       "          '*': {\n",
       "            datalab: 'nbextensions/gcpdatalab'\n",
       "          }\n",
       "        },\n",
       "        shim: {\n",
       "          plotly: {\n",
       "            deps: ['d3', 'jquery'],\n",
       "            exports: 'plotly'\n",
       "          }\n",
       "        }\n",
       "      });\n",
       "\n",
       "      require(['datalab/charting', 'datalab/element!33_151053768816', 'base/js/events',\n",
       "          'datalab/style!/nbextensions/gcpdatalab/charting.css'],\n",
       "        function(charts, dom, events) {\n",
       "          charts.render('gcharts', dom, events, 'table', [], {\"rows\": [{\"c\": [{\"v\": 4375415}]}], \"cols\": [{\"type\": \"number\", \"id\": \"num_employees\", \"label\": \"num_employees\"}]},\n",
       "            {\n",
       "              pageSize: 25,\n",
       "              cssClassNames:  {\n",
       "                tableRow: 'gchart-table-row',\n",
       "                headerRow: 'gchart-table-headerrow',\n",
       "                oddTableRow: 'gchart-table-oddrow',\n",
       "                selectedTableRow: 'gchart-table-selectedrow',\n",
       "                hoverTableRow: 'gchart-table-hoverrow',\n",
       "                tableCell: 'gchart-table-cell',\n",
       "                headerCell: 'gchart-table-headercell',\n",
       "                rowNumberCell: 'gchart-table-rownumcell'\n",
       "              }\n",
       "            },\n",
       "            {source_index: 32, fields: 'num_employees'},\n",
       "            0,\n",
       "            1);\n",
       "        }\n",
       "      );\n",
       "    </script>\n",
       "  "
      ],
      "text/plain": [
       "QueryResultsTable job_qBLW_odMXD-NRqE2Wz3kUA4H3ASx"
      ]
     },
     "execution_count": 70,
     "metadata": {},
     "output_type": "execute_result"
    }
   ],
   "source": [
    "%%bq query \n",
    "\n",
    "SELECT COUNT(DISTINCT emp_id) as num_employees\n",
    "FROM `w210-fedwork.processed_data.status`\n"
   ]
  },
  {
   "cell_type": "markdown",
   "metadata": {},
   "source": []
  },
  {
   "cell_type": "code",
   "execution_count": 1,
   "metadata": {
    "collapsed": false
   },
   "outputs": [
    {
     "data": {
      "text/html": [
       "\n",
       "          <script src=\"/static/components/requirejs/require.js\"></script>\n",
       "          <script>\n",
       "            requirejs.config({\n",
       "              paths: {\n",
       "                base: '/static/base',\n",
       "              },\n",
       "            });\n",
       "          </script>\n",
       "          "
      ],
      "text/plain": [
       "<IPython.core.display.HTML object>"
      ]
     },
     "metadata": {},
     "output_type": "display_data"
    },
    {
     "data": {
      "text/html": [
       "\n",
       "    <div class=\"bqtv\" id=\"1_151041298193\"><table><tr><th>num_employees</th></tr><tr><td>3871680</td></tr></table></div>\n",
       "    <br />(rows: 1, time: 5.5s,    81MB processed, job: job_zjNseFNGitM-F-MDzPSL25_ft9Cs)<br />\n",
       "    <script>\n",
       "\n",
       "      require.config({\n",
       "        paths: {\n",
       "          d3: '//cdnjs.cloudflare.com/ajax/libs/d3/3.4.13/d3',\n",
       "          plotly: 'https://cdn.plot.ly/plotly-1.5.1.min.js?noext',\n",
       "          jquery: '//ajax.googleapis.com/ajax/libs/jquery/2.0.0/jquery.min'\n",
       "        },\n",
       "        map: {\n",
       "          '*': {\n",
       "            datalab: 'nbextensions/gcpdatalab'\n",
       "          }\n",
       "        },\n",
       "        shim: {\n",
       "          plotly: {\n",
       "            deps: ['d3', 'jquery'],\n",
       "            exports: 'plotly'\n",
       "          }\n",
       "        }\n",
       "      });\n",
       "\n",
       "      require(['datalab/charting', 'datalab/element!1_151041298193', 'base/js/events',\n",
       "          'datalab/style!/nbextensions/gcpdatalab/charting.css'],\n",
       "        function(charts, dom, events) {\n",
       "          charts.render('gcharts', dom, events, 'table', [], {\"rows\": [{\"c\": [{\"v\": 3871680}]}], \"cols\": [{\"type\": \"number\", \"id\": \"num_employees\", \"label\": \"num_employees\"}]},\n",
       "            {\n",
       "              pageSize: 25,\n",
       "              cssClassNames:  {\n",
       "                tableRow: 'gchart-table-row',\n",
       "                headerRow: 'gchart-table-headerrow',\n",
       "                oddTableRow: 'gchart-table-oddrow',\n",
       "                selectedTableRow: 'gchart-table-selectedrow',\n",
       "                hoverTableRow: 'gchart-table-hoverrow',\n",
       "                tableCell: 'gchart-table-cell',\n",
       "                headerCell: 'gchart-table-headercell',\n",
       "                rowNumberCell: 'gchart-table-rownumcell'\n",
       "              }\n",
       "            },\n",
       "            {source_index: 0, fields: 'num_employees'},\n",
       "            0,\n",
       "            1);\n",
       "        }\n",
       "      );\n",
       "    </script>\n",
       "  "
      ],
      "text/plain": [
       "QueryResultsTable job_zjNseFNGitM-F-MDzPSL25_ft9Cs"
      ]
     },
     "execution_count": 1,
     "metadata": {},
     "output_type": "execute_result"
    }
   ],
   "source": [
    "%%bq query \n",
    "\n",
    "SELECT COUNT(DISTINCT emp_id) as num_employees\n",
    "FROM `w210-fedwork.processed_data.dynamic`"
   ]
  },
  {
   "cell_type": "markdown",
   "metadata": {},
   "source": [
    "#### Are there employees in dynamic that do NOT exist in status?"
   ]
  },
  {
   "cell_type": "code",
   "execution_count": 71,
   "metadata": {
    "collapsed": false
   },
   "outputs": [
    {
     "data": {
      "text/html": [
       "\n",
       "          <script src=\"/static/components/requirejs/require.js\"></script>\n",
       "          <script>\n",
       "            requirejs.config({\n",
       "              paths: {\n",
       "                base: '/static/base',\n",
       "              },\n",
       "            });\n",
       "          </script>\n",
       "          "
      ],
      "text/plain": [
       "<IPython.core.display.HTML object>"
      ]
     },
     "metadata": {},
     "output_type": "display_data"
    },
    {
     "data": {
      "text/html": [
       "\n",
       "    <div class=\"bqtv\" id=\"34_151053782389\"><table><tr><th>num_employees</th><th>num_records</th></tr><tr><td>150475</td><td>267640</td></tr></table></div>\n",
       "    <br />(rows: 1, time: 8.8s,     1GB processed, job: job_z3v1tpkuN6Dp5ElT06dwEDigHnh-)<br />\n",
       "    <script>\n",
       "\n",
       "      require.config({\n",
       "        paths: {\n",
       "          d3: '//cdnjs.cloudflare.com/ajax/libs/d3/3.4.13/d3',\n",
       "          plotly: 'https://cdn.plot.ly/plotly-1.5.1.min.js?noext',\n",
       "          jquery: '//ajax.googleapis.com/ajax/libs/jquery/2.0.0/jquery.min'\n",
       "        },\n",
       "        map: {\n",
       "          '*': {\n",
       "            datalab: 'nbextensions/gcpdatalab'\n",
       "          }\n",
       "        },\n",
       "        shim: {\n",
       "          plotly: {\n",
       "            deps: ['d3', 'jquery'],\n",
       "            exports: 'plotly'\n",
       "          }\n",
       "        }\n",
       "      });\n",
       "\n",
       "      require(['datalab/charting', 'datalab/element!34_151053782389', 'base/js/events',\n",
       "          'datalab/style!/nbextensions/gcpdatalab/charting.css'],\n",
       "        function(charts, dom, events) {\n",
       "          charts.render('gcharts', dom, events, 'table', [], {\"rows\": [{\"c\": [{\"v\": 150475}, {\"v\": 267640}]}], \"cols\": [{\"type\": \"number\", \"id\": \"num_employees\", \"label\": \"num_employees\"}, {\"type\": \"number\", \"id\": \"num_records\", \"label\": \"num_records\"}]},\n",
       "            {\n",
       "              pageSize: 25,\n",
       "              cssClassNames:  {\n",
       "                tableRow: 'gchart-table-row',\n",
       "                headerRow: 'gchart-table-headerrow',\n",
       "                oddTableRow: 'gchart-table-oddrow',\n",
       "                selectedTableRow: 'gchart-table-selectedrow',\n",
       "                hoverTableRow: 'gchart-table-hoverrow',\n",
       "                tableCell: 'gchart-table-cell',\n",
       "                headerCell: 'gchart-table-headercell',\n",
       "                rowNumberCell: 'gchart-table-rownumcell'\n",
       "              }\n",
       "            },\n",
       "            {source_index: 33, fields: 'num_employees,num_records'},\n",
       "            0,\n",
       "            1);\n",
       "        }\n",
       "      );\n",
       "    </script>\n",
       "  "
      ],
      "text/plain": [
       "QueryResultsTable job_z3v1tpkuN6Dp5ElT06dwEDigHnh-"
      ]
     },
     "execution_count": 71,
     "metadata": {},
     "output_type": "execute_result"
    }
   ],
   "source": [
    "%%bq query \n",
    "\n",
    "SELECT COUNT(DISTINCT a.emp_id) as num_employees, COUNT(*) as num_records\n",
    "FROM `w210-fedwork.processed_data.dynamic` as a \n",
    "LEFT OUTER JOIN `w210-fedwork.processed_data.status` as b\n",
    "ON a.emp_id=b.emp_id\n",
    "WHERE b.emp_id IS NULL\n"
   ]
  },
  {
   "cell_type": "markdown",
   "metadata": {},
   "source": [
    "###### Should we join on agency? Check the number of employees with multiple agencies in status"
   ]
  },
  {
   "cell_type": "code",
   "execution_count": 72,
   "metadata": {
    "collapsed": false
   },
   "outputs": [
    {
     "data": {
      "text/html": [
       "\n",
       "          <script src=\"/static/components/requirejs/require.js\"></script>\n",
       "          <script>\n",
       "            requirejs.config({\n",
       "              paths: {\n",
       "                base: '/static/base',\n",
       "              },\n",
       "            });\n",
       "          </script>\n",
       "          "
      ],
      "text/plain": [
       "<IPython.core.display.HTML object>"
      ]
     },
     "metadata": {},
     "output_type": "display_data"
    },
    {
     "data": {
      "text/html": [
       "\n",
       "    <div class=\"bqtv\" id=\"35_151053794879\"><table><tr><th>num_emp_mult_agencies</th></tr><tr><td>157658</td></tr></table></div>\n",
       "    <br />(rows: 1, time: 81.4s,     3GB processed, job: job_plzLSMJsibzcWqmfQCovDgqDMsIy)<br />\n",
       "    <script>\n",
       "\n",
       "      require.config({\n",
       "        paths: {\n",
       "          d3: '//cdnjs.cloudflare.com/ajax/libs/d3/3.4.13/d3',\n",
       "          plotly: 'https://cdn.plot.ly/plotly-1.5.1.min.js?noext',\n",
       "          jquery: '//ajax.googleapis.com/ajax/libs/jquery/2.0.0/jquery.min'\n",
       "        },\n",
       "        map: {\n",
       "          '*': {\n",
       "            datalab: 'nbextensions/gcpdatalab'\n",
       "          }\n",
       "        },\n",
       "        shim: {\n",
       "          plotly: {\n",
       "            deps: ['d3', 'jquery'],\n",
       "            exports: 'plotly'\n",
       "          }\n",
       "        }\n",
       "      });\n",
       "\n",
       "      require(['datalab/charting', 'datalab/element!35_151053794879', 'base/js/events',\n",
       "          'datalab/style!/nbextensions/gcpdatalab/charting.css'],\n",
       "        function(charts, dom, events) {\n",
       "          charts.render('gcharts', dom, events, 'table', [], {\"rows\": [{\"c\": [{\"v\": 157658}]}], \"cols\": [{\"type\": \"number\", \"id\": \"num_emp_mult_agencies\", \"label\": \"num_emp_mult_agencies\"}]},\n",
       "            {\n",
       "              pageSize: 25,\n",
       "              cssClassNames:  {\n",
       "                tableRow: 'gchart-table-row',\n",
       "                headerRow: 'gchart-table-headerrow',\n",
       "                oddTableRow: 'gchart-table-oddrow',\n",
       "                selectedTableRow: 'gchart-table-selectedrow',\n",
       "                hoverTableRow: 'gchart-table-hoverrow',\n",
       "                tableCell: 'gchart-table-cell',\n",
       "                headerCell: 'gchart-table-headercell',\n",
       "                rowNumberCell: 'gchart-table-rownumcell'\n",
       "              }\n",
       "            },\n",
       "            {source_index: 34, fields: 'num_emp_mult_agencies'},\n",
       "            0,\n",
       "            1);\n",
       "        }\n",
       "      );\n",
       "    </script>\n",
       "  "
      ],
      "text/plain": [
       "QueryResultsTable job_plzLSMJsibzcWqmfQCovDgqDMsIy"
      ]
     },
     "execution_count": 72,
     "metadata": {},
     "output_type": "execute_result"
    }
   ],
   "source": [
    "%%bq query \n",
    "SELECT count(emp_id) as num_emp_mult_agencies\n",
    "FROM (\n",
    "    SELECT emp_id, year_file_dt, quarter_file_dt, COUNT(DISTINCT agency) as num_agencies\n",
    "    FROM `w210-fedwork.processed_data.status`\n",
    "    GROUP BY emp_id,year_file_dt, quarter_file_dt\n",
    "  )\n",
    "WHERE num_agencies >1\n"
   ]
  },
  {
   "cell_type": "markdown",
   "metadata": {},
   "source": [
    "#### Join status and dynamic. \n"
   ]
  },
  {
   "cell_type": "markdown",
   "metadata": {},
   "source": [
    "##### Number employees in joint table (merging on employee id only)"
   ]
  },
  {
   "cell_type": "code",
   "execution_count": 76,
   "metadata": {
    "collapsed": false
   },
   "outputs": [
    {
     "data": {
      "text/html": [
       "\n",
       "          <script src=\"/static/components/requirejs/require.js\"></script>\n",
       "          <script>\n",
       "            requirejs.config({\n",
       "              paths: {\n",
       "                base: '/static/base',\n",
       "              },\n",
       "            });\n",
       "          </script>\n",
       "          "
      ],
      "text/plain": [
       "<IPython.core.display.HTML object>"
      ]
     },
     "metadata": {},
     "output_type": "display_data"
    },
    {
     "data": {
      "text/html": [
       "\n",
       "    <div class=\"bqtv\" id=\"39_151054012974\"><table><tr><th>num_emp</th><th>num_records</th></tr><tr><td>3721205</td><td>150544943</td></tr></table></div>\n",
       "    <br />(rows: 1, time: 0.9s, cached, job: job_fh__80Ogv_ErZlMlhokcAoZkvLoB)<br />\n",
       "    <script>\n",
       "\n",
       "      require.config({\n",
       "        paths: {\n",
       "          d3: '//cdnjs.cloudflare.com/ajax/libs/d3/3.4.13/d3',\n",
       "          plotly: 'https://cdn.plot.ly/plotly-1.5.1.min.js?noext',\n",
       "          jquery: '//ajax.googleapis.com/ajax/libs/jquery/2.0.0/jquery.min'\n",
       "        },\n",
       "        map: {\n",
       "          '*': {\n",
       "            datalab: 'nbextensions/gcpdatalab'\n",
       "          }\n",
       "        },\n",
       "        shim: {\n",
       "          plotly: {\n",
       "            deps: ['d3', 'jquery'],\n",
       "            exports: 'plotly'\n",
       "          }\n",
       "        }\n",
       "      });\n",
       "\n",
       "      require(['datalab/charting', 'datalab/element!39_151054012974', 'base/js/events',\n",
       "          'datalab/style!/nbextensions/gcpdatalab/charting.css'],\n",
       "        function(charts, dom, events) {\n",
       "          charts.render('gcharts', dom, events, 'table', [], {\"rows\": [{\"c\": [{\"v\": 3721205}, {\"v\": 150544943}]}], \"cols\": [{\"type\": \"number\", \"id\": \"num_emp\", \"label\": \"num_emp\"}, {\"type\": \"number\", \"id\": \"num_records\", \"label\": \"num_records\"}]},\n",
       "            {\n",
       "              pageSize: 25,\n",
       "              cssClassNames:  {\n",
       "                tableRow: 'gchart-table-row',\n",
       "                headerRow: 'gchart-table-headerrow',\n",
       "                oddTableRow: 'gchart-table-oddrow',\n",
       "                selectedTableRow: 'gchart-table-selectedrow',\n",
       "                hoverTableRow: 'gchart-table-hoverrow',\n",
       "                tableCell: 'gchart-table-cell',\n",
       "                headerCell: 'gchart-table-headercell',\n",
       "                rowNumberCell: 'gchart-table-rownumcell'\n",
       "              }\n",
       "            },\n",
       "            {source_index: 35, fields: 'num_emp,num_records'},\n",
       "            0,\n",
       "            1);\n",
       "        }\n",
       "      );\n",
       "    </script>\n",
       "  "
      ],
      "text/plain": [
       "QueryResultsTable job_fh__80Ogv_ErZlMlhokcAoZkvLoB"
      ]
     },
     "execution_count": 76,
     "metadata": {},
     "output_type": "execute_result"
    }
   ],
   "source": [
    "%%bq query \n",
    "\n",
    "-- First, join on emp\n",
    "\n",
    "SELECT COUNT(DISTINCT s.emp_id) as num_emp, COUNT(*) as num_records\n",
    "FROM `w210-fedwork.processed_data.status` as s\n",
    "JOIN `w210-fedwork.processed_data.dynamic` as d\n",
    "ON s.emp_id=d.emp_id \n"
   ]
  },
  {
   "cell_type": "markdown",
   "metadata": {},
   "source": [
    "##### Number employees in joint table (merging on employee id, year and quarter)"
   ]
  },
  {
   "cell_type": "code",
   "execution_count": 74,
   "metadata": {
    "collapsed": false
   },
   "outputs": [
    {
     "data": {
      "text/html": [
       "\n",
       "          <script src=\"/static/components/requirejs/require.js\"></script>\n",
       "          <script>\n",
       "            requirejs.config({\n",
       "              paths: {\n",
       "                base: '/static/base',\n",
       "              },\n",
       "            });\n",
       "          </script>\n",
       "          "
      ],
      "text/plain": [
       "<IPython.core.display.HTML object>"
      ]
     },
     "metadata": {},
     "output_type": "display_data"
    },
    {
     "data": {
      "text/html": [
       "\n",
       "    <div class=\"bqtv\" id=\"37_151053842652\"><table><tr><th>num_emp</th><th>num_records</th></tr><tr><td>2858649</td><td>4741798</td></tr></table></div>\n",
       "    <br />(rows: 1, time: 19.0s,     3GB processed, job: job_UJCmqHC-I25UfCZYBJrpc1TieliP)<br />\n",
       "    <script>\n",
       "\n",
       "      require.config({\n",
       "        paths: {\n",
       "          d3: '//cdnjs.cloudflare.com/ajax/libs/d3/3.4.13/d3',\n",
       "          plotly: 'https://cdn.plot.ly/plotly-1.5.1.min.js?noext',\n",
       "          jquery: '//ajax.googleapis.com/ajax/libs/jquery/2.0.0/jquery.min'\n",
       "        },\n",
       "        map: {\n",
       "          '*': {\n",
       "            datalab: 'nbextensions/gcpdatalab'\n",
       "          }\n",
       "        },\n",
       "        shim: {\n",
       "          plotly: {\n",
       "            deps: ['d3', 'jquery'],\n",
       "            exports: 'plotly'\n",
       "          }\n",
       "        }\n",
       "      });\n",
       "\n",
       "      require(['datalab/charting', 'datalab/element!37_151053842652', 'base/js/events',\n",
       "          'datalab/style!/nbextensions/gcpdatalab/charting.css'],\n",
       "        function(charts, dom, events) {\n",
       "          charts.render('gcharts', dom, events, 'table', [], {\"rows\": [{\"c\": [{\"v\": 2858649}, {\"v\": 4741798}]}], \"cols\": [{\"type\": \"number\", \"id\": \"num_emp\", \"label\": \"num_emp\"}, {\"type\": \"number\", \"id\": \"num_records\", \"label\": \"num_records\"}]},\n",
       "            {\n",
       "              pageSize: 25,\n",
       "              cssClassNames:  {\n",
       "                tableRow: 'gchart-table-row',\n",
       "                headerRow: 'gchart-table-headerrow',\n",
       "                oddTableRow: 'gchart-table-oddrow',\n",
       "                selectedTableRow: 'gchart-table-selectedrow',\n",
       "                hoverTableRow: 'gchart-table-hoverrow',\n",
       "                tableCell: 'gchart-table-cell',\n",
       "                headerCell: 'gchart-table-headercell',\n",
       "                rowNumberCell: 'gchart-table-rownumcell'\n",
       "              }\n",
       "            },\n",
       "            {source_index: 36, fields: 'num_emp,num_records'},\n",
       "            0,\n",
       "            1);\n",
       "        }\n",
       "      );\n",
       "    </script>\n",
       "  "
      ],
      "text/plain": [
       "QueryResultsTable job_UJCmqHC-I25UfCZYBJrpc1TieliP"
      ]
     },
     "execution_count": 74,
     "metadata": {},
     "output_type": "execute_result"
    }
   ],
   "source": [
    "%%bq query \n",
    "\n",
    "-- Second, join on emp, year, quarter\n",
    "SELECT COUNT(DISTINCT s.emp_id) as num_emp, COUNT(*) as num_records\n",
    "FROM `w210-fedwork.processed_data.status` as s\n",
    "JOIN `w210-fedwork.processed_data.dynamic` as d\n",
    "ON s.emp_id=d.emp_id \n",
    "AND s.year_file_dt=d.year_eff_dt \n",
    "AND s.quarter_file_dt=d.quarter_eff_dt \n",
    "\n"
   ]
  },
  {
   "cell_type": "markdown",
   "metadata": {},
   "source": [
    "##### Number employees in joint table (merging on employee id, year and quarter, agency)"
   ]
  },
  {
   "cell_type": "code",
   "execution_count": 75,
   "metadata": {
    "collapsed": false
   },
   "outputs": [
    {
     "data": {
      "text/html": [
       "\n",
       "          <script src=\"/static/components/requirejs/require.js\"></script>\n",
       "          <script>\n",
       "            requirejs.config({\n",
       "              paths: {\n",
       "                base: '/static/base',\n",
       "              },\n",
       "            });\n",
       "          </script>\n",
       "          "
      ],
      "text/plain": [
       "<IPython.core.display.HTML object>"
      ]
     },
     "metadata": {},
     "output_type": "display_data"
    },
    {
     "data": {
      "text/html": [
       "\n",
       "    <div class=\"bqtv\" id=\"38_151053861797\"><table><tr><th>num_emp</th><th>num_records</th></tr><tr><td>2852560</td><td>4183605</td></tr></table></div>\n",
       "    <br />(rows: 1, time: 12.6s,     3GB processed, job: job_t24qHZNZ-_w0cZDARUZS7TQ3yvSA)<br />\n",
       "    <script>\n",
       "\n",
       "      require.config({\n",
       "        paths: {\n",
       "          d3: '//cdnjs.cloudflare.com/ajax/libs/d3/3.4.13/d3',\n",
       "          plotly: 'https://cdn.plot.ly/plotly-1.5.1.min.js?noext',\n",
       "          jquery: '//ajax.googleapis.com/ajax/libs/jquery/2.0.0/jquery.min'\n",
       "        },\n",
       "        map: {\n",
       "          '*': {\n",
       "            datalab: 'nbextensions/gcpdatalab'\n",
       "          }\n",
       "        },\n",
       "        shim: {\n",
       "          plotly: {\n",
       "            deps: ['d3', 'jquery'],\n",
       "            exports: 'plotly'\n",
       "          }\n",
       "        }\n",
       "      });\n",
       "\n",
       "      require(['datalab/charting', 'datalab/element!38_151053861797', 'base/js/events',\n",
       "          'datalab/style!/nbextensions/gcpdatalab/charting.css'],\n",
       "        function(charts, dom, events) {\n",
       "          charts.render('gcharts', dom, events, 'table', [], {\"rows\": [{\"c\": [{\"v\": 2852560}, {\"v\": 4183605}]}], \"cols\": [{\"type\": \"number\", \"id\": \"num_emp\", \"label\": \"num_emp\"}, {\"type\": \"number\", \"id\": \"num_records\", \"label\": \"num_records\"}]},\n",
       "            {\n",
       "              pageSize: 25,\n",
       "              cssClassNames:  {\n",
       "                tableRow: 'gchart-table-row',\n",
       "                headerRow: 'gchart-table-headerrow',\n",
       "                oddTableRow: 'gchart-table-oddrow',\n",
       "                selectedTableRow: 'gchart-table-selectedrow',\n",
       "                hoverTableRow: 'gchart-table-hoverrow',\n",
       "                tableCell: 'gchart-table-cell',\n",
       "                headerCell: 'gchart-table-headercell',\n",
       "                rowNumberCell: 'gchart-table-rownumcell'\n",
       "              }\n",
       "            },\n",
       "            {source_index: 37, fields: 'num_emp,num_records'},\n",
       "            0,\n",
       "            1);\n",
       "        }\n",
       "      );\n",
       "    </script>\n",
       "  "
      ],
      "text/plain": [
       "QueryResultsTable job_t24qHZNZ-_w0cZDARUZS7TQ3yvSA"
      ]
     },
     "execution_count": 75,
     "metadata": {},
     "output_type": "execute_result"
    }
   ],
   "source": [
    "%%bq query \n",
    "\n",
    "-- Third, join on emp, year, quarter, agency\n",
    "SELECT COUNT(DISTINCT s.emp_id) as num_emp, COUNT(*) as num_records\n",
    "FROM `w210-fedwork.processed_data.status` as s\n",
    "JOIN `w210-fedwork.processed_data.dynamic` as d\n",
    "ON s.emp_id=d.emp_id \n",
    "AND s.year_file_dt=d.year_eff_dt \n",
    "AND s.quarter_file_dt=d.quarter_eff_dt \n",
    "AND s.agency=d.agency "
   ]
  },
  {
   "cell_type": "markdown",
   "metadata": {},
   "source": [
    "### Analysis of table status_dynamic\n",
    "\n",
    "\n",
    "\n",
    "* Note, the merge to create table status_dynamic was done with keeping all records from status and records from dynamic that match on emp_id, year, quarter and agency"
   ]
  },
  {
   "cell_type": "markdown",
   "metadata": {},
   "source": [
    "##### Num employees in status_dynamic"
   ]
  },
  {
   "cell_type": "code",
   "execution_count": 60,
   "metadata": {
    "collapsed": false
   },
   "outputs": [
    {
     "data": {
      "text/html": [
       "\n",
       "          <script src=\"/static/components/requirejs/require.js\"></script>\n",
       "          <script>\n",
       "            requirejs.config({\n",
       "              paths: {\n",
       "                base: '/static/base',\n",
       "              },\n",
       "            });\n",
       "          </script>\n",
       "          "
      ],
      "text/plain": [
       "<IPython.core.display.HTML object>"
      ]
     },
     "metadata": {},
     "output_type": "display_data"
    },
    {
     "data": {
      "text/html": [
       "\n",
       "    <div class=\"bqtv\" id=\"26_151053656564\"><table><tr><th>num_emp</th></tr><tr><td>4375415</td></tr></table></div>\n",
       "    <br />(rows: 1, time: 11.4s,     1GB processed, job: job_fqIgR_CafGR3QnYWCqJGE1DvwHR2)<br />\n",
       "    <script>\n",
       "\n",
       "      require.config({\n",
       "        paths: {\n",
       "          d3: '//cdnjs.cloudflare.com/ajax/libs/d3/3.4.13/d3',\n",
       "          plotly: 'https://cdn.plot.ly/plotly-1.5.1.min.js?noext',\n",
       "          jquery: '//ajax.googleapis.com/ajax/libs/jquery/2.0.0/jquery.min'\n",
       "        },\n",
       "        map: {\n",
       "          '*': {\n",
       "            datalab: 'nbextensions/gcpdatalab'\n",
       "          }\n",
       "        },\n",
       "        shim: {\n",
       "          plotly: {\n",
       "            deps: ['d3', 'jquery'],\n",
       "            exports: 'plotly'\n",
       "          }\n",
       "        }\n",
       "      });\n",
       "\n",
       "      require(['datalab/charting', 'datalab/element!26_151053656564', 'base/js/events',\n",
       "          'datalab/style!/nbextensions/gcpdatalab/charting.css'],\n",
       "        function(charts, dom, events) {\n",
       "          charts.render('gcharts', dom, events, 'table', [], {\"rows\": [{\"c\": [{\"v\": 4375415}]}], \"cols\": [{\"type\": \"number\", \"id\": \"num_emp\", \"label\": \"num_emp\"}]},\n",
       "            {\n",
       "              pageSize: 25,\n",
       "              cssClassNames:  {\n",
       "                tableRow: 'gchart-table-row',\n",
       "                headerRow: 'gchart-table-headerrow',\n",
       "                oddTableRow: 'gchart-table-oddrow',\n",
       "                selectedTableRow: 'gchart-table-selectedrow',\n",
       "                hoverTableRow: 'gchart-table-hoverrow',\n",
       "                tableCell: 'gchart-table-cell',\n",
       "                headerCell: 'gchart-table-headercell',\n",
       "                rowNumberCell: 'gchart-table-rownumcell'\n",
       "              }\n",
       "            },\n",
       "            {source_index: 25, fields: 'num_emp'},\n",
       "            0,\n",
       "            1);\n",
       "        }\n",
       "      );\n",
       "    </script>\n",
       "  "
      ],
      "text/plain": [
       "QueryResultsTable job_fqIgR_CafGR3QnYWCqJGE1DvwHR2"
      ]
     },
     "execution_count": 60,
     "metadata": {},
     "output_type": "execute_result"
    }
   ],
   "source": [
    "%%bq query \n",
    "\n",
    "SELECT COUNT(DISTINCT emp_id) as num_emp\n",
    "FROM `w210-fedwork.processed_data.status_dynamic`"
   ]
  },
  {
   "cell_type": "markdown",
   "metadata": {},
   "source": [
    "##### Num employees in status_dynamic with records excluded from dynamic table"
   ]
  },
  {
   "cell_type": "code",
   "execution_count": 59,
   "metadata": {
    "collapsed": false
   },
   "outputs": [
    {
     "data": {
      "text/html": [
       "\n",
       "          <script src=\"/static/components/requirejs/require.js\"></script>\n",
       "          <script>\n",
       "            requirejs.config({\n",
       "              paths: {\n",
       "                base: '/static/base',\n",
       "              },\n",
       "            });\n",
       "          </script>\n",
       "          "
      ],
      "text/plain": [
       "<IPython.core.display.HTML object>"
      ]
     },
     "metadata": {},
     "output_type": "display_data"
    },
    {
     "data": {
      "text/html": [
       "\n",
       "    <div class=\"bqtv\" id=\"25_151053649457\"><table><tr><th>num_emp_records_excluded</th></tr><tr><td>2033471</td></tr></table></div>\n",
       "    <br />(rows: 1, time: 32.8s,     4GB processed, job: job_zzbXjpZifatrp8jyBl4yuEYqS7vZ)<br />\n",
       "    <script>\n",
       "\n",
       "      require.config({\n",
       "        paths: {\n",
       "          d3: '//cdnjs.cloudflare.com/ajax/libs/d3/3.4.13/d3',\n",
       "          plotly: 'https://cdn.plot.ly/plotly-1.5.1.min.js?noext',\n",
       "          jquery: '//ajax.googleapis.com/ajax/libs/jquery/2.0.0/jquery.min'\n",
       "        },\n",
       "        map: {\n",
       "          '*': {\n",
       "            datalab: 'nbextensions/gcpdatalab'\n",
       "          }\n",
       "        },\n",
       "        shim: {\n",
       "          plotly: {\n",
       "            deps: ['d3', 'jquery'],\n",
       "            exports: 'plotly'\n",
       "          }\n",
       "        }\n",
       "      });\n",
       "\n",
       "      require(['datalab/charting', 'datalab/element!25_151053649457', 'base/js/events',\n",
       "          'datalab/style!/nbextensions/gcpdatalab/charting.css'],\n",
       "        function(charts, dom, events) {\n",
       "          charts.render('gcharts', dom, events, 'table', [], {\"rows\": [{\"c\": [{\"v\": 2033471}]}], \"cols\": [{\"type\": \"number\", \"id\": \"num_emp_records_excluded\", \"label\": \"num_emp_records_excluded\"}]},\n",
       "            {\n",
       "              pageSize: 25,\n",
       "              cssClassNames:  {\n",
       "                tableRow: 'gchart-table-row',\n",
       "                headerRow: 'gchart-table-headerrow',\n",
       "                oddTableRow: 'gchart-table-oddrow',\n",
       "                selectedTableRow: 'gchart-table-selectedrow',\n",
       "                hoverTableRow: 'gchart-table-hoverrow',\n",
       "                tableCell: 'gchart-table-cell',\n",
       "                headerCell: 'gchart-table-headercell',\n",
       "                rowNumberCell: 'gchart-table-rownumcell'\n",
       "              }\n",
       "            },\n",
       "            {source_index: 24, fields: 'num_emp_records_excluded'},\n",
       "            0,\n",
       "            1);\n",
       "        }\n",
       "      );\n",
       "    </script>\n",
       "  "
      ],
      "text/plain": [
       "QueryResultsTable job_zzbXjpZifatrp8jyBl4yuEYqS7vZ"
      ]
     },
     "execution_count": 59,
     "metadata": {},
     "output_type": "execute_result"
    }
   ],
   "source": [
    "%%bq query \n",
    "\n",
    "SELECT COUNT(DISTINCT emp_id) as num_emp_records_excluded\n",
    "\n",
    "FROM (\n",
    "\n",
    "  --Get max year-quarter from merged table and max-year quarter from records excluded from the merge\n",
    "\n",
    "  SELECT emp_id, max(year) as year, max(quarter) as quarter, max(year_eff_dt) as year_ex, max(quarter_eff_dt) as quarter_ex\n",
    "  FROM (\n",
    "\n",
    "      --Get employees who exists in both dynamic and status tables and who have records excluded from the merge on emp_id, year and quarter. \n",
    "      SELECT a1.emp_id, a1.year, a1.quarter, ex.year_eff_dt, ex.quarter_eff_dt\n",
    "      FROM `w210-fedwork.processed_data.status_dynamic` as a1\n",
    "      JOIN (\n",
    "\n",
    "          -- Get records that are excluded from the merge on emp_id, year, quarter (for now we will ignore agency)\n",
    "          SELECT DISTINCT a.*\n",
    "          FROM `w210-fedwork.processed_data.dynamic` as a\n",
    "          LEFT OUTER JOIN `w210-fedwork.processed_data.status_dynamic` as b\n",
    "          ON a.emp_id=b.emp_id \n",
    "          AND a.year_eff_dt=b.year \n",
    "          AND a.quarter_eff_dt=b.quarter\n",
    "          WHERE b.emp_id IS NULL\n",
    "      ) AS ex\n",
    "      ON a1.emp_id=ex.emp_id\n",
    "\n",
    "  )\n",
    "  GROUP BY emp_id\n",
    ")"
   ]
  },
  {
   "cell_type": "markdown",
   "metadata": {},
   "source": [
    "##### Num emp in status_dynamic table with records excluded from dynamic where file date > effective date (using year and quarter for both dates)\n"
   ]
  },
  {
   "cell_type": "code",
   "execution_count": 62,
   "metadata": {
    "collapsed": false
   },
   "outputs": [
    {
     "data": {
      "text/html": [
       "\n",
       "          <script src=\"/static/components/requirejs/require.js\"></script>\n",
       "          <script>\n",
       "            requirejs.config({\n",
       "              paths: {\n",
       "                base: '/static/base',\n",
       "              },\n",
       "            });\n",
       "          </script>\n",
       "          "
      ],
      "text/plain": [
       "<IPython.core.display.HTML object>"
      ]
     },
     "metadata": {},
     "output_type": "display_data"
    },
    {
     "data": {
      "text/html": [
       "\n",
       "    <div class=\"bqtv\" id=\"27_151053687891\"><table><tr><th>num_emp_records_exc_dyn_gt_merge</th></tr><tr><td>996589</td></tr></table></div>\n",
       "    <br />(rows: 1, time: 37.3s,     4GB processed, job: job_6qJgr-7VvGMlF5WbF2gFkjYI0U4_)<br />\n",
       "    <script>\n",
       "\n",
       "      require.config({\n",
       "        paths: {\n",
       "          d3: '//cdnjs.cloudflare.com/ajax/libs/d3/3.4.13/d3',\n",
       "          plotly: 'https://cdn.plot.ly/plotly-1.5.1.min.js?noext',\n",
       "          jquery: '//ajax.googleapis.com/ajax/libs/jquery/2.0.0/jquery.min'\n",
       "        },\n",
       "        map: {\n",
       "          '*': {\n",
       "            datalab: 'nbextensions/gcpdatalab'\n",
       "          }\n",
       "        },\n",
       "        shim: {\n",
       "          plotly: {\n",
       "            deps: ['d3', 'jquery'],\n",
       "            exports: 'plotly'\n",
       "          }\n",
       "        }\n",
       "      });\n",
       "\n",
       "      require(['datalab/charting', 'datalab/element!27_151053687891', 'base/js/events',\n",
       "          'datalab/style!/nbextensions/gcpdatalab/charting.css'],\n",
       "        function(charts, dom, events) {\n",
       "          charts.render('gcharts', dom, events, 'table', [], {\"rows\": [{\"c\": [{\"v\": 996589}]}], \"cols\": [{\"type\": \"number\", \"id\": \"num_emp_records_exc_dyn_gt_merge\", \"label\": \"num_emp_records_exc_dyn_gt_merge\"}]},\n",
       "            {\n",
       "              pageSize: 25,\n",
       "              cssClassNames:  {\n",
       "                tableRow: 'gchart-table-row',\n",
       "                headerRow: 'gchart-table-headerrow',\n",
       "                oddTableRow: 'gchart-table-oddrow',\n",
       "                selectedTableRow: 'gchart-table-selectedrow',\n",
       "                hoverTableRow: 'gchart-table-hoverrow',\n",
       "                tableCell: 'gchart-table-cell',\n",
       "                headerCell: 'gchart-table-headercell',\n",
       "                rowNumberCell: 'gchart-table-rownumcell'\n",
       "              }\n",
       "            },\n",
       "            {source_index: 26, fields: 'num_emp_records_exc_dyn_gt_merge'},\n",
       "            0,\n",
       "            1);\n",
       "        }\n",
       "      );\n",
       "    </script>\n",
       "  "
      ],
      "text/plain": [
       "QueryResultsTable job_6qJgr-7VvGMlF5WbF2gFkjYI0U4_"
      ]
     },
     "execution_count": 62,
     "metadata": {},
     "output_type": "execute_result"
    }
   ],
   "source": [
    "%%bq query \n",
    "\n",
    "SELECT COUNT(DISTINCT emp_id) as num_emp_records_exc_dyn_gt_merge\n",
    "\n",
    "FROM (\n",
    "\n",
    "  --Get max year-quarter from merged table and max-year quarter from records excluded from the merge\n",
    "\n",
    "  SELECT emp_id, max(year) as year, max(quarter) as quarter, max(year_eff_dt) as year_dynamic, max(quarter_eff_dt) as quarter_dynamic\n",
    "  FROM (\n",
    "\n",
    "      --Get employees who had record excluded from the merge of dynamic and status tables. \n",
    "      SELECT a1.emp_id, a1.year, a1.quarter, ex.year_eff_dt, ex.quarter_eff_dt\n",
    "      FROM `w210-fedwork.processed_data.status_dynamic` as a1\n",
    "      JOIN (\n",
    "\n",
    "          -- Get records that were excluded from the merge on emp_id, year, quarter (for now we will ignore agency)\n",
    "          SELECT DISTINCT a.*\n",
    "          FROM `w210-fedwork.processed_data.dynamic` as a\n",
    "          LEFT OUTER JOIN `w210-fedwork.processed_data.status_dynamic` as b\n",
    "          ON a.emp_id=b.emp_id \n",
    "          AND a.year_eff_dt=b.year \n",
    "          AND a.quarter_eff_dt=b.quarter\n",
    "          WHERE b.emp_id IS NULL\n",
    "      ) AS ex\n",
    "      ON a1.emp_id=ex.emp_id\n",
    "\n",
    "  )\n",
    "  GROUP BY emp_id\n",
    ")  \n",
    "WHERE (year>year_dynamic) or (year=year_dynamic and quarter>quarter_dynamic)\n"
   ]
  },
  {
   "cell_type": "markdown",
   "metadata": {},
   "source": [
    "##### Num emp in status_dynamic table with records excluded from dynamic where file date < effective date (using year and quarter for both dates)\n",
    "\n",
    "* These might be records where accessing indicator is quit, retirement, etc\n",
    "* These might be records where the record for quit or retirement was file in the following quarter"
   ]
  },
  {
   "cell_type": "code",
   "execution_count": 63,
   "metadata": {
    "collapsed": false
   },
   "outputs": [
    {
     "data": {
      "text/html": [
       "\n",
       "          <script src=\"/static/components/requirejs/require.js\"></script>\n",
       "          <script>\n",
       "            requirejs.config({\n",
       "              paths: {\n",
       "                base: '/static/base',\n",
       "              },\n",
       "            });\n",
       "          </script>\n",
       "          "
      ],
      "text/plain": [
       "<IPython.core.display.HTML object>"
      ]
     },
     "metadata": {},
     "output_type": "display_data"
    },
    {
     "data": {
      "text/html": [
       "\n",
       "    <div class=\"bqtv\" id=\"28_151053697532\"><table><tr><th>num_emp_records_exc_dyn_lt_merge</th></tr><tr><td>791343</td></tr></table></div>\n",
       "    <br />(rows: 1, time: 24.5s,     4GB processed, job: job_my91rzLG7lBNYX0N6-T7IRGxgEHp)<br />\n",
       "    <script>\n",
       "\n",
       "      require.config({\n",
       "        paths: {\n",
       "          d3: '//cdnjs.cloudflare.com/ajax/libs/d3/3.4.13/d3',\n",
       "          plotly: 'https://cdn.plot.ly/plotly-1.5.1.min.js?noext',\n",
       "          jquery: '//ajax.googleapis.com/ajax/libs/jquery/2.0.0/jquery.min'\n",
       "        },\n",
       "        map: {\n",
       "          '*': {\n",
       "            datalab: 'nbextensions/gcpdatalab'\n",
       "          }\n",
       "        },\n",
       "        shim: {\n",
       "          plotly: {\n",
       "            deps: ['d3', 'jquery'],\n",
       "            exports: 'plotly'\n",
       "          }\n",
       "        }\n",
       "      });\n",
       "\n",
       "      require(['datalab/charting', 'datalab/element!28_151053697532', 'base/js/events',\n",
       "          'datalab/style!/nbextensions/gcpdatalab/charting.css'],\n",
       "        function(charts, dom, events) {\n",
       "          charts.render('gcharts', dom, events, 'table', [], {\"rows\": [{\"c\": [{\"v\": 791343}]}], \"cols\": [{\"type\": \"number\", \"id\": \"num_emp_records_exc_dyn_lt_merge\", \"label\": \"num_emp_records_exc_dyn_lt_merge\"}]},\n",
       "            {\n",
       "              pageSize: 25,\n",
       "              cssClassNames:  {\n",
       "                tableRow: 'gchart-table-row',\n",
       "                headerRow: 'gchart-table-headerrow',\n",
       "                oddTableRow: 'gchart-table-oddrow',\n",
       "                selectedTableRow: 'gchart-table-selectedrow',\n",
       "                hoverTableRow: 'gchart-table-hoverrow',\n",
       "                tableCell: 'gchart-table-cell',\n",
       "                headerCell: 'gchart-table-headercell',\n",
       "                rowNumberCell: 'gchart-table-rownumcell'\n",
       "              }\n",
       "            },\n",
       "            {source_index: 27, fields: 'num_emp_records_exc_dyn_lt_merge'},\n",
       "            0,\n",
       "            1);\n",
       "        }\n",
       "      );\n",
       "    </script>\n",
       "  "
      ],
      "text/plain": [
       "QueryResultsTable job_my91rzLG7lBNYX0N6-T7IRGxgEHp"
      ]
     },
     "execution_count": 63,
     "metadata": {},
     "output_type": "execute_result"
    }
   ],
   "source": [
    "%%bq query \n",
    "SELECT COUNT(DISTINCT emp_id) as num_emp_records_exc_dyn_lt_merge\n",
    "\n",
    "FROM (\n",
    "\n",
    "  --Get max year-quarter from merged table and max-year quarter from records excluded from the merge\n",
    "\n",
    "  SELECT emp_id, max(year) as year, max(quarter) as quarter, max(year_eff_dt) as year_ex, max(quarter_eff_dt) as quarter_ex\n",
    "  FROM (\n",
    "\n",
    "      --Get employees who had record excluded from the merge of dynamic and status tables. \n",
    "      SELECT a1.emp_id, a1.year, a1.quarter, ex.year_eff_dt, ex.quarter_eff_dt\n",
    "      FROM `w210-fedwork.processed_data.status_dynamic` as a1\n",
    "      JOIN (\n",
    "\n",
    "          -- Get records that were excluded from the merge on emp_id, year, quarter (for now we will ignore agency)\n",
    "          SELECT DISTINCT a.*\n",
    "          FROM `w210-fedwork.processed_data.dynamic` as a\n",
    "          LEFT OUTER JOIN `w210-fedwork.processed_data.status_dynamic` as b\n",
    "          ON a.emp_id=b.emp_id \n",
    "          AND a.year_eff_dt=b.year \n",
    "          AND a.quarter_eff_dt=b.quarter\n",
    "          WHERE b.emp_id IS NULL\n",
    "      ) AS ex\n",
    "      ON a1.emp_id=ex.emp_id\n",
    "\n",
    "  )\n",
    "  GROUP BY emp_id\n",
    ")  \n",
    "WHERE (year<year_ex) or (year=year_ex and quarter<quarter_ex)"
   ]
  },
  {
   "cell_type": "markdown",
   "metadata": {},
   "source": [
    "##### Example of employees with records excluded from dynamic table where file date (status) < effective date (dynamic) "
   ]
  },
  {
   "cell_type": "code",
   "execution_count": 2,
   "metadata": {
    "collapsed": false
   },
   "outputs": [
    {
     "data": {
      "text/html": [
       "\n",
       "          <script src=\"/static/components/requirejs/require.js\"></script>\n",
       "          <script>\n",
       "            requirejs.config({\n",
       "              paths: {\n",
       "                base: '/static/base',\n",
       "              },\n",
       "            });\n",
       "          </script>\n",
       "          "
      ],
      "text/plain": [
       "<IPython.core.display.HTML object>"
      ]
     },
     "metadata": {},
     "output_type": "display_data"
    },
    {
     "data": {
      "text/html": [
       "\n",
       "    <div class=\"bqtv\" id=\"1_151058077425\"><table><tr><th>emp_id</th><th>year</th><th>quarter</th><th>year_dynamic</th><th>quarter_dynamic</th></tr><tr><td>006455815</td><td>2003</td><td>4</td><td>2004</td><td>1</td></tr><tr><td>002413311</td><td>2003</td><td>4</td><td>2004</td><td>1</td></tr><tr><td>001309278</td><td>2004</td><td>4</td><td>2005</td><td>1</td></tr><tr><td>008397061</td><td>2005</td><td>4</td><td>2006</td><td>1</td></tr><tr><td>009093726</td><td>2005</td><td>4</td><td>2006</td><td>1</td></tr><tr><td>001258782</td><td>2006</td><td>4</td><td>2007</td><td>1</td></tr><tr><td>000942535</td><td>2006</td><td>4</td><td>2007</td><td>1</td></tr><tr><td>002142253</td><td>2007</td><td>4</td><td>2008</td><td>1</td></tr><tr><td>000126425</td><td>2007</td><td>4</td><td>2008</td><td>1</td></tr><tr><td>005766556</td><td>2008</td><td>4</td><td>2009</td><td>4</td></tr><tr><td>008412675</td><td>2008</td><td>4</td><td>2009</td><td>1</td></tr><tr><td>008357794</td><td>2009</td><td>4</td><td>2010</td><td>1</td></tr><tr><td>003128136</td><td>2011</td><td>4</td><td>2012</td><td>1</td></tr><tr><td>001492591</td><td>2011</td><td>4</td><td>2012</td><td>1</td></tr><tr><td>003107562</td><td>2012</td><td>4</td><td>2013</td><td>1</td></tr></table></div>\n",
       "    <br />(rows: 15, time: 22.7s,     4GB processed, job: job_B1w9b1uHvd6PQv-lKbyJvq5AUhck)<br />\n",
       "    <script>\n",
       "\n",
       "      require.config({\n",
       "        paths: {\n",
       "          d3: '//cdnjs.cloudflare.com/ajax/libs/d3/3.4.13/d3',\n",
       "          plotly: 'https://cdn.plot.ly/plotly-1.5.1.min.js?noext',\n",
       "          jquery: '//ajax.googleapis.com/ajax/libs/jquery/2.0.0/jquery.min'\n",
       "        },\n",
       "        map: {\n",
       "          '*': {\n",
       "            datalab: 'nbextensions/gcpdatalab'\n",
       "          }\n",
       "        },\n",
       "        shim: {\n",
       "          plotly: {\n",
       "            deps: ['d3', 'jquery'],\n",
       "            exports: 'plotly'\n",
       "          }\n",
       "        }\n",
       "      });\n",
       "\n",
       "      require(['datalab/charting', 'datalab/element!1_151058077425', 'base/js/events',\n",
       "          'datalab/style!/nbextensions/gcpdatalab/charting.css'],\n",
       "        function(charts, dom, events) {\n",
       "          charts.render('gcharts', dom, events, 'table', [], {\"rows\": [{\"c\": [{\"v\": \"006455815\"}, {\"v\": 2003}, {\"v\": 4}, {\"v\": 2004}, {\"v\": 1}]}, {\"c\": [{\"v\": \"002413311\"}, {\"v\": 2003}, {\"v\": 4}, {\"v\": 2004}, {\"v\": 1}]}, {\"c\": [{\"v\": \"001309278\"}, {\"v\": 2004}, {\"v\": 4}, {\"v\": 2005}, {\"v\": 1}]}, {\"c\": [{\"v\": \"008397061\"}, {\"v\": 2005}, {\"v\": 4}, {\"v\": 2006}, {\"v\": 1}]}, {\"c\": [{\"v\": \"009093726\"}, {\"v\": 2005}, {\"v\": 4}, {\"v\": 2006}, {\"v\": 1}]}, {\"c\": [{\"v\": \"001258782\"}, {\"v\": 2006}, {\"v\": 4}, {\"v\": 2007}, {\"v\": 1}]}, {\"c\": [{\"v\": \"000942535\"}, {\"v\": 2006}, {\"v\": 4}, {\"v\": 2007}, {\"v\": 1}]}, {\"c\": [{\"v\": \"002142253\"}, {\"v\": 2007}, {\"v\": 4}, {\"v\": 2008}, {\"v\": 1}]}, {\"c\": [{\"v\": \"000126425\"}, {\"v\": 2007}, {\"v\": 4}, {\"v\": 2008}, {\"v\": 1}]}, {\"c\": [{\"v\": \"005766556\"}, {\"v\": 2008}, {\"v\": 4}, {\"v\": 2009}, {\"v\": 4}]}, {\"c\": [{\"v\": \"008412675\"}, {\"v\": 2008}, {\"v\": 4}, {\"v\": 2009}, {\"v\": 1}]}, {\"c\": [{\"v\": \"008357794\"}, {\"v\": 2009}, {\"v\": 4}, {\"v\": 2010}, {\"v\": 1}]}, {\"c\": [{\"v\": \"003128136\"}, {\"v\": 2011}, {\"v\": 4}, {\"v\": 2012}, {\"v\": 1}]}, {\"c\": [{\"v\": \"001492591\"}, {\"v\": 2011}, {\"v\": 4}, {\"v\": 2012}, {\"v\": 1}]}, {\"c\": [{\"v\": \"003107562\"}, {\"v\": 2012}, {\"v\": 4}, {\"v\": 2013}, {\"v\": 1}]}], \"cols\": [{\"type\": \"string\", \"id\": \"emp_id\", \"label\": \"emp_id\"}, {\"type\": \"number\", \"id\": \"year\", \"label\": \"year\"}, {\"type\": \"number\", \"id\": \"quarter\", \"label\": \"quarter\"}, {\"type\": \"number\", \"id\": \"year_dynamic\", \"label\": \"year_dynamic\"}, {\"type\": \"number\", \"id\": \"quarter_dynamic\", \"label\": \"quarter_dynamic\"}]},\n",
       "            {\n",
       "              pageSize: 25,\n",
       "              cssClassNames:  {\n",
       "                tableRow: 'gchart-table-row',\n",
       "                headerRow: 'gchart-table-headerrow',\n",
       "                oddTableRow: 'gchart-table-oddrow',\n",
       "                selectedTableRow: 'gchart-table-selectedrow',\n",
       "                hoverTableRow: 'gchart-table-hoverrow',\n",
       "                tableCell: 'gchart-table-cell',\n",
       "                headerCell: 'gchart-table-headercell',\n",
       "                rowNumberCell: 'gchart-table-rownumcell'\n",
       "              }\n",
       "            },\n",
       "            {source_index: 0, fields: 'emp_id,year,quarter,year_dynamic,quarter_dynamic'},\n",
       "            0,\n",
       "            15);\n",
       "        }\n",
       "      );\n",
       "    </script>\n",
       "  "
      ],
      "text/plain": [
       "QueryResultsTable job_B1w9b1uHvd6PQv-lKbyJvq5AUhck"
      ]
     },
     "execution_count": 2,
     "metadata": {},
     "output_type": "execute_result"
    }
   ],
   "source": [
    "%%bq query \n",
    "\n",
    "SELECT emp_id, year, quarter, year_dynamic, quarter_dynamic\n",
    "\n",
    "FROM (\n",
    "\n",
    "  --Get max year-quarter from merged table and max-year quarter from records excluded from the merge\n",
    "\n",
    "  SELECT emp_id, max(year) as year, max(quarter) as quarter, max(year_eff_dt) as year_dynamic, max(quarter_eff_dt) as quarter_dynamic\n",
    "  FROM (\n",
    "\n",
    "      --Get employees who had record excluded from the merge of dynamic and status tables. \n",
    "      SELECT a1.emp_id, a1.year, a1.quarter, ex.year_eff_dt, ex.quarter_eff_dt\n",
    "      FROM `w210-fedwork.processed_data.status_dynamic` as a1\n",
    "      JOIN (\n",
    "\n",
    "          -- Get records that were excluded from the merge on emp_id, year, quarter (for now we will ignore agency)\n",
    "          SELECT DISTINCT a.*\n",
    "          FROM `w210-fedwork.processed_data.dynamic` as a\n",
    "          LEFT OUTER JOIN `w210-fedwork.processed_data.status_dynamic` as b\n",
    "          ON a.emp_id=b.emp_id \n",
    "          AND a.year_eff_dt=b.year \n",
    "          AND a.quarter_eff_dt=b.quarter\n",
    "          WHERE b.emp_id IS NULL\n",
    "      ) AS ex\n",
    "      ON a1.emp_id=ex.emp_id\n",
    "\n",
    "  )\n",
    "  GROUP BY emp_id\n",
    ")  \n",
    "WHERE (year<year_dynamic) or (year=year_dynamic and quarter<quarter_dynamic)\n",
    "LIMIT 15"
   ]
  },
  {
   "cell_type": "code",
   "execution_count": 4,
   "metadata": {
    "collapsed": false
   },
   "outputs": [
    {
     "data": {
      "text/html": [
       "\n",
       "          <script src=\"/static/components/requirejs/require.js\"></script>\n",
       "          <script>\n",
       "            requirejs.config({\n",
       "              paths: {\n",
       "                base: '/static/base',\n",
       "              },\n",
       "            });\n",
       "          </script>\n",
       "          "
      ],
      "text/plain": [
       "<IPython.core.display.HTML object>"
      ]
     },
     "metadata": {},
     "output_type": "display_data"
    },
    {
     "data": {
      "text/html": [
       "\n",
       "    <div class=\"bqtv\" id=\"3_151058091396\"><table><tr><th>emp_id</th><th>agency</th><th>acces_sep_ind</th><th>effective_dt</th><th>age</th><th>pay_plan</th><th>grade</th><th>los</th><th>duty_station</th><th>occupation</th><th>occupation_cat</th><th>basic_pay</th><th>type_appoint</th><th>work_schedule</th><th>dod_ind</th><th>year_eff_dt</th><th>month_eff_dt</th><th>day_eff_dt</th><th>quarter_eff_dt</th><th>week_eff_dt</th></tr><tr><td>002646424</td><td>VATA</td><td>AC</td><td>2000-12-03</td><td>45-49</td><td>WG</td><td>01</td><td>UNSP</td><td>#########</td><td>3566</td><td>B</td><td>15840</td><td>15</td><td>F</td><td>0</td><td>2000</td><td>12</td><td>3</td><td>4</td><td>49</td></tr><tr><td>002646424</td><td>VATA</td><td>SC</td><td>2001-01-05</td><td>40-44</td><td>WG</td><td>01</td><td>&lt; 1</td><td>#########</td><td>3566</td><td>B</td><td>15840</td><td>15</td><td>F</td><td>0</td><td>2001</td><td>1</td><td>5</td><td>1</td><td>0</td></tr><tr><td>002646424</td><td>TD19</td><td>AD</td><td>2002-08-11</td><td>45-49</td><td>SV</td><td>FF</td><td>UNSP</td><td>#########</td><td>0019</td><td>T</td><td>33787</td><td>38</td><td>F</td><td>0</td><td>2002</td><td>8</td><td>11</td><td>3</td><td>32</td></tr><tr><td>002646424</td><td>TD19</td><td>SB</td><td>2003-03-08</td><td>45-49</td><td>SV</td><td>FF</td><td>&lt; 1</td><td>#########</td><td>0019</td><td>T</td><td>35149</td><td>38</td><td>F</td><td>0</td><td>2003</td><td>3</td><td>8</td><td>1</td><td>9</td></tr><tr><td>002646424</td><td>HSBC</td><td>AB</td><td>2003-03-09</td><td>45-49</td><td>SV</td><td>FF</td><td>&lt; 1</td><td>#########</td><td>0019</td><td>T</td><td>35149</td><td>38</td><td>F</td><td>0</td><td>2003</td><td>3</td><td>9</td><td>1</td><td>10</td></tr><tr><td>003128136</td><td>DJ09</td><td>SD</td><td>2012-03-24</td><td>55-59</td><td>AD</td><td>31</td><td>20-24</td><td>#########</td><td>0905</td><td>P</td><td>154352</td><td>38</td><td>F</td><td>0</td><td>2012</td><td>3</td><td>24</td><td>1</td><td>12</td></tr><tr><td>005766556</td><td>DJ09</td><td>AD</td><td>2002-12-29</td><td>30-34</td><td>AD</td><td>24</td><td>UNSP</td><td>#########</td><td>0905</td><td>P</td><td>72768</td><td>48</td><td>F</td><td>0</td><td>2002</td><td>12</td><td>29</td><td>4</td><td>52</td></tr><tr><td>005766556</td><td>DJ01</td><td>SA</td><td>2007-01-03</td><td>35-39</td><td>GS</td><td>15</td><td>5-9</td><td>110010001</td><td>0905</td><td>P</td><td>118272</td><td>44</td><td>F</td><td>0</td><td>2007</td><td>1</td><td>3</td><td>1</td><td>0</td></tr><tr><td>005766556</td><td>NS00</td><td>AD</td><td>2007-10-07</td><td>35-39</td><td>SL</td><td>00</td><td>5-9</td><td>110010001</td><td>0301</td><td>A</td><td>132437</td><td>40</td><td>F</td><td>0</td><td>2007</td><td>10</td><td>7</td><td>4</td><td>40</td></tr><tr><td>005766556</td><td>NS00</td><td>SC</td><td>2009-01-20</td><td>35-39</td><td>SL</td><td>00</td><td>5-9</td><td>110010001</td><td>0301</td><td>A</td><td>138380</td><td>40</td><td>F</td><td>0</td><td>2009</td><td>1</td><td>20</td><td>1</td><td>3</td></tr></table></div>\n",
       "    <br />(rows: 10, time: 3.3s,   987MB processed, job: job_xyWuebXN3MP-r73hRRUBHbw9ut3H)<br />\n",
       "    <script>\n",
       "\n",
       "      require.config({\n",
       "        paths: {\n",
       "          d3: '//cdnjs.cloudflare.com/ajax/libs/d3/3.4.13/d3',\n",
       "          plotly: 'https://cdn.plot.ly/plotly-1.5.1.min.js?noext',\n",
       "          jquery: '//ajax.googleapis.com/ajax/libs/jquery/2.0.0/jquery.min'\n",
       "        },\n",
       "        map: {\n",
       "          '*': {\n",
       "            datalab: 'nbextensions/gcpdatalab'\n",
       "          }\n",
       "        },\n",
       "        shim: {\n",
       "          plotly: {\n",
       "            deps: ['d3', 'jquery'],\n",
       "            exports: 'plotly'\n",
       "          }\n",
       "        }\n",
       "      });\n",
       "\n",
       "      require(['datalab/charting', 'datalab/element!3_151058091396', 'base/js/events',\n",
       "          'datalab/style!/nbextensions/gcpdatalab/charting.css'],\n",
       "        function(charts, dom, events) {\n",
       "          charts.render('gcharts', dom, events, 'table', [], {\"rows\": [{\"c\": [{\"v\": \"002646424\"}, {\"v\": \"VATA\"}, {\"v\": \"AC\"}, {\"v\": \"2000-12-03\"}, {\"v\": \"45-49\"}, {\"v\": \"WG\"}, {\"v\": \"01\"}, {\"v\": \"UNSP\"}, {\"v\": \"#########\"}, {\"v\": \"3566\"}, {\"v\": \"B\"}, {\"v\": 15840}, {\"v\": \"15\"}, {\"v\": \"F\"}, {\"v\": 0}, {\"v\": 2000}, {\"v\": 12}, {\"v\": 3}, {\"v\": 4}, {\"v\": 49}]}, {\"c\": [{\"v\": \"002646424\"}, {\"v\": \"VATA\"}, {\"v\": \"SC\"}, {\"v\": \"2001-01-05\"}, {\"v\": \"40-44\"}, {\"v\": \"WG\"}, {\"v\": \"01\"}, {\"v\": \"< 1\"}, {\"v\": \"#########\"}, {\"v\": \"3566\"}, {\"v\": \"B\"}, {\"v\": 15840}, {\"v\": \"15\"}, {\"v\": \"F\"}, {\"v\": 0}, {\"v\": 2001}, {\"v\": 1}, {\"v\": 5}, {\"v\": 1}, {\"v\": 0}]}, {\"c\": [{\"v\": \"002646424\"}, {\"v\": \"TD19\"}, {\"v\": \"AD\"}, {\"v\": \"2002-08-11\"}, {\"v\": \"45-49\"}, {\"v\": \"SV\"}, {\"v\": \"FF\"}, {\"v\": \"UNSP\"}, {\"v\": \"#########\"}, {\"v\": \"0019\"}, {\"v\": \"T\"}, {\"v\": 33787}, {\"v\": \"38\"}, {\"v\": \"F\"}, {\"v\": 0}, {\"v\": 2002}, {\"v\": 8}, {\"v\": 11}, {\"v\": 3}, {\"v\": 32}]}, {\"c\": [{\"v\": \"002646424\"}, {\"v\": \"TD19\"}, {\"v\": \"SB\"}, {\"v\": \"2003-03-08\"}, {\"v\": \"45-49\"}, {\"v\": \"SV\"}, {\"v\": \"FF\"}, {\"v\": \"< 1\"}, {\"v\": \"#########\"}, {\"v\": \"0019\"}, {\"v\": \"T\"}, {\"v\": 35149}, {\"v\": \"38\"}, {\"v\": \"F\"}, {\"v\": 0}, {\"v\": 2003}, {\"v\": 3}, {\"v\": 8}, {\"v\": 1}, {\"v\": 9}]}, {\"c\": [{\"v\": \"002646424\"}, {\"v\": \"HSBC\"}, {\"v\": \"AB\"}, {\"v\": \"2003-03-09\"}, {\"v\": \"45-49\"}, {\"v\": \"SV\"}, {\"v\": \"FF\"}, {\"v\": \"< 1\"}, {\"v\": \"#########\"}, {\"v\": \"0019\"}, {\"v\": \"T\"}, {\"v\": 35149}, {\"v\": \"38\"}, {\"v\": \"F\"}, {\"v\": 0}, {\"v\": 2003}, {\"v\": 3}, {\"v\": 9}, {\"v\": 1}, {\"v\": 10}]}, {\"c\": [{\"v\": \"003128136\"}, {\"v\": \"DJ09\"}, {\"v\": \"SD\"}, {\"v\": \"2012-03-24\"}, {\"v\": \"55-59\"}, {\"v\": \"AD\"}, {\"v\": \"31\"}, {\"v\": \"20-24\"}, {\"v\": \"#########\"}, {\"v\": \"0905\"}, {\"v\": \"P\"}, {\"v\": 154352}, {\"v\": \"38\"}, {\"v\": \"F\"}, {\"v\": 0}, {\"v\": 2012}, {\"v\": 3}, {\"v\": 24}, {\"v\": 1}, {\"v\": 12}]}, {\"c\": [{\"v\": \"005766556\"}, {\"v\": \"DJ09\"}, {\"v\": \"AD\"}, {\"v\": \"2002-12-29\"}, {\"v\": \"30-34\"}, {\"v\": \"AD\"}, {\"v\": \"24\"}, {\"v\": \"UNSP\"}, {\"v\": \"#########\"}, {\"v\": \"0905\"}, {\"v\": \"P\"}, {\"v\": 72768}, {\"v\": \"48\"}, {\"v\": \"F\"}, {\"v\": 0}, {\"v\": 2002}, {\"v\": 12}, {\"v\": 29}, {\"v\": 4}, {\"v\": 52}]}, {\"c\": [{\"v\": \"005766556\"}, {\"v\": \"DJ01\"}, {\"v\": \"SA\"}, {\"v\": \"2007-01-03\"}, {\"v\": \"35-39\"}, {\"v\": \"GS\"}, {\"v\": \"15\"}, {\"v\": \"5-9\"}, {\"v\": \"110010001\"}, {\"v\": \"0905\"}, {\"v\": \"P\"}, {\"v\": 118272}, {\"v\": \"44\"}, {\"v\": \"F\"}, {\"v\": 0}, {\"v\": 2007}, {\"v\": 1}, {\"v\": 3}, {\"v\": 1}, {\"v\": 0}]}, {\"c\": [{\"v\": \"005766556\"}, {\"v\": \"NS00\"}, {\"v\": \"AD\"}, {\"v\": \"2007-10-07\"}, {\"v\": \"35-39\"}, {\"v\": \"SL\"}, {\"v\": \"00\"}, {\"v\": \"5-9\"}, {\"v\": \"110010001\"}, {\"v\": \"0301\"}, {\"v\": \"A\"}, {\"v\": 132437}, {\"v\": \"40\"}, {\"v\": \"F\"}, {\"v\": 0}, {\"v\": 2007}, {\"v\": 10}, {\"v\": 7}, {\"v\": 4}, {\"v\": 40}]}, {\"c\": [{\"v\": \"005766556\"}, {\"v\": \"NS00\"}, {\"v\": \"SC\"}, {\"v\": \"2009-01-20\"}, {\"v\": \"35-39\"}, {\"v\": \"SL\"}, {\"v\": \"00\"}, {\"v\": \"5-9\"}, {\"v\": \"110010001\"}, {\"v\": \"0301\"}, {\"v\": \"A\"}, {\"v\": 138380}, {\"v\": \"40\"}, {\"v\": \"F\"}, {\"v\": 0}, {\"v\": 2009}, {\"v\": 1}, {\"v\": 20}, {\"v\": 1}, {\"v\": 3}]}], \"cols\": [{\"type\": \"string\", \"id\": \"emp_id\", \"label\": \"emp_id\"}, {\"type\": \"string\", \"id\": \"agency\", \"label\": \"agency\"}, {\"type\": \"string\", \"id\": \"acces_sep_ind\", \"label\": \"acces_sep_ind\"}, {\"type\": \"date\", \"id\": \"effective_dt\", \"label\": \"effective_dt\"}, {\"type\": \"string\", \"id\": \"age\", \"label\": \"age\"}, {\"type\": \"string\", \"id\": \"pay_plan\", \"label\": \"pay_plan\"}, {\"type\": \"string\", \"id\": \"grade\", \"label\": \"grade\"}, {\"type\": \"string\", \"id\": \"los\", \"label\": \"los\"}, {\"type\": \"string\", \"id\": \"duty_station\", \"label\": \"duty_station\"}, {\"type\": \"string\", \"id\": \"occupation\", \"label\": \"occupation\"}, {\"type\": \"string\", \"id\": \"occupation_cat\", \"label\": \"occupation_cat\"}, {\"type\": \"number\", \"id\": \"basic_pay\", \"label\": \"basic_pay\"}, {\"type\": \"string\", \"id\": \"type_appoint\", \"label\": \"type_appoint\"}, {\"type\": \"string\", \"id\": \"work_schedule\", \"label\": \"work_schedule\"}, {\"type\": \"number\", \"id\": \"dod_ind\", \"label\": \"dod_ind\"}, {\"type\": \"number\", \"id\": \"year_eff_dt\", \"label\": \"year_eff_dt\"}, {\"type\": \"number\", \"id\": \"month_eff_dt\", \"label\": \"month_eff_dt\"}, {\"type\": \"number\", \"id\": \"day_eff_dt\", \"label\": \"day_eff_dt\"}, {\"type\": \"number\", \"id\": \"quarter_eff_dt\", \"label\": \"quarter_eff_dt\"}, {\"type\": \"number\", \"id\": \"week_eff_dt\", \"label\": \"week_eff_dt\"}]},\n",
       "            {\n",
       "              pageSize: 25,\n",
       "              cssClassNames:  {\n",
       "                tableRow: 'gchart-table-row',\n",
       "                headerRow: 'gchart-table-headerrow',\n",
       "                oddTableRow: 'gchart-table-oddrow',\n",
       "                selectedTableRow: 'gchart-table-selectedrow',\n",
       "                hoverTableRow: 'gchart-table-hoverrow',\n",
       "                tableCell: 'gchart-table-cell',\n",
       "                headerCell: 'gchart-table-headercell',\n",
       "                rowNumberCell: 'gchart-table-rownumcell'\n",
       "              }\n",
       "            },\n",
       "            {source_index: 2, fields: 'emp_id,agency,acces_sep_ind,effective_dt,age,pay_plan,grade,los,duty_station,occupation,occupation_cat,basic_pay,type_appoint,work_schedule,dod_ind,year_eff_dt,month_eff_dt,day_eff_dt,quarter_eff_dt,week_eff_dt'},\n",
       "            0,\n",
       "            10);\n",
       "        }\n",
       "      );\n",
       "    </script>\n",
       "  "
      ],
      "text/plain": [
       "QueryResultsTable job_xyWuebXN3MP-r73hRRUBHbw9ut3H"
      ]
     },
     "execution_count": 4,
     "metadata": {},
     "output_type": "execute_result"
    }
   ],
   "source": [
    "%%bq query \n",
    "select *\n",
    "FROM `w210-fedwork.processed_data.dynamic`\n",
    "where emp_id in ('002646424', '003128136','005766556')\n",
    "order by emp_id, effective_dt"
   ]
  },
  {
   "cell_type": "code",
   "execution_count": 5,
   "metadata": {
    "collapsed": false
   },
   "outputs": [
    {
     "data": {
      "text/html": [
       "\n",
       "          <script src=\"/static/components/requirejs/require.js\"></script>\n",
       "          <script>\n",
       "            requirejs.config({\n",
       "              paths: {\n",
       "                base: '/static/base',\n",
       "              },\n",
       "            });\n",
       "          </script>\n",
       "          "
      ],
      "text/plain": [
       "<IPython.core.display.HTML object>"
      ]
     },
     "metadata": {},
     "output_type": "display_data"
    },
    {
     "data": {
      "text/html": [
       "\n",
       "    <div class=\"bqtv\" id=\"4_151058096091\"><table><tr><th>emp_id</th><th>file_dt</th><th>agency</th><th>duty_station</th><th>age</th><th>education_level</th><th>pay_plan</th><th>grade</th><th>los</th><th>occupation</th><th>occupation_cat</th><th>basic_pay</th><th>superv_status</th><th>type_appoint</th><th>work_schedule</th><th>nsftp_ind</th><th>dod_ind</th><th>year_file_dt</th><th>month_file_dt</th><th>day_file_dt</th><th>quarter_file_dt</th><th>week_file_dt</th></tr><tr><td>002646424</td><td>2000-12-13</td><td>VATA</td><td>#########</td><td>45-49</td><td>11</td><td>WG</td><td>01</td><td>UNSP</td><td>3566</td><td>B</td><td>15840</td><td>8</td><td>15</td><td>F</td><td>1</td><td>0</td><td>2000</td><td>12</td><td>13</td><td>4</td><td>50</td></tr><tr><td>002646424</td><td>2002-09-30</td><td>TD19</td><td>#########</td><td>45-49</td><td>04</td><td>SV</td><td>FF</td><td>&lt; 1</td><td>0019</td><td>T</td><td>33787</td><td>8</td><td>38</td><td>F</td><td>1</td><td>0</td><td>2002</td><td>9</td><td>30</td><td>3</td><td>39</td></tr><tr><td>002646424</td><td>2002-12-13</td><td>TD19</td><td>#########</td><td>45-49</td><td>04</td><td>SV</td><td>FF</td><td>&lt; 1</td><td>0019</td><td>T</td><td>33787</td><td>8</td><td>38</td><td>F</td><td>1</td><td>0</td><td>2002</td><td>12</td><td>13</td><td>4</td><td>49</td></tr><tr><td>002646424</td><td>2003-03-31</td><td>HSBC</td><td>#########</td><td>45-49</td><td>04</td><td>SV</td><td>FF</td><td>&lt; 1</td><td>0019</td><td>T</td><td>35149</td><td>8</td><td>38</td><td>F</td><td>1</td><td>0</td><td>2003</td><td>3</td><td>31</td><td>1</td><td>13</td></tr><tr><td>002646424</td><td>2003-06-30</td><td>HSBC</td><td>#########</td><td>45-49</td><td>04</td><td>SV</td><td>FF</td><td>&lt; 1</td><td>0019</td><td>T</td><td>35149</td><td>8</td><td>38</td><td>F</td><td>1</td><td>0</td><td>2003</td><td>6</td><td>30</td><td>2</td><td>26</td></tr><tr><td>002646424</td><td>2003-09-30</td><td>HSBC</td><td>#########</td><td>45-49</td><td>04</td><td>SV</td><td>FF</td><td>1-2</td><td>0019</td><td>T</td><td>35149</td><td>8</td><td>38</td><td>F</td><td>1</td><td>0</td><td>2003</td><td>9</td><td>30</td><td>3</td><td>39</td></tr><tr><td>002646424</td><td>2003-12-13</td><td>HSBC</td><td>#########</td><td>50-54</td><td>04</td><td>SV</td><td>FF</td><td>1-2</td><td>0019</td><td>T</td><td>35149</td><td>8</td><td>38</td><td>F</td><td>1</td><td>0</td><td>2003</td><td>12</td><td>13</td><td>4</td><td>49</td></tr><tr><td>002646424</td><td>2004-03-31</td><td>HSBC</td><td>#########</td><td>45-49</td><td>04</td><td>SV</td><td>FF</td><td>1-2</td><td>0019</td><td>T</td><td>36697</td><td>8</td><td>38</td><td>P</td><td>2</td><td>0</td><td>2004</td><td>3</td><td>31</td><td>1</td><td>13</td></tr><tr><td>002646424</td><td>2004-06-30</td><td>HSBC</td><td>#########</td><td>50-54</td><td>04</td><td>SV</td><td>FF</td><td>1-2</td><td>0019</td><td>T</td><td>36697</td><td>8</td><td>38</td><td>P</td><td>2</td><td>0</td><td>2004</td><td>6</td><td>30</td><td>2</td><td>26</td></tr><tr><td>002646424</td><td>2004-09-30</td><td>HSBC</td><td>#########</td><td>50-54</td><td>04</td><td>SV</td><td>FF</td><td>1-2</td><td>0019</td><td>T</td><td>36697</td><td>8</td><td>38</td><td>P</td><td>2</td><td>0</td><td>2004</td><td>9</td><td>30</td><td>3</td><td>39</td></tr><tr><td>002646424</td><td>2004-12-13</td><td>HSBC</td><td>#########</td><td>45-49</td><td>04</td><td>SV</td><td>FF</td><td>3-4</td><td>0019</td><td>T</td><td>36697</td><td>8</td><td>38</td><td>P</td><td>2</td><td>0</td><td>2004</td><td>12</td><td>13</td><td>4</td><td>50</td></tr><tr><td>002646424</td><td>2005-03-31</td><td>HSBC</td><td>#########</td><td>50-54</td><td>04</td><td>SV</td><td>FF</td><td>3-4</td><td>0019</td><td>T</td><td>38262</td><td>8</td><td>38</td><td>P</td><td>2</td><td>0</td><td>2005</td><td>3</td><td>31</td><td>1</td><td>13</td></tr><tr><td>002646424</td><td>2005-06-30</td><td>HSBC</td><td>#########</td><td>50-54</td><td>04</td><td>SV</td><td>FF</td><td>3-4</td><td>0019</td><td>T</td><td>38262</td><td>8</td><td>38</td><td>P</td><td>2</td><td>0</td><td>2005</td><td>6</td><td>30</td><td>2</td><td>26</td></tr><tr><td>002646424</td><td>2005-09-30</td><td>HSBC</td><td>#########</td><td>45-49</td><td>04</td><td>SV</td><td>F</td><td>3-4</td><td>0019</td><td>T</td><td>38262</td><td>8</td><td>38</td><td>P</td><td>2</td><td>0</td><td>2005</td><td>9</td><td>30</td><td>3</td><td>39</td></tr><tr><td>002646424</td><td>2005-12-13</td><td>HSBC</td><td>#########</td><td>45-49</td><td>04</td><td>SV</td><td>F</td><td>3-4</td><td>0019</td><td>T</td><td>38262</td><td>8</td><td>38</td><td>P</td><td>2</td><td>0</td><td>2005</td><td>12</td><td>13</td><td>4</td><td>50</td></tr><tr><td>002646424</td><td>2006-03-31</td><td>HSBC</td><td>#########</td><td>45-49</td><td>04</td><td>SV</td><td>F</td><td>3-4</td><td>1802</td><td>T</td><td>39345</td><td>8</td><td>38</td><td>P</td><td>2</td><td>0</td><td>2006</td><td>3</td><td>31</td><td>1</td><td>13</td></tr><tr><td>002646424</td><td>2006-06-30</td><td>HSBC</td><td>#########</td><td>50-54</td><td>04</td><td>SV</td><td>F</td><td>3-4</td><td>1802</td><td>T</td><td>39345</td><td>8</td><td>38</td><td>P</td><td>2</td><td>0</td><td>2006</td><td>6</td><td>30</td><td>2</td><td>26</td></tr><tr><td>002646424</td><td>2006-09-30</td><td>HSBC</td><td>#########</td><td>50-54</td><td>04</td><td>SV</td><td>F</td><td>3-4</td><td>1802</td><td>T</td><td>39345</td><td>8</td><td>38</td><td>P</td><td>2</td><td>0</td><td>2006</td><td>9</td><td>30</td><td>3</td><td>39</td></tr><tr><td>002646424</td><td>2006-12-13</td><td>HSBC</td><td>#########</td><td>50-54</td><td>04</td><td>SV</td><td>F</td><td>3-4</td><td>1802</td><td>T</td><td>39345</td><td>8</td><td>38</td><td>P</td><td>2</td><td>0</td><td>2006</td><td>12</td><td>13</td><td>4</td><td>50</td></tr><tr><td>002646424</td><td>2007-03-31</td><td>HSBC</td><td>#########</td><td>50-54</td><td>04</td><td>SV</td><td>F</td><td>3-4</td><td>1802</td><td>T</td><td>40056</td><td>8</td><td>38</td><td>P</td><td>2</td><td>0</td><td>2007</td><td>3</td><td>31</td><td>1</td><td>12</td></tr><tr><td>002646424</td><td>2007-06-30</td><td>HSBC</td><td>#########</td><td>50-54</td><td>04</td><td>SV</td><td>F</td><td>3-4</td><td>1802</td><td>T</td><td>40056</td><td>8</td><td>38</td><td>P</td><td>2</td><td>0</td><td>2007</td><td>6</td><td>30</td><td>2</td><td>25</td></tr><tr><td>002646424</td><td>2007-09-30</td><td>HSBC</td><td>#########</td><td>45-49</td><td>04</td><td>SV</td><td>F</td><td>5-9</td><td>1802</td><td>T</td><td>40056</td><td>8</td><td>38</td><td>P</td><td>2</td><td>0</td><td>2007</td><td>9</td><td>30</td><td>3</td><td>39</td></tr><tr><td>002646424</td><td>2007-12-13</td><td>HSBC</td><td>#########</td><td>50-54</td><td>04</td><td>SV</td><td>F</td><td>5-9</td><td>1802</td><td>T</td><td>40056</td><td>8</td><td>38</td><td>P</td><td>2</td><td>0</td><td>2007</td><td>12</td><td>13</td><td>4</td><td>49</td></tr><tr><td>002646424</td><td>2008-03-31</td><td>HSBC</td><td>#########</td><td>55-59</td><td>04</td><td>SV</td><td>F</td><td>5-9</td><td>1802</td><td>T</td><td>42059</td><td>8</td><td>38</td><td>F</td><td>1</td><td>0</td><td>2008</td><td>3</td><td>31</td><td>1</td><td>13</td></tr><tr><td>002646424</td><td>2008-06-30</td><td>HSBC</td><td>#########</td><td>50-54</td><td>04</td><td>SV</td><td>F</td><td>5-9</td><td>1802</td><td>T</td><td>42059</td><td>8</td><td>38</td><td>F</td><td>1</td><td>0</td><td>2008</td><td>6</td><td>30</td><td>2</td><td>26</td></tr></table></div>\n",
       "    <br />(rows: 116, time: 6.3s,    15GB processed, job: job_0DDyzTjryOn9i-OsAacz6Orm-s7R)<br />\n",
       "    <script>\n",
       "\n",
       "      require.config({\n",
       "        paths: {\n",
       "          d3: '//cdnjs.cloudflare.com/ajax/libs/d3/3.4.13/d3',\n",
       "          plotly: 'https://cdn.plot.ly/plotly-1.5.1.min.js?noext',\n",
       "          jquery: '//ajax.googleapis.com/ajax/libs/jquery/2.0.0/jquery.min'\n",
       "        },\n",
       "        map: {\n",
       "          '*': {\n",
       "            datalab: 'nbextensions/gcpdatalab'\n",
       "          }\n",
       "        },\n",
       "        shim: {\n",
       "          plotly: {\n",
       "            deps: ['d3', 'jquery'],\n",
       "            exports: 'plotly'\n",
       "          }\n",
       "        }\n",
       "      });\n",
       "\n",
       "      require(['datalab/charting', 'datalab/element!4_151058096091', 'base/js/events',\n",
       "          'datalab/style!/nbextensions/gcpdatalab/charting.css'],\n",
       "        function(charts, dom, events) {\n",
       "          charts.render('gcharts', dom, events, 'paged_table', [], {\"rows\": [{\"c\": [{\"v\": \"002646424\"}, {\"v\": \"2000-12-13\"}, {\"v\": \"VATA\"}, {\"v\": \"#########\"}, {\"v\": \"45-49\"}, {\"v\": \"11\"}, {\"v\": \"WG\"}, {\"v\": \"01\"}, {\"v\": \"UNSP\"}, {\"v\": \"3566\"}, {\"v\": \"B\"}, {\"v\": 15840}, {\"v\": \"8\"}, {\"v\": \"15\"}, {\"v\": \"F\"}, {\"v\": \"1\"}, {\"v\": 0}, {\"v\": 2000}, {\"v\": 12}, {\"v\": 13}, {\"v\": 4}, {\"v\": 50}]}, {\"c\": [{\"v\": \"002646424\"}, {\"v\": \"2002-09-30\"}, {\"v\": \"TD19\"}, {\"v\": \"#########\"}, {\"v\": \"45-49\"}, {\"v\": \"04\"}, {\"v\": \"SV\"}, {\"v\": \"FF\"}, {\"v\": \"< 1\"}, {\"v\": \"0019\"}, {\"v\": \"T\"}, {\"v\": 33787}, {\"v\": \"8\"}, {\"v\": \"38\"}, {\"v\": \"F\"}, {\"v\": \"1\"}, {\"v\": 0}, {\"v\": 2002}, {\"v\": 9}, {\"v\": 30}, {\"v\": 3}, {\"v\": 39}]}, {\"c\": [{\"v\": \"002646424\"}, {\"v\": \"2002-12-13\"}, {\"v\": \"TD19\"}, {\"v\": \"#########\"}, {\"v\": \"45-49\"}, {\"v\": \"04\"}, {\"v\": \"SV\"}, {\"v\": \"FF\"}, {\"v\": \"< 1\"}, {\"v\": \"0019\"}, {\"v\": \"T\"}, {\"v\": 33787}, {\"v\": \"8\"}, {\"v\": \"38\"}, {\"v\": \"F\"}, {\"v\": \"1\"}, {\"v\": 0}, {\"v\": 2002}, {\"v\": 12}, {\"v\": 13}, {\"v\": 4}, {\"v\": 49}]}, {\"c\": [{\"v\": \"002646424\"}, {\"v\": \"2003-03-31\"}, {\"v\": \"HSBC\"}, {\"v\": \"#########\"}, {\"v\": \"45-49\"}, {\"v\": \"04\"}, {\"v\": \"SV\"}, {\"v\": \"FF\"}, {\"v\": \"< 1\"}, {\"v\": \"0019\"}, {\"v\": \"T\"}, {\"v\": 35149}, {\"v\": \"8\"}, {\"v\": \"38\"}, {\"v\": \"F\"}, {\"v\": \"1\"}, {\"v\": 0}, {\"v\": 2003}, {\"v\": 3}, {\"v\": 31}, {\"v\": 1}, {\"v\": 13}]}, {\"c\": [{\"v\": \"002646424\"}, {\"v\": \"2003-06-30\"}, {\"v\": \"HSBC\"}, {\"v\": \"#########\"}, {\"v\": \"45-49\"}, {\"v\": \"04\"}, {\"v\": \"SV\"}, {\"v\": \"FF\"}, {\"v\": \"< 1\"}, {\"v\": \"0019\"}, {\"v\": \"T\"}, {\"v\": 35149}, {\"v\": \"8\"}, {\"v\": \"38\"}, {\"v\": \"F\"}, {\"v\": \"1\"}, {\"v\": 0}, {\"v\": 2003}, {\"v\": 6}, {\"v\": 30}, {\"v\": 2}, {\"v\": 26}]}, {\"c\": [{\"v\": \"002646424\"}, {\"v\": \"2003-09-30\"}, {\"v\": \"HSBC\"}, {\"v\": \"#########\"}, {\"v\": \"45-49\"}, {\"v\": \"04\"}, {\"v\": \"SV\"}, {\"v\": \"FF\"}, {\"v\": \"1-2\"}, {\"v\": \"0019\"}, {\"v\": \"T\"}, {\"v\": 35149}, {\"v\": \"8\"}, {\"v\": \"38\"}, {\"v\": \"F\"}, {\"v\": \"1\"}, {\"v\": 0}, {\"v\": 2003}, {\"v\": 9}, {\"v\": 30}, {\"v\": 3}, {\"v\": 39}]}, {\"c\": [{\"v\": \"002646424\"}, {\"v\": \"2003-12-13\"}, {\"v\": \"HSBC\"}, {\"v\": \"#########\"}, {\"v\": \"50-54\"}, {\"v\": \"04\"}, {\"v\": \"SV\"}, {\"v\": \"FF\"}, {\"v\": \"1-2\"}, {\"v\": \"0019\"}, {\"v\": \"T\"}, {\"v\": 35149}, {\"v\": \"8\"}, {\"v\": \"38\"}, {\"v\": \"F\"}, {\"v\": \"1\"}, {\"v\": 0}, {\"v\": 2003}, {\"v\": 12}, {\"v\": 13}, {\"v\": 4}, {\"v\": 49}]}, {\"c\": [{\"v\": \"002646424\"}, {\"v\": \"2004-03-31\"}, {\"v\": \"HSBC\"}, {\"v\": \"#########\"}, {\"v\": \"45-49\"}, {\"v\": \"04\"}, {\"v\": \"SV\"}, {\"v\": \"FF\"}, {\"v\": \"1-2\"}, {\"v\": \"0019\"}, {\"v\": \"T\"}, {\"v\": 36697}, {\"v\": \"8\"}, {\"v\": \"38\"}, {\"v\": \"P\"}, {\"v\": \"2\"}, {\"v\": 0}, {\"v\": 2004}, {\"v\": 3}, {\"v\": 31}, {\"v\": 1}, {\"v\": 13}]}, {\"c\": [{\"v\": \"002646424\"}, {\"v\": \"2004-06-30\"}, {\"v\": \"HSBC\"}, {\"v\": \"#########\"}, {\"v\": \"50-54\"}, {\"v\": \"04\"}, {\"v\": \"SV\"}, {\"v\": \"FF\"}, {\"v\": \"1-2\"}, {\"v\": \"0019\"}, {\"v\": \"T\"}, {\"v\": 36697}, {\"v\": \"8\"}, {\"v\": \"38\"}, {\"v\": \"P\"}, {\"v\": \"2\"}, {\"v\": 0}, {\"v\": 2004}, {\"v\": 6}, {\"v\": 30}, {\"v\": 2}, {\"v\": 26}]}, {\"c\": [{\"v\": \"002646424\"}, {\"v\": \"2004-09-30\"}, {\"v\": \"HSBC\"}, {\"v\": \"#########\"}, {\"v\": \"50-54\"}, {\"v\": \"04\"}, {\"v\": \"SV\"}, {\"v\": \"FF\"}, {\"v\": \"1-2\"}, {\"v\": \"0019\"}, {\"v\": \"T\"}, {\"v\": 36697}, {\"v\": \"8\"}, {\"v\": \"38\"}, {\"v\": \"P\"}, {\"v\": \"2\"}, {\"v\": 0}, {\"v\": 2004}, {\"v\": 9}, {\"v\": 30}, {\"v\": 3}, {\"v\": 39}]}, {\"c\": [{\"v\": \"002646424\"}, {\"v\": \"2004-12-13\"}, {\"v\": \"HSBC\"}, {\"v\": \"#########\"}, {\"v\": \"45-49\"}, {\"v\": \"04\"}, {\"v\": \"SV\"}, {\"v\": \"FF\"}, {\"v\": \"3-4\"}, {\"v\": \"0019\"}, {\"v\": \"T\"}, {\"v\": 36697}, {\"v\": \"8\"}, {\"v\": \"38\"}, {\"v\": \"P\"}, {\"v\": \"2\"}, {\"v\": 0}, {\"v\": 2004}, {\"v\": 12}, {\"v\": 13}, {\"v\": 4}, {\"v\": 50}]}, {\"c\": [{\"v\": \"002646424\"}, {\"v\": \"2005-03-31\"}, {\"v\": \"HSBC\"}, {\"v\": \"#########\"}, {\"v\": \"50-54\"}, {\"v\": \"04\"}, {\"v\": \"SV\"}, {\"v\": \"FF\"}, {\"v\": \"3-4\"}, {\"v\": \"0019\"}, {\"v\": \"T\"}, {\"v\": 38262}, {\"v\": \"8\"}, {\"v\": \"38\"}, {\"v\": \"P\"}, {\"v\": \"2\"}, {\"v\": 0}, {\"v\": 2005}, {\"v\": 3}, {\"v\": 31}, {\"v\": 1}, {\"v\": 13}]}, {\"c\": [{\"v\": \"002646424\"}, {\"v\": \"2005-06-30\"}, {\"v\": \"HSBC\"}, {\"v\": \"#########\"}, {\"v\": \"50-54\"}, {\"v\": \"04\"}, {\"v\": \"SV\"}, {\"v\": \"FF\"}, {\"v\": \"3-4\"}, {\"v\": \"0019\"}, {\"v\": \"T\"}, {\"v\": 38262}, {\"v\": \"8\"}, {\"v\": \"38\"}, {\"v\": \"P\"}, {\"v\": \"2\"}, {\"v\": 0}, {\"v\": 2005}, {\"v\": 6}, {\"v\": 30}, {\"v\": 2}, {\"v\": 26}]}, {\"c\": [{\"v\": \"002646424\"}, {\"v\": \"2005-09-30\"}, {\"v\": \"HSBC\"}, {\"v\": \"#########\"}, {\"v\": \"45-49\"}, {\"v\": \"04\"}, {\"v\": \"SV\"}, {\"v\": \"F\"}, {\"v\": \"3-4\"}, {\"v\": \"0019\"}, {\"v\": \"T\"}, {\"v\": 38262}, {\"v\": \"8\"}, {\"v\": \"38\"}, {\"v\": \"P\"}, {\"v\": \"2\"}, {\"v\": 0}, {\"v\": 2005}, {\"v\": 9}, {\"v\": 30}, {\"v\": 3}, {\"v\": 39}]}, {\"c\": [{\"v\": \"002646424\"}, {\"v\": \"2005-12-13\"}, {\"v\": \"HSBC\"}, {\"v\": \"#########\"}, {\"v\": \"45-49\"}, {\"v\": \"04\"}, {\"v\": \"SV\"}, {\"v\": \"F\"}, {\"v\": \"3-4\"}, {\"v\": \"0019\"}, {\"v\": \"T\"}, {\"v\": 38262}, {\"v\": \"8\"}, {\"v\": \"38\"}, {\"v\": \"P\"}, {\"v\": \"2\"}, {\"v\": 0}, {\"v\": 2005}, {\"v\": 12}, {\"v\": 13}, {\"v\": 4}, {\"v\": 50}]}, {\"c\": [{\"v\": \"002646424\"}, {\"v\": \"2006-03-31\"}, {\"v\": \"HSBC\"}, {\"v\": \"#########\"}, {\"v\": \"45-49\"}, {\"v\": \"04\"}, {\"v\": \"SV\"}, {\"v\": \"F\"}, {\"v\": \"3-4\"}, {\"v\": \"1802\"}, {\"v\": \"T\"}, {\"v\": 39345}, {\"v\": \"8\"}, {\"v\": \"38\"}, {\"v\": \"P\"}, {\"v\": \"2\"}, {\"v\": 0}, {\"v\": 2006}, {\"v\": 3}, {\"v\": 31}, {\"v\": 1}, {\"v\": 13}]}, {\"c\": [{\"v\": \"002646424\"}, {\"v\": \"2006-06-30\"}, {\"v\": \"HSBC\"}, {\"v\": \"#########\"}, {\"v\": \"50-54\"}, {\"v\": \"04\"}, {\"v\": \"SV\"}, {\"v\": \"F\"}, {\"v\": \"3-4\"}, {\"v\": \"1802\"}, {\"v\": \"T\"}, {\"v\": 39345}, {\"v\": \"8\"}, {\"v\": \"38\"}, {\"v\": \"P\"}, {\"v\": \"2\"}, {\"v\": 0}, {\"v\": 2006}, {\"v\": 6}, {\"v\": 30}, {\"v\": 2}, {\"v\": 26}]}, {\"c\": [{\"v\": \"002646424\"}, {\"v\": \"2006-09-30\"}, {\"v\": \"HSBC\"}, {\"v\": \"#########\"}, {\"v\": \"50-54\"}, {\"v\": \"04\"}, {\"v\": \"SV\"}, {\"v\": \"F\"}, {\"v\": \"3-4\"}, {\"v\": \"1802\"}, {\"v\": \"T\"}, {\"v\": 39345}, {\"v\": \"8\"}, {\"v\": \"38\"}, {\"v\": \"P\"}, {\"v\": \"2\"}, {\"v\": 0}, {\"v\": 2006}, {\"v\": 9}, {\"v\": 30}, {\"v\": 3}, {\"v\": 39}]}, {\"c\": [{\"v\": \"002646424\"}, {\"v\": \"2006-12-13\"}, {\"v\": \"HSBC\"}, {\"v\": \"#########\"}, {\"v\": \"50-54\"}, {\"v\": \"04\"}, {\"v\": \"SV\"}, {\"v\": \"F\"}, {\"v\": \"3-4\"}, {\"v\": \"1802\"}, {\"v\": \"T\"}, {\"v\": 39345}, {\"v\": \"8\"}, {\"v\": \"38\"}, {\"v\": \"P\"}, {\"v\": \"2\"}, {\"v\": 0}, {\"v\": 2006}, {\"v\": 12}, {\"v\": 13}, {\"v\": 4}, {\"v\": 50}]}, {\"c\": [{\"v\": \"002646424\"}, {\"v\": \"2007-03-31\"}, {\"v\": \"HSBC\"}, {\"v\": \"#########\"}, {\"v\": \"50-54\"}, {\"v\": \"04\"}, {\"v\": \"SV\"}, {\"v\": \"F\"}, {\"v\": \"3-4\"}, {\"v\": \"1802\"}, {\"v\": \"T\"}, {\"v\": 40056}, {\"v\": \"8\"}, {\"v\": \"38\"}, {\"v\": \"P\"}, {\"v\": \"2\"}, {\"v\": 0}, {\"v\": 2007}, {\"v\": 3}, {\"v\": 31}, {\"v\": 1}, {\"v\": 12}]}, {\"c\": [{\"v\": \"002646424\"}, {\"v\": \"2007-06-30\"}, {\"v\": \"HSBC\"}, {\"v\": \"#########\"}, {\"v\": \"50-54\"}, {\"v\": \"04\"}, {\"v\": \"SV\"}, {\"v\": \"F\"}, {\"v\": \"3-4\"}, {\"v\": \"1802\"}, {\"v\": \"T\"}, {\"v\": 40056}, {\"v\": \"8\"}, {\"v\": \"38\"}, {\"v\": \"P\"}, {\"v\": \"2\"}, {\"v\": 0}, {\"v\": 2007}, {\"v\": 6}, {\"v\": 30}, {\"v\": 2}, {\"v\": 25}]}, {\"c\": [{\"v\": \"002646424\"}, {\"v\": \"2007-09-30\"}, {\"v\": \"HSBC\"}, {\"v\": \"#########\"}, {\"v\": \"45-49\"}, {\"v\": \"04\"}, {\"v\": \"SV\"}, {\"v\": \"F\"}, {\"v\": \"5-9\"}, {\"v\": \"1802\"}, {\"v\": \"T\"}, {\"v\": 40056}, {\"v\": \"8\"}, {\"v\": \"38\"}, {\"v\": \"P\"}, {\"v\": \"2\"}, {\"v\": 0}, {\"v\": 2007}, {\"v\": 9}, {\"v\": 30}, {\"v\": 3}, {\"v\": 39}]}, {\"c\": [{\"v\": \"002646424\"}, {\"v\": \"2007-12-13\"}, {\"v\": \"HSBC\"}, {\"v\": \"#########\"}, {\"v\": \"50-54\"}, {\"v\": \"04\"}, {\"v\": \"SV\"}, {\"v\": \"F\"}, {\"v\": \"5-9\"}, {\"v\": \"1802\"}, {\"v\": \"T\"}, {\"v\": 40056}, {\"v\": \"8\"}, {\"v\": \"38\"}, {\"v\": \"P\"}, {\"v\": \"2\"}, {\"v\": 0}, {\"v\": 2007}, {\"v\": 12}, {\"v\": 13}, {\"v\": 4}, {\"v\": 49}]}, {\"c\": [{\"v\": \"002646424\"}, {\"v\": \"2008-03-31\"}, {\"v\": \"HSBC\"}, {\"v\": \"#########\"}, {\"v\": \"55-59\"}, {\"v\": \"04\"}, {\"v\": \"SV\"}, {\"v\": \"F\"}, {\"v\": \"5-9\"}, {\"v\": \"1802\"}, {\"v\": \"T\"}, {\"v\": 42059}, {\"v\": \"8\"}, {\"v\": \"38\"}, {\"v\": \"F\"}, {\"v\": \"1\"}, {\"v\": 0}, {\"v\": 2008}, {\"v\": 3}, {\"v\": 31}, {\"v\": 1}, {\"v\": 13}]}, {\"c\": [{\"v\": \"002646424\"}, {\"v\": \"2008-06-30\"}, {\"v\": \"HSBC\"}, {\"v\": \"#########\"}, {\"v\": \"50-54\"}, {\"v\": \"04\"}, {\"v\": \"SV\"}, {\"v\": \"F\"}, {\"v\": \"5-9\"}, {\"v\": \"1802\"}, {\"v\": \"T\"}, {\"v\": 42059}, {\"v\": \"8\"}, {\"v\": \"38\"}, {\"v\": \"F\"}, {\"v\": \"1\"}, {\"v\": 0}, {\"v\": 2008}, {\"v\": 6}, {\"v\": 30}, {\"v\": 2}, {\"v\": 26}]}], \"cols\": [{\"type\": \"string\", \"id\": \"emp_id\", \"label\": \"emp_id\"}, {\"type\": \"date\", \"id\": \"file_dt\", \"label\": \"file_dt\"}, {\"type\": \"string\", \"id\": \"agency\", \"label\": \"agency\"}, {\"type\": \"string\", \"id\": \"duty_station\", \"label\": \"duty_station\"}, {\"type\": \"string\", \"id\": \"age\", \"label\": \"age\"}, {\"type\": \"string\", \"id\": \"education_level\", \"label\": \"education_level\"}, {\"type\": \"string\", \"id\": \"pay_plan\", \"label\": \"pay_plan\"}, {\"type\": \"string\", \"id\": \"grade\", \"label\": \"grade\"}, {\"type\": \"string\", \"id\": \"los\", \"label\": \"los\"}, {\"type\": \"string\", \"id\": \"occupation\", \"label\": \"occupation\"}, {\"type\": \"string\", \"id\": \"occupation_cat\", \"label\": \"occupation_cat\"}, {\"type\": \"number\", \"id\": \"basic_pay\", \"label\": \"basic_pay\"}, {\"type\": \"string\", \"id\": \"superv_status\", \"label\": \"superv_status\"}, {\"type\": \"string\", \"id\": \"type_appoint\", \"label\": \"type_appoint\"}, {\"type\": \"string\", \"id\": \"work_schedule\", \"label\": \"work_schedule\"}, {\"type\": \"string\", \"id\": \"nsftp_ind\", \"label\": \"nsftp_ind\"}, {\"type\": \"number\", \"id\": \"dod_ind\", \"label\": \"dod_ind\"}, {\"type\": \"number\", \"id\": \"year_file_dt\", \"label\": \"year_file_dt\"}, {\"type\": \"number\", \"id\": \"month_file_dt\", \"label\": \"month_file_dt\"}, {\"type\": \"number\", \"id\": \"day_file_dt\", \"label\": \"day_file_dt\"}, {\"type\": \"number\", \"id\": \"quarter_file_dt\", \"label\": \"quarter_file_dt\"}, {\"type\": \"number\", \"id\": \"week_file_dt\", \"label\": \"week_file_dt\"}]},\n",
       "            {\n",
       "              pageSize: 25,\n",
       "              cssClassNames:  {\n",
       "                tableRow: 'gchart-table-row',\n",
       "                headerRow: 'gchart-table-headerrow',\n",
       "                oddTableRow: 'gchart-table-oddrow',\n",
       "                selectedTableRow: 'gchart-table-selectedrow',\n",
       "                hoverTableRow: 'gchart-table-hoverrow',\n",
       "                tableCell: 'gchart-table-cell',\n",
       "                headerCell: 'gchart-table-headercell',\n",
       "                rowNumberCell: 'gchart-table-rownumcell'\n",
       "              }\n",
       "            },\n",
       "            {source_index: 3, fields: 'emp_id,file_dt,agency,duty_station,age,education_level,pay_plan,grade,los,occupation,occupation_cat,basic_pay,superv_status,type_appoint,work_schedule,nsftp_ind,dod_ind,year_file_dt,month_file_dt,day_file_dt,quarter_file_dt,week_file_dt'},\n",
       "            0,\n",
       "            116);\n",
       "        }\n",
       "      );\n",
       "    </script>\n",
       "  "
      ],
      "text/plain": [
       "QueryResultsTable job_0DDyzTjryOn9i-OsAacz6Orm-s7R"
      ]
     },
     "execution_count": 5,
     "metadata": {},
     "output_type": "execute_result"
    }
   ],
   "source": [
    "%%bq query \n",
    "select *\n",
    "FROM `w210-fedwork.processed_data.status`\n",
    "where emp_id in ('002646424', '003128136','005766556')\n",
    "order by emp_id, file_dt"
   ]
  },
  {
   "cell_type": "markdown",
   "metadata": {},
   "source": [
    "##### Num employees with multiple work status (partime and full time)"
   ]
  },
  {
   "cell_type": "code",
   "execution_count": 77,
   "metadata": {
    "collapsed": false
   },
   "outputs": [
    {
     "data": {
      "text/html": [
       "\n",
       "          <script src=\"/static/components/requirejs/require.js\"></script>\n",
       "          <script>\n",
       "            requirejs.config({\n",
       "              paths: {\n",
       "                base: '/static/base',\n",
       "              },\n",
       "            });\n",
       "          </script>\n",
       "          "
      ],
      "text/plain": [
       "<IPython.core.display.HTML object>"
      ]
     },
     "metadata": {},
     "output_type": "display_data"
    },
    {
     "data": {
      "text/html": [
       "\n",
       "    <div class=\"bqtv\" id=\"40_151054195678\"><table><tr><th>num_emp_multiple_status</th></tr><tr><td>639265</td></tr></table></div>\n",
       "    <br />(rows: 1, time: 13.7s,     1GB processed, job: job_Pr-cS0Fe0_TW3bCbDq-x74IINCXQ)<br />\n",
       "    <script>\n",
       "\n",
       "      require.config({\n",
       "        paths: {\n",
       "          d3: '//cdnjs.cloudflare.com/ajax/libs/d3/3.4.13/d3',\n",
       "          plotly: 'https://cdn.plot.ly/plotly-1.5.1.min.js?noext',\n",
       "          jquery: '//ajax.googleapis.com/ajax/libs/jquery/2.0.0/jquery.min'\n",
       "        },\n",
       "        map: {\n",
       "          '*': {\n",
       "            datalab: 'nbextensions/gcpdatalab'\n",
       "          }\n",
       "        },\n",
       "        shim: {\n",
       "          plotly: {\n",
       "            deps: ['d3', 'jquery'],\n",
       "            exports: 'plotly'\n",
       "          }\n",
       "        }\n",
       "      });\n",
       "\n",
       "      require(['datalab/charting', 'datalab/element!40_151054195678', 'base/js/events',\n",
       "          'datalab/style!/nbextensions/gcpdatalab/charting.css'],\n",
       "        function(charts, dom, events) {\n",
       "          charts.render('gcharts', dom, events, 'table', [], {\"rows\": [{\"c\": [{\"v\": 639265}]}], \"cols\": [{\"type\": \"number\", \"id\": \"num_emp_multiple_status\", \"label\": \"num_emp_multiple_status\"}]},\n",
       "            {\n",
       "              pageSize: 25,\n",
       "              cssClassNames:  {\n",
       "                tableRow: 'gchart-table-row',\n",
       "                headerRow: 'gchart-table-headerrow',\n",
       "                oddTableRow: 'gchart-table-oddrow',\n",
       "                selectedTableRow: 'gchart-table-selectedrow',\n",
       "                hoverTableRow: 'gchart-table-hoverrow',\n",
       "                tableCell: 'gchart-table-cell',\n",
       "                headerCell: 'gchart-table-headercell',\n",
       "                rowNumberCell: 'gchart-table-rownumcell'\n",
       "              }\n",
       "            },\n",
       "            {source_index: 38, fields: 'num_emp_multiple_status'},\n",
       "            0,\n",
       "            1);\n",
       "        }\n",
       "      );\n",
       "    </script>\n",
       "  "
      ],
      "text/plain": [
       "QueryResultsTable job_Pr-cS0Fe0_TW3bCbDq-x74IINCXQ"
      ]
     },
     "execution_count": 77,
     "metadata": {},
     "output_type": "execute_result"
    }
   ],
   "source": [
    "%%bq query \n",
    "\n",
    "SELECT COUNT(DISTINCT emp_id) as num_emp_multiple_status\n",
    "FROM (\n",
    "   SELECT emp_id, max(nsftp_ind) as max_nsftp, min(nsftp_ind) as min_nsftp\n",
    "   FROM `w210-fedwork.processed_data.status_dynamic` \n",
    "   GROUP BY emp_id\n",
    "   HAVING max_nsftp<>min_nsftp\n",
    "   \n",
    "\n",
    ")"
   ]
  },
  {
   "cell_type": "code",
   "execution_count": 10,
   "metadata": {
    "collapsed": false
   },
   "outputs": [
    {
     "data": {
      "text/html": [
       "\n",
       "          <script src=\"/static/components/requirejs/require.js\"></script>\n",
       "          <script>\n",
       "            requirejs.config({\n",
       "              paths: {\n",
       "                base: '/static/base',\n",
       "              },\n",
       "            });\n",
       "          </script>\n",
       "          "
      ],
      "text/plain": [
       "<IPython.core.display.HTML object>"
      ]
     },
     "metadata": {},
     "output_type": "display_data"
    },
    {
     "data": {
      "text/html": [
       "\n",
       "    <div class=\"bqtv\" id=\"7_151058596368\"><table><tr><th>num_emp_one_month_excluded</th></tr><tr><td>307131</td></tr></table></div>\n",
       "    <br />(rows: 1, time: 22.6s,     4GB processed, job: job_F6A7-pzzItC4tzx73iyZ43MqR7fq)<br />\n",
       "    <script>\n",
       "\n",
       "      require.config({\n",
       "        paths: {\n",
       "          d3: '//cdnjs.cloudflare.com/ajax/libs/d3/3.4.13/d3',\n",
       "          plotly: 'https://cdn.plot.ly/plotly-1.5.1.min.js?noext',\n",
       "          jquery: '//ajax.googleapis.com/ajax/libs/jquery/2.0.0/jquery.min'\n",
       "        },\n",
       "        map: {\n",
       "          '*': {\n",
       "            datalab: 'nbextensions/gcpdatalab'\n",
       "          }\n",
       "        },\n",
       "        shim: {\n",
       "          plotly: {\n",
       "            deps: ['d3', 'jquery'],\n",
       "            exports: 'plotly'\n",
       "          }\n",
       "        }\n",
       "      });\n",
       "\n",
       "      require(['datalab/charting', 'datalab/element!7_151058596368', 'base/js/events',\n",
       "          'datalab/style!/nbextensions/gcpdatalab/charting.css'],\n",
       "        function(charts, dom, events) {\n",
       "          charts.render('gcharts', dom, events, 'table', [], {\"rows\": [{\"c\": [{\"v\": 307131}]}], \"cols\": [{\"type\": \"number\", \"id\": \"num_emp_one_month_excluded\", \"label\": \"num_emp_one_month_excluded\"}]},\n",
       "            {\n",
       "              pageSize: 25,\n",
       "              cssClassNames:  {\n",
       "                tableRow: 'gchart-table-row',\n",
       "                headerRow: 'gchart-table-headerrow',\n",
       "                oddTableRow: 'gchart-table-oddrow',\n",
       "                selectedTableRow: 'gchart-table-selectedrow',\n",
       "                hoverTableRow: 'gchart-table-hoverrow',\n",
       "                tableCell: 'gchart-table-cell',\n",
       "                headerCell: 'gchart-table-headercell',\n",
       "                rowNumberCell: 'gchart-table-rownumcell'\n",
       "              }\n",
       "            },\n",
       "            {source_index: 6, fields: 'num_emp_one_month_excluded'},\n",
       "            0,\n",
       "            1);\n",
       "        }\n",
       "      );\n",
       "    </script>\n",
       "  "
      ],
      "text/plain": [
       "QueryResultsTable job_F6A7-pzzItC4tzx73iyZ43MqR7fq"
      ]
     },
     "execution_count": 10,
     "metadata": {},
     "output_type": "execute_result"
    }
   ],
   "source": [
    "%%bq query \n",
    "\n",
    "SELECT COUNT(DISTINCT emp_id) as num_emp_one_month_excluded\n",
    "--emp_id, year, quarter, file_dt, year_dynamic, quarter_dynamic, effective_dt\n",
    "\n",
    "FROM (\n",
    "\n",
    "  --Get max year-quarter from merged table and max-year quarter from records excluded from the merge\n",
    "\n",
    "  SELECT emp_id, max(year) as year, max(quarter) as quarter, max(file_dt) as file_dt, max(year_eff_dt) as year_dynamic, max(quarter_eff_dt) as quarter_dynamic, max(effective_dt) as effective_dt\n",
    "  FROM (\n",
    "\n",
    "      --Get employees who had records excluded from the merge of dynamic and status tables. \n",
    "      SELECT a1.emp_id, a1.year, a1.quarter, a1.file_dt, ex.year_eff_dt, ex.quarter_eff_dt, ex.effective_dt\n",
    "      FROM `w210-fedwork.processed_data.status_dynamic` as a1\n",
    "      JOIN (\n",
    "\n",
    "          -- Get records that were excluded from the merge on emp_id, year, quarter (for now we will ignore agency)\n",
    "          SELECT DISTINCT a.*\n",
    "          FROM `w210-fedwork.processed_data.dynamic` as a\n",
    "          LEFT OUTER JOIN `w210-fedwork.processed_data.status_dynamic` as b\n",
    "          ON a.emp_id=b.emp_id \n",
    "          AND a.year_eff_dt=b.year \n",
    "          AND a.quarter_eff_dt=b.quarter\n",
    "          WHERE b.emp_id IS NULL\n",
    "      ) AS ex\n",
    "      ON a1.emp_id=ex.emp_id\n",
    "  )\n",
    "  GROUP BY emp_id\n",
    ")  \n",
    "WHERE ((year<year_dynamic) or (year=year_dynamic and quarter<quarter_dynamic))\n",
    "AND (DATE_DIFF(effective_dt,file_dt, MONTH)=1)  \n",
    "--LIMIT 15\n",
    "\n"
   ]
  },
  {
   "cell_type": "markdown",
   "metadata": {},
   "source": [
    "Summary\n",
    "\n",
    "* Num employees in status table : 4,375,415 \n",
    "* Num employees in dynamic table : 3,871,680 \n",
    "* Num employees in dynamic that do NOT exist in status table : 150,475 \n",
    "* Num employees in status with multiple agencies :  157,658   (3.6%) We can join on agency since we will not be dropping many records. \n",
    "* Num employees in merged table 'status_dynamic' that have records excluded from the merge on year, quarter : 2,033,471 \n",
    "\n",
    "\n",
    "status_dynamic table (created with all records from status and using values from dynamic for those records that join on emp_id, year, quarter, agency)\n",
    "\n",
    "* Num employees in table 'status_dynamic' : 4,375,415. \n",
    "* Num employees in merged table 'status_dynamic' that have records excluded where file_date (status table) > effective_date (dynamic table) : 996,589  . Expected, people have not quit, or have not had a change. \n",
    "* Num employees in merged table 'status_dynamic' that have records excluded where file_date (status table) < effective_date (dynamic table) : 791,343  . See example below\n",
    "* Num employees in merged table 'status_dynamic' that have records excluded with one month appart between file_date and effective_date: 307,131\n",
    "* Num employees in merged table 'status_dynamic' that have records as full time and part time employees (nsftp=1 and 2) : 639,265\n",
    "\n",
    "\n",
    "\n",
    "Analysis of possible joins\n",
    "\n",
    "* Num employees that exist in status and dynamic tables when joining on emp_id : 3,721,205 (total number of merged records: 150,544,943) \n",
    "* Num employees that exist in status and dynamic tables when joining on emp_id, year, quarter : 2,858,649 (total number of merged records: 4,741,798) \n",
    "* Num employees that exist in status and dynamic tables when joining on emp_id, year, quarter, agency : 2,852,560 (total number of merged records: 4,183,605) \n",
    "\n",
    "\n",
    "Comments\n",
    "\n",
    "* It is safe to include agency in the join since joining on agency does not significantly reduce the number of records.\n",
    "\n"
   ]
  },
  {
   "cell_type": "markdown",
   "metadata": {},
   "source": [
    "### Additional EDA for invalid values in status_dyanmic table"
   ]
  },
  {
   "cell_type": "code",
   "execution_count": 20,
   "metadata": {
    "collapsed": false
   },
   "outputs": [
    {
     "data": {
      "text/html": [
       "\n",
       "          <script src=\"/static/components/requirejs/require.js\"></script>\n",
       "          <script>\n",
       "            requirejs.config({\n",
       "              paths: {\n",
       "                base: '/static/base',\n",
       "              },\n",
       "            });\n",
       "          </script>\n",
       "          "
      ],
      "text/plain": [
       "<IPython.core.display.HTML object>"
      ]
     },
     "metadata": {},
     "output_type": "display_data"
    },
    {
     "data": {
      "text/html": [
       "\n",
       "    <div class=\"bqtv\" id=\"20_151051515038\"><table><tr><th>duty_station</th><th>num_records</th></tr><tr><td>#########</td><td>61019797</td></tr><tr><td>*********</td><td>61356</td></tr></table></div>\n",
       "    <br />(rows: 2, time: 2.4s,     1GB processed, job: job_SMxcG4Hg-nKu_47yjWuau3TMjXZn)<br />\n",
       "    <script>\n",
       "\n",
       "      require.config({\n",
       "        paths: {\n",
       "          d3: '//cdnjs.cloudflare.com/ajax/libs/d3/3.4.13/d3',\n",
       "          plotly: 'https://cdn.plot.ly/plotly-1.5.1.min.js?noext',\n",
       "          jquery: '//ajax.googleapis.com/ajax/libs/jquery/2.0.0/jquery.min'\n",
       "        },\n",
       "        map: {\n",
       "          '*': {\n",
       "            datalab: 'nbextensions/gcpdatalab'\n",
       "          }\n",
       "        },\n",
       "        shim: {\n",
       "          plotly: {\n",
       "            deps: ['d3', 'jquery'],\n",
       "            exports: 'plotly'\n",
       "          }\n",
       "        }\n",
       "      });\n",
       "\n",
       "      require(['datalab/charting', 'datalab/element!20_151051515038', 'base/js/events',\n",
       "          'datalab/style!/nbextensions/gcpdatalab/charting.css'],\n",
       "        function(charts, dom, events) {\n",
       "          charts.render('gcharts', dom, events, 'table', [], {\"rows\": [{\"c\": [{\"v\": \"#########\"}, {\"v\": 61019797}]}, {\"c\": [{\"v\": \"*********\"}, {\"v\": 61356}]}], \"cols\": [{\"type\": \"string\", \"id\": \"duty_station\", \"label\": \"duty_station\"}, {\"type\": \"number\", \"id\": \"num_records\", \"label\": \"num_records\"}]},\n",
       "            {\n",
       "              pageSize: 25,\n",
       "              cssClassNames:  {\n",
       "                tableRow: 'gchart-table-row',\n",
       "                headerRow: 'gchart-table-headerrow',\n",
       "                oddTableRow: 'gchart-table-oddrow',\n",
       "                selectedTableRow: 'gchart-table-selectedrow',\n",
       "                hoverTableRow: 'gchart-table-hoverrow',\n",
       "                tableCell: 'gchart-table-cell',\n",
       "                headerCell: 'gchart-table-headercell',\n",
       "                rowNumberCell: 'gchart-table-rownumcell'\n",
       "              }\n",
       "            },\n",
       "            {source_index: 19, fields: 'duty_station,num_records'},\n",
       "            0,\n",
       "            2);\n",
       "        }\n",
       "      );\n",
       "    </script>\n",
       "  "
      ],
      "text/plain": [
       "QueryResultsTable job_SMxcG4Hg-nKu_47yjWuau3TMjXZn"
      ]
     },
     "execution_count": 20,
     "metadata": {},
     "output_type": "execute_result"
    }
   ],
   "source": [
    "%%bq query \n",
    "\n",
    "SELECT duty_station, COUNT(*) as num_records\n",
    "FROM `w210-fedwork.processed_data.status_dynamic`\n",
    "WHERE duty_station IN ('*********', '#########', '         ')\n",
    "GROUP BY duty_station\n"
   ]
  },
  {
   "cell_type": "code",
   "execution_count": 21,
   "metadata": {
    "collapsed": false
   },
   "outputs": [
    {
     "data": {
      "text/html": [
       "\n",
       "          <script src=\"/static/components/requirejs/require.js\"></script>\n",
       "          <script>\n",
       "            requirejs.config({\n",
       "              paths: {\n",
       "                base: '/static/base',\n",
       "              },\n",
       "            });\n",
       "          </script>\n",
       "          "
      ],
      "text/plain": [
       "<IPython.core.display.HTML object>"
      ]
     },
     "metadata": {},
     "output_type": "display_data"
    },
    {
     "data": {
      "text/html": [
       "\n",
       "    <div class=\"bqtv\" id=\"21_151051517215\"><table><tr><th>education_level</th><th>num_records</th></tr><tr><td></td><td>2510987</td></tr><tr><td>**</td><td>121605</td></tr></table></div>\n",
       "    <br />(rows: 2, time: 1.9s,   442MB processed, job: job_LnEaertlI5-Vu5I5rS7gfr_yPPeK)<br />\n",
       "    <script>\n",
       "\n",
       "      require.config({\n",
       "        paths: {\n",
       "          d3: '//cdnjs.cloudflare.com/ajax/libs/d3/3.4.13/d3',\n",
       "          plotly: 'https://cdn.plot.ly/plotly-1.5.1.min.js?noext',\n",
       "          jquery: '//ajax.googleapis.com/ajax/libs/jquery/2.0.0/jquery.min'\n",
       "        },\n",
       "        map: {\n",
       "          '*': {\n",
       "            datalab: 'nbextensions/gcpdatalab'\n",
       "          }\n",
       "        },\n",
       "        shim: {\n",
       "          plotly: {\n",
       "            deps: ['d3', 'jquery'],\n",
       "            exports: 'plotly'\n",
       "          }\n",
       "        }\n",
       "      });\n",
       "\n",
       "      require(['datalab/charting', 'datalab/element!21_151051517215', 'base/js/events',\n",
       "          'datalab/style!/nbextensions/gcpdatalab/charting.css'],\n",
       "        function(charts, dom, events) {\n",
       "          charts.render('gcharts', dom, events, 'table', [], {\"rows\": [{\"c\": [{\"v\": \"\"}, {\"v\": 2510987}]}, {\"c\": [{\"v\": \"**\"}, {\"v\": 121605}]}], \"cols\": [{\"type\": \"string\", \"id\": \"education_level\", \"label\": \"education_level\"}, {\"type\": \"number\", \"id\": \"num_records\", \"label\": \"num_records\"}]},\n",
       "            {\n",
       "              pageSize: 25,\n",
       "              cssClassNames:  {\n",
       "                tableRow: 'gchart-table-row',\n",
       "                headerRow: 'gchart-table-headerrow',\n",
       "                oddTableRow: 'gchart-table-oddrow',\n",
       "                selectedTableRow: 'gchart-table-selectedrow',\n",
       "                hoverTableRow: 'gchart-table-hoverrow',\n",
       "                tableCell: 'gchart-table-cell',\n",
       "                headerCell: 'gchart-table-headercell',\n",
       "                rowNumberCell: 'gchart-table-rownumcell'\n",
       "              }\n",
       "            },\n",
       "            {source_index: 20, fields: 'education_level,num_records'},\n",
       "            0,\n",
       "            2);\n",
       "        }\n",
       "      );\n",
       "    </script>\n",
       "  "
      ],
      "text/plain": [
       "QueryResultsTable job_LnEaertlI5-Vu5I5rS7gfr_yPPeK"
      ]
     },
     "execution_count": 21,
     "metadata": {},
     "output_type": "execute_result"
    }
   ],
   "source": [
    "%%bq query \n",
    "\n",
    "SELECT education_level, COUNT(*) as num_records\n",
    "FROM `w210-fedwork.processed_data.status_dynamic`\n",
    "WHERE (education_level IN ('**', '##', '')) \n",
    "GROUP BY education_level"
   ]
  },
  {
   "cell_type": "code",
   "execution_count": 7,
   "metadata": {
    "collapsed": false
   },
   "outputs": [
    {
     "data": {
      "text/html": [
       "\n",
       "          <script src=\"/static/components/requirejs/require.js\"></script>\n",
       "          <script>\n",
       "            requirejs.config({\n",
       "              paths: {\n",
       "                base: '/static/base',\n",
       "              },\n",
       "            });\n",
       "          </script>\n",
       "          "
      ],
      "text/plain": [
       "<IPython.core.display.HTML object>"
      ]
     },
     "metadata": {},
     "output_type": "display_data"
    },
    {
     "data": {
      "text/html": [
       "\n",
       "    <div class=\"bqtv\" id=\"7_151051009052\"><table><tr><th>grade</th><th>num_records</th></tr><tr><td></td><td>8921</td></tr><tr><td>**</td><td>5961</td></tr></table></div>\n",
       "    <br />(rows: 2, time: 1.9s,   443MB processed, job: job_ao1o3BjM_YSIsrPzZqo2y5k4bPg5)<br />\n",
       "    <script>\n",
       "\n",
       "      require.config({\n",
       "        paths: {\n",
       "          d3: '//cdnjs.cloudflare.com/ajax/libs/d3/3.4.13/d3',\n",
       "          plotly: 'https://cdn.plot.ly/plotly-1.5.1.min.js?noext',\n",
       "          jquery: '//ajax.googleapis.com/ajax/libs/jquery/2.0.0/jquery.min'\n",
       "        },\n",
       "        map: {\n",
       "          '*': {\n",
       "            datalab: 'nbextensions/gcpdatalab'\n",
       "          }\n",
       "        },\n",
       "        shim: {\n",
       "          plotly: {\n",
       "            deps: ['d3', 'jquery'],\n",
       "            exports: 'plotly'\n",
       "          }\n",
       "        }\n",
       "      });\n",
       "\n",
       "      require(['datalab/charting', 'datalab/element!7_151051009052', 'base/js/events',\n",
       "          'datalab/style!/nbextensions/gcpdatalab/charting.css'],\n",
       "        function(charts, dom, events) {\n",
       "          charts.render('gcharts', dom, events, 'table', [], {\"rows\": [{\"c\": [{\"v\": \"\"}, {\"v\": 8921}]}, {\"c\": [{\"v\": \"**\"}, {\"v\": 5961}]}], \"cols\": [{\"type\": \"string\", \"id\": \"grade\", \"label\": \"grade\"}, {\"type\": \"number\", \"id\": \"num_records\", \"label\": \"num_records\"}]},\n",
       "            {\n",
       "              pageSize: 25,\n",
       "              cssClassNames:  {\n",
       "                tableRow: 'gchart-table-row',\n",
       "                headerRow: 'gchart-table-headerrow',\n",
       "                oddTableRow: 'gchart-table-oddrow',\n",
       "                selectedTableRow: 'gchart-table-selectedrow',\n",
       "                hoverTableRow: 'gchart-table-hoverrow',\n",
       "                tableCell: 'gchart-table-cell',\n",
       "                headerCell: 'gchart-table-headercell',\n",
       "                rowNumberCell: 'gchart-table-rownumcell'\n",
       "              }\n",
       "            },\n",
       "            {source_index: 6, fields: 'grade,num_records'},\n",
       "            0,\n",
       "            2);\n",
       "        }\n",
       "      );\n",
       "    </script>\n",
       "  "
      ],
      "text/plain": [
       "QueryResultsTable job_ao1o3BjM_YSIsrPzZqo2y5k4bPg5"
      ]
     },
     "execution_count": 7,
     "metadata": {},
     "output_type": "execute_result"
    }
   ],
   "source": [
    "%%bq query \n",
    "\n",
    "SELECT grade, COUNT(*) as num_records\n",
    "FROM `w210-fedwork.processed_data.status`\n",
    "WHERE (grade IN ('**', '##', '')) \n",
    "GROUP BY grade"
   ]
  },
  {
   "cell_type": "code",
   "execution_count": 8,
   "metadata": {
    "collapsed": false
   },
   "outputs": [
    {
     "data": {
      "text/html": [
       "\n",
       "          <script src=\"/static/components/requirejs/require.js\"></script>\n",
       "          <script>\n",
       "            requirejs.config({\n",
       "              paths: {\n",
       "                base: '/static/base',\n",
       "              },\n",
       "            });\n",
       "          </script>\n",
       "          "
      ],
      "text/plain": [
       "<IPython.core.display.HTML object>"
      ]
     },
     "metadata": {},
     "output_type": "display_data"
    },
    {
     "data": {
      "text/html": [
       "\n",
       "    <div class=\"bqtv\" id=\"8_151051020138\"><table><tr><th>occupation</th><th>num_records</th></tr><tr><td>****</td><td>23981</td></tr></table></div>\n",
       "    <br />(rows: 1, time: 1.7s,   670MB processed, job: job_j1aYAyX7Q7uxIl3jldL_gS0wgXCC)<br />\n",
       "    <script>\n",
       "\n",
       "      require.config({\n",
       "        paths: {\n",
       "          d3: '//cdnjs.cloudflare.com/ajax/libs/d3/3.4.13/d3',\n",
       "          plotly: 'https://cdn.plot.ly/plotly-1.5.1.min.js?noext',\n",
       "          jquery: '//ajax.googleapis.com/ajax/libs/jquery/2.0.0/jquery.min'\n",
       "        },\n",
       "        map: {\n",
       "          '*': {\n",
       "            datalab: 'nbextensions/gcpdatalab'\n",
       "          }\n",
       "        },\n",
       "        shim: {\n",
       "          plotly: {\n",
       "            deps: ['d3', 'jquery'],\n",
       "            exports: 'plotly'\n",
       "          }\n",
       "        }\n",
       "      });\n",
       "\n",
       "      require(['datalab/charting', 'datalab/element!8_151051020138', 'base/js/events',\n",
       "          'datalab/style!/nbextensions/gcpdatalab/charting.css'],\n",
       "        function(charts, dom, events) {\n",
       "          charts.render('gcharts', dom, events, 'table', [], {\"rows\": [{\"c\": [{\"v\": \"****\"}, {\"v\": 23981}]}], \"cols\": [{\"type\": \"string\", \"id\": \"occupation\", \"label\": \"occupation\"}, {\"type\": \"number\", \"id\": \"num_records\", \"label\": \"num_records\"}]},\n",
       "            {\n",
       "              pageSize: 25,\n",
       "              cssClassNames:  {\n",
       "                tableRow: 'gchart-table-row',\n",
       "                headerRow: 'gchart-table-headerrow',\n",
       "                oddTableRow: 'gchart-table-oddrow',\n",
       "                selectedTableRow: 'gchart-table-selectedrow',\n",
       "                hoverTableRow: 'gchart-table-hoverrow',\n",
       "                tableCell: 'gchart-table-cell',\n",
       "                headerCell: 'gchart-table-headercell',\n",
       "                rowNumberCell: 'gchart-table-rownumcell'\n",
       "              }\n",
       "            },\n",
       "            {source_index: 7, fields: 'occupation,num_records'},\n",
       "            0,\n",
       "            1);\n",
       "        }\n",
       "      );\n",
       "    </script>\n",
       "  "
      ],
      "text/plain": [
       "QueryResultsTable job_j1aYAyX7Q7uxIl3jldL_gS0wgXCC"
      ]
     },
     "execution_count": 8,
     "metadata": {},
     "output_type": "execute_result"
    }
   ],
   "source": [
    "%%bq query \n",
    "\n",
    "SELECT occupation, COUNT(*) as num_records\n",
    "FROM `w210-fedwork.processed_data.status`\n",
    "WHERE (occupation IN ('****', '####', '')) \n",
    "GROUP BY occupation"
   ]
  },
  {
   "cell_type": "code",
   "execution_count": 9,
   "metadata": {
    "collapsed": false
   },
   "outputs": [
    {
     "data": {
      "text/html": [
       "\n",
       "          <script src=\"/static/components/requirejs/require.js\"></script>\n",
       "          <script>\n",
       "            requirejs.config({\n",
       "              paths: {\n",
       "                base: '/static/base',\n",
       "              },\n",
       "            });\n",
       "          </script>\n",
       "          "
      ],
      "text/plain": [
       "<IPython.core.display.HTML object>"
      ]
     },
     "metadata": {},
     "output_type": "display_data"
    },
    {
     "data": {
      "text/html": [
       "\n",
       "    <div class=\"bqtv\" id=\"9_151051024773\"><table><tr><th>occupation_cat</th><th>num_records</th></tr><tr><td>*</td><td>25887</td></tr></table></div>\n",
       "    <br />(rows: 1, time: 1.9s,   335MB processed, job: job_vpQChhReMXf-ockijIdWYcxvI8S3)<br />\n",
       "    <script>\n",
       "\n",
       "      require.config({\n",
       "        paths: {\n",
       "          d3: '//cdnjs.cloudflare.com/ajax/libs/d3/3.4.13/d3',\n",
       "          plotly: 'https://cdn.plot.ly/plotly-1.5.1.min.js?noext',\n",
       "          jquery: '//ajax.googleapis.com/ajax/libs/jquery/2.0.0/jquery.min'\n",
       "        },\n",
       "        map: {\n",
       "          '*': {\n",
       "            datalab: 'nbextensions/gcpdatalab'\n",
       "          }\n",
       "        },\n",
       "        shim: {\n",
       "          plotly: {\n",
       "            deps: ['d3', 'jquery'],\n",
       "            exports: 'plotly'\n",
       "          }\n",
       "        }\n",
       "      });\n",
       "\n",
       "      require(['datalab/charting', 'datalab/element!9_151051024773', 'base/js/events',\n",
       "          'datalab/style!/nbextensions/gcpdatalab/charting.css'],\n",
       "        function(charts, dom, events) {\n",
       "          charts.render('gcharts', dom, events, 'table', [], {\"rows\": [{\"c\": [{\"v\": \"*\"}, {\"v\": 25887}]}], \"cols\": [{\"type\": \"string\", \"id\": \"occupation_cat\", \"label\": \"occupation_cat\"}, {\"type\": \"number\", \"id\": \"num_records\", \"label\": \"num_records\"}]},\n",
       "            {\n",
       "              pageSize: 25,\n",
       "              cssClassNames:  {\n",
       "                tableRow: 'gchart-table-row',\n",
       "                headerRow: 'gchart-table-headerrow',\n",
       "                oddTableRow: 'gchart-table-oddrow',\n",
       "                selectedTableRow: 'gchart-table-selectedrow',\n",
       "                hoverTableRow: 'gchart-table-hoverrow',\n",
       "                tableCell: 'gchart-table-cell',\n",
       "                headerCell: 'gchart-table-headercell',\n",
       "                rowNumberCell: 'gchart-table-rownumcell'\n",
       "              }\n",
       "            },\n",
       "            {source_index: 8, fields: 'occupation_cat,num_records'},\n",
       "            0,\n",
       "            1);\n",
       "        }\n",
       "      );\n",
       "    </script>\n",
       "  "
      ],
      "text/plain": [
       "QueryResultsTable job_vpQChhReMXf-ockijIdWYcxvI8S3"
      ]
     },
     "execution_count": 9,
     "metadata": {},
     "output_type": "execute_result"
    }
   ],
   "source": [
    "%%bq query \n",
    "\n",
    "SELECT occupation_cat, COUNT(*) as num_records\n",
    "FROM `w210-fedwork.processed_data.status`\n",
    "WHERE (occupation_cat IN ('*', '#', '')) \n",
    "GROUP BY occupation_cat"
   ]
  },
  {
   "cell_type": "code",
   "execution_count": 10,
   "metadata": {
    "collapsed": false
   },
   "outputs": [
    {
     "data": {
      "text/html": [
       "\n",
       "          <script src=\"/static/components/requirejs/require.js\"></script>\n",
       "          <script>\n",
       "            requirejs.config({\n",
       "              paths: {\n",
       "                base: '/static/base',\n",
       "              },\n",
       "            });\n",
       "          </script>\n",
       "          "
      ],
      "text/plain": [
       "<IPython.core.display.HTML object>"
      ]
     },
     "metadata": {},
     "output_type": "display_data"
    },
    {
     "data": {
      "text/html": [
       "\n",
       "    <div class=\"bqtv\" id=\"10_151051031405\"><table><tr><th>pay_plan</th><th>num_records</th></tr><tr><td>**</td><td>5099</td></tr></table></div>\n",
       "    <br />(rows: 1, time: 2.3s,   446MB processed, job: job_DYTeabv-7i_SXY3B8-qfknA1QaMZ)<br />\n",
       "    <script>\n",
       "\n",
       "      require.config({\n",
       "        paths: {\n",
       "          d3: '//cdnjs.cloudflare.com/ajax/libs/d3/3.4.13/d3',\n",
       "          plotly: 'https://cdn.plot.ly/plotly-1.5.1.min.js?noext',\n",
       "          jquery: '//ajax.googleapis.com/ajax/libs/jquery/2.0.0/jquery.min'\n",
       "        },\n",
       "        map: {\n",
       "          '*': {\n",
       "            datalab: 'nbextensions/gcpdatalab'\n",
       "          }\n",
       "        },\n",
       "        shim: {\n",
       "          plotly: {\n",
       "            deps: ['d3', 'jquery'],\n",
       "            exports: 'plotly'\n",
       "          }\n",
       "        }\n",
       "      });\n",
       "\n",
       "      require(['datalab/charting', 'datalab/element!10_151051031405', 'base/js/events',\n",
       "          'datalab/style!/nbextensions/gcpdatalab/charting.css'],\n",
       "        function(charts, dom, events) {\n",
       "          charts.render('gcharts', dom, events, 'table', [], {\"rows\": [{\"c\": [{\"v\": \"**\"}, {\"v\": 5099}]}], \"cols\": [{\"type\": \"string\", \"id\": \"pay_plan\", \"label\": \"pay_plan\"}, {\"type\": \"number\", \"id\": \"num_records\", \"label\": \"num_records\"}]},\n",
       "            {\n",
       "              pageSize: 25,\n",
       "              cssClassNames:  {\n",
       "                tableRow: 'gchart-table-row',\n",
       "                headerRow: 'gchart-table-headerrow',\n",
       "                oddTableRow: 'gchart-table-oddrow',\n",
       "                selectedTableRow: 'gchart-table-selectedrow',\n",
       "                hoverTableRow: 'gchart-table-hoverrow',\n",
       "                tableCell: 'gchart-table-cell',\n",
       "                headerCell: 'gchart-table-headercell',\n",
       "                rowNumberCell: 'gchart-table-rownumcell'\n",
       "              }\n",
       "            },\n",
       "            {source_index: 9, fields: 'pay_plan,num_records'},\n",
       "            0,\n",
       "            1);\n",
       "        }\n",
       "      );\n",
       "    </script>\n",
       "  "
      ],
      "text/plain": [
       "QueryResultsTable job_DYTeabv-7i_SXY3B8-qfknA1QaMZ"
      ]
     },
     "execution_count": 10,
     "metadata": {},
     "output_type": "execute_result"
    }
   ],
   "source": [
    "%%bq query \n",
    "\n",
    "SELECT pay_plan, COUNT(*) as num_records\n",
    "FROM `w210-fedwork.processed_data.status`\n",
    "WHERE (pay_plan IN ('**', '##', '')) \n",
    "GROUP BY pay_plan"
   ]
  },
  {
   "cell_type": "code",
   "execution_count": 11,
   "metadata": {
    "collapsed": false
   },
   "outputs": [
    {
     "data": {
      "text/html": [
       "\n",
       "          <script src=\"/static/components/requirejs/require.js\"></script>\n",
       "          <script>\n",
       "            requirejs.config({\n",
       "              paths: {\n",
       "                base: '/static/base',\n",
       "              },\n",
       "            });\n",
       "          </script>\n",
       "          "
      ],
      "text/plain": [
       "<IPython.core.display.HTML object>"
      ]
     },
     "metadata": {},
     "output_type": "display_data"
    },
    {
     "data": {
      "text/html": [
       "\n",
       "    <div class=\"bqtv\" id=\"11_151051038113\"><table><tr><th>superv_status</th><th>num_records</th></tr><tr><td>*</td><td>10573</td></tr></table></div>\n",
       "    <br />(rows: 1, time: 1.6s,   335MB processed, job: job_HFrs-ixp4vhd0mCh9sbVFvN8eWBe)<br />\n",
       "    <script>\n",
       "\n",
       "      require.config({\n",
       "        paths: {\n",
       "          d3: '//cdnjs.cloudflare.com/ajax/libs/d3/3.4.13/d3',\n",
       "          plotly: 'https://cdn.plot.ly/plotly-1.5.1.min.js?noext',\n",
       "          jquery: '//ajax.googleapis.com/ajax/libs/jquery/2.0.0/jquery.min'\n",
       "        },\n",
       "        map: {\n",
       "          '*': {\n",
       "            datalab: 'nbextensions/gcpdatalab'\n",
       "          }\n",
       "        },\n",
       "        shim: {\n",
       "          plotly: {\n",
       "            deps: ['d3', 'jquery'],\n",
       "            exports: 'plotly'\n",
       "          }\n",
       "        }\n",
       "      });\n",
       "\n",
       "      require(['datalab/charting', 'datalab/element!11_151051038113', 'base/js/events',\n",
       "          'datalab/style!/nbextensions/gcpdatalab/charting.css'],\n",
       "        function(charts, dom, events) {\n",
       "          charts.render('gcharts', dom, events, 'table', [], {\"rows\": [{\"c\": [{\"v\": \"*\"}, {\"v\": 10573}]}], \"cols\": [{\"type\": \"string\", \"id\": \"superv_status\", \"label\": \"superv_status\"}, {\"type\": \"number\", \"id\": \"num_records\", \"label\": \"num_records\"}]},\n",
       "            {\n",
       "              pageSize: 25,\n",
       "              cssClassNames:  {\n",
       "                tableRow: 'gchart-table-row',\n",
       "                headerRow: 'gchart-table-headerrow',\n",
       "                oddTableRow: 'gchart-table-oddrow',\n",
       "                selectedTableRow: 'gchart-table-selectedrow',\n",
       "                hoverTableRow: 'gchart-table-hoverrow',\n",
       "                tableCell: 'gchart-table-cell',\n",
       "                headerCell: 'gchart-table-headercell',\n",
       "                rowNumberCell: 'gchart-table-rownumcell'\n",
       "              }\n",
       "            },\n",
       "            {source_index: 10, fields: 'superv_status,num_records'},\n",
       "            0,\n",
       "            1);\n",
       "        }\n",
       "      );\n",
       "    </script>\n",
       "  "
      ],
      "text/plain": [
       "QueryResultsTable job_HFrs-ixp4vhd0mCh9sbVFvN8eWBe"
      ]
     },
     "execution_count": 11,
     "metadata": {},
     "output_type": "execute_result"
    }
   ],
   "source": [
    "%%bq query \n",
    "\n",
    "SELECT superv_status, COUNT(*) as num_records\n",
    "FROM `w210-fedwork.processed_data.status`\n",
    "WHERE (superv_status IN ('*', '#', '', ' ')) \n",
    "GROUP BY superv_status"
   ]
  },
  {
   "cell_type": "code",
   "execution_count": 12,
   "metadata": {
    "collapsed": false
   },
   "outputs": [
    {
     "data": {
      "text/html": [
       "\n",
       "          <script src=\"/static/components/requirejs/require.js\"></script>\n",
       "          <script>\n",
       "            requirejs.config({\n",
       "              paths: {\n",
       "                base: '/static/base',\n",
       "              },\n",
       "            });\n",
       "          </script>\n",
       "          "
      ],
      "text/plain": [
       "<IPython.core.display.HTML object>"
      ]
     },
     "metadata": {},
     "output_type": "display_data"
    },
    {
     "data": {
      "text/html": [
       "\n",
       "    <div class=\"bqtv\" id=\"12_151051050634\"><table><tr><th>type_appoint</th><th>num_records</th></tr><tr><td>**</td><td>14057</td></tr></table></div>\n",
       "    <br />(rows: 1, time: 1.9s,   446MB processed, job: job_u97xr2F-Zu1lqM9TOXaycwMqHEB5)<br />\n",
       "    <script>\n",
       "\n",
       "      require.config({\n",
       "        paths: {\n",
       "          d3: '//cdnjs.cloudflare.com/ajax/libs/d3/3.4.13/d3',\n",
       "          plotly: 'https://cdn.plot.ly/plotly-1.5.1.min.js?noext',\n",
       "          jquery: '//ajax.googleapis.com/ajax/libs/jquery/2.0.0/jquery.min'\n",
       "        },\n",
       "        map: {\n",
       "          '*': {\n",
       "            datalab: 'nbextensions/gcpdatalab'\n",
       "          }\n",
       "        },\n",
       "        shim: {\n",
       "          plotly: {\n",
       "            deps: ['d3', 'jquery'],\n",
       "            exports: 'plotly'\n",
       "          }\n",
       "        }\n",
       "      });\n",
       "\n",
       "      require(['datalab/charting', 'datalab/element!12_151051050634', 'base/js/events',\n",
       "          'datalab/style!/nbextensions/gcpdatalab/charting.css'],\n",
       "        function(charts, dom, events) {\n",
       "          charts.render('gcharts', dom, events, 'table', [], {\"rows\": [{\"c\": [{\"v\": \"**\"}, {\"v\": 14057}]}], \"cols\": [{\"type\": \"string\", \"id\": \"type_appoint\", \"label\": \"type_appoint\"}, {\"type\": \"number\", \"id\": \"num_records\", \"label\": \"num_records\"}]},\n",
       "            {\n",
       "              pageSize: 25,\n",
       "              cssClassNames:  {\n",
       "                tableRow: 'gchart-table-row',\n",
       "                headerRow: 'gchart-table-headerrow',\n",
       "                oddTableRow: 'gchart-table-oddrow',\n",
       "                selectedTableRow: 'gchart-table-selectedrow',\n",
       "                hoverTableRow: 'gchart-table-hoverrow',\n",
       "                tableCell: 'gchart-table-cell',\n",
       "                headerCell: 'gchart-table-headercell',\n",
       "                rowNumberCell: 'gchart-table-rownumcell'\n",
       "              }\n",
       "            },\n",
       "            {source_index: 11, fields: 'type_appoint,num_records'},\n",
       "            0,\n",
       "            1);\n",
       "        }\n",
       "      );\n",
       "    </script>\n",
       "  "
      ],
      "text/plain": [
       "QueryResultsTable job_u97xr2F-Zu1lqM9TOXaycwMqHEB5"
      ]
     },
     "execution_count": 12,
     "metadata": {},
     "output_type": "execute_result"
    }
   ],
   "source": [
    "%%bq query \n",
    "\n",
    "SELECT type_appoint, COUNT(*) as num_records\n",
    "FROM `w210-fedwork.processed_data.status`\n",
    "WHERE (type_appoint IN ('**', '##', '', '  ')) \n",
    "GROUP BY type_appoint"
   ]
  },
  {
   "cell_type": "code",
   "execution_count": 14,
   "metadata": {
    "collapsed": false
   },
   "outputs": [
    {
     "data": {
      "text/html": [
       "\n",
       "          <script src=\"/static/components/requirejs/require.js\"></script>\n",
       "          <script>\n",
       "            requirejs.config({\n",
       "              paths: {\n",
       "                base: '/static/base',\n",
       "              },\n",
       "            });\n",
       "          </script>\n",
       "          "
      ],
      "text/plain": [
       "<IPython.core.display.HTML object>"
      ]
     },
     "metadata": {},
     "output_type": "display_data"
    },
    {
     "data": {
      "text/html": [
       "\n",
       "    <div class=\"bqtv\" id=\"14_151051056503\"><table><tr><th>work_schedule</th><th>num_records</th></tr><tr><td>*</td><td>1556</td></tr></table></div>\n",
       "    <br />(rows: 1, time: 1.6s,   335MB processed, job: job_2GxHe_ZTcMO-GHmls_fuwF92gcQZ)<br />\n",
       "    <script>\n",
       "\n",
       "      require.config({\n",
       "        paths: {\n",
       "          d3: '//cdnjs.cloudflare.com/ajax/libs/d3/3.4.13/d3',\n",
       "          plotly: 'https://cdn.plot.ly/plotly-1.5.1.min.js?noext',\n",
       "          jquery: '//ajax.googleapis.com/ajax/libs/jquery/2.0.0/jquery.min'\n",
       "        },\n",
       "        map: {\n",
       "          '*': {\n",
       "            datalab: 'nbextensions/gcpdatalab'\n",
       "          }\n",
       "        },\n",
       "        shim: {\n",
       "          plotly: {\n",
       "            deps: ['d3', 'jquery'],\n",
       "            exports: 'plotly'\n",
       "          }\n",
       "        }\n",
       "      });\n",
       "\n",
       "      require(['datalab/charting', 'datalab/element!14_151051056503', 'base/js/events',\n",
       "          'datalab/style!/nbextensions/gcpdatalab/charting.css'],\n",
       "        function(charts, dom, events) {\n",
       "          charts.render('gcharts', dom, events, 'table', [], {\"rows\": [{\"c\": [{\"v\": \"*\"}, {\"v\": 1556}]}], \"cols\": [{\"type\": \"string\", \"id\": \"work_schedule\", \"label\": \"work_schedule\"}, {\"type\": \"number\", \"id\": \"num_records\", \"label\": \"num_records\"}]},\n",
       "            {\n",
       "              pageSize: 25,\n",
       "              cssClassNames:  {\n",
       "                tableRow: 'gchart-table-row',\n",
       "                headerRow: 'gchart-table-headerrow',\n",
       "                oddTableRow: 'gchart-table-oddrow',\n",
       "                selectedTableRow: 'gchart-table-selectedrow',\n",
       "                hoverTableRow: 'gchart-table-hoverrow',\n",
       "                tableCell: 'gchart-table-cell',\n",
       "                headerCell: 'gchart-table-headercell',\n",
       "                rowNumberCell: 'gchart-table-rownumcell'\n",
       "              }\n",
       "            },\n",
       "            {source_index: 13, fields: 'work_schedule,num_records'},\n",
       "            0,\n",
       "            1);\n",
       "        }\n",
       "      );\n",
       "    </script>\n",
       "  "
      ],
      "text/plain": [
       "QueryResultsTable job_2GxHe_ZTcMO-GHmls_fuwF92gcQZ"
      ]
     },
     "execution_count": 14,
     "metadata": {},
     "output_type": "execute_result"
    }
   ],
   "source": [
    "%%bq query \n",
    "\n",
    "SELECT work_schedule, COUNT(*) as num_records\n",
    "FROM `w210-fedwork.processed_data.status`\n",
    "WHERE (work_schedule IN ('*', '#', '', ' ')) \n",
    "GROUP BY work_schedule"
   ]
  },
  {
   "cell_type": "code",
   "execution_count": 15,
   "metadata": {
    "collapsed": false
   },
   "outputs": [
    {
     "data": {
      "text/html": [
       "\n",
       "          <script src=\"/static/components/requirejs/require.js\"></script>\n",
       "          <script>\n",
       "            requirejs.config({\n",
       "              paths: {\n",
       "                base: '/static/base',\n",
       "              },\n",
       "            });\n",
       "          </script>\n",
       "          "
      ],
      "text/plain": [
       "<IPython.core.display.HTML object>"
      ]
     },
     "metadata": {},
     "output_type": "display_data"
    },
    {
     "data": {
      "text/html": [
       "\n",
       "    <div class=\"bqtv\" id=\"15_151051223429\"><table><tr><th>duty_station</th><th>num_records</th></tr><tr><td>*********</td><td>5</td></tr><tr><td>#########</td><td>15</td></tr><tr><td>110010001</td><td>4</td></tr><tr><td>RQ0450000</td><td>2</td></tr><tr><td>480490245</td><td>1</td></tr><tr><td>426540101</td><td>1</td></tr><tr><td>251430013</td><td>1</td></tr><tr><td>282455151</td><td>1</td></tr></table></div>\n",
       "    <br />(rows: 8, time: 1.4s,   104MB processed, job: job_VxyqEpkMrUWo5j8DYgbEFUuHU6-3)<br />\n",
       "    <script>\n",
       "\n",
       "      require.config({\n",
       "        paths: {\n",
       "          d3: '//cdnjs.cloudflare.com/ajax/libs/d3/3.4.13/d3',\n",
       "          plotly: 'https://cdn.plot.ly/plotly-1.5.1.min.js?noext',\n",
       "          jquery: '//ajax.googleapis.com/ajax/libs/jquery/2.0.0/jquery.min'\n",
       "        },\n",
       "        map: {\n",
       "          '*': {\n",
       "            datalab: 'nbextensions/gcpdatalab'\n",
       "          }\n",
       "        },\n",
       "        shim: {\n",
       "          plotly: {\n",
       "            deps: ['d3', 'jquery'],\n",
       "            exports: 'plotly'\n",
       "          }\n",
       "        }\n",
       "      });\n",
       "\n",
       "      require(['datalab/charting', 'datalab/element!15_151051223429', 'base/js/events',\n",
       "          'datalab/style!/nbextensions/gcpdatalab/charting.css'],\n",
       "        function(charts, dom, events) {\n",
       "          charts.render('gcharts', dom, events, 'table', [], {\"rows\": [{\"c\": [{\"v\": \"*********\"}, {\"v\": 5}]}, {\"c\": [{\"v\": \"#########\"}, {\"v\": 15}]}, {\"c\": [{\"v\": \"110010001\"}, {\"v\": 4}]}, {\"c\": [{\"v\": \"RQ0450000\"}, {\"v\": 2}]}, {\"c\": [{\"v\": \"480490245\"}, {\"v\": 1}]}, {\"c\": [{\"v\": \"426540101\"}, {\"v\": 1}]}, {\"c\": [{\"v\": \"251430013\"}, {\"v\": 1}]}, {\"c\": [{\"v\": \"282455151\"}, {\"v\": 1}]}], \"cols\": [{\"type\": \"string\", \"id\": \"duty_station\", \"label\": \"duty_station\"}, {\"type\": \"number\", \"id\": \"num_records\", \"label\": \"num_records\"}]},\n",
       "            {\n",
       "              pageSize: 25,\n",
       "              cssClassNames:  {\n",
       "                tableRow: 'gchart-table-row',\n",
       "                headerRow: 'gchart-table-headerrow',\n",
       "                oddTableRow: 'gchart-table-oddrow',\n",
       "                selectedTableRow: 'gchart-table-selectedrow',\n",
       "                hoverTableRow: 'gchart-table-hoverrow',\n",
       "                tableCell: 'gchart-table-cell',\n",
       "                headerCell: 'gchart-table-headercell',\n",
       "                rowNumberCell: 'gchart-table-rownumcell'\n",
       "              }\n",
       "            },\n",
       "            {source_index: 14, fields: 'duty_station,num_records'},\n",
       "            0,\n",
       "            8);\n",
       "        }\n",
       "      );\n",
       "    </script>\n",
       "  "
      ],
      "text/plain": [
       "QueryResultsTable job_VxyqEpkMrUWo5j8DYgbEFUuHU6-3"
      ]
     },
     "execution_count": 15,
     "metadata": {},
     "output_type": "execute_result"
    }
   ],
   "source": [
    "%%bq query \n",
    "\n",
    "SELECT duty_station, COUNT(*) as num_records\n",
    "FROM `w210-fedwork.processed_data.dynamic`\n",
    "WHERE (work_schedule IN ('*********', '#########', '', '         ')) \n",
    "GROUP BY duty_station"
   ]
  },
  {
   "cell_type": "code",
   "execution_count": 16,
   "metadata": {
    "collapsed": false
   },
   "outputs": [
    {
     "data": {
      "text/html": [
       "\n",
       "          <script src=\"/static/components/requirejs/require.js\"></script>\n",
       "          <script>\n",
       "            requirejs.config({\n",
       "              paths: {\n",
       "                base: '/static/base',\n",
       "              },\n",
       "            });\n",
       "          </script>\n",
       "          "
      ],
      "text/plain": [
       "<IPython.core.display.HTML object>"
      ]
     },
     "metadata": {},
     "output_type": "display_data"
    },
    {
     "data": {
      "text/html": [
       "\n",
       "    <div class=\"bqtv\" id=\"16_151051231064\"><table><tr><th>grade</th><th>num_records</th></tr><tr><td>**</td><td>3795</td></tr><tr><td></td><td>35</td></tr></table></div>\n",
       "    <br />(rows: 2, time: 1.4s,    29MB processed, job: job_5Z1wSRE_0qQCTkYIlXdCCThSyycD)<br />\n",
       "    <script>\n",
       "\n",
       "      require.config({\n",
       "        paths: {\n",
       "          d3: '//cdnjs.cloudflare.com/ajax/libs/d3/3.4.13/d3',\n",
       "          plotly: 'https://cdn.plot.ly/plotly-1.5.1.min.js?noext',\n",
       "          jquery: '//ajax.googleapis.com/ajax/libs/jquery/2.0.0/jquery.min'\n",
       "        },\n",
       "        map: {\n",
       "          '*': {\n",
       "            datalab: 'nbextensions/gcpdatalab'\n",
       "          }\n",
       "        },\n",
       "        shim: {\n",
       "          plotly: {\n",
       "            deps: ['d3', 'jquery'],\n",
       "            exports: 'plotly'\n",
       "          }\n",
       "        }\n",
       "      });\n",
       "\n",
       "      require(['datalab/charting', 'datalab/element!16_151051231064', 'base/js/events',\n",
       "          'datalab/style!/nbextensions/gcpdatalab/charting.css'],\n",
       "        function(charts, dom, events) {\n",
       "          charts.render('gcharts', dom, events, 'table', [], {\"rows\": [{\"c\": [{\"v\": \"**\"}, {\"v\": 3795}]}, {\"c\": [{\"v\": \"\"}, {\"v\": 35}]}], \"cols\": [{\"type\": \"string\", \"id\": \"grade\", \"label\": \"grade\"}, {\"type\": \"number\", \"id\": \"num_records\", \"label\": \"num_records\"}]},\n",
       "            {\n",
       "              pageSize: 25,\n",
       "              cssClassNames:  {\n",
       "                tableRow: 'gchart-table-row',\n",
       "                headerRow: 'gchart-table-headerrow',\n",
       "                oddTableRow: 'gchart-table-oddrow',\n",
       "                selectedTableRow: 'gchart-table-selectedrow',\n",
       "                hoverTableRow: 'gchart-table-hoverrow',\n",
       "                tableCell: 'gchart-table-cell',\n",
       "                headerCell: 'gchart-table-headercell',\n",
       "                rowNumberCell: 'gchart-table-rownumcell'\n",
       "              }\n",
       "            },\n",
       "            {source_index: 15, fields: 'grade,num_records'},\n",
       "            0,\n",
       "            2);\n",
       "        }\n",
       "      );\n",
       "    </script>\n",
       "  "
      ],
      "text/plain": [
       "QueryResultsTable job_5Z1wSRE_0qQCTkYIlXdCCThSyycD"
      ]
     },
     "execution_count": 16,
     "metadata": {},
     "output_type": "execute_result"
    }
   ],
   "source": [
    "%%bq query \n",
    "\n",
    "SELECT grade, COUNT(*) as num_records\n",
    "FROM `w210-fedwork.processed_data.dynamic`\n",
    "WHERE (grade IN ('**', '##', '')) \n",
    "GROUP BY grade"
   ]
  },
  {
   "cell_type": "markdown",
   "metadata": {},
   "source": [
    "### Ignore the rest for now"
   ]
  },
  {
   "cell_type": "code",
   "execution_count": 32,
   "metadata": {
    "collapsed": false
   },
   "outputs": [
    {
     "data": {
      "text/html": [
       "\n",
       "          <script src=\"/static/components/requirejs/require.js\"></script>\n",
       "          <script>\n",
       "            requirejs.config({\n",
       "              paths: {\n",
       "                base: '/static/base',\n",
       "              },\n",
       "            });\n",
       "          </script>\n",
       "          "
      ],
      "text/plain": [
       "<IPython.core.display.HTML object>"
      ]
     },
     "metadata": {},
     "output_type": "display_data"
    },
    {
     "data": {
      "text/html": [
       "<div>\n",
       "<table border=\"1\" class=\"dataframe\">\n",
       "  <thead>\n",
       "    <tr style=\"text-align: right;\">\n",
       "      <th></th>\n",
       "      <th>emp_id</th>\n",
       "      <th>file_dt</th>\n",
       "      <th>agency</th>\n",
       "      <th>duty_station</th>\n",
       "      <th>age</th>\n",
       "      <th>education_level</th>\n",
       "      <th>pay_plan</th>\n",
       "      <th>grade</th>\n",
       "      <th>los</th>\n",
       "      <th>occupation</th>\n",
       "      <th>occupation_cat</th>\n",
       "      <th>superv_status</th>\n",
       "      <th>type_appoint</th>\n",
       "      <th>work_schedule</th>\n",
       "      <th>nsftp_ind</th>\n",
       "      <th>acces_sep_ind</th>\n",
       "    </tr>\n",
       "  </thead>\n",
       "  <tbody>\n",
       "    <tr>\n",
       "      <th>0</th>\n",
       "      <td>010089894</td>\n",
       "      <td>2005-09-30</td>\n",
       "      <td>LT00</td>\n",
       "      <td>110010001</td>\n",
       "      <td>20-24</td>\n",
       "      <td>08</td>\n",
       "      <td>None</td>\n",
       "      <td>None</td>\n",
       "      <td>5-9</td>\n",
       "      <td>None</td>\n",
       "      <td>None</td>\n",
       "      <td>8</td>\n",
       "      <td>10</td>\n",
       "      <td>F</td>\n",
       "      <td>1</td>\n",
       "      <td>SC</td>\n",
       "    </tr>\n",
       "    <tr>\n",
       "      <th>1</th>\n",
       "      <td>004965299</td>\n",
       "      <td>2003-09-30</td>\n",
       "      <td>HE37</td>\n",
       "      <td>462800023</td>\n",
       "      <td>20-24</td>\n",
       "      <td>01</td>\n",
       "      <td>None</td>\n",
       "      <td>None</td>\n",
       "      <td>1-2</td>\n",
       "      <td>None</td>\n",
       "      <td>None</td>\n",
       "      <td>8</td>\n",
       "      <td>48</td>\n",
       "      <td>F</td>\n",
       "      <td>2</td>\n",
       "      <td>None</td>\n",
       "    </tr>\n",
       "    <tr>\n",
       "      <th>2</th>\n",
       "      <td>009948076</td>\n",
       "      <td>2003-09-30</td>\n",
       "      <td>LT00</td>\n",
       "      <td>*********</td>\n",
       "      <td>UNSP</td>\n",
       "      <td>None</td>\n",
       "      <td>GS</td>\n",
       "      <td>None</td>\n",
       "      <td>UNSP</td>\n",
       "      <td>None</td>\n",
       "      <td>None</td>\n",
       "      <td>None</td>\n",
       "      <td>None</td>\n",
       "      <td>None</td>\n",
       "      <td>2</td>\n",
       "      <td>None</td>\n",
       "    </tr>\n",
       "    <tr>\n",
       "      <th>3</th>\n",
       "      <td>001294448</td>\n",
       "      <td>2009-06-30</td>\n",
       "      <td>HSBD</td>\n",
       "      <td>#########</td>\n",
       "      <td>60-64</td>\n",
       "      <td>10</td>\n",
       "      <td>GS</td>\n",
       "      <td>None</td>\n",
       "      <td>25-29</td>\n",
       "      <td>None</td>\n",
       "      <td>None</td>\n",
       "      <td>8</td>\n",
       "      <td>10</td>\n",
       "      <td>F</td>\n",
       "      <td>1</td>\n",
       "      <td>None</td>\n",
       "    </tr>\n",
       "    <tr>\n",
       "      <th>4</th>\n",
       "      <td>001981593</td>\n",
       "      <td>2002-06-30</td>\n",
       "      <td>ARX6</td>\n",
       "      <td>*********</td>\n",
       "      <td>50-54</td>\n",
       "      <td>04</td>\n",
       "      <td>None</td>\n",
       "      <td>None</td>\n",
       "      <td>UNSP</td>\n",
       "      <td>None</td>\n",
       "      <td>None</td>\n",
       "      <td>8</td>\n",
       "      <td>10</td>\n",
       "      <td>None</td>\n",
       "      <td>2</td>\n",
       "      <td>None</td>\n",
       "    </tr>\n",
       "  </tbody>\n",
       "</table>\n",
       "</div>"
      ],
      "text/plain": [
       "      emp_id     file_dt agency duty_station    age education_level pay_plan  \\\n",
       "0  010089894  2005-09-30   LT00    110010001  20-24              08     None   \n",
       "1  004965299  2003-09-30   HE37    462800023  20-24              01     None   \n",
       "2  009948076  2003-09-30   LT00    *********   UNSP            None       GS   \n",
       "3  001294448  2009-06-30   HSBD    #########  60-64              10       GS   \n",
       "4  001981593  2002-06-30   ARX6    *********  50-54              04     None   \n",
       "\n",
       "  grade    los occupation occupation_cat superv_status type_appoint  \\\n",
       "0  None    5-9       None           None             8           10   \n",
       "1  None    1-2       None           None             8           48   \n",
       "2  None   UNSP       None           None          None         None   \n",
       "3  None  25-29       None           None             8           10   \n",
       "4  None   UNSP       None           None             8           10   \n",
       "\n",
       "  work_schedule nsftp_ind acces_sep_ind  \n",
       "0             F         1            SC  \n",
       "1             F         2          None  \n",
       "2          None         2          None  \n",
       "3             F         1          None  \n",
       "4          None         2          None  "
      ]
     },
     "execution_count": 32,
     "metadata": {},
     "output_type": "execute_result"
    }
   ],
   "source": [
    "emp_comb = bq.Query('SELECT emp_id, file_dt, agency, duty_station, age, education_level, pay_plan, grade, los \\\n",
    "                              ,occupation, occupation_cat, superv_status, type_appoint, work_schedule \\\n",
    "                             ,nsftp_ind, acces_sep_ind \\\n",
    "                        FROM `processed_data.status_dynamic` \\\n",
    "                        LIMIT 100000')\n",
    "emp_comb = emp_comb.execute(output_options=bq.QueryOutput.dataframe()).result()\n",
    "emp_comb.head()"
   ]
  },
  {
   "cell_type": "code",
   "execution_count": null,
   "metadata": {
    "collapsed": true
   },
   "outputs": [],
   "source": [
    "# emp_comb = bq.Query.from_table(bq.Table('processed_data.status_dynamic'), fields=['emp_id', 'file_dt', 'agency', 'duty_station', 'age', 'education_level', 'pay_plan', 'grade', 'los'\n",
    "#                                                                             ,'occupation', 'occupation_cat', 'basic_pay', 'superv_status', 'type_appoint', 'work_schedule'\n",
    "#                                                                             , 'nsftp_ind', 'acces_sep_ind']).execute().result().to_dataframe().set_index('emp_id', 'file_dt','agency')"
   ]
  },
  {
   "cell_type": "code",
   "execution_count": 33,
   "metadata": {
    "collapsed": false
   },
   "outputs": [
    {
     "data": {
      "text/html": [
       "\n",
       "          <script src=\"/static/components/requirejs/require.js\"></script>\n",
       "          <script>\n",
       "            requirejs.config({\n",
       "              paths: {\n",
       "                base: '/static/base',\n",
       "              },\n",
       "            });\n",
       "          </script>\n",
       "          "
      ],
      "text/plain": [
       "<IPython.core.display.HTML object>"
      ]
     },
     "metadata": {},
     "output_type": "display_data"
    },
    {
     "data": {
      "text/html": [
       "<div>\n",
       "<table border=\"1\" class=\"dataframe\">\n",
       "  <thead>\n",
       "    <tr style=\"text-align: right;\">\n",
       "      <th></th>\n",
       "      <th>emp_id</th>\n",
       "      <th>file_dt</th>\n",
       "      <th>agency</th>\n",
       "      <th>duty_station</th>\n",
       "      <th>age</th>\n",
       "      <th>education_level</th>\n",
       "      <th>pay_plan</th>\n",
       "      <th>grade</th>\n",
       "      <th>los</th>\n",
       "      <th>occupation</th>\n",
       "      <th>occupation_cat</th>\n",
       "      <th>superv_status</th>\n",
       "      <th>type_appoint</th>\n",
       "      <th>work_schedule</th>\n",
       "      <th>nsftp_ind</th>\n",
       "      <th>acces_sep_ind</th>\n",
       "    </tr>\n",
       "  </thead>\n",
       "  <tbody>\n",
       "    <tr>\n",
       "      <th>count</th>\n",
       "      <td>100000</td>\n",
       "      <td>100000</td>\n",
       "      <td>100000</td>\n",
       "      <td>100000</td>\n",
       "      <td>100000</td>\n",
       "      <td>99326</td>\n",
       "      <td>99919</td>\n",
       "      <td>99887</td>\n",
       "      <td>100000</td>\n",
       "      <td>99982</td>\n",
       "      <td>99959</td>\n",
       "      <td>99999</td>\n",
       "      <td>99993</td>\n",
       "      <td>99998</td>\n",
       "      <td>100000</td>\n",
       "      <td>4472</td>\n",
       "    </tr>\n",
       "    <tr>\n",
       "      <th>unique</th>\n",
       "      <td>75089</td>\n",
       "      <td>24</td>\n",
       "      <td>91</td>\n",
       "      <td>1005</td>\n",
       "      <td>14</td>\n",
       "      <td>22</td>\n",
       "      <td>35</td>\n",
       "      <td>161</td>\n",
       "      <td>11</td>\n",
       "      <td>246</td>\n",
       "      <td>6</td>\n",
       "      <td>6</td>\n",
       "      <td>14</td>\n",
       "      <td>6</td>\n",
       "      <td>2</td>\n",
       "      <td>13</td>\n",
       "    </tr>\n",
       "    <tr>\n",
       "      <th>top</th>\n",
       "      <td>003237193</td>\n",
       "      <td>2002-12-13</td>\n",
       "      <td>TD03</td>\n",
       "      <td>#########</td>\n",
       "      <td>45-49</td>\n",
       "      <td>04</td>\n",
       "      <td>SV</td>\n",
       "      <td>DD</td>\n",
       "      <td>5-9</td>\n",
       "      <td>2152</td>\n",
       "      <td>A</td>\n",
       "      <td>8</td>\n",
       "      <td>38</td>\n",
       "      <td>F</td>\n",
       "      <td>1</td>\n",
       "      <td>AD</td>\n",
       "    </tr>\n",
       "    <tr>\n",
       "      <th>freq</th>\n",
       "      <td>7</td>\n",
       "      <td>6052</td>\n",
       "      <td>42591</td>\n",
       "      <td>52431</td>\n",
       "      <td>17352</td>\n",
       "      <td>38356</td>\n",
       "      <td>29369</td>\n",
       "      <td>8591</td>\n",
       "      <td>17031</td>\n",
       "      <td>22400</td>\n",
       "      <td>52082</td>\n",
       "      <td>77880</td>\n",
       "      <td>75549</td>\n",
       "      <td>88081</td>\n",
       "      <td>83917</td>\n",
       "      <td>3677</td>\n",
       "    </tr>\n",
       "  </tbody>\n",
       "</table>\n",
       "</div>"
      ],
      "text/plain": [
       "           emp_id     file_dt  agency duty_station     age education_level  \\\n",
       "count      100000      100000  100000       100000  100000           99326   \n",
       "unique      75089          24      91         1005      14              22   \n",
       "top     003237193  2002-12-13    TD03    #########   45-49              04   \n",
       "freq            7        6052   42591        52431   17352           38356   \n",
       "\n",
       "       pay_plan  grade     los occupation occupation_cat superv_status  \\\n",
       "count     99919  99887  100000      99982          99959         99999   \n",
       "unique       35    161      11        246              6             6   \n",
       "top          SV     DD     5-9       2152              A             8   \n",
       "freq      29369   8591   17031      22400          52082         77880   \n",
       "\n",
       "       type_appoint work_schedule nsftp_ind acces_sep_ind  \n",
       "count         99993         99998    100000          4472  \n",
       "unique           14             6         2            13  \n",
       "top              38             F         1            AD  \n",
       "freq          75549         88081     83917          3677  "
      ]
     },
     "execution_count": 33,
     "metadata": {},
     "output_type": "execute_result"
    }
   ],
   "source": [
    "emp_comb.describe()"
   ]
  },
  {
   "cell_type": "code",
   "execution_count": 34,
   "metadata": {
    "collapsed": false
   },
   "outputs": [
    {
     "data": {
      "text/html": [
       "\n",
       "          <script src=\"/static/components/requirejs/require.js\"></script>\n",
       "          <script>\n",
       "            requirejs.config({\n",
       "              paths: {\n",
       "                base: '/static/base',\n",
       "              },\n",
       "            });\n",
       "          </script>\n",
       "          "
      ],
      "text/plain": [
       "<IPython.core.display.HTML object>"
      ]
     },
     "metadata": {},
     "output_type": "display_data"
    }
   ],
   "source": [
    "import seaborn as sns"
   ]
  },
  {
   "cell_type": "code",
   "execution_count": 54,
   "metadata": {
    "collapsed": false
   },
   "outputs": [
    {
     "data": {
      "text/html": [
       "\n",
       "          <script src=\"/static/components/requirejs/require.js\"></script>\n",
       "          <script>\n",
       "            requirejs.config({\n",
       "              paths: {\n",
       "                base: '/static/base',\n",
       "              },\n",
       "            });\n",
       "          </script>\n",
       "          "
      ],
      "text/plain": [
       "<IPython.core.display.HTML object>"
      ]
     },
     "metadata": {},
     "output_type": "display_data"
    }
   ],
   "source": [
    "data_dummies = pd.get_dummies(emp_comb, columns =['age', 'education_level', 'occupation_cat', 'type_appoint', 'work_schedule', 'acces_sep_ind'])"
   ]
  },
  {
   "cell_type": "code",
   "execution_count": 50,
   "metadata": {
    "collapsed": false
   },
   "outputs": [
    {
     "data": {
      "text/html": [
       "\n",
       "          <script src=\"/static/components/requirejs/require.js\"></script>\n",
       "          <script>\n",
       "            requirejs.config({\n",
       "              paths: {\n",
       "                base: '/static/base',\n",
       "              },\n",
       "            });\n",
       "          </script>\n",
       "          "
      ],
      "text/plain": [
       "<IPython.core.display.HTML object>"
      ]
     },
     "metadata": {},
     "output_type": "display_data"
    },
    {
     "data": {
      "text/html": [
       "<div>\n",
       "<table border=\"1\" class=\"dataframe\">\n",
       "  <thead>\n",
       "    <tr style=\"text-align: right;\">\n",
       "      <th></th>\n",
       "      <th>emp_id</th>\n",
       "      <th>file_dt</th>\n",
       "      <th>agency</th>\n",
       "      <th>duty_station</th>\n",
       "      <th>los</th>\n",
       "      <th>occupation</th>\n",
       "      <th>superv_status</th>\n",
       "      <th>nsftp_ind</th>\n",
       "      <th>age_15-19</th>\n",
       "      <th>age_20-24</th>\n",
       "      <th>...</th>\n",
       "      <th>acces_sep_ind_SA</th>\n",
       "      <th>acces_sep_ind_SC</th>\n",
       "      <th>acces_sep_ind_SD</th>\n",
       "      <th>acces_sep_ind_SE</th>\n",
       "      <th>acces_sep_ind_SF</th>\n",
       "      <th>acces_sep_ind_SG</th>\n",
       "      <th>acces_sep_ind_SH</th>\n",
       "      <th>acces_sep_ind_SJ</th>\n",
       "      <th>acces_sep_ind_SK</th>\n",
       "      <th>acces_sep_ind_SL</th>\n",
       "    </tr>\n",
       "  </thead>\n",
       "  <tbody>\n",
       "    <tr>\n",
       "      <th>0</th>\n",
       "      <td>010089894</td>\n",
       "      <td>2005-09-30</td>\n",
       "      <td>LT00</td>\n",
       "      <td>110010001</td>\n",
       "      <td>5-9</td>\n",
       "      <td>None</td>\n",
       "      <td>8</td>\n",
       "      <td>1</td>\n",
       "      <td>0</td>\n",
       "      <td>1</td>\n",
       "      <td>...</td>\n",
       "      <td>0</td>\n",
       "      <td>1</td>\n",
       "      <td>0</td>\n",
       "      <td>0</td>\n",
       "      <td>0</td>\n",
       "      <td>0</td>\n",
       "      <td>0</td>\n",
       "      <td>0</td>\n",
       "      <td>0</td>\n",
       "      <td>0</td>\n",
       "    </tr>\n",
       "    <tr>\n",
       "      <th>1</th>\n",
       "      <td>004965299</td>\n",
       "      <td>2003-09-30</td>\n",
       "      <td>HE37</td>\n",
       "      <td>462800023</td>\n",
       "      <td>1-2</td>\n",
       "      <td>None</td>\n",
       "      <td>8</td>\n",
       "      <td>2</td>\n",
       "      <td>0</td>\n",
       "      <td>1</td>\n",
       "      <td>...</td>\n",
       "      <td>0</td>\n",
       "      <td>0</td>\n",
       "      <td>0</td>\n",
       "      <td>0</td>\n",
       "      <td>0</td>\n",
       "      <td>0</td>\n",
       "      <td>0</td>\n",
       "      <td>0</td>\n",
       "      <td>0</td>\n",
       "      <td>0</td>\n",
       "    </tr>\n",
       "    <tr>\n",
       "      <th>2</th>\n",
       "      <td>009948076</td>\n",
       "      <td>2003-09-30</td>\n",
       "      <td>LT00</td>\n",
       "      <td>*********</td>\n",
       "      <td>UNSP</td>\n",
       "      <td>None</td>\n",
       "      <td>None</td>\n",
       "      <td>2</td>\n",
       "      <td>0</td>\n",
       "      <td>0</td>\n",
       "      <td>...</td>\n",
       "      <td>0</td>\n",
       "      <td>0</td>\n",
       "      <td>0</td>\n",
       "      <td>0</td>\n",
       "      <td>0</td>\n",
       "      <td>0</td>\n",
       "      <td>0</td>\n",
       "      <td>0</td>\n",
       "      <td>0</td>\n",
       "      <td>0</td>\n",
       "    </tr>\n",
       "    <tr>\n",
       "      <th>3</th>\n",
       "      <td>001294448</td>\n",
       "      <td>2009-06-30</td>\n",
       "      <td>HSBD</td>\n",
       "      <td>#########</td>\n",
       "      <td>25-29</td>\n",
       "      <td>None</td>\n",
       "      <td>8</td>\n",
       "      <td>1</td>\n",
       "      <td>0</td>\n",
       "      <td>0</td>\n",
       "      <td>...</td>\n",
       "      <td>0</td>\n",
       "      <td>0</td>\n",
       "      <td>0</td>\n",
       "      <td>0</td>\n",
       "      <td>0</td>\n",
       "      <td>0</td>\n",
       "      <td>0</td>\n",
       "      <td>0</td>\n",
       "      <td>0</td>\n",
       "      <td>0</td>\n",
       "    </tr>\n",
       "    <tr>\n",
       "      <th>4</th>\n",
       "      <td>001981593</td>\n",
       "      <td>2002-06-30</td>\n",
       "      <td>ARX6</td>\n",
       "      <td>*********</td>\n",
       "      <td>UNSP</td>\n",
       "      <td>None</td>\n",
       "      <td>8</td>\n",
       "      <td>2</td>\n",
       "      <td>0</td>\n",
       "      <td>0</td>\n",
       "      <td>...</td>\n",
       "      <td>0</td>\n",
       "      <td>0</td>\n",
       "      <td>0</td>\n",
       "      <td>0</td>\n",
       "      <td>0</td>\n",
       "      <td>0</td>\n",
       "      <td>0</td>\n",
       "      <td>0</td>\n",
       "      <td>0</td>\n",
       "      <td>0</td>\n",
       "    </tr>\n",
       "  </tbody>\n",
       "</table>\n",
       "<p>5 rows × 279 columns</p>\n",
       "</div>"
      ],
      "text/plain": [
       "      emp_id     file_dt agency duty_station    los occupation superv_status  \\\n",
       "0  010089894  2005-09-30   LT00    110010001    5-9       None             8   \n",
       "1  004965299  2003-09-30   HE37    462800023    1-2       None             8   \n",
       "2  009948076  2003-09-30   LT00    *********   UNSP       None          None   \n",
       "3  001294448  2009-06-30   HSBD    #########  25-29       None             8   \n",
       "4  001981593  2002-06-30   ARX6    *********   UNSP       None             8   \n",
       "\n",
       "  nsftp_ind  age_15-19  age_20-24        ...         acces_sep_ind_SA  \\\n",
       "0         1          0          1        ...                        0   \n",
       "1         2          0          1        ...                        0   \n",
       "2         2          0          0        ...                        0   \n",
       "3         1          0          0        ...                        0   \n",
       "4         2          0          0        ...                        0   \n",
       "\n",
       "   acces_sep_ind_SC  acces_sep_ind_SD  acces_sep_ind_SE  acces_sep_ind_SF  \\\n",
       "0                 1                 0                 0                 0   \n",
       "1                 0                 0                 0                 0   \n",
       "2                 0                 0                 0                 0   \n",
       "3                 0                 0                 0                 0   \n",
       "4                 0                 0                 0                 0   \n",
       "\n",
       "   acces_sep_ind_SG  acces_sep_ind_SH  acces_sep_ind_SJ  acces_sep_ind_SK  \\\n",
       "0                 0                 0                 0                 0   \n",
       "1                 0                 0                 0                 0   \n",
       "2                 0                 0                 0                 0   \n",
       "3                 0                 0                 0                 0   \n",
       "4                 0                 0                 0                 0   \n",
       "\n",
       "   acces_sep_ind_SL  \n",
       "0                 0  \n",
       "1                 0  \n",
       "2                 0  \n",
       "3                 0  \n",
       "4                 0  \n",
       "\n",
       "[5 rows x 279 columns]"
      ]
     },
     "execution_count": 50,
     "metadata": {},
     "output_type": "execute_result"
    }
   ],
   "source": [
    "data_dummies.head()"
   ]
  },
  {
   "cell_type": "code",
   "execution_count": 55,
   "metadata": {
    "collapsed": false
   },
   "outputs": [
    {
     "data": {
      "text/html": [
       "\n",
       "          <script src=\"/static/components/requirejs/require.js\"></script>\n",
       "          <script>\n",
       "            requirejs.config({\n",
       "              paths: {\n",
       "                base: '/static/base',\n",
       "              },\n",
       "            });\n",
       "          </script>\n",
       "          "
      ],
      "text/plain": [
       "<IPython.core.display.HTML object>"
      ]
     },
     "metadata": {},
     "output_type": "display_data"
    },
    {
     "data": {
      "text/plain": [
       "Index([u'emp_id', u'file_dt', u'agency', u'duty_station', u'pay_plan',\n",
       "       u'grade', u'los', u'occupation', u'superv_status', u'nsftp_ind',\n",
       "       u'age_15-19', u'age_20-24', u'age_25-29', u'age_30-34', u'age_35-39',\n",
       "       u'age_40-44', u'age_45-49', u'age_50-54', u'age_55-59', u'age_60-64',\n",
       "       u'age_65-69', u'age_70-74', u'age_75+', u'age_UNSP',\n",
       "       u'education_level_01', u'education_level_02', u'education_level_03',\n",
       "       u'education_level_04', u'education_level_05', u'education_level_06',\n",
       "       u'education_level_07', u'education_level_08', u'education_level_09',\n",
       "       u'education_level_10', u'education_level_11', u'education_level_12',\n",
       "       u'education_level_13', u'education_level_14', u'education_level_15',\n",
       "       u'education_level_16', u'education_level_17', u'education_level_18',\n",
       "       u'education_level_19', u'education_level_20', u'education_level_21',\n",
       "       u'education_level_22', u'occupation_cat_A', u'occupation_cat_B',\n",
       "       u'occupation_cat_C', u'occupation_cat_O', u'occupation_cat_P',\n",
       "       u'occupation_cat_T', u'type_appoint_10', u'type_appoint_15',\n",
       "       u'type_appoint_20', u'type_appoint_30', u'type_appoint_32',\n",
       "       u'type_appoint_35', u'type_appoint_38', u'type_appoint_40',\n",
       "       u'type_appoint_42', u'type_appoint_44', u'type_appoint_45',\n",
       "       u'type_appoint_46', u'type_appoint_48', u'type_appoint_50',\n",
       "       u'work_schedule_F', u'work_schedule_G', u'work_schedule_I',\n",
       "       u'work_schedule_J', u'work_schedule_P', u'work_schedule_Q',\n",
       "       u'acces_sep_ind_AA', u'acces_sep_ind_AC', u'acces_sep_ind_AD',\n",
       "       u'acces_sep_ind_SA', u'acces_sep_ind_SC', u'acces_sep_ind_SD',\n",
       "       u'acces_sep_ind_SE', u'acces_sep_ind_SF', u'acces_sep_ind_SG',\n",
       "       u'acces_sep_ind_SH', u'acces_sep_ind_SJ', u'acces_sep_ind_SK',\n",
       "       u'acces_sep_ind_SL'],\n",
       "      dtype='object')"
      ]
     },
     "execution_count": 55,
     "metadata": {},
     "output_type": "execute_result"
    }
   ],
   "source": [
    "data_dummies.columns"
   ]
  },
  {
   "cell_type": "markdown",
   "metadata": {},
   "source": []
  }
 ],
 "metadata": {
  "kernelspec": {
   "display_name": "Python 2",
   "language": "python",
   "name": "python2"
  },
  "language_info": {
   "codemirror_mode": {
    "name": "ipython",
    "version": 2
   },
   "file_extension": ".py",
   "mimetype": "text/x-python",
   "name": "python",
   "nbconvert_exporter": "python",
   "pygments_lexer": "ipython2",
   "version": "2.7.12"
  }
 },
 "nbformat": 4,
 "nbformat_minor": 2
}
