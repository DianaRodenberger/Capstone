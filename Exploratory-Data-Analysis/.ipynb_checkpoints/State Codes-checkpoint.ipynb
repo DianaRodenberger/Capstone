{
 "cells": [
  {
   "cell_type": "code",
   "execution_count": 4,
   "metadata": {
    "collapsed": true
   },
   "outputs": [],
   "source": [
    "import pandas as pd"
   ]
  },
  {
   "cell_type": "code",
   "execution_count": null,
   "metadata": {
    "collapsed": true
   },
   "outputs": [],
   "source": [
    "# original text from source code of OPM: https://apps.opm.gov/dsfls/s_index2.cfm"
   ]
  },
  {
   "cell_type": "code",
   "execution_count": 13,
   "metadata": {
    "collapsed": false
   },
   "outputs": [],
   "source": [
    "string = '<OPTION VALUE=\"01\" >ALABAMA (01) <OPTION VALUE=\"02\" >ALASKA (02) <OPTION VALUE=\"04\" >ARIZONA (04) <OPTION VALUE=\"05\" >ARKANSAS (05) <OPTION VALUE=\"06\" >CALIFORNIA (06) <OPTION VALUE=\"08\" >COLORADO (08) <OPTION VALUE=\"09\" >CONNECTICUT (09) <OPTION VALUE=\"10\" >DELAWARE (10) <OPTION VALUE=\"11\" >DISTRICT OF COLUMBIA (11) <OPTION VALUE=\"12\" >FLORIDA (12) <OPTION VALUE=\"13\" >GEORGIA (13) <OPTION VALUE=\"15\" >HAWAII (15) <OPTION VALUE=\"16\" >IDAHO (16) <OPTION VALUE=\"17\" >ILLINOIS (17) <OPTION VALUE=\"18\" >INDIANA (18) <OPTION VALUE=\"19\" >IOWA (19) <OPTION VALUE=\"20\" >KANSAS (20) <OPTION VALUE=\"21\" >KENTUCKY (21) <OPTION VALUE=\"22\" >LOUISIANA (22) <OPTION VALUE=\"23\" >MAINE (23) <OPTION VALUE=\"24\" >MARYLAND (24) <OPTION VALUE=\"25\" >MASSACHUSETTS (25) <OPTION VALUE=\"26\" >MICHIGAN (26) <OPTION VALUE=\"27\" >MINNESOTA (27) <OPTION VALUE=\"28\" >MISSISSIPPI (28) <OPTION VALUE=\"29\" >MISSOURI (29) <OPTION VALUE=\"30\" >MONTANA (30) <OPTION VALUE=\"31\" >NEBRASKA (31) <OPTION VALUE=\"32\" >NEVADA (32) <OPTION VALUE=\"33\" >NEW HAMPSHIRE (33) <OPTION VALUE=\"34\" >NEW JERSEY (34) <OPTION VALUE=\"35\" >NEW MEXICO (35) <OPTION VALUE=\"36\" >NEW YORK (36) <OPTION VALUE=\"37\" >NORTH CAROLINA (37) <OPTION VALUE=\"38\" >NORTH DAKOTA (38) <OPTION VALUE=\"39\" >OHIO (39) <OPTION VALUE=\"40\" >OKLAHOMA (40) <OPTION VALUE=\"41\" >OREGON (41) <OPTION VALUE=\"42\" >PENNSYLVANIA (42) <OPTION VALUE=\"44\" >RHODE ISLAND (44) <OPTION VALUE=\"45\" >SOUTH CAROLINA (45) <OPTION VALUE=\"46\" >SOUTH DAKOTA (46) <OPTION VALUE=\"47\" >TENNESSEE (47) <OPTION VALUE=\"48\" >TEXAS (48) <OPTION VALUE=\"49\" >UTAH (49) <OPTION VALUE=\"50\" >VERMONT (50) <OPTION VALUE=\"51\" >VIRGINIA (51) <OPTION VALUE=\"53\" >WASHINGTON (53) <OPTION VALUE=\"54\" >WEST VIRGINIA (54) <OPTION VALUE=\"55\" >WISCONSIN (55) <OPTION VALUE=\"56\" >WYOMING (56) </SELECT>'\n",
    "\n",
    "string = string.split(\"=\")\n",
    "state_list = [x.replace(\">\", \"\").replace('\"',\"\").split()[0:2] for x in string][1:]\n",
    "pd.DataFrame(state_list).to_csv(\"state_codes.csv\", header=False, index=False)"
   ]
  },
  {
   "cell_type": "code",
   "execution_count": 12,
   "metadata": {
    "collapsed": false
   },
   "outputs": [
    {
     "data": {
      "text/plain": [
       "[['01', 'ALABAMA'],\n",
       " ['02', 'ALASKA'],\n",
       " ['04', 'ARIZONA'],\n",
       " ['05', 'ARKANSAS'],\n",
       " ['06', 'CALIFORNIA'],\n",
       " ['08', 'COLORADO'],\n",
       " ['09', 'CONNECTICUT'],\n",
       " ['10', 'DELAWARE'],\n",
       " ['11', 'DISTRICT'],\n",
       " ['12', 'FLORIDA'],\n",
       " ['13', 'GEORGIA'],\n",
       " ['15', 'HAWAII'],\n",
       " ['16', 'IDAHO'],\n",
       " ['17', 'ILLINOIS'],\n",
       " ['18', 'INDIANA'],\n",
       " ['19', 'IOWA'],\n",
       " ['20', 'KANSAS'],\n",
       " ['21', 'KENTUCKY'],\n",
       " ['22', 'LOUISIANA'],\n",
       " ['23', 'MAINE'],\n",
       " ['24', 'MARYLAND'],\n",
       " ['25', 'MASSACHUSETTS'],\n",
       " ['26', 'MICHIGAN'],\n",
       " ['27', 'MINNESOTA'],\n",
       " ['28', 'MISSISSIPPI'],\n",
       " ['29', 'MISSOURI'],\n",
       " ['30', 'MONTANA'],\n",
       " ['31', 'NEBRASKA'],\n",
       " ['32', 'NEVADA'],\n",
       " ['33', 'NEW'],\n",
       " ['34', 'NEW'],\n",
       " ['35', 'NEW'],\n",
       " ['36', 'NEW'],\n",
       " ['37', 'NORTH'],\n",
       " ['38', 'NORTH'],\n",
       " ['39', 'OHIO'],\n",
       " ['40', 'OKLAHOMA'],\n",
       " ['41', 'OREGON'],\n",
       " ['42', 'PENNSYLVANIA'],\n",
       " ['44', 'RHODE'],\n",
       " ['45', 'SOUTH'],\n",
       " ['46', 'SOUTH'],\n",
       " ['47', 'TENNESSEE'],\n",
       " ['48', 'TEXAS'],\n",
       " ['49', 'UTAH'],\n",
       " ['50', 'VERMONT'],\n",
       " ['51', 'VIRGINIA'],\n",
       " ['53', 'WASHINGTON'],\n",
       " ['54', 'WEST'],\n",
       " ['55', 'WISCONSIN'],\n",
       " ['56', 'WYOMING']]"
      ]
     },
     "execution_count": 12,
     "metadata": {},
     "output_type": "execute_result"
    }
   ],
   "source": [
    "state_list"
   ]
  }
 ],
 "metadata": {
  "kernelspec": {
   "display_name": "Python 3",
   "language": "python",
   "name": "python3"
  },
  "language_info": {
   "codemirror_mode": {
    "name": "ipython",
    "version": 3
   },
   "file_extension": ".py",
   "mimetype": "text/x-python",
   "name": "python",
   "nbconvert_exporter": "python",
   "pygments_lexer": "ipython3",
   "version": "3.6.0"
  }
 },
 "nbformat": 4,
 "nbformat_minor": 2
}
