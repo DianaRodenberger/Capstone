{
 "cells": [
  {
   "cell_type": "markdown",
   "metadata": {},
   "source": []
  },
  {
   "cell_type": "markdown",
   "metadata": {},
   "source": [
    "## Query bigquery"
   ]
  },
  {
   "cell_type": "code",
   "execution_count": 6,
   "metadata": {
    "collapsed": false
   },
   "outputs": [
    {
     "data": {
      "text/html": [
       "\n",
       "          <script src=\"/static/components/requirejs/require.js\"></script>\n",
       "          <script>\n",
       "            requirejs.config({\n",
       "              paths: {\n",
       "                base: '/static/base',\n",
       "              },\n",
       "            });\n",
       "          </script>\n",
       "          "
      ],
      "text/plain": [
       "<IPython.core.display.HTML object>"
      ]
     },
     "metadata": {},
     "output_type": "display_data"
    },
    {
     "data": {
      "text/html": [
       "\n",
       "    <div class=\"bqtv\" id=\"2_150903646723\"><table><tr><th>year_eff_dt</th><th>emp_count</th></tr><tr><td>2014</td><td>215372</td></tr><tr><td>2013</td><td>382982</td></tr><tr><td>2012</td><td>451416</td></tr><tr><td>2011</td><td>492847</td></tr><tr><td>2010</td><td>541802</td></tr><tr><td>2009</td><td>528293</td></tr><tr><td>2008</td><td>557924</td></tr><tr><td>2007</td><td>516972</td></tr><tr><td>2006</td><td>481285</td></tr><tr><td>2005</td><td>488732</td></tr><tr><td>2004</td><td>485110</td></tr><tr><td>2003</td><td>788030</td></tr><tr><td>2002</td><td>540275</td></tr><tr><td>2001</td><td>483725</td></tr><tr><td>2000</td><td>481588</td></tr><tr><td>1999</td><td>4968</td></tr><tr><td>1998</td><td>328</td></tr></table></div>\n",
       "    <br />(rows: 17, time: 1.7s,   141MB processed, job: job_BcdqtLSnXEYxr2lkecdxKZXJsS7b)<br />\n",
       "    <script>\n",
       "\n",
       "      require.config({\n",
       "        paths: {\n",
       "          d3: '//cdnjs.cloudflare.com/ajax/libs/d3/3.4.13/d3',\n",
       "          plotly: 'https://cdn.plot.ly/plotly-1.5.1.min.js?noext',\n",
       "          jquery: '//ajax.googleapis.com/ajax/libs/jquery/2.0.0/jquery.min'\n",
       "        },\n",
       "        map: {\n",
       "          '*': {\n",
       "            datalab: 'nbextensions/gcpdatalab'\n",
       "          }\n",
       "        },\n",
       "        shim: {\n",
       "          plotly: {\n",
       "            deps: ['d3', 'jquery'],\n",
       "            exports: 'plotly'\n",
       "          }\n",
       "        }\n",
       "      });\n",
       "\n",
       "      require(['datalab/charting', 'datalab/element!2_150903646723', 'base/js/events',\n",
       "          'datalab/style!/nbextensions/gcpdatalab/charting.css'],\n",
       "        function(charts, dom, events) {\n",
       "          charts.render('gcharts', dom, events, 'table', [], {\"rows\": [{\"c\": [{\"v\": 2014}, {\"v\": 215372}]}, {\"c\": [{\"v\": 2013}, {\"v\": 382982}]}, {\"c\": [{\"v\": 2012}, {\"v\": 451416}]}, {\"c\": [{\"v\": 2011}, {\"v\": 492847}]}, {\"c\": [{\"v\": 2010}, {\"v\": 541802}]}, {\"c\": [{\"v\": 2009}, {\"v\": 528293}]}, {\"c\": [{\"v\": 2008}, {\"v\": 557924}]}, {\"c\": [{\"v\": 2007}, {\"v\": 516972}]}, {\"c\": [{\"v\": 2006}, {\"v\": 481285}]}, {\"c\": [{\"v\": 2005}, {\"v\": 488732}]}, {\"c\": [{\"v\": 2004}, {\"v\": 485110}]}, {\"c\": [{\"v\": 2003}, {\"v\": 788030}]}, {\"c\": [{\"v\": 2002}, {\"v\": 540275}]}, {\"c\": [{\"v\": 2001}, {\"v\": 483725}]}, {\"c\": [{\"v\": 2000}, {\"v\": 481588}]}, {\"c\": [{\"v\": 1999}, {\"v\": 4968}]}, {\"c\": [{\"v\": 1998}, {\"v\": 328}]}], \"cols\": [{\"type\": \"number\", \"id\": \"year_eff_dt\", \"label\": \"year_eff_dt\"}, {\"type\": \"number\", \"id\": \"emp_count\", \"label\": \"emp_count\"}]},\n",
       "            {\n",
       "              pageSize: 25,\n",
       "              cssClassNames:  {\n",
       "                tableRow: 'gchart-table-row',\n",
       "                headerRow: 'gchart-table-headerrow',\n",
       "                oddTableRow: 'gchart-table-oddrow',\n",
       "                selectedTableRow: 'gchart-table-selectedrow',\n",
       "                hoverTableRow: 'gchart-table-hoverrow',\n",
       "                tableCell: 'gchart-table-cell',\n",
       "                headerCell: 'gchart-table-headercell',\n",
       "                rowNumberCell: 'gchart-table-rownumcell'\n",
       "              }\n",
       "            },\n",
       "            {source_index: 1, fields: 'year_eff_dt,emp_count'},\n",
       "            0,\n",
       "            17);\n",
       "        }\n",
       "      );\n",
       "    </script>\n",
       "  "
      ],
      "text/plain": [
       "QueryResultsTable job_BcdqtLSnXEYxr2lkecdxKZXJsS7b"
      ]
     },
     "execution_count": 6,
     "metadata": {},
     "output_type": "execute_result"
    }
   ],
   "source": [
    "%%bq query\n",
    "#%%bq query --name emp_count_year\n",
    "#Count num employees per year\n",
    "SELECT year_eff_dt, COUNT(emp_id) AS emp_count\n",
    "FROM `w210-fedwork.processed_data.dynamic`\n",
    "GROUP BY year_eff_dt\n",
    "ORDER BY year_eff_dt DESC\n"
   ]
  },
  {
   "cell_type": "markdown",
   "metadata": {},
   "source": [
    "#### There are not many obs in 1999 and 1998, we should drop these years"
   ]
  },
  {
   "cell_type": "code",
   "execution_count": null,
   "metadata": {
    "collapsed": true
   },
   "outputs": [],
   "source": [
    "%%bq query --name emp_count_year\n",
    "#Count num employees per year\n",
    "SELECT year_eff_dt, COUNT(emp_id) AS emp_count\n",
    "FROM `w210-fedwork.processed_data.dynamic`\n",
    "GROUP BY year_eff_dt\n",
    "ORDER BY year_eff_dt DESC"
   ]
  },
  {
   "cell_type": "markdown",
   "metadata": {},
   "source": [
    "#### Number of records per year"
   ]
  },
  {
   "cell_type": "code",
   "execution_count": 4,
   "metadata": {
    "collapsed": false
   },
   "outputs": [
    {
     "data": {
      "text/html": [
       "\n",
       "          <script src=\"/static/components/requirejs/require.js\"></script>\n",
       "          <script>\n",
       "            requirejs.config({\n",
       "              paths: {\n",
       "                base: '/static/base',\n",
       "              },\n",
       "            });\n",
       "          </script>\n",
       "          "
      ],
      "text/plain": [
       "<IPython.core.display.HTML object>"
      ]
     },
     "metadata": {},
     "output_type": "display_data"
    },
    {
     "data": {
      "text/html": [
       "\n",
       "    <div class=\"bqgc-container\">\n",
       "      \n",
       "      <div class=\"bqgc \" id=\"1_150903639460\">\n",
       "      </div>\n",
       "    </div>\n",
       "    <script>\n",
       "\n",
       "      require.config({\n",
       "        paths: {\n",
       "          d3: '//cdnjs.cloudflare.com/ajax/libs/d3/3.4.13/d3',\n",
       "          plotly: 'https://cdn.plot.ly/plotly-1.5.1.min.js?noext',\n",
       "          jquery: '//ajax.googleapis.com/ajax/libs/jquery/2.0.0/jquery.min'\n",
       "        },\n",
       "        map: {\n",
       "          '*': {\n",
       "            datalab: 'nbextensions/gcpdatalab'\n",
       "          }\n",
       "        },\n",
       "        shim: {\n",
       "          plotly: {\n",
       "            deps: ['d3', 'jquery'],\n",
       "            exports: 'plotly'\n",
       "          }\n",
       "        }\n",
       "      });\n",
       "\n",
       "      require(['datalab/charting',\n",
       "               'datalab/element!1_150903639460',\n",
       "               'base/js/events',\n",
       "               'datalab/style!/nbextensions/gcpdatalab/charting.css'\n",
       "              ],\n",
       "        function(charts, dom, events) {\n",
       "          charts.render(\n",
       "              'gcharts',\n",
       "              dom,\n",
       "              events,\n",
       "              'columns',\n",
       "              [],\n",
       "              {\"rows\": [{\"c\": [{\"v\": 2014}, {\"v\": 215372}]}, {\"c\": [{\"v\": 2013}, {\"v\": 382982}]}, {\"c\": [{\"v\": 2012}, {\"v\": 451416}]}, {\"c\": [{\"v\": 2011}, {\"v\": 492847}]}, {\"c\": [{\"v\": 2010}, {\"v\": 541802}]}, {\"c\": [{\"v\": 2009}, {\"v\": 528293}]}, {\"c\": [{\"v\": 2008}, {\"v\": 557924}]}, {\"c\": [{\"v\": 2007}, {\"v\": 516972}]}, {\"c\": [{\"v\": 2006}, {\"v\": 481285}]}, {\"c\": [{\"v\": 2005}, {\"v\": 488732}]}, {\"c\": [{\"v\": 2004}, {\"v\": 485110}]}, {\"c\": [{\"v\": 2003}, {\"v\": 788030}]}, {\"c\": [{\"v\": 2002}, {\"v\": 540275}]}, {\"c\": [{\"v\": 2001}, {\"v\": 483725}]}, {\"c\": [{\"v\": 2000}, {\"v\": 481588}]}, {\"c\": [{\"v\": 1999}, {\"v\": 4968}]}, {\"c\": [{\"v\": 1998}, {\"v\": 328}]}], \"cols\": [{\"type\": \"number\", \"id\": \"year_eff_dt\", \"label\": \"year_eff_dt\"}, {\"type\": \"number\", \"id\": \"emp_count\", \"label\": \"emp_count\"}]},\n",
       "              {},\n",
       "              {\"fields\": \"year_eff_dt,emp_count\", \"source_index\": 0, \"name\": 0},\n",
       "              0,\n",
       "              17);\n",
       "          }\n",
       "        );\n",
       "    </script>\n",
       "  "
      ],
      "text/plain": [
       "<IPython.core.display.HTML object>"
      ]
     },
     "execution_count": 4,
     "metadata": {},
     "output_type": "execute_result"
    },
    {
     "data": {
      "image/png": "[encoded data removed]"
     },
     "metadata": {
      "source_id": "1_150903639460"
     },
     "output_type": "display_data"
    }
   ],
   "source": [
    "%chart columns --data emp_count_year --fields year_eff_dt,emp_count"
   ]
  },
  {
   "cell_type": "code",
   "execution_count": 20,
   "metadata": {
    "collapsed": false
   },
   "outputs": [
    {
     "data": {
      "text/html": [
       "\n",
       "          <script src=\"/static/components/requirejs/require.js\"></script>\n",
       "          <script>\n",
       "            requirejs.config({\n",
       "              paths: {\n",
       "                base: '/static/base',\n",
       "              },\n",
       "            });\n",
       "          </script>\n",
       "          "
      ],
      "text/plain": [
       "<IPython.core.display.HTML object>"
      ]
     },
     "metadata": {},
     "output_type": "display_data"
    }
   ],
   "source": [
    "%%bq query --name emp_count_quarter\n",
    "#Count num employees per year, quarter\n",
    "SELECT CONCAT(cast(year_eff_dt as string), \"-\", cast(quarter_eff_dt as string)) as year_quarter, COUNT(emp_id) AS emp_count\n",
    "FROM `w210-fedwork.processed_data.dynamic`\n",
    "GROUP BY year_quarter\n",
    "ORDER BY year_quarter ASC"
   ]
  },
  {
   "cell_type": "markdown",
   "metadata": {},
   "source": [
    "#### Number of records per quarter\n",
    "\n",
    "Q3 and Q4 seem to have the largest number of records. Q4 is the lowest followed by Q3 "
   ]
  },
  {
   "cell_type": "code",
   "execution_count": 21,
   "metadata": {
    "collapsed": false
   },
   "outputs": [
    {
     "data": {
      "text/html": [
       "\n",
       "          <script src=\"/static/components/requirejs/require.js\"></script>\n",
       "          <script>\n",
       "            requirejs.config({\n",
       "              paths: {\n",
       "                base: '/static/base',\n",
       "              },\n",
       "            });\n",
       "          </script>\n",
       "          "
      ],
      "text/plain": [
       "<IPython.core.display.HTML object>"
      ]
     },
     "metadata": {},
     "output_type": "display_data"
    },
    {
     "data": {
      "text/html": [
       "\n",
       "    <div class=\"bqgc-container\">\n",
       "      \n",
       "      <div class=\"bqgc \" id=\"10_150903699524\">\n",
       "      </div>\n",
       "    </div>\n",
       "    <script>\n",
       "\n",
       "      require.config({\n",
       "        paths: {\n",
       "          d3: '//cdnjs.cloudflare.com/ajax/libs/d3/3.4.13/d3',\n",
       "          plotly: 'https://cdn.plot.ly/plotly-1.5.1.min.js?noext',\n",
       "          jquery: '//ajax.googleapis.com/ajax/libs/jquery/2.0.0/jquery.min'\n",
       "        },\n",
       "        map: {\n",
       "          '*': {\n",
       "            datalab: 'nbextensions/gcpdatalab'\n",
       "          }\n",
       "        },\n",
       "        shim: {\n",
       "          plotly: {\n",
       "            deps: ['d3', 'jquery'],\n",
       "            exports: 'plotly'\n",
       "          }\n",
       "        }\n",
       "      });\n",
       "\n",
       "      require(['datalab/charting',\n",
       "               'datalab/element!10_150903699524',\n",
       "               'base/js/events',\n",
       "               'datalab/style!/nbextensions/gcpdatalab/charting.css'\n",
       "              ],\n",
       "        function(charts, dom, events) {\n",
       "          charts.render(\n",
       "              'gcharts',\n",
       "              dom,\n",
       "              events,\n",
       "              'columns',\n",
       "              [],\n",
       "              {\"rows\": [{\"c\": [{\"v\": \"1998-1\"}, {\"v\": 2}]}, {\"c\": [{\"v\": \"1998-2\"}, {\"v\": 49}]}, {\"c\": [{\"v\": \"1998-3\"}, {\"v\": 128}]}, {\"c\": [{\"v\": \"1998-4\"}, {\"v\": 149}]}, {\"c\": [{\"v\": \"1999-1\"}, {\"v\": 311}]}, {\"c\": [{\"v\": \"1999-2\"}, {\"v\": 859}]}, {\"c\": [{\"v\": \"1999-3\"}, {\"v\": 1612}]}, {\"c\": [{\"v\": \"1999-4\"}, {\"v\": 2186}]}, {\"c\": [{\"v\": \"2000-1\"}, {\"v\": 98830}]}, {\"c\": [{\"v\": \"2000-2\"}, {\"v\": 137414}]}, {\"c\": [{\"v\": \"2000-3\"}, {\"v\": 153426}]}, {\"c\": [{\"v\": \"2000-4\"}, {\"v\": 91918}]}, {\"c\": [{\"v\": \"2001-1\"}, {\"v\": 99440}]}, {\"c\": [{\"v\": \"2001-2\"}, {\"v\": 144780}]}, {\"c\": [{\"v\": \"2001-3\"}, {\"v\": 148685}]}, {\"c\": [{\"v\": \"2001-4\"}, {\"v\": 90820}]}, {\"c\": [{\"v\": \"2002-1\"}, {\"v\": 99933}]}, {\"c\": [{\"v\": \"2002-2\"}, {\"v\": 148183}]}, {\"c\": [{\"v\": \"2002-3\"}, {\"v\": 171699}]}, {\"c\": [{\"v\": \"2002-4\"}, {\"v\": 120460}]}, {\"c\": [{\"v\": \"2003-1\"}, {\"v\": 422551}]}, {\"c\": [{\"v\": \"2003-2\"}, {\"v\": 141862}]}, {\"c\": [{\"v\": \"2003-3\"}, {\"v\": 132546}]}, {\"c\": [{\"v\": \"2003-4\"}, {\"v\": 91071}]}, {\"c\": [{\"v\": \"2004-1\"}, {\"v\": 97396}]}, {\"c\": [{\"v\": \"2004-2\"}, {\"v\": 143094}]}, {\"c\": [{\"v\": \"2004-3\"}, {\"v\": 141543}]}, {\"c\": [{\"v\": \"2004-4\"}, {\"v\": 103077}]}, {\"c\": [{\"v\": \"2005-1\"}, {\"v\": 108525}]}, {\"c\": [{\"v\": \"2005-2\"}, {\"v\": 142899}]}, {\"c\": [{\"v\": \"2005-3\"}, {\"v\": 136769}]}, {\"c\": [{\"v\": \"2005-4\"}, {\"v\": 100539}]}, {\"c\": [{\"v\": \"2006-1\"}, {\"v\": 106317}]}, {\"c\": [{\"v\": \"2006-2\"}, {\"v\": 144863}]}, {\"c\": [{\"v\": \"2006-3\"}, {\"v\": 136794}]}, {\"c\": [{\"v\": \"2006-4\"}, {\"v\": 93311}]}, {\"c\": [{\"v\": \"2007-1\"}, {\"v\": 108624}]}, {\"c\": [{\"v\": \"2007-2\"}, {\"v\": 159572}]}, {\"c\": [{\"v\": \"2007-3\"}, {\"v\": 148778}]}, {\"c\": [{\"v\": \"2007-4\"}, {\"v\": 99998}]}, {\"c\": [{\"v\": \"2008-1\"}, {\"v\": 132866}]}, {\"c\": [{\"v\": \"2008-2\"}, {\"v\": 158101}]}, {\"c\": [{\"v\": \"2008-3\"}, {\"v\": 166306}]}, {\"c\": [{\"v\": \"2008-4\"}, {\"v\": 100651}]}, {\"c\": [{\"v\": \"2009-1\"}, {\"v\": 117810}]}, {\"c\": [{\"v\": \"2009-2\"}, {\"v\": 151570}]}, {\"c\": [{\"v\": \"2009-3\"}, {\"v\": 159212}]}, {\"c\": [{\"v\": \"2009-4\"}, {\"v\": 99701}]}, {\"c\": [{\"v\": \"2010-1\"}, {\"v\": 113526}]}, {\"c\": [{\"v\": \"2010-2\"}, {\"v\": 148755}]}, {\"c\": [{\"v\": \"2010-3\"}, {\"v\": 165415}]}, {\"c\": [{\"v\": \"2010-4\"}, {\"v\": 114106}]}, {\"c\": [{\"v\": \"2011-1\"}, {\"v\": 107992}]}, {\"c\": [{\"v\": \"2011-2\"}, {\"v\": 127971}]}, {\"c\": [{\"v\": \"2011-3\"}, {\"v\": 152416}]}, {\"c\": [{\"v\": \"2011-4\"}, {\"v\": 104468}]}, {\"c\": [{\"v\": \"2012-1\"}, {\"v\": 88184}]}, {\"c\": [{\"v\": \"2012-2\"}, {\"v\": 129398}]}, {\"c\": [{\"v\": \"2012-3\"}, {\"v\": 129210}]}, {\"c\": [{\"v\": \"2012-4\"}, {\"v\": 104624}]}, {\"c\": [{\"v\": \"2013-1\"}, {\"v\": 92007}]}, {\"c\": [{\"v\": \"2013-2\"}, {\"v\": 109459}]}, {\"c\": [{\"v\": \"2013-3\"}, {\"v\": 99417}]}, {\"c\": [{\"v\": \"2013-4\"}, {\"v\": 82099}]}, {\"c\": [{\"v\": \"2014-1\"}, {\"v\": 87421}]}, {\"c\": [{\"v\": \"2014-2\"}, {\"v\": 127951}]}], \"cols\": [{\"type\": \"string\", \"id\": \"year_quarter\", \"label\": \"year_quarter\"}, {\"type\": \"number\", \"id\": \"emp_count\", \"label\": \"emp_count\"}]},\n",
       "              {},\n",
       "              {\"fields\": \"year_quarter,emp_count\", \"source_index\": 1, \"name\": 1},\n",
       "              0,\n",
       "              66);\n",
       "          }\n",
       "        );\n",
       "    </script>\n",
       "  "
      ],
      "text/plain": [
       "<IPython.core.display.HTML object>"
      ]
     },
     "execution_count": 21,
     "metadata": {},
     "output_type": "execute_result"
    },
    {
     "data": {
      "image/png": "[encoded data removed]"
     },
     "metadata": {
      "source_id": "10_150903699524"
     },
     "output_type": "display_data"
    }
   ],
   "source": [
    "%chart columns --data emp_count_quarter --fields year_quarter,emp_count"
   ]
  },
  {
   "cell_type": "code",
   "execution_count": 22,
   "metadata": {
    "collapsed": false
   },
   "outputs": [
    {
     "data": {
      "text/html": [
       "\n",
       "          <script src=\"/static/components/requirejs/require.js\"></script>\n",
       "          <script>\n",
       "            requirejs.config({\n",
       "              paths: {\n",
       "                base: '/static/base',\n",
       "              },\n",
       "            });\n",
       "          </script>\n",
       "          "
      ],
      "text/plain": [
       "<IPython.core.display.HTML object>"
      ]
     },
     "metadata": {},
     "output_type": "display_data"
    }
   ],
   "source": [
    "%%bq query --name emp_count_quarter_fulltime\n",
    "#Count num employees per year, quarter\n",
    "SELECT CONCAT(cast(year_eff_dt as string), \"-\", cast(quarter_eff_dt as string)) as year_quarter, COUNT(emp_id) AS emp_count\n",
    "FROM `w210-fedwork.processed_data.dynamic`\n",
    "WHERE work_schedule='F'\n",
    "GROUP BY year_quarter\n",
    "ORDER BY year_quarter ASC"
   ]
  },
  {
   "cell_type": "markdown",
   "metadata": {},
   "source": [
    "#### Number of record per Quarter for Full Time employees\n",
    "\n",
    "The trend for Full-time employees is similar to the overall population"
   ]
  },
  {
   "cell_type": "code",
   "execution_count": 23,
   "metadata": {
    "collapsed": false
   },
   "outputs": [
    {
     "data": {
      "text/html": [
       "\n",
       "          <script src=\"/static/components/requirejs/require.js\"></script>\n",
       "          <script>\n",
       "            requirejs.config({\n",
       "              paths: {\n",
       "                base: '/static/base',\n",
       "              },\n",
       "            });\n",
       "          </script>\n",
       "          "
      ],
      "text/plain": [
       "<IPython.core.display.HTML object>"
      ]
     },
     "metadata": {},
     "output_type": "display_data"
    },
    {
     "data": {
      "text/html": [
       "\n",
       "    <div class=\"bqgc-container\">\n",
       "      \n",
       "      <div class=\"bqgc \" id=\"11_150903781497\">\n",
       "      </div>\n",
       "    </div>\n",
       "    <script>\n",
       "\n",
       "      require.config({\n",
       "        paths: {\n",
       "          d3: '//cdnjs.cloudflare.com/ajax/libs/d3/3.4.13/d3',\n",
       "          plotly: 'https://cdn.plot.ly/plotly-1.5.1.min.js?noext',\n",
       "          jquery: '//ajax.googleapis.com/ajax/libs/jquery/2.0.0/jquery.min'\n",
       "        },\n",
       "        map: {\n",
       "          '*': {\n",
       "            datalab: 'nbextensions/gcpdatalab'\n",
       "          }\n",
       "        },\n",
       "        shim: {\n",
       "          plotly: {\n",
       "            deps: ['d3', 'jquery'],\n",
       "            exports: 'plotly'\n",
       "          }\n",
       "        }\n",
       "      });\n",
       "\n",
       "      require(['datalab/charting',\n",
       "               'datalab/element!11_150903781497',\n",
       "               'base/js/events',\n",
       "               'datalab/style!/nbextensions/gcpdatalab/charting.css'\n",
       "              ],\n",
       "        function(charts, dom, events) {\n",
       "          charts.render(\n",
       "              'gcharts',\n",
       "              dom,\n",
       "              events,\n",
       "              'columns',\n",
       "              [],\n",
       "              {\"rows\": [{\"c\": [{\"v\": \"1998-1\"}, {\"v\": 2}]}, {\"c\": [{\"v\": \"1998-2\"}, {\"v\": 23}]}, {\"c\": [{\"v\": \"1998-3\"}, {\"v\": 68}]}, {\"c\": [{\"v\": \"1998-4\"}, {\"v\": 106}]}, {\"c\": [{\"v\": \"1999-1\"}, {\"v\": 190}]}, {\"c\": [{\"v\": \"1999-2\"}, {\"v\": 462}]}, {\"c\": [{\"v\": \"1999-3\"}, {\"v\": 936}]}, {\"c\": [{\"v\": \"1999-4\"}, {\"v\": 1477}]}, {\"c\": [{\"v\": \"2000-1\"}, {\"v\": 61475}]}, {\"c\": [{\"v\": \"2000-2\"}, {\"v\": 98394}]}, {\"c\": [{\"v\": \"2000-3\"}, {\"v\": 112353}]}, {\"c\": [{\"v\": \"2000-4\"}, {\"v\": 65024}]}, {\"c\": [{\"v\": \"2001-1\"}, {\"v\": 65786}]}, {\"c\": [{\"v\": \"2001-2\"}, {\"v\": 102193}]}, {\"c\": [{\"v\": \"2001-3\"}, {\"v\": 107178}]}, {\"c\": [{\"v\": \"2001-4\"}, {\"v\": 64817}]}, {\"c\": [{\"v\": \"2002-1\"}, {\"v\": 65334}]}, {\"c\": [{\"v\": \"2002-2\"}, {\"v\": 105948}]}, {\"c\": [{\"v\": \"2002-3\"}, {\"v\": 139023}]}, {\"c\": [{\"v\": \"2002-4\"}, {\"v\": 94291}]}, {\"c\": [{\"v\": \"2003-1\"}, {\"v\": 362952}]}, {\"c\": [{\"v\": \"2003-2\"}, {\"v\": 102412}]}, {\"c\": [{\"v\": \"2003-3\"}, {\"v\": 101698}]}, {\"c\": [{\"v\": \"2003-4\"}, {\"v\": 64606}]}, {\"c\": [{\"v\": \"2004-1\"}, {\"v\": 66812}]}, {\"c\": [{\"v\": \"2004-2\"}, {\"v\": 103129}]}, {\"c\": [{\"v\": \"2004-3\"}, {\"v\": 105017}]}, {\"c\": [{\"v\": \"2004-4\"}, {\"v\": 76871}]}, {\"c\": [{\"v\": \"2005-1\"}, {\"v\": 76260}]}, {\"c\": [{\"v\": \"2005-2\"}, {\"v\": 107678}]}, {\"c\": [{\"v\": \"2005-3\"}, {\"v\": 106446}]}, {\"c\": [{\"v\": \"2005-4\"}, {\"v\": 73000}]}, {\"c\": [{\"v\": \"2006-1\"}, {\"v\": 75229}]}, {\"c\": [{\"v\": \"2006-2\"}, {\"v\": 107752}]}, {\"c\": [{\"v\": \"2006-3\"}, {\"v\": 107269}]}, {\"c\": [{\"v\": \"2006-4\"}, {\"v\": 68241}]}, {\"c\": [{\"v\": \"2007-1\"}, {\"v\": 78168}]}, {\"c\": [{\"v\": \"2007-2\"}, {\"v\": 107808}]}, {\"c\": [{\"v\": \"2007-3\"}, {\"v\": 119938}]}, {\"c\": [{\"v\": \"2007-4\"}, {\"v\": 76493}]}, {\"c\": [{\"v\": \"2008-1\"}, {\"v\": 98142}]}, {\"c\": [{\"v\": \"2008-2\"}, {\"v\": 126199}]}, {\"c\": [{\"v\": \"2008-3\"}, {\"v\": 138254}]}, {\"c\": [{\"v\": \"2008-4\"}, {\"v\": 79923}]}, {\"c\": [{\"v\": \"2009-1\"}, {\"v\": 91026}]}, {\"c\": [{\"v\": \"2009-2\"}, {\"v\": 126510}]}, {\"c\": [{\"v\": \"2009-3\"}, {\"v\": 135624}]}, {\"c\": [{\"v\": \"2009-4\"}, {\"v\": 81637}]}, {\"c\": [{\"v\": \"2010-1\"}, {\"v\": 89835}]}, {\"c\": [{\"v\": \"2010-2\"}, {\"v\": 124314}]}, {\"c\": [{\"v\": \"2010-3\"}, {\"v\": 139157}]}, {\"c\": [{\"v\": \"2010-4\"}, {\"v\": 93974}]}, {\"c\": [{\"v\": \"2011-1\"}, {\"v\": 83492}]}, {\"c\": [{\"v\": \"2011-2\"}, {\"v\": 99229}]}, {\"c\": [{\"v\": \"2011-3\"}, {\"v\": 124501}]}, {\"c\": [{\"v\": \"2011-4\"}, {\"v\": 84247}]}, {\"c\": [{\"v\": \"2012-1\"}, {\"v\": 65356}]}, {\"c\": [{\"v\": \"2012-2\"}, {\"v\": 104664}]}, {\"c\": [{\"v\": \"2012-3\"}, {\"v\": 108233}]}, {\"c\": [{\"v\": \"2012-4\"}, {\"v\": 85124}]}, {\"c\": [{\"v\": \"2013-1\"}, {\"v\": 70629}]}, {\"c\": [{\"v\": \"2013-2\"}, {\"v\": 86900}]}, {\"c\": [{\"v\": \"2013-3\"}, {\"v\": 80760}]}, {\"c\": [{\"v\": \"2013-4\"}, {\"v\": 66550}]}, {\"c\": [{\"v\": \"2014-1\"}, {\"v\": 68450}]}, {\"c\": [{\"v\": \"2014-2\"}, {\"v\": 104877}]}], \"cols\": [{\"type\": \"string\", \"id\": \"year_quarter\", \"label\": \"year_quarter\"}, {\"type\": \"number\", \"id\": \"emp_count\", \"label\": \"emp_count\"}]},\n",
       "              {},\n",
       "              {\"fields\": \"year_quarter,emp_count\", \"source_index\": 2, \"name\": 2},\n",
       "              0,\n",
       "              66);\n",
       "          }\n",
       "        );\n",
       "    </script>\n",
       "  "
      ],
      "text/plain": [
       "<IPython.core.display.HTML object>"
      ]
     },
     "execution_count": 23,
     "metadata": {},
     "output_type": "execute_result"
    },
    {
     "data": {
      "image/png": "[encoded data removed]"
     },
     "metadata": {
      "source_id": "11_150903781497"
     },
     "output_type": "display_data"
    }
   ],
   "source": [
    "%chart columns --data emp_count_quarter_fulltime --fields year_quarter,emp_count"
   ]
  },
  {
   "cell_type": "code",
   "execution_count": 24,
   "metadata": {
    "collapsed": false
   },
   "outputs": [
    {
     "data": {
      "text/html": [
       "\n",
       "          <script src=\"/static/components/requirejs/require.js\"></script>\n",
       "          <script>\n",
       "            requirejs.config({\n",
       "              paths: {\n",
       "                base: '/static/base',\n",
       "              },\n",
       "            });\n",
       "          </script>\n",
       "          "
      ],
      "text/plain": [
       "<IPython.core.display.HTML object>"
      ]
     },
     "metadata": {},
     "output_type": "display_data"
    }
   ],
   "source": [
    "%%bq query --name emp_count_quarter_fulltime_PT\n",
    "#Count num employees per year, quarter\n",
    "SELECT CONCAT(cast(year_eff_dt as string), \"-\", cast(quarter_eff_dt as string)) as year_quarter, COUNT(emp_id) AS emp_count\n",
    "FROM `w210-fedwork.processed_data.dynamic`\n",
    "WHERE work_schedule='F' AND (occupation_cat='P' OR occupation_cat='T')\n",
    "GROUP BY year_quarter\n",
    "ORDER BY year_quarter ASC"
   ]
  },
  {
   "cell_type": "markdown",
   "metadata": {},
   "source": [
    "#### Number of record per Quarter for Full-time employees, Professional and Technical\n",
    "\n",
    "The trend for Full-time Professional and Technical employees is similar to the overall population"
   ]
  },
  {
   "cell_type": "code",
   "execution_count": 25,
   "metadata": {
    "collapsed": false
   },
   "outputs": [
    {
     "data": {
      "text/html": [
       "\n",
       "          <script src=\"/static/components/requirejs/require.js\"></script>\n",
       "          <script>\n",
       "            requirejs.config({\n",
       "              paths: {\n",
       "                base: '/static/base',\n",
       "              },\n",
       "            });\n",
       "          </script>\n",
       "          "
      ],
      "text/plain": [
       "<IPython.core.display.HTML object>"
      ]
     },
     "metadata": {},
     "output_type": "display_data"
    },
    {
     "data": {
      "text/html": [
       "\n",
       "    <div class=\"bqgc-container\">\n",
       "      \n",
       "      <div class=\"bqgc \" id=\"12_150903798590\">\n",
       "      </div>\n",
       "    </div>\n",
       "    <script>\n",
       "\n",
       "      require.config({\n",
       "        paths: {\n",
       "          d3: '//cdnjs.cloudflare.com/ajax/libs/d3/3.4.13/d3',\n",
       "          plotly: 'https://cdn.plot.ly/plotly-1.5.1.min.js?noext',\n",
       "          jquery: '//ajax.googleapis.com/ajax/libs/jquery/2.0.0/jquery.min'\n",
       "        },\n",
       "        map: {\n",
       "          '*': {\n",
       "            datalab: 'nbextensions/gcpdatalab'\n",
       "          }\n",
       "        },\n",
       "        shim: {\n",
       "          plotly: {\n",
       "            deps: ['d3', 'jquery'],\n",
       "            exports: 'plotly'\n",
       "          }\n",
       "        }\n",
       "      });\n",
       "\n",
       "      require(['datalab/charting',\n",
       "               'datalab/element!12_150903798590',\n",
       "               'base/js/events',\n",
       "               'datalab/style!/nbextensions/gcpdatalab/charting.css'\n",
       "              ],\n",
       "        function(charts, dom, events) {\n",
       "          charts.render(\n",
       "              'gcharts',\n",
       "              dom,\n",
       "              events,\n",
       "              'columns',\n",
       "              [],\n",
       "              {\"rows\": [{\"c\": [{\"v\": \"1998-1\"}, {\"v\": 1}]}, {\"c\": [{\"v\": \"1998-2\"}, {\"v\": 8}]}, {\"c\": [{\"v\": \"1998-3\"}, {\"v\": 15}]}, {\"c\": [{\"v\": \"1998-4\"}, {\"v\": 43}]}, {\"c\": [{\"v\": \"1999-1\"}, {\"v\": 57}]}, {\"c\": [{\"v\": \"1999-2\"}, {\"v\": 140}]}, {\"c\": [{\"v\": \"1999-3\"}, {\"v\": 301}]}, {\"c\": [{\"v\": \"1999-4\"}, {\"v\": 526}]}, {\"c\": [{\"v\": \"2000-1\"}, {\"v\": 24156}]}, {\"c\": [{\"v\": \"2000-2\"}, {\"v\": 38277}]}, {\"c\": [{\"v\": \"2000-3\"}, {\"v\": 43370}]}, {\"c\": [{\"v\": \"2000-4\"}, {\"v\": 27992}]}, {\"c\": [{\"v\": \"2001-1\"}, {\"v\": 26007}]}, {\"c\": [{\"v\": \"2001-2\"}, {\"v\": 41411}]}, {\"c\": [{\"v\": \"2001-3\"}, {\"v\": 42171}]}, {\"c\": [{\"v\": \"2001-4\"}, {\"v\": 26684}]}, {\"c\": [{\"v\": \"2002-1\"}, {\"v\": 25162}]}, {\"c\": [{\"v\": \"2002-2\"}, {\"v\": 43170}]}, {\"c\": [{\"v\": \"2002-3\"}, {\"v\": 75430}]}, {\"c\": [{\"v\": \"2002-4\"}, {\"v\": 55573}]}, {\"c\": [{\"v\": \"2003-1\"}, {\"v\": 172419}]}, {\"c\": [{\"v\": \"2003-2\"}, {\"v\": 43541}]}, {\"c\": [{\"v\": \"2003-3\"}, {\"v\": 40737}]}, {\"c\": [{\"v\": \"2003-4\"}, {\"v\": 27485}]}, {\"c\": [{\"v\": \"2004-1\"}, {\"v\": 26467}]}, {\"c\": [{\"v\": \"2004-2\"}, {\"v\": 44198}]}, {\"c\": [{\"v\": \"2004-3\"}, {\"v\": 43858}]}, {\"c\": [{\"v\": \"2004-4\"}, {\"v\": 33844}]}, {\"c\": [{\"v\": \"2005-1\"}, {\"v\": 30500}]}, {\"c\": [{\"v\": \"2005-2\"}, {\"v\": 45373}]}, {\"c\": [{\"v\": \"2005-3\"}, {\"v\": 44902}]}, {\"c\": [{\"v\": \"2005-4\"}, {\"v\": 30979}]}, {\"c\": [{\"v\": \"2006-1\"}, {\"v\": 30157}]}, {\"c\": [{\"v\": \"2006-2\"}, {\"v\": 45325}]}, {\"c\": [{\"v\": \"2006-3\"}, {\"v\": 44836}]}, {\"c\": [{\"v\": \"2006-4\"}, {\"v\": 28581}]}, {\"c\": [{\"v\": \"2007-1\"}, {\"v\": 31405}]}, {\"c\": [{\"v\": \"2007-2\"}, {\"v\": 45850}]}, {\"c\": [{\"v\": \"2007-3\"}, {\"v\": 50997}]}, {\"c\": [{\"v\": \"2007-4\"}, {\"v\": 31831}]}, {\"c\": [{\"v\": \"2008-1\"}, {\"v\": 40005}]}, {\"c\": [{\"v\": \"2008-2\"}, {\"v\": 54577}]}, {\"c\": [{\"v\": \"2008-3\"}, {\"v\": 59982}]}, {\"c\": [{\"v\": \"2008-4\"}, {\"v\": 34008}]}, {\"c\": [{\"v\": \"2009-1\"}, {\"v\": 36310}]}, {\"c\": [{\"v\": \"2009-2\"}, {\"v\": 55203}]}, {\"c\": [{\"v\": \"2009-3\"}, {\"v\": 57554}]}, {\"c\": [{\"v\": \"2009-4\"}, {\"v\": 35114}]}, {\"c\": [{\"v\": \"2010-1\"}, {\"v\": 36069}]}, {\"c\": [{\"v\": \"2010-2\"}, {\"v\": 53701}]}, {\"c\": [{\"v\": \"2010-3\"}, {\"v\": 58317}]}, {\"c\": [{\"v\": \"2010-4\"}, {\"v\": 40674}]}, {\"c\": [{\"v\": \"2011-1\"}, {\"v\": 33185}]}, {\"c\": [{\"v\": \"2011-2\"}, {\"v\": 44681}]}, {\"c\": [{\"v\": \"2011-3\"}, {\"v\": 55469}]}, {\"c\": [{\"v\": \"2011-4\"}, {\"v\": 35872}]}, {\"c\": [{\"v\": \"2012-1\"}, {\"v\": 27343}]}, {\"c\": [{\"v\": \"2012-2\"}, {\"v\": 48160}]}, {\"c\": [{\"v\": \"2012-3\"}, {\"v\": 49553}]}, {\"c\": [{\"v\": \"2012-4\"}, {\"v\": 38994}]}, {\"c\": [{\"v\": \"2013-1\"}, {\"v\": 28626}]}, {\"c\": [{\"v\": \"2013-2\"}, {\"v\": 41067}]}, {\"c\": [{\"v\": \"2013-3\"}, {\"v\": 37873}]}, {\"c\": [{\"v\": \"2013-4\"}, {\"v\": 31779}]}, {\"c\": [{\"v\": \"2014-1\"}, {\"v\": 28905}]}, {\"c\": [{\"v\": \"2014-2\"}, {\"v\": 49673}]}], \"cols\": [{\"type\": \"string\", \"id\": \"year_quarter\", \"label\": \"year_quarter\"}, {\"type\": \"number\", \"id\": \"emp_count\", \"label\": \"emp_count\"}]},\n",
       "              {},\n",
       "              {\"fields\": \"year_quarter,emp_count\", \"source_index\": 3, \"name\": 3},\n",
       "              0,\n",
       "              66);\n",
       "          }\n",
       "        );\n",
       "    </script>\n",
       "  "
      ],
      "text/plain": [
       "<IPython.core.display.HTML object>"
      ]
     },
     "execution_count": 25,
     "metadata": {},
     "output_type": "execute_result"
    },
    {
     "data": {
      "image/png": "[encoded data removed]"
     },
     "metadata": {
      "source_id": "12_150903798590"
     },
     "output_type": "display_data"
    }
   ],
   "source": [
    "%chart columns --data emp_count_quarter_fulltime_PT --fields year_quarter,emp_count"
   ]
  },
  {
   "cell_type": "code",
   "execution_count": 35,
   "metadata": {
    "collapsed": false
   },
   "outputs": [
    {
     "data": {
      "text/html": [
       "\n",
       "          <script src=\"/static/components/requirejs/require.js\"></script>\n",
       "          <script>\n",
       "            requirejs.config({\n",
       "              paths: {\n",
       "                base: '/static/base',\n",
       "              },\n",
       "            });\n",
       "          </script>\n",
       "          "
      ],
      "text/plain": [
       "<IPython.core.display.HTML object>"
      ]
     },
     "metadata": {},
     "output_type": "display_data"
    }
   ],
   "source": [
    "%%bq query --name emp_count_quarter_fulltime_PT_acces_ind\n",
    "#Count num employees per year, quarter\n",
    "SELECT CONCAT(cast(year_eff_dt as string), \"-\", cast(quarter_eff_dt as string)) as year_quarter\n",
    "       , SUM(CASE WHEN acces_sep_ind=\"SC\" THEN 1 ELSE 0 END) AS num_attrit\n",
    "       , SUM(CASE WHEN acces_sep_ind <>\"SC\" THEN 1 ELSE 0 END) AS num_non_attrit\n",
    "FROM `w210-fedwork.processed_data.dynamic`\n",
    "WHERE work_schedule='F' AND (occupation_cat='P' OR occupation_cat='T')\n",
    "GROUP BY year_quarter\n",
    "ORDER BY year_quarter "
   ]
  },
  {
   "cell_type": "markdown",
   "metadata": {},
   "source": [
    "#### Number of records per Quarter for Full-time employees, Professional and Technical. Comparing employees who attrite and those who stay in the positions.\n",
    "\n",
    "As expected, Q2 and Q3 have more employees who attrite. This trend reflects what we have observed in the previous graphs, there are less records for Q2 and Q3"
   ]
  },
  {
   "cell_type": "code",
   "execution_count": 36,
   "metadata": {
    "collapsed": false
   },
   "outputs": [
    {
     "data": {
      "text/html": [
       "\n",
       "          <script src=\"/static/components/requirejs/require.js\"></script>\n",
       "          <script>\n",
       "            requirejs.config({\n",
       "              paths: {\n",
       "                base: '/static/base',\n",
       "              },\n",
       "            });\n",
       "          </script>\n",
       "          "
      ],
      "text/plain": [
       "<IPython.core.display.HTML object>"
      ]
     },
     "metadata": {},
     "output_type": "display_data"
    },
    {
     "data": {
      "text/html": [
       "\n",
       "    <div class=\"bqgc-container\">\n",
       "      \n",
       "      <div class=\"bqgc \" id=\"18_150903888448\">\n",
       "      </div>\n",
       "    </div>\n",
       "    <script>\n",
       "\n",
       "      require.config({\n",
       "        paths: {\n",
       "          d3: '//cdnjs.cloudflare.com/ajax/libs/d3/3.4.13/d3',\n",
       "          plotly: 'https://cdn.plot.ly/plotly-1.5.1.min.js?noext',\n",
       "          jquery: '//ajax.googleapis.com/ajax/libs/jquery/2.0.0/jquery.min'\n",
       "        },\n",
       "        map: {\n",
       "          '*': {\n",
       "            datalab: 'nbextensions/gcpdatalab'\n",
       "          }\n",
       "        },\n",
       "        shim: {\n",
       "          plotly: {\n",
       "            deps: ['d3', 'jquery'],\n",
       "            exports: 'plotly'\n",
       "          }\n",
       "        }\n",
       "      });\n",
       "\n",
       "      require(['datalab/charting',\n",
       "               'datalab/element!18_150903888448',\n",
       "               'base/js/events',\n",
       "               'datalab/style!/nbextensions/gcpdatalab/charting.css'\n",
       "              ],\n",
       "        function(charts, dom, events) {\n",
       "          charts.render(\n",
       "              'gcharts',\n",
       "              dom,\n",
       "              events,\n",
       "              'columns',\n",
       "              [],\n",
       "              {\"rows\": [{\"c\": [{\"v\": \"1998-1\"}, {\"v\": 1}, {\"v\": 0}]}, {\"c\": [{\"v\": \"1998-2\"}, {\"v\": 0}, {\"v\": 8}]}, {\"c\": [{\"v\": \"1998-3\"}, {\"v\": 6}, {\"v\": 9}]}, {\"c\": [{\"v\": \"1998-4\"}, {\"v\": 8}, {\"v\": 35}]}, {\"c\": [{\"v\": \"1999-1\"}, {\"v\": 9}, {\"v\": 48}]}, {\"c\": [{\"v\": \"1999-2\"}, {\"v\": 23}, {\"v\": 117}]}, {\"c\": [{\"v\": \"1999-3\"}, {\"v\": 64}, {\"v\": 237}]}, {\"c\": [{\"v\": \"1999-4\"}, {\"v\": 145}, {\"v\": 381}]}, {\"c\": [{\"v\": \"2000-1\"}, {\"v\": 5397}, {\"v\": 18759}]}, {\"c\": [{\"v\": \"2000-2\"}, {\"v\": 6352}, {\"v\": 31925}]}, {\"c\": [{\"v\": \"2000-3\"}, {\"v\": 11765}, {\"v\": 31605}]}, {\"c\": [{\"v\": \"2000-4\"}, {\"v\": 5451}, {\"v\": 22541}]}, {\"c\": [{\"v\": \"2001-1\"}, {\"v\": 5013}, {\"v\": 20994}]}, {\"c\": [{\"v\": \"2001-2\"}, {\"v\": 5641}, {\"v\": 35770}]}, {\"c\": [{\"v\": \"2001-3\"}, {\"v\": 10948}, {\"v\": 31223}]}, {\"c\": [{\"v\": \"2001-4\"}, {\"v\": 4397}, {\"v\": 22287}]}, {\"c\": [{\"v\": \"2002-1\"}, {\"v\": 3744}, {\"v\": 21418}]}, {\"c\": [{\"v\": \"2002-2\"}, {\"v\": 5075}, {\"v\": 38095}]}, {\"c\": [{\"v\": \"2002-3\"}, {\"v\": 11578}, {\"v\": 63852}]}, {\"c\": [{\"v\": \"2002-4\"}, {\"v\": 6383}, {\"v\": 49190}]}, {\"c\": [{\"v\": \"2003-1\"}, {\"v\": 5103}, {\"v\": 167316}]}, {\"c\": [{\"v\": \"2003-2\"}, {\"v\": 6567}, {\"v\": 36974}]}, {\"c\": [{\"v\": \"2003-3\"}, {\"v\": 12062}, {\"v\": 28675}]}, {\"c\": [{\"v\": \"2003-4\"}, {\"v\": 5568}, {\"v\": 21917}]}, {\"c\": [{\"v\": \"2004-1\"}, {\"v\": 5105}, {\"v\": 21362}]}, {\"c\": [{\"v\": \"2004-2\"}, {\"v\": 6001}, {\"v\": 38197}]}, {\"c\": [{\"v\": \"2004-3\"}, {\"v\": 11949}, {\"v\": 31909}]}, {\"c\": [{\"v\": \"2004-4\"}, {\"v\": 5900}, {\"v\": 27944}]}, {\"c\": [{\"v\": \"2005-1\"}, {\"v\": 5743}, {\"v\": 24757}]}, {\"c\": [{\"v\": \"2005-2\"}, {\"v\": 7304}, {\"v\": 38069}]}, {\"c\": [{\"v\": \"2005-3\"}, {\"v\": 12460}, {\"v\": 32442}]}, {\"c\": [{\"v\": \"2005-4\"}, {\"v\": 6007}, {\"v\": 24972}]}, {\"c\": [{\"v\": \"2006-1\"}, {\"v\": 5383}, {\"v\": 24774}]}, {\"c\": [{\"v\": \"2006-2\"}, {\"v\": 6085}, {\"v\": 39240}]}, {\"c\": [{\"v\": \"2006-3\"}, {\"v\": 11327}, {\"v\": 33509}]}, {\"c\": [{\"v\": \"2006-4\"}, {\"v\": 4922}, {\"v\": 23659}]}, {\"c\": [{\"v\": \"2007-1\"}, {\"v\": 5241}, {\"v\": 26164}]}, {\"c\": [{\"v\": \"2007-2\"}, {\"v\": 6265}, {\"v\": 39585}]}, {\"c\": [{\"v\": \"2007-3\"}, {\"v\": 11696}, {\"v\": 39301}]}, {\"c\": [{\"v\": \"2007-4\"}, {\"v\": 5138}, {\"v\": 26693}]}, {\"c\": [{\"v\": \"2008-1\"}, {\"v\": 5167}, {\"v\": 34838}]}, {\"c\": [{\"v\": \"2008-2\"}, {\"v\": 5881}, {\"v\": 48696}]}, {\"c\": [{\"v\": \"2008-3\"}, {\"v\": 12814}, {\"v\": 47168}]}, {\"c\": [{\"v\": \"2008-4\"}, {\"v\": 4351}, {\"v\": 29657}]}, {\"c\": [{\"v\": \"2009-1\"}, {\"v\": 4152}, {\"v\": 32158}]}, {\"c\": [{\"v\": \"2009-2\"}, {\"v\": 4559}, {\"v\": 50644}]}, {\"c\": [{\"v\": \"2009-3\"}, {\"v\": 11513}, {\"v\": 46041}]}, {\"c\": [{\"v\": \"2009-4\"}, {\"v\": 4047}, {\"v\": 31067}]}, {\"c\": [{\"v\": \"2010-1\"}, {\"v\": 4449}, {\"v\": 31620}]}, {\"c\": [{\"v\": \"2010-2\"}, {\"v\": 5164}, {\"v\": 48537}]}, {\"c\": [{\"v\": \"2010-3\"}, {\"v\": 12157}, {\"v\": 46160}]}, {\"c\": [{\"v\": \"2010-4\"}, {\"v\": 4535}, {\"v\": 36139}]}, {\"c\": [{\"v\": \"2011-1\"}, {\"v\": 4791}, {\"v\": 28394}]}, {\"c\": [{\"v\": \"2011-2\"}, {\"v\": 5831}, {\"v\": 38850}]}, {\"c\": [{\"v\": \"2011-3\"}, {\"v\": 11894}, {\"v\": 43575}]}, {\"c\": [{\"v\": \"2011-4\"}, {\"v\": 5166}, {\"v\": 30706}]}, {\"c\": [{\"v\": \"2012-1\"}, {\"v\": 5002}, {\"v\": 22341}]}, {\"c\": [{\"v\": \"2012-2\"}, {\"v\": 6592}, {\"v\": 41568}]}, {\"c\": [{\"v\": \"2012-3\"}, {\"v\": 10864}, {\"v\": 38689}]}, {\"c\": [{\"v\": \"2012-4\"}, {\"v\": 5172}, {\"v\": 33822}]}, {\"c\": [{\"v\": \"2013-1\"}, {\"v\": 5170}, {\"v\": 23456}]}, {\"c\": [{\"v\": \"2013-2\"}, {\"v\": 6722}, {\"v\": 34345}]}, {\"c\": [{\"v\": \"2013-3\"}, {\"v\": 9302}, {\"v\": 28571}]}, {\"c\": [{\"v\": \"2013-4\"}, {\"v\": 5530}, {\"v\": 26249}]}, {\"c\": [{\"v\": \"2014-1\"}, {\"v\": 5187}, {\"v\": 23718}]}, {\"c\": [{\"v\": \"2014-2\"}, {\"v\": 6478}, {\"v\": 43195}]}], \"cols\": [{\"type\": \"string\", \"id\": \"year_quarter\", \"label\": \"year_quarter\"}, {\"type\": \"number\", \"id\": \"num_attrit\", \"label\": \"num_attrit\"}, {\"type\": \"number\", \"id\": \"num_non_attrit\", \"label\": \"num_non_attrit\"}]},\n",
       "              {},\n",
       "              {\"fields\": \"year_quarter,num_attrit,num_non_attrit\", \"source_index\": 4, \"name\": 4},\n",
       "              0,\n",
       "              66);\n",
       "          }\n",
       "        );\n",
       "    </script>\n",
       "  "
      ],
      "text/plain": [
       "<IPython.core.display.HTML object>"
      ]
     },
     "execution_count": 36,
     "metadata": {},
     "output_type": "execute_result"
    },
    {
     "data": {
      "image/png": "[encoded data removed]"
     },
     "metadata": {
      "source_id": "18_150903888448"
     },
     "output_type": "display_data"
    }
   ],
   "source": [
    "#%chart line --data emp_count_quarter_fulltime_PT_acces_ind --fields year_quarter,num_attrit,num_non_attrit\n",
    "%chart columns --data emp_count_quarter_fulltime_PT_acces_ind --fields year_quarter,num_attrit,num_non_attrit"
   ]
  },
  {
   "cell_type": "markdown",
   "metadata": {},
   "source": [
    "## Using Regression to predict Salary"
   ]
  },
  {
   "cell_type": "code",
   "execution_count": 1,
   "metadata": {
    "collapsed": false
   },
   "outputs": [
    {
     "data": {
      "text/html": [
       "\n",
       "          <script src=\"/static/components/requirejs/require.js\"></script>\n",
       "          <script>\n",
       "            requirejs.config({\n",
       "              paths: {\n",
       "                base: '/static/base',\n",
       "              },\n",
       "            });\n",
       "          </script>\n",
       "          "
      ],
      "text/plain": [
       "<IPython.core.display.HTML object>"
      ]
     },
     "metadata": {},
     "output_type": "display_data"
    }
   ],
   "source": [
    "import google.datalab.ml as ml\n",
    "import json\n",
    "import math\n",
    "import matplotlib.pyplot as plot\n",
    "import mltoolbox.regression.dnn as regression\n",
    "import numpy as np\n",
    "import pandas as pd\n",
    "import os\n",
    "import seaborn as sns\n",
    "import sklearn.metrics as metrics\n"
   ]
  },
  {
   "cell_type": "code",
   "execution_count": 2,
   "metadata": {
    "collapsed": false
   },
   "outputs": [
    {
     "data": {
      "text/html": [
       "\n",
       "          <script src=\"/static/components/requirejs/require.js\"></script>\n",
       "          <script>\n",
       "            requirejs.config({\n",
       "              paths: {\n",
       "                base: '/static/base',\n",
       "              },\n",
       "            });\n",
       "          </script>\n",
       "          "
      ],
      "text/plain": [
       "<IPython.core.display.HTML object>"
      ]
     },
     "metadata": {},
     "output_type": "display_data"
    }
   ],
   "source": [
    "workspace_path = '/content/datalab/workspace/exploration'"
   ]
  },
  {
   "cell_type": "code",
   "execution_count": 3,
   "metadata": {
    "collapsed": false
   },
   "outputs": [
    {
     "data": {
      "text/html": [
       "\n",
       "          <script src=\"/static/components/requirejs/require.js\"></script>\n",
       "          <script>\n",
       "            requirejs.config({\n",
       "              paths: {\n",
       "                base: '/static/base',\n",
       "              },\n",
       "            });\n",
       "          </script>\n",
       "          "
      ],
      "text/plain": [
       "<IPython.core.display.HTML object>"
      ]
     },
     "metadata": {},
     "output_type": "display_data"
    }
   ],
   "source": [
    "!mkdir -p {workspace_path}"
   ]
  },
  {
   "cell_type": "code",
   "execution_count": 6,
   "metadata": {
    "collapsed": false
   },
   "outputs": [
    {
     "data": {
      "text/html": [
       "\n",
       "          <script src=\"/static/components/requirejs/require.js\"></script>\n",
       "          <script>\n",
       "            requirejs.config({\n",
       "              paths: {\n",
       "                base: '/static/base',\n",
       "              },\n",
       "            });\n",
       "          </script>\n",
       "          "
      ],
      "text/plain": [
       "<IPython.core.display.HTML object>"
      ]
     },
     "metadata": {},
     "output_type": "display_data"
    }
   ],
   "source": [
    "#only use the following command if you want to recreate the models for regression\n",
    "#!rm -rf {workspace_path} && mkdir {workspace_path}"
   ]
  },
  {
   "cell_type": "markdown",
   "metadata": {},
   "source": [
    "##### Read the sample data from Google Storage"
   ]
  },
  {
   "cell_type": "code",
   "execution_count": 9,
   "metadata": {
    "collapsed": false
   },
   "outputs": [
    {
     "data": {
      "text/html": [
       "\n",
       "          <script src=\"/static/components/requirejs/require.js\"></script>\n",
       "          <script>\n",
       "            requirejs.config({\n",
       "              paths: {\n",
       "                base: '/static/base',\n",
       "              },\n",
       "            });\n",
       "          </script>\n",
       "          "
      ],
      "text/plain": [
       "<IPython.core.display.HTML object>"
      ]
     },
     "metadata": {},
     "output_type": "display_data"
    }
   ],
   "source": [
    "!gsutil -q cp gs://w210_fedwork_opm_data/dynamic/sample/sample_dynamic.csv {workspace_path}/data/sample_dynamic.csv"
   ]
  },
  {
   "cell_type": "code",
   "execution_count": 10,
   "metadata": {
    "collapsed": false
   },
   "outputs": [
    {
     "data": {
      "text/html": [
       "\n",
       "          <script src=\"/static/components/requirejs/require.js\"></script>\n",
       "          <script>\n",
       "            requirejs.config({\n",
       "              paths: {\n",
       "                base: '/static/base',\n",
       "              },\n",
       "            });\n",
       "          </script>\n",
       "          "
      ],
      "text/plain": [
       "<IPython.core.display.HTML object>"
      ]
     },
     "metadata": {},
     "output_type": "display_data"
    },
    {
     "name": "stdout",
     "output_type": "stream",
     "text": [
      "total 2624\r\n",
      "-rw-r--r-- 1 root root 2683201 Oct 27 01:13 sample_dynamic.csv\r\n"
     ]
    }
   ],
   "source": [
    "!ls -l {workspace_path}/data"
   ]
  },
  {
   "cell_type": "code",
   "execution_count": 11,
   "metadata": {
    "collapsed": false
   },
   "outputs": [
    {
     "data": {
      "text/html": [
       "\n",
       "          <script src=\"/static/components/requirejs/require.js\"></script>\n",
       "          <script>\n",
       "            requirejs.config({\n",
       "              paths: {\n",
       "                base: '/static/base',\n",
       "              },\n",
       "            });\n",
       "          </script>\n",
       "          "
      ],
      "text/plain": [
       "<IPython.core.display.HTML object>"
      ]
     },
     "metadata": {},
     "output_type": "display_data"
    },
    {
     "name": "stdout",
     "output_type": "stream",
     "text": [
      "30000 rows\n"
     ]
    },
    {
     "data": {
      "text/html": [
       "<div>\n",
       "<table border=\"1\" class=\"dataframe\">\n",
       "  <thead>\n",
       "    <tr style=\"text-align: right;\">\n",
       "      <th></th>\n",
       "      <th>emp_id</th>\n",
       "      <th>agency</th>\n",
       "      <th>acces_sep_ind</th>\n",
       "      <th>effective_dt</th>\n",
       "      <th>age</th>\n",
       "      <th>pay_plan</th>\n",
       "      <th>grade</th>\n",
       "      <th>los</th>\n",
       "      <th>duty_station</th>\n",
       "      <th>occupation</th>\n",
       "      <th>occupation_cat</th>\n",
       "      <th>basic_pay</th>\n",
       "      <th>type_appoint</th>\n",
       "      <th>work_schedule</th>\n",
       "      <th>dod_ind</th>\n",
       "      <th>year_eff_dt</th>\n",
       "      <th>month_eff_dt</th>\n",
       "      <th>day_eff_dt</th>\n",
       "      <th>quarter_eff_dt</th>\n",
       "      <th>week_eff_dt</th>\n",
       "    </tr>\n",
       "  </thead>\n",
       "  <tbody>\n",
       "    <tr>\n",
       "      <th>0</th>\n",
       "      <td>001731070</td>\n",
       "      <td>DD34</td>\n",
       "      <td>SC</td>\n",
       "      <td>2010-01-01</td>\n",
       "      <td>20-24</td>\n",
       "      <td>YB</td>\n",
       "      <td>01</td>\n",
       "      <td>1-2</td>\n",
       "      <td>#########</td>\n",
       "      <td>****</td>\n",
       "      <td>*</td>\n",
       "      <td>21517</td>\n",
       "      <td>40</td>\n",
       "      <td>F</td>\n",
       "      <td>1</td>\n",
       "      <td>2010</td>\n",
       "      <td>1</td>\n",
       "      <td>1</td>\n",
       "      <td>1</td>\n",
       "      <td>0</td>\n",
       "    </tr>\n",
       "    <tr>\n",
       "      <th>1</th>\n",
       "      <td>002741047</td>\n",
       "      <td>NV24</td>\n",
       "      <td>SD</td>\n",
       "      <td>2010-01-02</td>\n",
       "      <td>50-54</td>\n",
       "      <td>**</td>\n",
       "      <td>**</td>\n",
       "      <td>35+</td>\n",
       "      <td>#########</td>\n",
       "      <td>****</td>\n",
       "      <td>*</td>\n",
       "      <td>NaN</td>\n",
       "      <td>10</td>\n",
       "      <td>F</td>\n",
       "      <td>1</td>\n",
       "      <td>2010</td>\n",
       "      <td>1</td>\n",
       "      <td>2</td>\n",
       "      <td>1</td>\n",
       "      <td>0</td>\n",
       "    </tr>\n",
       "    <tr>\n",
       "      <th>2</th>\n",
       "      <td>004045502</td>\n",
       "      <td>NV19</td>\n",
       "      <td>SD</td>\n",
       "      <td>2010-01-02</td>\n",
       "      <td>60-64</td>\n",
       "      <td>**</td>\n",
       "      <td>**</td>\n",
       "      <td>35+</td>\n",
       "      <td>#########</td>\n",
       "      <td>****</td>\n",
       "      <td>*</td>\n",
       "      <td>NaN</td>\n",
       "      <td>10</td>\n",
       "      <td>G</td>\n",
       "      <td>1</td>\n",
       "      <td>2010</td>\n",
       "      <td>1</td>\n",
       "      <td>2</td>\n",
       "      <td>1</td>\n",
       "      <td>0</td>\n",
       "    </tr>\n",
       "    <tr>\n",
       "      <th>3</th>\n",
       "      <td>009203122</td>\n",
       "      <td>NV27</td>\n",
       "      <td>SJ</td>\n",
       "      <td>2010-01-07</td>\n",
       "      <td>25-29</td>\n",
       "      <td>**</td>\n",
       "      <td>**</td>\n",
       "      <td>3-4</td>\n",
       "      <td>#########</td>\n",
       "      <td>****</td>\n",
       "      <td>*</td>\n",
       "      <td>NaN</td>\n",
       "      <td>20</td>\n",
       "      <td>P</td>\n",
       "      <td>1</td>\n",
       "      <td>2010</td>\n",
       "      <td>1</td>\n",
       "      <td>7</td>\n",
       "      <td>1</td>\n",
       "      <td>1</td>\n",
       "    </tr>\n",
       "    <tr>\n",
       "      <th>4</th>\n",
       "      <td>008030594</td>\n",
       "      <td>NV27</td>\n",
       "      <td>SC</td>\n",
       "      <td>2010-01-08</td>\n",
       "      <td>50-54</td>\n",
       "      <td>**</td>\n",
       "      <td>**</td>\n",
       "      <td>&lt; 1</td>\n",
       "      <td>#########</td>\n",
       "      <td>****</td>\n",
       "      <td>*</td>\n",
       "      <td>NaN</td>\n",
       "      <td>15</td>\n",
       "      <td>F</td>\n",
       "      <td>1</td>\n",
       "      <td>2010</td>\n",
       "      <td>1</td>\n",
       "      <td>8</td>\n",
       "      <td>1</td>\n",
       "      <td>1</td>\n",
       "    </tr>\n",
       "  </tbody>\n",
       "</table>\n",
       "</div>"
      ],
      "text/plain": [
       "      emp_id agency acces_sep_ind effective_dt    age pay_plan grade  los  \\\n",
       "0  001731070   DD34            SC   2010-01-01  20-24       YB    01  1-2   \n",
       "1  002741047   NV24            SD   2010-01-02  50-54       **    **  35+   \n",
       "2  004045502   NV19            SD   2010-01-02  60-64       **    **  35+   \n",
       "3  009203122   NV27            SJ   2010-01-07  25-29       **    **  3-4   \n",
       "4  008030594   NV27            SC   2010-01-08  50-54       **    **  < 1   \n",
       "\n",
       "  duty_station occupation occupation_cat basic_pay type_appoint work_schedule  \\\n",
       "0    #########       ****              *     21517           40             F   \n",
       "1    #########       ****              *       NaN           10             F   \n",
       "2    #########       ****              *       NaN           10             G   \n",
       "3    #########       ****              *       NaN           20             P   \n",
       "4    #########       ****              *       NaN           15             F   \n",
       "\n",
       "  dod_ind year_eff_dt month_eff_dt day_eff_dt quarter_eff_dt week_eff_dt  \n",
       "0       1        2010            1          1              1           0  \n",
       "1       1        2010            1          2              1           0  \n",
       "2       1        2010            1          2              1           0  \n",
       "3       1        2010            1          7              1           1  \n",
       "4       1        2010            1          8              1           1  "
      ]
     },
     "execution_count": 11,
     "metadata": {},
     "output_type": "execute_result"
    }
   ],
   "source": [
    "df_data = pd.read_csv(os.path.join(workspace_path, 'data/sample_dynamic.csv'), dtype=str)\n",
    "print '%d rows' % len(df_data)\n",
    "df_data.head()"
   ]
  },
  {
   "cell_type": "markdown",
   "metadata": {},
   "source": [
    "##### Remove Duplicate records for the same employee"
   ]
  },
  {
   "cell_type": "code",
   "execution_count": 12,
   "metadata": {
    "collapsed": false
   },
   "outputs": [
    {
     "data": {
      "text/html": [
       "\n",
       "          <script src=\"/static/components/requirejs/require.js\"></script>\n",
       "          <script>\n",
       "            requirejs.config({\n",
       "              paths: {\n",
       "                base: '/static/base',\n",
       "              },\n",
       "            });\n",
       "          </script>\n",
       "          "
      ],
      "text/plain": [
       "<IPython.core.display.HTML object>"
      ]
     },
     "metadata": {},
     "output_type": "display_data"
    }
   ],
   "source": [
    "df_data2 = df_data[['emp_id','effective_dt']].groupby(['emp_id'], as_index=False).count()\n",
    "df_data2.rename(columns={'effective_dt':'num_records'}, inplace=True)\n",
    "duplicates=df_data2[df_data2['num_records']>=2].emp_id.tolist()\n",
    "df_data=df_data[~df_data['emp_id'].isin(duplicates)]"
   ]
  },
  {
   "cell_type": "code",
   "execution_count": 13,
   "metadata": {
    "collapsed": false
   },
   "outputs": [
    {
     "data": {
      "text/html": [
       "\n",
       "          <script src=\"/static/components/requirejs/require.js\"></script>\n",
       "          <script>\n",
       "            requirejs.config({\n",
       "              paths: {\n",
       "                base: '/static/base',\n",
       "              },\n",
       "            });\n",
       "          </script>\n",
       "          "
      ],
      "text/plain": [
       "<IPython.core.display.HTML object>"
      ]
     },
     "metadata": {},
     "output_type": "display_data"
    },
    {
     "data": {
      "text/html": [
       "<div>\n",
       "<table border=\"1\" class=\"dataframe\">\n",
       "  <thead>\n",
       "    <tr style=\"text-align: right;\">\n",
       "      <th></th>\n",
       "      <th>emp_id</th>\n",
       "      <th>agency</th>\n",
       "      <th>acces_sep_ind</th>\n",
       "      <th>effective_dt</th>\n",
       "      <th>age</th>\n",
       "      <th>pay_plan</th>\n",
       "      <th>grade</th>\n",
       "      <th>los</th>\n",
       "      <th>duty_station</th>\n",
       "      <th>occupation</th>\n",
       "      <th>occupation_cat</th>\n",
       "      <th>basic_pay</th>\n",
       "      <th>type_appoint</th>\n",
       "      <th>work_schedule</th>\n",
       "      <th>dod_ind</th>\n",
       "      <th>year_eff_dt</th>\n",
       "      <th>month_eff_dt</th>\n",
       "      <th>day_eff_dt</th>\n",
       "      <th>quarter_eff_dt</th>\n",
       "      <th>week_eff_dt</th>\n",
       "    </tr>\n",
       "  </thead>\n",
       "  <tbody>\n",
       "    <tr>\n",
       "      <th>count</th>\n",
       "      <td>29044</td>\n",
       "      <td>29044</td>\n",
       "      <td>29044</td>\n",
       "      <td>29044</td>\n",
       "      <td>29044</td>\n",
       "      <td>29044</td>\n",
       "      <td>29044</td>\n",
       "      <td>29044</td>\n",
       "      <td>29044</td>\n",
       "      <td>29044</td>\n",
       "      <td>29044</td>\n",
       "      <td>28718</td>\n",
       "      <td>29044</td>\n",
       "      <td>29043</td>\n",
       "      <td>29044</td>\n",
       "      <td>29044</td>\n",
       "      <td>29044</td>\n",
       "      <td>29044</td>\n",
       "      <td>29044</td>\n",
       "      <td>29044</td>\n",
       "    </tr>\n",
       "    <tr>\n",
       "      <th>unique</th>\n",
       "      <td>29044</td>\n",
       "      <td>188</td>\n",
       "      <td>16</td>\n",
       "      <td>157</td>\n",
       "      <td>14</td>\n",
       "      <td>74</td>\n",
       "      <td>29</td>\n",
       "      <td>11</td>\n",
       "      <td>2</td>\n",
       "      <td>530</td>\n",
       "      <td>7</td>\n",
       "      <td>10240</td>\n",
       "      <td>17</td>\n",
       "      <td>8</td>\n",
       "      <td>1</td>\n",
       "      <td>16</td>\n",
       "      <td>2</td>\n",
       "      <td>15</td>\n",
       "      <td>2</td>\n",
       "      <td>3</td>\n",
       "    </tr>\n",
       "    <tr>\n",
       "      <th>top</th>\n",
       "      <td>009068987</td>\n",
       "      <td>AF1M</td>\n",
       "      <td>SD</td>\n",
       "      <td>2012-12-31</td>\n",
       "      <td>55-59</td>\n",
       "      <td>GS</td>\n",
       "      <td>11</td>\n",
       "      <td>35+</td>\n",
       "      <td>#########</td>\n",
       "      <td>0856</td>\n",
       "      <td>B</td>\n",
       "      <td>38790</td>\n",
       "      <td>10</td>\n",
       "      <td>F</td>\n",
       "      <td>1</td>\n",
       "      <td>2007</td>\n",
       "      <td>1</td>\n",
       "      <td>3</td>\n",
       "      <td>1</td>\n",
       "      <td>0</td>\n",
       "    </tr>\n",
       "    <tr>\n",
       "      <th>freq</th>\n",
       "      <td>1</td>\n",
       "      <td>2765</td>\n",
       "      <td>15937</td>\n",
       "      <td>1682</td>\n",
       "      <td>7160</td>\n",
       "      <td>15078</td>\n",
       "      <td>3753</td>\n",
       "      <td>6390</td>\n",
       "      <td>29023</td>\n",
       "      <td>714</td>\n",
       "      <td>10416</td>\n",
       "      <td>129</td>\n",
       "      <td>18312</td>\n",
       "      <td>27995</td>\n",
       "      <td>29044</td>\n",
       "      <td>2999</td>\n",
       "      <td>25723</td>\n",
       "      <td>10944</td>\n",
       "      <td>25723</td>\n",
       "      <td>16681</td>\n",
       "    </tr>\n",
       "  </tbody>\n",
       "</table>\n",
       "</div>"
      ],
      "text/plain": [
       "           emp_id agency acces_sep_ind effective_dt    age pay_plan  grade  \\\n",
       "count       29044  29044         29044        29044  29044    29044  29044   \n",
       "unique      29044    188            16          157     14       74     29   \n",
       "top     009068987   AF1M            SD   2012-12-31  55-59       GS     11   \n",
       "freq            1   2765         15937         1682   7160    15078   3753   \n",
       "\n",
       "          los duty_station occupation occupation_cat basic_pay type_appoint  \\\n",
       "count   29044        29044      29044          29044     28718        29044   \n",
       "unique     11            2        530              7     10240           17   \n",
       "top       35+    #########       0856              B     38790           10   \n",
       "freq     6390        29023        714          10416       129        18312   \n",
       "\n",
       "       work_schedule dod_ind year_eff_dt month_eff_dt day_eff_dt  \\\n",
       "count          29043   29044       29044        29044      29044   \n",
       "unique             8       1          16            2         15   \n",
       "top                F       1        2007            1          3   \n",
       "freq           27995   29044        2999        25723      10944   \n",
       "\n",
       "       quarter_eff_dt week_eff_dt  \n",
       "count           29044       29044  \n",
       "unique              2           3  \n",
       "top                 1           0  \n",
       "freq            25723       16681  "
      ]
     },
     "execution_count": 13,
     "metadata": {},
     "output_type": "execute_result"
    }
   ],
   "source": [
    "df_data.describe()"
   ]
  },
  {
   "cell_type": "markdown",
   "metadata": {},
   "source": [
    "Data Cleaning and Transformations"
   ]
  },
  {
   "cell_type": "code",
   "execution_count": 16,
   "metadata": {
    "collapsed": false
   },
   "outputs": [
    {
     "data": {
      "text/html": [
       "\n",
       "          <script src=\"/static/components/requirejs/require.js\"></script>\n",
       "          <script>\n",
       "            requirejs.config({\n",
       "              paths: {\n",
       "                base: '/static/base',\n",
       "              },\n",
       "            });\n",
       "          </script>\n",
       "          "
      ],
      "text/plain": [
       "<IPython.core.display.HTML object>"
      ]
     },
     "metadata": {},
     "output_type": "display_data"
    }
   ],
   "source": [
    "# This code is packaged as a function that can be reused if you need to apply to future\n",
    "# datasets, esp. to prediction data, to ensure consistent transformations are applied.\n",
    "\n",
    "def transform_data(df):\n",
    "  \n",
    " \n",
    "  \n",
    "  interesting_columns = ['emp_id','age','basic_pay', 'dod_ind', 'pay_plan', 'grade','los', 'occupation_cat']\n",
    "  df = df[interesting_columns]\n",
    "  \n",
    "  # Replace whitespace with NaN, and NaNs with empty string\n",
    "  df = df.replace('\\s+', np.nan, regex=True).fillna('')\n",
    "\n",
    "  # Filter out the rows without an income, i.e. there is no target value to learn from\n",
    "  df = df[df.basic_pay != '']\n",
    "\n",
    "  \n",
    "  # Convert the wage value into units of 1000. So someone making an income from wages\n",
    "  # of $23200 will have it encoded as 23.2\n",
    "  df['basic_pay'] = df.basic_pay.astype(np.int64) / 1000.0\n",
    "\n",
    "  # Filter out rows with income values we don't care about, i.e. outliers\n",
    "  # Filter out rows with less than 10K and more than 150K\n",
    "  #df = df[(df.WAGP >= 10.0) & (df.WAGP < 150.0)]\n",
    "\n",
    "  return df"
   ]
  },
  {
   "cell_type": "code",
   "execution_count": 17,
   "metadata": {
    "collapsed": false
   },
   "outputs": [
    {
     "data": {
      "text/html": [
       "\n",
       "          <script src=\"/static/components/requirejs/require.js\"></script>\n",
       "          <script>\n",
       "            requirejs.config({\n",
       "              paths: {\n",
       "                base: '/static/base',\n",
       "              },\n",
       "            });\n",
       "          </script>\n",
       "          "
      ],
      "text/plain": [
       "<IPython.core.display.HTML object>"
      ]
     },
     "metadata": {},
     "output_type": "display_data"
    },
    {
     "name": "stdout",
     "output_type": "stream",
     "text": [
      "28718 rows\n"
     ]
    },
    {
     "data": {
      "text/html": [
       "<div>\n",
       "<table border=\"1\" class=\"dataframe\">\n",
       "  <thead>\n",
       "    <tr style=\"text-align: right;\">\n",
       "      <th></th>\n",
       "      <th>emp_id</th>\n",
       "      <th>age</th>\n",
       "      <th>basic_pay</th>\n",
       "      <th>dod_ind</th>\n",
       "      <th>pay_plan</th>\n",
       "      <th>grade</th>\n",
       "      <th>los</th>\n",
       "      <th>occupation_cat</th>\n",
       "    </tr>\n",
       "  </thead>\n",
       "  <tbody>\n",
       "    <tr>\n",
       "      <th>0</th>\n",
       "      <td>001731070</td>\n",
       "      <td>20-24</td>\n",
       "      <td>21.517</td>\n",
       "      <td>1</td>\n",
       "      <td>YB</td>\n",
       "      <td>01</td>\n",
       "      <td>1-2</td>\n",
       "      <td>*</td>\n",
       "    </tr>\n",
       "    <tr>\n",
       "      <th>9</th>\n",
       "      <td>001150242</td>\n",
       "      <td>50-54</td>\n",
       "      <td>58.124</td>\n",
       "      <td>1</td>\n",
       "      <td>GS</td>\n",
       "      <td>12</td>\n",
       "      <td>10-14</td>\n",
       "      <td>*</td>\n",
       "    </tr>\n",
       "    <tr>\n",
       "      <th>10</th>\n",
       "      <td>004432817</td>\n",
       "      <td>60-64</td>\n",
       "      <td>41.490</td>\n",
       "      <td>1</td>\n",
       "      <td>WG</td>\n",
       "      <td>10</td>\n",
       "      <td>20-24</td>\n",
       "      <td>*</td>\n",
       "    </tr>\n",
       "    <tr>\n",
       "      <th>11</th>\n",
       "      <td>004920194</td>\n",
       "      <td>40-44</td>\n",
       "      <td>27.480</td>\n",
       "      <td>1</td>\n",
       "      <td>YB</td>\n",
       "      <td>01</td>\n",
       "      <td>1-2</td>\n",
       "      <td>*</td>\n",
       "    </tr>\n",
       "    <tr>\n",
       "      <th>12</th>\n",
       "      <td>002593889</td>\n",
       "      <td>40-44</td>\n",
       "      <td>63.236</td>\n",
       "      <td>1</td>\n",
       "      <td>WB</td>\n",
       "      <td>00</td>\n",
       "      <td>3-4</td>\n",
       "      <td>*</td>\n",
       "    </tr>\n",
       "  </tbody>\n",
       "</table>\n",
       "</div>"
      ],
      "text/plain": [
       "       emp_id    age  basic_pay dod_ind pay_plan grade    los occupation_cat\n",
       "0   001731070  20-24     21.517       1       YB    01    1-2              *\n",
       "9   001150242  50-54     58.124       1       GS    12  10-14              *\n",
       "10  004432817  60-64     41.490       1       WG    10  20-24              *\n",
       "11  004920194  40-44     27.480       1       YB    01    1-2              *\n",
       "12  002593889  40-44     63.236       1       WB    00    3-4              *"
      ]
     },
     "execution_count": 17,
     "metadata": {},
     "output_type": "execute_result"
    }
   ],
   "source": [
    "df_data = transform_data(df_data)\n",
    "print '%d rows' % len(df_data)\n",
    "df_data.head()"
   ]
  },
  {
   "cell_type": "code",
   "execution_count": null,
   "metadata": {
    "collapsed": false
   },
   "outputs": [],
   "source": []
  },
  {
   "cell_type": "markdown",
   "metadata": {},
   "source": [
    "Creating Datasets"
   ]
  },
  {
   "cell_type": "code",
   "execution_count": 18,
   "metadata": {
    "collapsed": false
   },
   "outputs": [
    {
     "data": {
      "text/html": [
       "\n",
       "          <script src=\"/static/components/requirejs/require.js\"></script>\n",
       "          <script>\n",
       "            requirejs.config({\n",
       "              paths: {\n",
       "                base: '/static/base',\n",
       "              },\n",
       "            });\n",
       "          </script>\n",
       "          "
      ],
      "text/plain": [
       "<IPython.core.display.HTML object>"
      ]
     },
     "metadata": {},
     "output_type": "display_data"
    }
   ],
   "source": [
    "def create_schema(df):\n",
    "  fields = []\n",
    "  for name, dtype in zip(df.columns, df.dtypes):\n",
    "   \n",
    "    if dtype in (np.str, np.object):\n",
    "      # Categorical columns should have type 'STRING'\n",
    "      fields.append({'name': name, 'type': 'STRING'})\n",
    "    elif dtype in (np.int32, np.int64, np.float32, np.float64):\n",
    "      # Numerical columns have type 'FLOAT'\n",
    "      fields.append({'name': name, 'type': 'FLOAT'})\n",
    "    else:\n",
    "      raise ValueError('Unsupported column type \"%s\" in column \"%s\"' % (str(dtype), name))\n",
    "  return fields\n",
    "\n",
    "def create_datasets(df):\n",
    "  # Numbers in the range of [0, 1)\n",
    "  random_values = np.random.rand(len(df))\n",
    "\n",
    "  # Split data into %80, 20% partitions\n",
    "  df_train = df[random_values < 0.8]\n",
    "  df_eval = df[random_values >= 0.8]\n",
    "\n",
    "  return df_train, df_eval"
   ]
  },
  {
   "cell_type": "code",
   "execution_count": 20,
   "metadata": {
    "collapsed": false
   },
   "outputs": [
    {
     "data": {
      "text/html": [
       "\n",
       "          <script src=\"/static/components/requirejs/require.js\"></script>\n",
       "          <script>\n",
       "            requirejs.config({\n",
       "              paths: {\n",
       "                base: '/static/base',\n",
       "              },\n",
       "            });\n",
       "          </script>\n",
       "          "
      ],
      "text/plain": [
       "<IPython.core.display.HTML object>"
      ]
     },
     "metadata": {},
     "output_type": "display_data"
    }
   ],
   "source": [
    "df_train, df_eval = create_datasets(df_data)\n",
    "schema = create_schema(df_data)\n",
    "\n",
    "training_data_path = os.path.join(workspace_path, 'data/train.csv')\n",
    "eval_data_path = os.path.join(workspace_path, 'data/eval.csv')\n",
    "schema_path = os.path.join(workspace_path, 'data/schema.json')\n",
    "\n",
    "df_train.to_csv(training_data_path, header=False, index=False)\n",
    "df_eval.to_csv(eval_data_path, header=False, index=False)\n",
    "\n",
    "with open(schema_path, 'w') as f:\n",
    "  f.write(json.dumps(schema, indent=2))"
   ]
  },
  {
   "cell_type": "code",
   "execution_count": 21,
   "metadata": {
    "collapsed": false
   },
   "outputs": [
    {
     "data": {
      "text/html": [
       "\n",
       "          <script src=\"/static/components/requirejs/require.js\"></script>\n",
       "          <script>\n",
       "            requirejs.config({\n",
       "              paths: {\n",
       "                base: '/static/base',\n",
       "              },\n",
       "            });\n",
       "          </script>\n",
       "          "
      ],
      "text/plain": [
       "<IPython.core.display.HTML object>"
      ]
     },
     "metadata": {},
     "output_type": "display_data"
    },
    {
     "name": "stdout",
     "output_type": "stream",
     "text": [
      "total 3692\r\n",
      "-rw-r--r-- 1 root root  218391 Oct 27 01:16 eval.csv\r\n",
      "-rw-r--r-- 1 root root 2683201 Oct 27 01:13 sample_dynamic.csv\r\n",
      "-rw-r--r-- 1 root root     439 Oct 27 01:16 schema.json\r\n",
      "-rw-r--r-- 1 root root  868337 Oct 27 01:16 train.csv\r\n"
     ]
    }
   ],
   "source": [
    "!ls -l {workspace_path}/data"
   ]
  },
  {
   "cell_type": "code",
   "execution_count": 22,
   "metadata": {
    "collapsed": false
   },
   "outputs": [
    {
     "data": {
      "text/html": [
       "\n",
       "          <script src=\"/static/components/requirejs/require.js\"></script>\n",
       "          <script>\n",
       "            requirejs.config({\n",
       "              paths: {\n",
       "                base: '/static/base',\n",
       "              },\n",
       "            });\n",
       "          </script>\n",
       "          "
      ],
      "text/plain": [
       "<IPython.core.display.HTML object>"
      ]
     },
     "metadata": {},
     "output_type": "display_data"
    }
   ],
   "source": [
    "train_data = ml.CsvDataSet(file_pattern=training_data_path, schema_file=schema_path)\n",
    "eval_data = ml.CsvDataSet(file_pattern=eval_data_path, schema_file=schema_path)"
   ]
  },
  {
   "cell_type": "markdown",
   "metadata": {},
   "source": [
    "Analyzing Data"
   ]
  },
  {
   "cell_type": "code",
   "execution_count": 23,
   "metadata": {
    "collapsed": false
   },
   "outputs": [
    {
     "data": {
      "text/html": [
       "\n",
       "          <script src=\"/static/components/requirejs/require.js\"></script>\n",
       "          <script>\n",
       "            requirejs.config({\n",
       "              paths: {\n",
       "                base: '/static/base',\n",
       "              },\n",
       "            });\n",
       "          </script>\n",
       "          "
      ],
      "text/plain": [
       "<IPython.core.display.HTML object>"
      ]
     },
     "metadata": {},
     "output_type": "display_data"
    },
    {
     "name": "stdout",
     "output_type": "stream",
     "text": [
      "Analyze: completed\n"
     ]
    }
   ],
   "source": [
    "analysis_path = os.path.join(workspace_path, 'analysis')\n",
    "\n",
    "regression.analyze(dataset=train_data, output_dir=analysis_path)"
   ]
  },
  {
   "cell_type": "code",
   "execution_count": 24,
   "metadata": {
    "collapsed": false
   },
   "outputs": [
    {
     "data": {
      "text/html": [
       "\n",
       "          <script src=\"/static/components/requirejs/require.js\"></script>\n",
       "          <script>\n",
       "            requirejs.config({\n",
       "              paths: {\n",
       "                base: '/static/base',\n",
       "              },\n",
       "            });\n",
       "          </script>\n",
       "          "
      ],
      "text/plain": [
       "<IPython.core.display.HTML object>"
      ]
     },
     "metadata": {},
     "output_type": "display_data"
    },
    {
     "name": "stdout",
     "output_type": "stream",
     "text": [
      "schema.json    vocab_dod_ind.csv  vocab_los.csv\r\n",
      "stats.json     vocab_emp_id.csv   vocab_occupation_cat.csv\r\n",
      "vocab_age.csv  vocab_grade.csv\t  vocab_pay_plan.csv\r\n"
     ]
    }
   ],
   "source": [
    "!ls {analysis_path}"
   ]
  },
  {
   "cell_type": "markdown",
   "metadata": {},
   "source": [
    "Training"
   ]
  },
  {
   "cell_type": "code",
   "execution_count": 26,
   "metadata": {
    "collapsed": false
   },
   "outputs": [
    {
     "data": {
      "text/html": [
       "\n",
       "          <script src=\"/static/components/requirejs/require.js\"></script>\n",
       "          <script>\n",
       "            requirejs.config({\n",
       "              paths: {\n",
       "                base: '/static/base',\n",
       "              },\n",
       "            });\n",
       "          </script>\n",
       "          "
      ],
      "text/plain": [
       "<IPython.core.display.HTML object>"
      ]
     },
     "metadata": {},
     "output_type": "display_data"
    }
   ],
   "source": [
    "\n",
    "\n",
    "features = {\n",
    "  \"basic_pay\": {\"transform\": \"target\"},\n",
    "  \"emp_id\": {\"transform\": \"key\"},\n",
    "  \"age\": {\"transform\": \"one_hot\"},   \n",
    "  \"dod_ind\": {\"transform\": \"one_hot\"},    \n",
    "  \"pay_plan\": {\"transform\": \"one_hot\"}, \n",
    "  \"grade\": {\"transform\": \"one_hot\"},   \n",
    "  \"los\": {\"transform\": \"one_hot\"},    \n",
    "  \"occupation_cat\": {\"transform\": \"one_hot\"}\n",
    "}"
   ]
  },
  {
   "cell_type": "code",
   "execution_count": 27,
   "metadata": {
    "collapsed": false
   },
   "outputs": [
    {
     "data": {
      "text/html": [
       "\n",
       "          <script src=\"/static/components/requirejs/require.js\"></script>\n",
       "          <script>\n",
       "            requirejs.config({\n",
       "              paths: {\n",
       "                base: '/static/base',\n",
       "              },\n",
       "            });\n",
       "          </script>\n",
       "          "
      ],
      "text/plain": [
       "<IPython.core.display.HTML object>"
      ]
     },
     "metadata": {},
     "output_type": "display_data"
    }
   ],
   "source": [
    "#!rm -rf {training_path}"
   ]
  },
  {
   "cell_type": "code",
   "execution_count": 28,
   "metadata": {
    "collapsed": false
   },
   "outputs": [
    {
     "data": {
      "text/html": [
       "\n",
       "          <script src=\"/static/components/requirejs/require.js\"></script>\n",
       "          <script>\n",
       "            requirejs.config({\n",
       "              paths: {\n",
       "                base: '/static/base',\n",
       "              },\n",
       "            });\n",
       "          </script>\n",
       "          "
      ],
      "text/plain": [
       "<IPython.core.display.HTML object>"
      ]
     },
     "metadata": {},
     "output_type": "display_data"
    },
    {
     "name": "stdout",
     "output_type": "stream",
     "text": [
      "INFO:tensorflow:loss = 4318.8, step = 1\n",
      "INFO:tensorflow:Saving dict for global step 1: global_step = 1, loss = 4432.65\n",
      "INFO:tensorflow:global_step/sec: 94.6877\n",
      "INFO:tensorflow:loss = 685.871, step = 101 (1.057 sec)\n",
      "INFO:tensorflow:global_step/sec: 489.994\n",
      "INFO:tensorflow:loss = 142.398, step = 201 (0.204 sec)\n",
      "INFO:tensorflow:global_step/sec: 482.086\n",
      "INFO:tensorflow:loss = 369.73, step = 301 (0.208 sec)\n",
      "INFO:tensorflow:global_step/sec: 478.348\n",
      "INFO:tensorflow:loss = 114.415, step = 401 (0.209 sec)\n",
      "INFO:tensorflow:global_step/sec: 486.192\n",
      "INFO:tensorflow:loss = 472.407, step = 501 (0.205 sec)\n",
      "INFO:tensorflow:global_step/sec: 478.549\n",
      "INFO:tensorflow:loss = 143.991, step = 601 (0.209 sec)\n",
      "INFO:tensorflow:global_step/sec: 473.727\n",
      "INFO:tensorflow:loss = 343.775, step = 701 (0.211 sec)\n",
      "INFO:tensorflow:global_step/sec: 423.918\n",
      "INFO:tensorflow:loss = 129.788, step = 801 (0.236 sec)\n",
      "INFO:tensorflow:global_step/sec: 423.293\n",
      "INFO:tensorflow:loss = 65.5063, step = 901 (0.236 sec)\n",
      "INFO:tensorflow:global_step/sec: 429.332\n",
      "INFO:tensorflow:loss = 122.801, step = 1001 (0.233 sec)\n",
      "INFO:tensorflow:global_step/sec: 427.029\n",
      "INFO:tensorflow:loss = 78.1621, step = 1101 (0.234 sec)\n",
      "INFO:tensorflow:global_step/sec: 382.658\n",
      "INFO:tensorflow:loss = 176.377, step = 1201 (0.261 sec)\n",
      "INFO:tensorflow:global_step/sec: 427.317\n",
      "INFO:tensorflow:loss = 93.8814, step = 1301 (0.234 sec)\n",
      "INFO:tensorflow:global_step/sec: 468.475\n",
      "INFO:tensorflow:loss = 164.979, step = 1401 (0.213 sec)\n",
      "INFO:tensorflow:global_step/sec: 454.644\n",
      "INFO:tensorflow:loss = 95.229, step = 1501 (0.220 sec)\n",
      "INFO:tensorflow:global_step/sec: 438.129\n",
      "INFO:tensorflow:loss = 277.21, step = 1601 (0.228 sec)\n",
      "INFO:tensorflow:global_step/sec: 464.24\n",
      "INFO:tensorflow:loss = 245.644, step = 1701 (0.215 sec)\n",
      "INFO:tensorflow:global_step/sec: 449.38\n",
      "INFO:tensorflow:loss = 63.5874, step = 1801 (0.223 sec)\n",
      "INFO:tensorflow:global_step/sec: 467.226\n",
      "INFO:tensorflow:loss = 152.593, step = 1901 (0.214 sec)\n",
      "INFO:tensorflow:Saving dict for global step 2000: global_step = 2000, loss = 132.488\n",
      "Training: completed\n"
     ]
    }
   ],
   "source": [
    "training_path = os.path.join(workspace_path, 'training')\n",
    "regression.train(train_dataset=train_data, eval_dataset=eval_data,\n",
    "                 output_dir=training_path,\n",
    "                 analysis_dir=analysis_path,\n",
    "                 features=features,\n",
    "                 max_steps=2000,\n",
    "                 layer_sizes=[5, 5, 5])"
   ]
  },
  {
   "cell_type": "code",
   "execution_count": 30,
   "metadata": {
    "collapsed": false
   },
   "outputs": [
    {
     "data": {
      "text/html": [
       "\n",
       "          <script src=\"/static/components/requirejs/require.js\"></script>\n",
       "          <script>\n",
       "            requirejs.config({\n",
       "              paths: {\n",
       "                base: '/static/base',\n",
       "              },\n",
       "            });\n",
       "          </script>\n",
       "          "
      ],
      "text/plain": [
       "<IPython.core.display.HTML object>"
      ]
     },
     "metadata": {},
     "output_type": "display_data"
    },
    {
     "name": "stdout",
     "output_type": "stream",
     "text": [
      "/content/datalab/workspace/exploration/training/model:\r\n",
      "assets.extra  saved_model.pb  variables\r\n",
      "\r\n",
      "/content/datalab/workspace/exploration/training/model/assets.extra:\r\n",
      "features.json  schema.json\r\n",
      "\r\n",
      "/content/datalab/workspace/exploration/training/model/variables:\r\n",
      "variables.data-00000-of-00001  variables.index\r\n"
     ]
    }
   ],
   "source": [
    "!ls -R {training_path}/model"
   ]
  },
  {
   "cell_type": "code",
   "execution_count": null,
   "metadata": {
    "collapsed": true
   },
   "outputs": [],
   "source": []
  },
  {
   "cell_type": "markdown",
   "metadata": {},
   "source": [
    "Evaluation"
   ]
  },
  {
   "cell_type": "code",
   "execution_count": 31,
   "metadata": {
    "collapsed": false
   },
   "outputs": [
    {
     "data": {
      "text/html": [
       "\n",
       "          <script src=\"/static/components/requirejs/require.js\"></script>\n",
       "          <script>\n",
       "            requirejs.config({\n",
       "              paths: {\n",
       "                base: '/static/base',\n",
       "              },\n",
       "            });\n",
       "          </script>\n",
       "          "
      ],
      "text/plain": [
       "<IPython.core.display.HTML object>"
      ]
     },
     "metadata": {},
     "output_type": "display_data"
    },
    {
     "name": "stdout",
     "output_type": "stream",
     "text": [
      "INFO:tensorflow:Restoring parameters from /content/datalab/workspace/exploration/training/evaluation_model/variables/variables\n"
     ]
    },
    {
     "name": "stderr",
     "output_type": "stream",
     "text": [
      "INFO:tensorflow:Restoring parameters from /content/datalab/workspace/exploration/training/evaluation_model/variables/variables\n"
     ]
    },
    {
     "name": "stdout",
     "output_type": "stream",
     "text": [
      "INFO:tensorflow:Restoring parameters from /content/datalab/workspace/exploration/training/evaluation_model/variables/variables\n"
     ]
    },
    {
     "name": "stderr",
     "output_type": "stream",
     "text": [
      "INFO:tensorflow:Restoring parameters from /content/datalab/workspace/exploration/training/evaluation_model/variables/variables\n"
     ]
    },
    {
     "name": "stdout",
     "output_type": "stream",
     "text": [
      "INFO:tensorflow:Restoring parameters from /content/datalab/workspace/exploration/training/evaluation_model/variables/variables\n"
     ]
    },
    {
     "name": "stderr",
     "output_type": "stream",
     "text": [
      "INFO:tensorflow:Restoring parameters from /content/datalab/workspace/exploration/training/evaluation_model/variables/variables\n"
     ]
    },
    {
     "name": "stdout",
     "output_type": "stream",
     "text": [
      "INFO:tensorflow:Restoring parameters from /content/datalab/workspace/exploration/training/evaluation_model/variables/variables\n"
     ]
    },
    {
     "name": "stderr",
     "output_type": "stream",
     "text": [
      "INFO:tensorflow:Restoring parameters from /content/datalab/workspace/exploration/training/evaluation_model/variables/variables\n"
     ]
    },
    {
     "name": "stdout",
     "output_type": "stream",
     "text": [
      "INFO:tensorflow:Restoring parameters from /content/datalab/workspace/exploration/training/evaluation_model/variables/variables\n"
     ]
    },
    {
     "name": "stderr",
     "output_type": "stream",
     "text": [
      "INFO:tensorflow:Restoring parameters from /content/datalab/workspace/exploration/training/evaluation_model/variables/variables\n"
     ]
    },
    {
     "name": "stdout",
     "output_type": "stream",
     "text": [
      "INFO:tensorflow:Restoring parameters from /content/datalab/workspace/exploration/training/evaluation_model/variables/variables\n"
     ]
    },
    {
     "name": "stderr",
     "output_type": "stream",
     "text": [
      "INFO:tensorflow:Restoring parameters from /content/datalab/workspace/exploration/training/evaluation_model/variables/variables\n"
     ]
    },
    {
     "name": "stdout",
     "output_type": "stream",
     "text": [
      "Batch predict: completed\n"
     ]
    }
   ],
   "source": [
    "evaluation_path = os.path.join(workspace_path, 'evaluation')\n",
    "\n",
    "# Note the use of evaluation mode (as opposed to prediction mode). This is used to indicate the data being\n",
    "# predicted on contains a target value column (prediction data is missing that column).\n",
    "regression.batch_predict(training_dir=training_path,\n",
    "                         prediction_input_file=eval_data_path,\n",
    "                         output_dir=evaluation_path,\n",
    "                         output_format='json',\n",
    "                         mode='evaluation')"
   ]
  },
  {
   "cell_type": "code",
   "execution_count": 32,
   "metadata": {
    "collapsed": false
   },
   "outputs": [
    {
     "data": {
      "text/html": [
       "\n",
       "          <script src=\"/static/components/requirejs/require.js\"></script>\n",
       "          <script>\n",
       "            requirejs.config({\n",
       "              paths: {\n",
       "                base: '/static/base',\n",
       "              },\n",
       "            });\n",
       "          </script>\n",
       "          "
      ],
      "text/plain": [
       "<IPython.core.display.HTML object>"
      ]
     },
     "metadata": {},
     "output_type": "display_data"
    },
    {
     "name": "stdout",
     "output_type": "stream",
     "text": [
      "total 484\r\n",
      "-rw-r--r-- 1 root root     0 Oct 27 01:21 errors-00000-of-00001.txt\r\n",
      "-rw-r--r-- 1 root root 82939 Oct 27 01:21 predictions-00000-of-00006.json\r\n",
      "-rw-r--r-- 1 root root 83023 Oct 27 01:21 predictions-00001-of-00006.json\r\n",
      "-rw-r--r-- 1 root root 83154 Oct 27 01:21 predictions-00002-of-00006.json\r\n",
      "-rw-r--r-- 1 root root 83354 Oct 27 01:21 predictions-00003-of-00006.json\r\n",
      "-rw-r--r-- 1 root root 64719 Oct 27 01:21 predictions-00004-of-00006.json\r\n",
      "-rw-r--r-- 1 root root 82945 Oct 27 01:21 predictions-00005-of-00006.json\r\n"
     ]
    }
   ],
   "source": [
    "!ls -l {evaluation_path}"
   ]
  },
  {
   "cell_type": "code",
   "execution_count": 33,
   "metadata": {
    "collapsed": false
   },
   "outputs": [
    {
     "data": {
      "text/html": [
       "\n",
       "          <script src=\"/static/components/requirejs/require.js\"></script>\n",
       "          <script>\n",
       "            requirejs.config({\n",
       "              paths: {\n",
       "                base: '/static/base',\n",
       "              },\n",
       "            });\n",
       "          </script>\n",
       "          "
      ],
      "text/plain": [
       "<IPython.core.display.HTML object>"
      ]
     },
     "metadata": {},
     "output_type": "display_data"
    },
    {
     "data": {
      "text/html": [
       "<div>\n",
       "<table border=\"1\" class=\"dataframe\">\n",
       "  <thead>\n",
       "    <tr style=\"text-align: right;\">\n",
       "      <th></th>\n",
       "      <th>emp_id</th>\n",
       "      <th>predicted</th>\n",
       "      <th>target</th>\n",
       "    </tr>\n",
       "  </thead>\n",
       "  <tbody>\n",
       "    <tr>\n",
       "      <th>0</th>\n",
       "      <td>4226247</td>\n",
       "      <td>80.085144</td>\n",
       "      <td>79.278000</td>\n",
       "    </tr>\n",
       "    <tr>\n",
       "      <th>1</th>\n",
       "      <td>4413961</td>\n",
       "      <td>59.534580</td>\n",
       "      <td>56.009998</td>\n",
       "    </tr>\n",
       "    <tr>\n",
       "      <th>2</th>\n",
       "      <td>6460878</td>\n",
       "      <td>43.889889</td>\n",
       "      <td>38.862000</td>\n",
       "    </tr>\n",
       "    <tr>\n",
       "      <th>3</th>\n",
       "      <td>5687724</td>\n",
       "      <td>61.168255</td>\n",
       "      <td>43.502998</td>\n",
       "    </tr>\n",
       "    <tr>\n",
       "      <th>4</th>\n",
       "      <td>4144079</td>\n",
       "      <td>78.962311</td>\n",
       "      <td>67.125999</td>\n",
       "    </tr>\n",
       "  </tbody>\n",
       "</table>\n",
       "</div>"
      ],
      "text/plain": [
       "    emp_id  predicted     target\n",
       "0  4226247  80.085144  79.278000\n",
       "1  4413961  59.534580  56.009998\n",
       "2  6460878  43.889889  38.862000\n",
       "3  5687724  61.168255  43.502998\n",
       "4  4144079  78.962311  67.125999"
      ]
     },
     "execution_count": 33,
     "metadata": {},
     "output_type": "execute_result"
    }
   ],
   "source": [
    "df_eval = pd.read_json(os.path.join(evaluation_path, 'predictions-00000-of-00006.json'), lines=True)\n",
    "df_eval.head()"
   ]
  },
  {
   "cell_type": "code",
   "execution_count": 34,
   "metadata": {
    "collapsed": false
   },
   "outputs": [
    {
     "data": {
      "text/html": [
       "\n",
       "          <script src=\"/static/components/requirejs/require.js\"></script>\n",
       "          <script>\n",
       "            requirejs.config({\n",
       "              paths: {\n",
       "                base: '/static/base',\n",
       "              },\n",
       "            });\n",
       "          </script>\n",
       "          "
      ],
      "text/plain": [
       "<IPython.core.display.HTML object>"
      ]
     },
     "metadata": {},
     "output_type": "display_data"
    },
    {
     "data": {
      "text/html": [
       "<div>\n",
       "<table border=\"1\" class=\"dataframe\">\n",
       "  <thead>\n",
       "    <tr style=\"text-align: right;\">\n",
       "      <th></th>\n",
       "      <th>emp_id</th>\n",
       "      <th>predicted</th>\n",
       "      <th>target</th>\n",
       "    </tr>\n",
       "  </thead>\n",
       "  <tbody>\n",
       "    <tr>\n",
       "      <th>0</th>\n",
       "      <td>6178320</td>\n",
       "      <td>120.155174</td>\n",
       "      <td>122.472000</td>\n",
       "    </tr>\n",
       "    <tr>\n",
       "      <th>1</th>\n",
       "      <td>81648</td>\n",
       "      <td>111.216759</td>\n",
       "      <td>125.695000</td>\n",
       "    </tr>\n",
       "    <tr>\n",
       "      <th>2</th>\n",
       "      <td>4613783</td>\n",
       "      <td>130.385666</td>\n",
       "      <td>155.500000</td>\n",
       "    </tr>\n",
       "    <tr>\n",
       "      <th>3</th>\n",
       "      <td>9677241</td>\n",
       "      <td>118.372856</td>\n",
       "      <td>137.970993</td>\n",
       "    </tr>\n",
       "    <tr>\n",
       "      <th>4</th>\n",
       "      <td>802407</td>\n",
       "      <td>120.393005</td>\n",
       "      <td>137.888000</td>\n",
       "    </tr>\n",
       "  </tbody>\n",
       "</table>\n",
       "</div>"
      ],
      "text/plain": [
       "    emp_id   predicted      target\n",
       "0  6178320  120.155174  122.472000\n",
       "1    81648  111.216759  125.695000\n",
       "2  4613783  130.385666  155.500000\n",
       "3  9677241  118.372856  137.970993\n",
       "4   802407  120.393005  137.888000"
      ]
     },
     "execution_count": 34,
     "metadata": {},
     "output_type": "execute_result"
    }
   ],
   "source": [
    "df_eval = pd.read_json(os.path.join(evaluation_path, 'predictions-00001-of-00006.json'), lines=True)\n",
    "df_eval.head()"
   ]
  },
  {
   "cell_type": "code",
   "execution_count": 35,
   "metadata": {
    "collapsed": false
   },
   "outputs": [
    {
     "data": {
      "text/html": [
       "\n",
       "          <script src=\"/static/components/requirejs/require.js\"></script>\n",
       "          <script>\n",
       "            requirejs.config({\n",
       "              paths: {\n",
       "                base: '/static/base',\n",
       "              },\n",
       "            });\n",
       "          </script>\n",
       "          "
      ],
      "text/plain": [
       "<IPython.core.display.HTML object>"
      ]
     },
     "metadata": {},
     "output_type": "display_data"
    },
    {
     "name": "stdout",
     "output_type": "stream",
     "text": [
      "Root Mean Squared Error: 12.582\n"
     ]
    }
   ],
   "source": [
    "mse = metrics.mean_squared_error(df_eval['target'], df_eval['predicted'])\n",
    "rmse = math.sqrt(mse)\n",
    "print 'Root Mean Squared Error: %.3f' % rmse"
   ]
  },
  {
   "cell_type": "code",
   "execution_count": 36,
   "metadata": {
    "collapsed": false
   },
   "outputs": [
    {
     "data": {
      "text/html": [
       "\n",
       "          <script src=\"/static/components/requirejs/require.js\"></script>\n",
       "          <script>\n",
       "            requirejs.config({\n",
       "              paths: {\n",
       "                base: '/static/base',\n",
       "              },\n",
       "            });\n",
       "          </script>\n",
       "          "
      ],
      "text/plain": [
       "<IPython.core.display.HTML object>"
      ]
     },
     "metadata": {},
     "output_type": "display_data"
    },
    {
     "data": {
      "image/png": "[encoded data removed]",
      "text/plain": [
       "<matplotlib.figure.Figure at 0x7fa66f01be50>"
      ]
     },
     "metadata": {},
     "output_type": "display_data"
    }
   ],
   "source": [
    "df_eval['error'] = df_eval['predicted'] - df_eval['target']\n",
    "_ = plot.hist(df_eval['error'], bins=20)"
   ]
  },
  {
   "cell_type": "code",
   "execution_count": null,
   "metadata": {
    "collapsed": true
   },
   "outputs": [],
   "source": []
  }
 ],
 "metadata": {
  "kernelspec": {
   "display_name": "Python 2",
   "language": "python",
   "name": "python2"
  },
  "language_info": {
   "codemirror_mode": {
    "name": "ipython",
    "version": 2
   },
   "file_extension": ".py",
   "mimetype": "text/x-python",
   "name": "python",
   "nbconvert_exporter": "python",
   "pygments_lexer": "ipython2",
   "version": "2.7.12"
  }
 },
 "nbformat": 4,
 "nbformat_minor": 2
}
