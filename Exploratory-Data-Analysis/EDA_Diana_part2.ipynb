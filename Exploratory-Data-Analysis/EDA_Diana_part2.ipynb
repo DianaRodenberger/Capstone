{
 "cells": [
  {
   "cell_type": "markdown",
   "metadata": {},
   "source": [
    "# Exploratory Analysis"
   ]
  },
  {
   "cell_type": "markdown",
   "metadata": {},
   "source": [
    "### Summary of WorkForce database for project"
   ]
  },
  {
   "cell_type": "markdown",
   "metadata": {},
   "source": [
    "##### Number of records, employees and time period"
   ]
  },
  {
   "cell_type": "code",
   "execution_count": 1,
   "metadata": {
    "collapsed": false
   },
   "outputs": [
    {
     "data": {
      "text/html": [
       "\n",
       "          <script src=\"/static/components/requirejs/require.js\"></script>\n",
       "          <script>\n",
       "            requirejs.config({\n",
       "              paths: {\n",
       "                base: '/static/base',\n",
       "              },\n",
       "            });\n",
       "          </script>\n",
       "          "
      ],
      "text/plain": [
       "<IPython.core.display.HTML object>"
      ]
     },
     "metadata": {},
     "output_type": "display_data"
    },
    {
     "data": {
      "text/html": [
       "\n",
       "    <div class=\"bqtv\" id=\"1_150989576183\"><table><tr><th>num_records</th><th>num_employees</th><th>earliest_date</th><th>latest_date</th></tr><tr><td>7441649</td><td>3871680</td><td>1998-03-26</td><td>2014-06-30</td></tr></table></div>\n",
       "    <br />(rows: 1, time: 10.6s,   141MB processed, job: job_mYOhxg992xmrX4Yk3kmSTxoyCn-G)<br />\n",
       "    <script>\n",
       "\n",
       "      require.config({\n",
       "        paths: {\n",
       "          d3: '//cdnjs.cloudflare.com/ajax/libs/d3/3.4.13/d3',\n",
       "          plotly: 'https://cdn.plot.ly/plotly-1.5.1.min.js?noext',\n",
       "          jquery: '//ajax.googleapis.com/ajax/libs/jquery/2.0.0/jquery.min'\n",
       "        },\n",
       "        map: {\n",
       "          '*': {\n",
       "            datalab: 'nbextensions/gcpdatalab'\n",
       "          }\n",
       "        },\n",
       "        shim: {\n",
       "          plotly: {\n",
       "            deps: ['d3', 'jquery'],\n",
       "            exports: 'plotly'\n",
       "          }\n",
       "        }\n",
       "      });\n",
       "\n",
       "      require(['datalab/charting', 'datalab/element!1_150989576183', 'base/js/events',\n",
       "          'datalab/style!/nbextensions/gcpdatalab/charting.css'],\n",
       "        function(charts, dom, events) {\n",
       "          charts.render('gcharts', dom, events, 'table', [], {\"rows\": [{\"c\": [{\"v\": 7441649}, {\"v\": 3871680}, {\"v\": \"1998-03-26\"}, {\"v\": \"2014-06-30\"}]}], \"cols\": [{\"type\": \"number\", \"id\": \"num_records\", \"label\": \"num_records\"}, {\"type\": \"number\", \"id\": \"num_employees\", \"label\": \"num_employees\"}, {\"type\": \"date\", \"id\": \"earliest_date\", \"label\": \"earliest_date\"}, {\"type\": \"date\", \"id\": \"latest_date\", \"label\": \"latest_date\"}]},\n",
       "            {\n",
       "              pageSize: 25,\n",
       "              cssClassNames:  {\n",
       "                tableRow: 'gchart-table-row',\n",
       "                headerRow: 'gchart-table-headerrow',\n",
       "                oddTableRow: 'gchart-table-oddrow',\n",
       "                selectedTableRow: 'gchart-table-selectedrow',\n",
       "                hoverTableRow: 'gchart-table-hoverrow',\n",
       "                tableCell: 'gchart-table-cell',\n",
       "                headerCell: 'gchart-table-headercell',\n",
       "                rowNumberCell: 'gchart-table-rownumcell'\n",
       "              }\n",
       "            },\n",
       "            {source_index: 0, fields: 'num_records,num_employees,earliest_date,latest_date'},\n",
       "            0,\n",
       "            1);\n",
       "        }\n",
       "      );\n",
       "    </script>\n",
       "  "
      ],
      "text/plain": [
       "QueryResultsTable job_mYOhxg992xmrX4Yk3kmSTxoyCn-G"
      ]
     },
     "execution_count": 1,
     "metadata": {},
     "output_type": "execute_result"
    }
   ],
   "source": [
    "%%bq query\n",
    "#Number of records in database\n",
    "SELECT COUNT(*) AS num_records, COUNT(DISTINCT emp_id) as num_employees, MIN(effective_dt) as earliest_date, MAX(effective_dt) as latest_date\n",
    "FROM `w210-fedwork.processed_data.dynamic`\n"
   ]
  },
  {
   "cell_type": "markdown",
   "metadata": {},
   "source": [
    "##### Per Year"
   ]
  },
  {
   "cell_type": "code",
   "execution_count": 10,
   "metadata": {
    "collapsed": false
   },
   "outputs": [
    {
     "data": {
      "text/html": [
       "\n",
       "          <script src=\"/static/components/requirejs/require.js\"></script>\n",
       "          <script>\n",
       "            requirejs.config({\n",
       "              paths: {\n",
       "                base: '/static/base',\n",
       "              },\n",
       "            });\n",
       "          </script>\n",
       "          "
      ],
      "text/plain": [
       "<IPython.core.display.HTML object>"
      ]
     },
     "metadata": {},
     "output_type": "display_data"
    },
    {
     "data": {
      "text/html": [
       "\n",
       "    <div class=\"bqtv\" id=\"3_150983173351\"><table><tr><th>year_eff_dt</th><th>num_emp_ids</th><th>num_records</th></tr><tr><td>1998</td><td>320</td><td>328</td></tr><tr><td>1999</td><td>4713</td><td>4968</td></tr><tr><td>2000</td><td>365974</td><td>481588</td></tr><tr><td>2001</td><td>368521</td><td>483725</td></tr><tr><td>2002</td><td>426396</td><td>540275</td></tr><tr><td>2003</td><td>508981</td><td>788030</td></tr><tr><td>2004</td><td>384060</td><td>485110</td></tr><tr><td>2005</td><td>388632</td><td>488732</td></tr><tr><td>2006</td><td>385340</td><td>481285</td></tr><tr><td>2007</td><td>410979</td><td>516972</td></tr><tr><td>2008</td><td>446668</td><td>557924</td></tr><tr><td>2009</td><td>425962</td><td>528293</td></tr><tr><td>2010</td><td>436697</td><td>541802</td></tr><tr><td>2011</td><td>397021</td><td>492847</td></tr><tr><td>2012</td><td>365934</td><td>451416</td></tr><tr><td>2013</td><td>314462</td><td>382982</td></tr><tr><td>2014</td><td>195091</td><td>215372</td></tr></table></div>\n",
       "    <br />(rows: 17, time: 0.6s, cached, job: job_qwCbU4JOfuBxvM8X_XX04nWR9QxJ)<br />\n",
       "    <script>\n",
       "\n",
       "      require.config({\n",
       "        paths: {\n",
       "          d3: '//cdnjs.cloudflare.com/ajax/libs/d3/3.4.13/d3',\n",
       "          plotly: 'https://cdn.plot.ly/plotly-1.5.1.min.js?noext',\n",
       "          jquery: '//ajax.googleapis.com/ajax/libs/jquery/2.0.0/jquery.min'\n",
       "        },\n",
       "        map: {\n",
       "          '*': {\n",
       "            datalab: 'nbextensions/gcpdatalab'\n",
       "          }\n",
       "        },\n",
       "        shim: {\n",
       "          plotly: {\n",
       "            deps: ['d3', 'jquery'],\n",
       "            exports: 'plotly'\n",
       "          }\n",
       "        }\n",
       "      });\n",
       "\n",
       "      require(['datalab/charting', 'datalab/element!3_150983173351', 'base/js/events',\n",
       "          'datalab/style!/nbextensions/gcpdatalab/charting.css'],\n",
       "        function(charts, dom, events) {\n",
       "          charts.render('gcharts', dom, events, 'table', [], {\"rows\": [{\"c\": [{\"v\": 1998}, {\"v\": 320}, {\"v\": 328}]}, {\"c\": [{\"v\": 1999}, {\"v\": 4713}, {\"v\": 4968}]}, {\"c\": [{\"v\": 2000}, {\"v\": 365974}, {\"v\": 481588}]}, {\"c\": [{\"v\": 2001}, {\"v\": 368521}, {\"v\": 483725}]}, {\"c\": [{\"v\": 2002}, {\"v\": 426396}, {\"v\": 540275}]}, {\"c\": [{\"v\": 2003}, {\"v\": 508981}, {\"v\": 788030}]}, {\"c\": [{\"v\": 2004}, {\"v\": 384060}, {\"v\": 485110}]}, {\"c\": [{\"v\": 2005}, {\"v\": 388632}, {\"v\": 488732}]}, {\"c\": [{\"v\": 2006}, {\"v\": 385340}, {\"v\": 481285}]}, {\"c\": [{\"v\": 2007}, {\"v\": 410979}, {\"v\": 516972}]}, {\"c\": [{\"v\": 2008}, {\"v\": 446668}, {\"v\": 557924}]}, {\"c\": [{\"v\": 2009}, {\"v\": 425962}, {\"v\": 528293}]}, {\"c\": [{\"v\": 2010}, {\"v\": 436697}, {\"v\": 541802}]}, {\"c\": [{\"v\": 2011}, {\"v\": 397021}, {\"v\": 492847}]}, {\"c\": [{\"v\": 2012}, {\"v\": 365934}, {\"v\": 451416}]}, {\"c\": [{\"v\": 2013}, {\"v\": 314462}, {\"v\": 382982}]}, {\"c\": [{\"v\": 2014}, {\"v\": 195091}, {\"v\": 215372}]}], \"cols\": [{\"type\": \"number\", \"id\": \"year_eff_dt\", \"label\": \"year_eff_dt\"}, {\"type\": \"number\", \"id\": \"num_emp_ids\", \"label\": \"num_emp_ids\"}, {\"type\": \"number\", \"id\": \"num_records\", \"label\": \"num_records\"}]},\n",
       "            {\n",
       "              pageSize: 25,\n",
       "              cssClassNames:  {\n",
       "                tableRow: 'gchart-table-row',\n",
       "                headerRow: 'gchart-table-headerrow',\n",
       "                oddTableRow: 'gchart-table-oddrow',\n",
       "                selectedTableRow: 'gchart-table-selectedrow',\n",
       "                hoverTableRow: 'gchart-table-hoverrow',\n",
       "                tableCell: 'gchart-table-cell',\n",
       "                headerCell: 'gchart-table-headercell',\n",
       "                rowNumberCell: 'gchart-table-rownumcell'\n",
       "              }\n",
       "            },\n",
       "            {source_index: 1, fields: 'year_eff_dt,num_emp_ids,num_records'},\n",
       "            0,\n",
       "            17);\n",
       "        }\n",
       "      );\n",
       "    </script>\n",
       "  "
      ],
      "text/plain": [
       "QueryResultsTable job_qwCbU4JOfuBxvM8X_XX04nWR9QxJ"
      ]
     },
     "execution_count": 10,
     "metadata": {},
     "output_type": "execute_result"
    }
   ],
   "source": [
    "%%bq query\n",
    "\n",
    "SELECT year_eff_dt\n",
    "  ,COUNT(DISTINCT emp_id) as num_emp_ids  # number of employees with a changed in their job per year\n",
    "  ,COUNT(*) as num_records    # number of personal actions recorded per year\n",
    "FROM `w210-fedwork.processed_data.dynamic`\n",
    "GROUP BY year_eff_dt\n",
    "ORDER BY year_eff_dt"
   ]
  },
  {
   "cell_type": "code",
   "execution_count": 8,
   "metadata": {
    "collapsed": false
   },
   "outputs": [
    {
     "data": {
      "text/html": [
       "\n",
       "          <script src=\"/static/components/requirejs/require.js\"></script>\n",
       "          <script>\n",
       "            requirejs.config({\n",
       "              paths: {\n",
       "                base: '/static/base',\n",
       "              },\n",
       "            });\n",
       "          </script>\n",
       "          "
      ],
      "text/plain": [
       "<IPython.core.display.HTML object>"
      ]
     },
     "metadata": {},
     "output_type": "display_data"
    }
   ],
   "source": [
    "%%bq query --name num_emp_year\n",
    "\n",
    "SELECT year_eff_dt\n",
    "  ,COUNT(DISTINCT emp_id) as num_emp_ids  # number of employees with a changed in their job per year\n",
    "  ,COUNT(*) as num_records    # number of personal actions recorded per year\n",
    "FROM `w210-fedwork.processed_data.dynamic`\n",
    "GROUP BY year_eff_dt\n",
    "ORDER BY year_eff_dt"
   ]
  },
  {
   "cell_type": "code",
   "execution_count": 9,
   "metadata": {
    "collapsed": false
   },
   "outputs": [
    {
     "data": {
      "text/html": [
       "\n",
       "          <script src=\"/static/components/requirejs/require.js\"></script>\n",
       "          <script>\n",
       "            requirejs.config({\n",
       "              paths: {\n",
       "                base: '/static/base',\n",
       "              },\n",
       "            });\n",
       "          </script>\n",
       "          "
      ],
      "text/plain": [
       "<IPython.core.display.HTML object>"
      ]
     },
     "metadata": {},
     "output_type": "display_data"
    },
    {
     "data": {
      "text/html": [
       "\n",
       "    <div class=\"bqgc-container\">\n",
       "      \n",
       "      <div class=\"bqgc \" id=\"1_150983147796\">\n",
       "      </div>\n",
       "    </div>\n",
       "    <script>\n",
       "\n",
       "      require.config({\n",
       "        paths: {\n",
       "          d3: '//cdnjs.cloudflare.com/ajax/libs/d3/3.4.13/d3',\n",
       "          plotly: 'https://cdn.plot.ly/plotly-1.5.1.min.js?noext',\n",
       "          jquery: '//ajax.googleapis.com/ajax/libs/jquery/2.0.0/jquery.min'\n",
       "        },\n",
       "        map: {\n",
       "          '*': {\n",
       "            datalab: 'nbextensions/gcpdatalab'\n",
       "          }\n",
       "        },\n",
       "        shim: {\n",
       "          plotly: {\n",
       "            deps: ['d3', 'jquery'],\n",
       "            exports: 'plotly'\n",
       "          }\n",
       "        }\n",
       "      });\n",
       "\n",
       "      require(['datalab/charting',\n",
       "               'datalab/element!1_150983147796',\n",
       "               'base/js/events',\n",
       "               'datalab/style!/nbextensions/gcpdatalab/charting.css'\n",
       "              ],\n",
       "        function(charts, dom, events) {\n",
       "          charts.render(\n",
       "              'gcharts',\n",
       "              dom,\n",
       "              events,\n",
       "              'columns',\n",
       "              [],\n",
       "              {\"rows\": [{\"c\": [{\"v\": 1998}, {\"v\": 320}, {\"v\": 328}]}, {\"c\": [{\"v\": 1999}, {\"v\": 4713}, {\"v\": 4968}]}, {\"c\": [{\"v\": 2000}, {\"v\": 365974}, {\"v\": 481588}]}, {\"c\": [{\"v\": 2001}, {\"v\": 368521}, {\"v\": 483725}]}, {\"c\": [{\"v\": 2002}, {\"v\": 426396}, {\"v\": 540275}]}, {\"c\": [{\"v\": 2003}, {\"v\": 508981}, {\"v\": 788030}]}, {\"c\": [{\"v\": 2004}, {\"v\": 384060}, {\"v\": 485110}]}, {\"c\": [{\"v\": 2005}, {\"v\": 388632}, {\"v\": 488732}]}, {\"c\": [{\"v\": 2006}, {\"v\": 385340}, {\"v\": 481285}]}, {\"c\": [{\"v\": 2007}, {\"v\": 410979}, {\"v\": 516972}]}, {\"c\": [{\"v\": 2008}, {\"v\": 446668}, {\"v\": 557924}]}, {\"c\": [{\"v\": 2009}, {\"v\": 425962}, {\"v\": 528293}]}, {\"c\": [{\"v\": 2010}, {\"v\": 436697}, {\"v\": 541802}]}, {\"c\": [{\"v\": 2011}, {\"v\": 397021}, {\"v\": 492847}]}, {\"c\": [{\"v\": 2012}, {\"v\": 365934}, {\"v\": 451416}]}, {\"c\": [{\"v\": 2013}, {\"v\": 314462}, {\"v\": 382982}]}, {\"c\": [{\"v\": 2014}, {\"v\": 195091}, {\"v\": 215372}]}], \"cols\": [{\"type\": \"number\", \"id\": \"year_eff_dt\", \"label\": \"year_eff_dt\"}, {\"type\": \"number\", \"id\": \"num_emp_ids\", \"label\": \"num_emp_ids\"}, {\"type\": \"number\", \"id\": \"num_records\", \"label\": \"num_records\"}]},\n",
       "              {},\n",
       "              {\"fields\": \"year_eff_dt,num_emp_ids,num_records\", \"source_index\": 0, \"name\": 0},\n",
       "              0,\n",
       "              17);\n",
       "          }\n",
       "        );\n",
       "    </script>\n",
       "  "
      ],
      "text/plain": [
       "<IPython.core.display.HTML object>"
      ]
     },
     "execution_count": 9,
     "metadata": {},
     "output_type": "execute_result"
    },
    {
     "data": {
      "image/png": "[encoded data removed]"
     },
     "metadata": {
      "source_id": "1_150983147796"
     },
     "output_type": "display_data"
    }
   ],
   "source": [
    "%chart columns --data num_emp_year --fields year_eff_dt,num_emp_ids,num_records"
   ]
  },
  {
   "cell_type": "markdown",
   "metadata": {},
   "source": [
    "#### Conclusion:\n",
    "* There are very few records for years 1998 and 1999. These could potentially be eliminated from the analysis\n",
    "* There is a significant increase in the number of personel actions in year 2003\n"
   ]
  },
  {
   "cell_type": "markdown",
   "metadata": {},
   "source": [
    "### Analysis of variable ACCES_SEP_IND\n",
    "\n",
    "ACCES_SEP_IND: A personnel action resulting in the addition of an employee to an agency’s staff or the loss of an employee from an agency’s staff.\n",
    "\n",
    "\n",
    "| Accessions/Separations Code        | Description           |\n",
    "| ------------- |:--------------|\n",
    "|AA             |Transfer In - Individual Transfer|\n",
    "|AB             |Transfer In - Mass Transfer|\n",
    "|AC             |New Hire - Competitive Service Appointment|\n",
    "|AD             |New Hire - Excepted Service Appointment|\n",
    "|AE             |New Hire - Senior Executive Service (SES) Appt|\n",
    "|SA             |Transfer Out - Individual Transfer|\n",
    "|SB             |Transfer Out - Mass Transfer|\n",
    "|SC             |Quit|\n",
    "|SD             |Retirement - Voluntary|\n",
    "|SE             |Retirement - Early Out|\n",
    "|SF             |Retirement - Disability|\n",
    "|SG             |Retirement - Other|\n",
    "|SH             |Reduction In Force (RIF)|\n",
    "|SI             |Termination or Removal (Discipline/Performance)|\n",
    "|SJ             |Termination (Expired Appt/Other)|\n",
    "|SK             |Death|\n",
    "|SL             |Other Separation|\n"
   ]
  },
  {
   "cell_type": "code",
   "execution_count": 12,
   "metadata": {
    "collapsed": false
   },
   "outputs": [
    {
     "data": {
      "text/html": [
       "\n",
       "          <script src=\"/static/components/requirejs/require.js\"></script>\n",
       "          <script>\n",
       "            requirejs.config({\n",
       "              paths: {\n",
       "                base: '/static/base',\n",
       "              },\n",
       "            });\n",
       "          </script>\n",
       "          "
      ],
      "text/plain": [
       "<IPython.core.display.HTML object>"
      ]
     },
     "metadata": {},
     "output_type": "display_data"
    },
    {
     "data": {
      "text/html": [
       "\n",
       "    <div class=\"bqtv\" id=\"4_150983562702\"><table><tr><th>avg_num_changes</th><th>quantiles_num_changes</th></tr><tr><td>1.62233113274</td><td>[1, 1, 9]</td></tr></table></div>\n",
       "    <br />(rows: 1, time: 12.9s,   111MB processed, job: job_C2TPnS5U69u20YuDaXPc9NjZVhzs)<br />\n",
       "    <script>\n",
       "\n",
       "      require.config({\n",
       "        paths: {\n",
       "          d3: '//cdnjs.cloudflare.com/ajax/libs/d3/3.4.13/d3',\n",
       "          plotly: 'https://cdn.plot.ly/plotly-1.5.1.min.js?noext',\n",
       "          jquery: '//ajax.googleapis.com/ajax/libs/jquery/2.0.0/jquery.min'\n",
       "        },\n",
       "        map: {\n",
       "          '*': {\n",
       "            datalab: 'nbextensions/gcpdatalab'\n",
       "          }\n",
       "        },\n",
       "        shim: {\n",
       "          plotly: {\n",
       "            deps: ['d3', 'jquery'],\n",
       "            exports: 'plotly'\n",
       "          }\n",
       "        }\n",
       "      });\n",
       "\n",
       "      require(['datalab/charting', 'datalab/element!4_150983562702', 'base/js/events',\n",
       "          'datalab/style!/nbextensions/gcpdatalab/charting.css'],\n",
       "        function(charts, dom, events) {\n",
       "          charts.render('gcharts', dom, events, 'table', [], {\"rows\": [{\"c\": [{\"v\": 1.6223311327382424}, {\"v\": [1, 1, 9]}]}], \"cols\": [{\"type\": \"number\", \"id\": \"avg_num_changes\", \"label\": \"avg_num_changes\"}, {\"type\": \"string\", \"id\": \"quantiles_num_changes\", \"label\": \"quantiles_num_changes\"}]},\n",
       "            {\n",
       "              pageSize: 25,\n",
       "              cssClassNames:  {\n",
       "                tableRow: 'gchart-table-row',\n",
       "                headerRow: 'gchart-table-headerrow',\n",
       "                oddTableRow: 'gchart-table-oddrow',\n",
       "                selectedTableRow: 'gchart-table-selectedrow',\n",
       "                hoverTableRow: 'gchart-table-hoverrow',\n",
       "                tableCell: 'gchart-table-cell',\n",
       "                headerCell: 'gchart-table-headercell',\n",
       "                rowNumberCell: 'gchart-table-rownumcell'\n",
       "              }\n",
       "            },\n",
       "            {source_index: 2, fields: 'avg_num_changes,quantiles_num_changes'},\n",
       "            0,\n",
       "            1);\n",
       "        }\n",
       "      );\n",
       "    </script>\n",
       "  "
      ],
      "text/plain": [
       "QueryResultsTable job_C2TPnS5U69u20YuDaXPc9NjZVhzs"
      ]
     },
     "execution_count": 12,
     "metadata": {},
     "output_type": "execute_result"
    }
   ],
   "source": [
    "%%bq query\n",
    "\n",
    "SELECT AVG(num_changes) as avg_num_changes\n",
    "       ,APPROX_QUANTILES(num_changes,2) as quantiles_num_changes\n",
    "FROM (\n",
    "SELECT emp_id, COUNT(DISTINCT acces_sep_ind) as num_changes\n",
    "FROM `w210-fedwork.processed_data.dynamic`\n",
    "GROUP BY emp_id\n",
    "  ) as a"
   ]
  },
  {
   "cell_type": "markdown",
   "metadata": {},
   "source": [
    "In the time period 1998-2014, the averge num of personel actions per employee is **avg=1.62, median=1**"
   ]
  },
  {
   "cell_type": "markdown",
   "metadata": {},
   "source": [
    "##### Distribution of personel actions "
   ]
  },
  {
   "cell_type": "code",
   "execution_count": 16,
   "metadata": {
    "collapsed": false
   },
   "outputs": [
    {
     "data": {
      "text/html": [
       "\n",
       "          <script src=\"/static/components/requirejs/require.js\"></script>\n",
       "          <script>\n",
       "            requirejs.config({\n",
       "              paths: {\n",
       "                base: '/static/base',\n",
       "              },\n",
       "            });\n",
       "          </script>\n",
       "          "
      ],
      "text/plain": [
       "<IPython.core.display.HTML object>"
      ]
     },
     "metadata": {},
     "output_type": "display_data"
    }
   ],
   "source": [
    "%%bq query --name dist_acces_ind\n",
    "\n",
    "SELECT acces_sep_ind, COUNT(*) as num_actions\n",
    "FROM `w210-fedwork.processed_data.dynamic`\n",
    "GROUP BY acces_sep_ind\n",
    "ORDER BY acces_sep_ind"
   ]
  },
  {
   "cell_type": "code",
   "execution_count": 17,
   "metadata": {
    "collapsed": false
   },
   "outputs": [
    {
     "data": {
      "text/html": [
       "\n",
       "          <script src=\"/static/components/requirejs/require.js\"></script>\n",
       "          <script>\n",
       "            requirejs.config({\n",
       "              paths: {\n",
       "                base: '/static/base',\n",
       "              },\n",
       "            });\n",
       "          </script>\n",
       "          "
      ],
      "text/plain": [
       "<IPython.core.display.HTML object>"
      ]
     },
     "metadata": {},
     "output_type": "display_data"
    },
    {
     "data": {
      "text/html": [
       "\n",
       "    <div class=\"bqgc-container\">\n",
       "      \n",
       "      <div class=\"bqgc \" id=\"2_150983672888\">\n",
       "      </div>\n",
       "    </div>\n",
       "    <script>\n",
       "\n",
       "      require.config({\n",
       "        paths: {\n",
       "          d3: '//cdnjs.cloudflare.com/ajax/libs/d3/3.4.13/d3',\n",
       "          plotly: 'https://cdn.plot.ly/plotly-1.5.1.min.js?noext',\n",
       "          jquery: '//ajax.googleapis.com/ajax/libs/jquery/2.0.0/jquery.min'\n",
       "        },\n",
       "        map: {\n",
       "          '*': {\n",
       "            datalab: 'nbextensions/gcpdatalab'\n",
       "          }\n",
       "        },\n",
       "        shim: {\n",
       "          plotly: {\n",
       "            deps: ['d3', 'jquery'],\n",
       "            exports: 'plotly'\n",
       "          }\n",
       "        }\n",
       "      });\n",
       "\n",
       "      require(['datalab/charting',\n",
       "               'datalab/element!2_150983672888',\n",
       "               'base/js/events',\n",
       "               'datalab/style!/nbextensions/gcpdatalab/charting.css'\n",
       "              ],\n",
       "        function(charts, dom, events) {\n",
       "          charts.render(\n",
       "              'gcharts',\n",
       "              dom,\n",
       "              events,\n",
       "              'columns',\n",
       "              [],\n",
       "              {\"rows\": [{\"c\": [{\"v\": \"AA\"}, {\"v\": 177799}]}, {\"c\": [{\"v\": \"AB\"}, {\"v\": 185887}]}, {\"c\": [{\"v\": \"AC\"}, {\"v\": 1550647}]}, {\"c\": [{\"v\": \"AD\"}, {\"v\": 2024348}]}, {\"c\": [{\"v\": \"AE\"}, {\"v\": 5104}]}, {\"c\": [{\"v\": \"SA\"}, {\"v\": 288846}]}, {\"c\": [{\"v\": \"SB\"}, {\"v\": 189439}]}, {\"c\": [{\"v\": \"SC\"}, {\"v\": 1206724}]}, {\"c\": [{\"v\": \"SD\"}, {\"v\": 664419}]}, {\"c\": [{\"v\": \"SE\"}, {\"v\": 67907}]}, {\"c\": [{\"v\": \"SF\"}, {\"v\": 67588}]}, {\"c\": [{\"v\": \"SG\"}, {\"v\": 22152}]}, {\"c\": [{\"v\": \"SH\"}, {\"v\": 19020}]}, {\"c\": [{\"v\": \"SI\"}, {\"v\": 29479}]}, {\"c\": [{\"v\": \"SJ\"}, {\"v\": 894926}]}, {\"c\": [{\"v\": \"SK\"}, {\"v\": 46004}]}, {\"c\": [{\"v\": \"SL\"}, {\"v\": 1360}]}], \"cols\": [{\"type\": \"string\", \"id\": \"acces_sep_ind\", \"label\": \"acces_sep_ind\"}, {\"type\": \"number\", \"id\": \"num_actions\", \"label\": \"num_actions\"}]},\n",
       "              {},\n",
       "              {\"fields\": \"acces_sep_ind,num_actions\", \"source_index\": 1, \"name\": 1},\n",
       "              0,\n",
       "              17);\n",
       "          }\n",
       "        );\n",
       "    </script>\n",
       "  "
      ],
      "text/plain": [
       "<IPython.core.display.HTML object>"
      ]
     },
     "execution_count": 17,
     "metadata": {},
     "output_type": "execute_result"
    },
    {
     "data": {
      "image/png": "[encoded data removed]"
     },
     "metadata": {
      "source_id": "2_150983672888"
     },
     "output_type": "display_data"
    }
   ],
   "source": [
    "%chart columns --data dist_acces_ind --fields acces_sep_ind,num_actions"
   ]
  },
  {
   "cell_type": "markdown",
   "metadata": {},
   "source": [
    "There are more hires than terminations (voluntary, retirements or disciplined). This is consistent with the documentation of the dataset: \n",
    "\n",
    "\"Employees in the following situations are counted as new hires rather than\n",
    "transfers-in:\n",
    "\n",
    "1. Employees who moved from an Excepted Service position.\n",
    "2. Employees who moved from one type of Federal service to another (e.g., left a\n",
    "Competitive Service position in one agency to take an Excepted or Senior Executive\n",
    "Service position at another agency).\n",
    "\n",
    "As a result from (a) and (b) above, the transfer-in count in the accession cube will\n",
    "usually be lower than the transfer-out count in the separation cube.\"\n",
    "\n"
   ]
  },
  {
   "cell_type": "markdown",
   "metadata": {},
   "source": [
    "**Conclusion:**\n",
    "Most employees have one action personel in the dataset. For most employees this action is a \"hire\" or \"termination\" (quit, voluntary retirement). \n",
    "\n"
   ]
  },
  {
   "cell_type": "markdown",
   "metadata": {},
   "source": [
    "### Length of Service (LOS)"
   ]
  },
  {
   "cell_type": "markdown",
   "metadata": {},
   "source": []
  },
  {
   "cell_type": "code",
   "execution_count": 6,
   "metadata": {
    "collapsed": false
   },
   "outputs": [
    {
     "data": {
      "text/html": [
       "\n",
       "          <script src=\"/static/components/requirejs/require.js\"></script>\n",
       "          <script>\n",
       "            requirejs.config({\n",
       "              paths: {\n",
       "                base: '/static/base',\n",
       "              },\n",
       "            });\n",
       "          </script>\n",
       "          "
      ],
      "text/plain": [
       "<IPython.core.display.HTML object>"
      ]
     },
     "metadata": {},
     "output_type": "display_data"
    }
   ],
   "source": [
    "%%bq query --name los_summary\n",
    "\n",
    "SELECT los, COUNT(*) as num_records\n",
    "FROM `w210-fedwork.processed_data.dynamic`\n",
    "GROUP BY los\n",
    "ORDER BY num_records"
   ]
  },
  {
   "cell_type": "code",
   "execution_count": 7,
   "metadata": {
    "collapsed": false
   },
   "outputs": [
    {
     "data": {
      "text/html": [
       "\n",
       "          <script src=\"/static/components/requirejs/require.js\"></script>\n",
       "          <script>\n",
       "            requirejs.config({\n",
       "              paths: {\n",
       "                base: '/static/base',\n",
       "              },\n",
       "            });\n",
       "          </script>\n",
       "          "
      ],
      "text/plain": [
       "<IPython.core.display.HTML object>"
      ]
     },
     "metadata": {},
     "output_type": "display_data"
    },
    {
     "data": {
      "text/html": [
       "\n",
       "    <div class=\"bqgc-container\">\n",
       "      \n",
       "      <div class=\"bqgc \" id=\"2_150990250604\">\n",
       "      </div>\n",
       "    </div>\n",
       "    <script>\n",
       "\n",
       "      require.config({\n",
       "        paths: {\n",
       "          d3: '//cdnjs.cloudflare.com/ajax/libs/d3/3.4.13/d3',\n",
       "          plotly: 'https://cdn.plot.ly/plotly-1.5.1.min.js?noext',\n",
       "          jquery: '//ajax.googleapis.com/ajax/libs/jquery/2.0.0/jquery.min'\n",
       "        },\n",
       "        map: {\n",
       "          '*': {\n",
       "            datalab: 'nbextensions/gcpdatalab'\n",
       "          }\n",
       "        },\n",
       "        shim: {\n",
       "          plotly: {\n",
       "            deps: ['d3', 'jquery'],\n",
       "            exports: 'plotly'\n",
       "          }\n",
       "        }\n",
       "      });\n",
       "\n",
       "      require(['datalab/charting',\n",
       "               'datalab/element!2_150990250604',\n",
       "               'base/js/events',\n",
       "               'datalab/style!/nbextensions/gcpdatalab/charting.css'\n",
       "              ],\n",
       "        function(charts, dom, events) {\n",
       "          charts.render(\n",
       "              'gcharts',\n",
       "              dom,\n",
       "              events,\n",
       "              'columns',\n",
       "              [],\n",
       "              {\"rows\": [{\"c\": [{\"v\": \"35+\"}, {\"v\": 206064}]}, {\"c\": [{\"v\": \"25-29\"}, {\"v\": 224427}]}, {\"c\": [{\"v\": \"15-19\"}, {\"v\": 259254}]}, {\"c\": [{\"v\": \"20-24\"}, {\"v\": 264581}]}, {\"c\": [{\"v\": \"30-34\"}, {\"v\": 270352}]}, {\"c\": [{\"v\": \"10-14\"}, {\"v\": 353939}]}, {\"c\": [{\"v\": \"3-4\"}, {\"v\": 524965}]}, {\"c\": [{\"v\": \"5-9\"}, {\"v\": 619423}]}, {\"c\": [{\"v\": \"1-2\"}, {\"v\": 857691}]}, {\"c\": [{\"v\": \"< 1\"}, {\"v\": 1230892}]}, {\"c\": [{\"v\": \"UNSP\"}, {\"v\": 2630061}]}], \"cols\": [{\"type\": \"string\", \"id\": \"los\", \"label\": \"los\"}, {\"type\": \"number\", \"id\": \"num_records\", \"label\": \"num_records\"}]},\n",
       "              {},\n",
       "              {\"fields\": \"los,num_records\", \"source_index\": 0, \"name\": 0},\n",
       "              0,\n",
       "              11);\n",
       "          }\n",
       "        );\n",
       "    </script>\n",
       "  "
      ],
      "text/plain": [
       "<IPython.core.display.HTML object>"
      ]
     },
     "execution_count": 7,
     "metadata": {},
     "output_type": "execute_result"
    },
    {
     "data": {
      "image/png": "[encoded data removed]"
     },
     "metadata": {
      "source_id": "2_150990250604"
     },
     "output_type": "display_data"
    }
   ],
   "source": [
    "%chart columns --data los_summary --fields los,num_records"
   ]
  },
  {
   "cell_type": "code",
   "execution_count": 16,
   "metadata": {
    "collapsed": false
   },
   "outputs": [
    {
     "data": {
      "text/html": [
       "\n",
       "          <script src=\"/static/components/requirejs/require.js\"></script>\n",
       "          <script>\n",
       "            requirejs.config({\n",
       "              paths: {\n",
       "                base: '/static/base',\n",
       "              },\n",
       "            });\n",
       "          </script>\n",
       "          "
      ],
      "text/plain": [
       "<IPython.core.display.HTML object>"
      ]
     },
     "metadata": {},
     "output_type": "display_data"
    },
    {
     "data": {
      "text/html": [
       "\n",
       "    <div class=\"bqtv\" id=\"7_150991166219\"><table><tr><th>acces_sep_ind</th><th>UNSP</th><th>less_than_1</th><th>between_1_2</th><th>between_3_4</th><th>between_5_9</th><th>between_10_14</th><th>between_15_19</th><th>between_20_24</th><th>between_25_29</th><th>between_30_34</th><th>greater_than_35</th></tr><tr><td>AA</td><td>2590</td><td>3019</td><td>15283</td><td>18051</td><td>36623</td><td>29790</td><td>27501</td><td>23164</td><td>14788</td><td>&nbsp;</td><td>1234</td></tr><tr><td>AB</td><td>291</td><td>63612</td><td>23027</td><td>17892</td><td>22711</td><td>18393</td><td>15265</td><td>10000</td><td>8198</td><td>&nbsp;</td><td>1686</td></tr><tr><td>AC</td><td>964844</td><td>96621</td><td>130333</td><td>121870</td><td>124275</td><td>53431</td><td>24361</td><td>13223</td><td>7634</td><td>&nbsp;</td><td>6637</td></tr><tr><td>AD</td><td>1587305</td><td>131580</td><td>96899</td><td>78842</td><td>72469</td><td>28595</td><td>12693</td><td>7277</td><td>4324</td><td>&nbsp;</td><td>1598</td></tr><tr><td>AE</td><td>2589</td><td>74</td><td>234</td><td>252</td><td>478</td><td>331</td><td>325</td><td>314</td><td>253</td><td>&nbsp;</td><td>82</td></tr><tr><td>SA</td><td>653</td><td>13398</td><td>38433</td><td>35002</td><td>62954</td><td>44498</td><td>37358</td><td>29582</td><td>18347</td><td>&nbsp;</td><td>1520</td></tr><tr><td>SB</td><td>975</td><td>64854</td><td>22628</td><td>17963</td><td>23108</td><td>18901</td><td>15639</td><td>10284</td><td>8415</td><td>&nbsp;</td><td>1742</td></tr><tr><td>SC</td><td>37549</td><td>421376</td><td>287565</td><td>144688</td><td>165347</td><td>74795</td><td>39020</td><td>20778</td><td>8723</td><td>&nbsp;</td><td>2954</td></tr><tr><td>SD</td><td>131</td><td>52</td><td>161</td><td>404</td><td>21695</td><td>38396</td><td>48014</td><td>95017</td><td>92246</td><td>&nbsp;</td><td>171953</td></tr><tr><td>SE</td><td>8</td><td>2</td><td>3</td><td>7</td><td>88</td><td>322</td><td>680</td><td>17037</td><td>30456</td><td>&nbsp;</td><td>3026</td></tr><tr><td>SF</td><td>11</td><td>14</td><td>959</td><td>2697</td><td>9637</td><td>12128</td><td>14867</td><td>14119</td><td>9321</td><td>&nbsp;</td><td>439</td></tr><tr><td>SG</td><td>7</td><td>2</td><td>6</td><td>6</td><td>222</td><td>608</td><td>804</td><td>5342</td><td>6789</td><td>&nbsp;</td><td>2604</td></tr><tr><td>SH</td><td>40</td><td>1198</td><td>2683</td><td>2083</td><td>3574</td><td>2723</td><td>3161</td><td>2171</td><td>961</td><td>&nbsp;</td><td>64</td></tr><tr><td>SI</td><td>2575</td><td>12765</td><td>5878</td><td>2463</td><td>2526</td><td>1244</td><td>887</td><td>611</td><td>394</td><td>&nbsp;</td><td>24</td></tr><tr><td>SJ</td><td>30379</td><td>420985</td><td>230610</td><td>79802</td><td>67598</td><td>24115</td><td>12239</td><td>8289</td><td>6925</td><td>&nbsp;</td><td>7348</td></tr><tr><td>SK</td><td>102</td><td>1254</td><td>2707</td><td>2681</td><td>5839</td><td>5551</td><td>6327</td><td>7299</td><td>6565</td><td>&nbsp;</td><td>3147</td></tr><tr><td>SL</td><td>12</td><td>86</td><td>282</td><td>262</td><td>279</td><td>118</td><td>113</td><td>74</td><td>88</td><td>&nbsp;</td><td>6</td></tr></table></div>\n",
       "    <br />(rows: 17, time: 1.8s,    72MB processed, job: job_x4znAEozMS6iN0STL7jbiqmHWIGc)<br />\n",
       "    <script>\n",
       "\n",
       "      require.config({\n",
       "        paths: {\n",
       "          d3: '//cdnjs.cloudflare.com/ajax/libs/d3/3.4.13/d3',\n",
       "          plotly: 'https://cdn.plot.ly/plotly-1.5.1.min.js?noext',\n",
       "          jquery: '//ajax.googleapis.com/ajax/libs/jquery/2.0.0/jquery.min'\n",
       "        },\n",
       "        map: {\n",
       "          '*': {\n",
       "            datalab: 'nbextensions/gcpdatalab'\n",
       "          }\n",
       "        },\n",
       "        shim: {\n",
       "          plotly: {\n",
       "            deps: ['d3', 'jquery'],\n",
       "            exports: 'plotly'\n",
       "          }\n",
       "        }\n",
       "      });\n",
       "\n",
       "      require(['datalab/charting', 'datalab/element!7_150991166219', 'base/js/events',\n",
       "          'datalab/style!/nbextensions/gcpdatalab/charting.css'],\n",
       "        function(charts, dom, events) {\n",
       "          charts.render('gcharts', dom, events, 'table', [], {\"rows\": [{\"c\": [{\"v\": \"AA\"}, {\"v\": 2590}, {\"v\": 3019}, {\"v\": 15283}, {\"v\": 18051}, {\"v\": 36623}, {\"v\": 29790}, {\"v\": 27501}, {\"v\": 23164}, {\"v\": 14788}, {\"v\": null}, {\"v\": 1234}]}, {\"c\": [{\"v\": \"AB\"}, {\"v\": 291}, {\"v\": 63612}, {\"v\": 23027}, {\"v\": 17892}, {\"v\": 22711}, {\"v\": 18393}, {\"v\": 15265}, {\"v\": 10000}, {\"v\": 8198}, {\"v\": null}, {\"v\": 1686}]}, {\"c\": [{\"v\": \"AC\"}, {\"v\": 964844}, {\"v\": 96621}, {\"v\": 130333}, {\"v\": 121870}, {\"v\": 124275}, {\"v\": 53431}, {\"v\": 24361}, {\"v\": 13223}, {\"v\": 7634}, {\"v\": null}, {\"v\": 6637}]}, {\"c\": [{\"v\": \"AD\"}, {\"v\": 1587305}, {\"v\": 131580}, {\"v\": 96899}, {\"v\": 78842}, {\"v\": 72469}, {\"v\": 28595}, {\"v\": 12693}, {\"v\": 7277}, {\"v\": 4324}, {\"v\": null}, {\"v\": 1598}]}, {\"c\": [{\"v\": \"AE\"}, {\"v\": 2589}, {\"v\": 74}, {\"v\": 234}, {\"v\": 252}, {\"v\": 478}, {\"v\": 331}, {\"v\": 325}, {\"v\": 314}, {\"v\": 253}, {\"v\": null}, {\"v\": 82}]}, {\"c\": [{\"v\": \"SA\"}, {\"v\": 653}, {\"v\": 13398}, {\"v\": 38433}, {\"v\": 35002}, {\"v\": 62954}, {\"v\": 44498}, {\"v\": 37358}, {\"v\": 29582}, {\"v\": 18347}, {\"v\": null}, {\"v\": 1520}]}, {\"c\": [{\"v\": \"SB\"}, {\"v\": 975}, {\"v\": 64854}, {\"v\": 22628}, {\"v\": 17963}, {\"v\": 23108}, {\"v\": 18901}, {\"v\": 15639}, {\"v\": 10284}, {\"v\": 8415}, {\"v\": null}, {\"v\": 1742}]}, {\"c\": [{\"v\": \"SC\"}, {\"v\": 37549}, {\"v\": 421376}, {\"v\": 287565}, {\"v\": 144688}, {\"v\": 165347}, {\"v\": 74795}, {\"v\": 39020}, {\"v\": 20778}, {\"v\": 8723}, {\"v\": null}, {\"v\": 2954}]}, {\"c\": [{\"v\": \"SD\"}, {\"v\": 131}, {\"v\": 52}, {\"v\": 161}, {\"v\": 404}, {\"v\": 21695}, {\"v\": 38396}, {\"v\": 48014}, {\"v\": 95017}, {\"v\": 92246}, {\"v\": null}, {\"v\": 171953}]}, {\"c\": [{\"v\": \"SE\"}, {\"v\": 8}, {\"v\": 2}, {\"v\": 3}, {\"v\": 7}, {\"v\": 88}, {\"v\": 322}, {\"v\": 680}, {\"v\": 17037}, {\"v\": 30456}, {\"v\": null}, {\"v\": 3026}]}, {\"c\": [{\"v\": \"SF\"}, {\"v\": 11}, {\"v\": 14}, {\"v\": 959}, {\"v\": 2697}, {\"v\": 9637}, {\"v\": 12128}, {\"v\": 14867}, {\"v\": 14119}, {\"v\": 9321}, {\"v\": null}, {\"v\": 439}]}, {\"c\": [{\"v\": \"SG\"}, {\"v\": 7}, {\"v\": 2}, {\"v\": 6}, {\"v\": 6}, {\"v\": 222}, {\"v\": 608}, {\"v\": 804}, {\"v\": 5342}, {\"v\": 6789}, {\"v\": null}, {\"v\": 2604}]}, {\"c\": [{\"v\": \"SH\"}, {\"v\": 40}, {\"v\": 1198}, {\"v\": 2683}, {\"v\": 2083}, {\"v\": 3574}, {\"v\": 2723}, {\"v\": 3161}, {\"v\": 2171}, {\"v\": 961}, {\"v\": null}, {\"v\": 64}]}, {\"c\": [{\"v\": \"SI\"}, {\"v\": 2575}, {\"v\": 12765}, {\"v\": 5878}, {\"v\": 2463}, {\"v\": 2526}, {\"v\": 1244}, {\"v\": 887}, {\"v\": 611}, {\"v\": 394}, {\"v\": null}, {\"v\": 24}]}, {\"c\": [{\"v\": \"SJ\"}, {\"v\": 30379}, {\"v\": 420985}, {\"v\": 230610}, {\"v\": 79802}, {\"v\": 67598}, {\"v\": 24115}, {\"v\": 12239}, {\"v\": 8289}, {\"v\": 6925}, {\"v\": null}, {\"v\": 7348}]}, {\"c\": [{\"v\": \"SK\"}, {\"v\": 102}, {\"v\": 1254}, {\"v\": 2707}, {\"v\": 2681}, {\"v\": 5839}, {\"v\": 5551}, {\"v\": 6327}, {\"v\": 7299}, {\"v\": 6565}, {\"v\": null}, {\"v\": 3147}]}, {\"c\": [{\"v\": \"SL\"}, {\"v\": 12}, {\"v\": 86}, {\"v\": 282}, {\"v\": 262}, {\"v\": 279}, {\"v\": 118}, {\"v\": 113}, {\"v\": 74}, {\"v\": 88}, {\"v\": null}, {\"v\": 6}]}], \"cols\": [{\"type\": \"string\", \"id\": \"acces_sep_ind\", \"label\": \"acces_sep_ind\"}, {\"type\": \"number\", \"id\": \"UNSP\", \"label\": \"UNSP\"}, {\"type\": \"number\", \"id\": \"less_than_1\", \"label\": \"less_than_1\"}, {\"type\": \"number\", \"id\": \"between_1_2\", \"label\": \"between_1_2\"}, {\"type\": \"number\", \"id\": \"between_3_4\", \"label\": \"between_3_4\"}, {\"type\": \"number\", \"id\": \"between_5_9\", \"label\": \"between_5_9\"}, {\"type\": \"number\", \"id\": \"between_10_14\", \"label\": \"between_10_14\"}, {\"type\": \"number\", \"id\": \"between_15_19\", \"label\": \"between_15_19\"}, {\"type\": \"number\", \"id\": \"between_20_24\", \"label\": \"between_20_24\"}, {\"type\": \"number\", \"id\": \"between_25_29\", \"label\": \"between_25_29\"}, {\"type\": \"number\", \"id\": \"between_30_34\", \"label\": \"between_30_34\"}, {\"type\": \"number\", \"id\": \"greater_than_35\", \"label\": \"greater_than_35\"}]},\n",
       "            {\n",
       "              pageSize: 25,\n",
       "              cssClassNames:  {\n",
       "                tableRow: 'gchart-table-row',\n",
       "                headerRow: 'gchart-table-headerrow',\n",
       "                oddTableRow: 'gchart-table-oddrow',\n",
       "                selectedTableRow: 'gchart-table-selectedrow',\n",
       "                hoverTableRow: 'gchart-table-hoverrow',\n",
       "                tableCell: 'gchart-table-cell',\n",
       "                headerCell: 'gchart-table-headercell',\n",
       "                rowNumberCell: 'gchart-table-rownumcell'\n",
       "              }\n",
       "            },\n",
       "            {source_index: 6, fields: 'acces_sep_ind,UNSP,less_than_1,between_1_2,between_3_4,between_5_9,between_10_14,between_15_19,between_20_24,between_25_29,between_30_34,greater_than_35'},\n",
       "            0,\n",
       "            17);\n",
       "        }\n",
       "      );\n",
       "    </script>\n",
       "  "
      ],
      "text/plain": [
       "QueryResultsTable job_x4znAEozMS6iN0STL7jbiqmHWIGc"
      ]
     },
     "execution_count": 16,
     "metadata": {},
     "output_type": "execute_result"
    }
   ],
   "source": [
    "%%bq query \n",
    "\n",
    "SELECT \n",
    "  acces_sep_ind, \n",
    "  MAX(IF(los = \"UNSP\", num_records, NULL)) AS UNSP,\n",
    "  MAX(IF(los = \"< 1\", num_records, NULL)) AS less_than_1,\n",
    "  MAX(IF(los = \"1-2\", num_records, NULL)) AS between_1_2,\n",
    "  MAX(IF(los = \"3-4\", num_records, NULL)) AS between_3_4,\n",
    "  MAX(IF(los = \"5-9\", num_records, NULL)) AS between_5_9,\n",
    "  MAX(IF(los = \"10-14\", num_records, NULL)) AS between_10_14,\n",
    "  MAX(IF(los = \"15-19\", num_records, NULL)) AS between_15_19,\n",
    "  MAX(IF(los = \"20-24\", num_records, NULL)) AS between_20_24,\n",
    "  MAX(IF(los = \"25-29\", num_records, NULL)) AS between_25_29,\n",
    "  MAX(IF(los = \"30-24\", num_records, NULL)) AS between_30_34,\n",
    "  MAX(IF(los = \"35+\", num_records, NULL)) AS greater_than_35\n",
    "FROM (\n",
    "    SELECT acces_sep_ind, los, COUNT(*) as num_records\n",
    "    FROM `w210-fedwork.processed_data.dynamic`\n",
    "    GROUP BY acces_sep_ind, los\n",
    "    ORDER BY acces_sep_ind, num_records)\n",
    "GROUP BY acces_sep_ind \n",
    "ORDER BY acces_sep_ind"
   ]
  },
  {
   "cell_type": "markdown",
   "metadata": {},
   "source": [
    "**Conclusion:**\n",
    "\n",
    "Observations:\n",
    "\n",
    "1. The majority of UNSP length of service are for new hires.\n",
    "2. The majority of employees with LOS between 0-14 quit, terminated their job or are new hires.\n",
    "3. The majority of employees with LOS between greater than 15 quit, or terminated their job in some way.\n",
    "\n",
    "As we observed before, there are employees marked as new hires with LOS > 0. These employees must be transfers from other agencies who were marked as new hires.\n",
    "\n"
   ]
  },
  {
   "cell_type": "markdown",
   "metadata": {},
   "source": [
    "#### Age Category\n"
   ]
  },
  {
   "cell_type": "code",
   "execution_count": 19,
   "metadata": {
    "collapsed": false
   },
   "outputs": [
    {
     "data": {
      "text/html": [
       "\n",
       "          <script src=\"/static/components/requirejs/require.js\"></script>\n",
       "          <script>\n",
       "            requirejs.config({\n",
       "              paths: {\n",
       "                base: '/static/base',\n",
       "              },\n",
       "            });\n",
       "          </script>\n",
       "          "
      ],
      "text/plain": [
       "<IPython.core.display.HTML object>"
      ]
     },
     "metadata": {},
     "output_type": "display_data"
    }
   ],
   "source": [
    "%%bq query --name age_counts\n",
    "\n",
    "SELECT age, COUNT(*) as num_records \n",
    "FROM `w210-fedwork.processed_data.dynamic`\n",
    "GROUP BY age\n",
    "ORDER BY age\n",
    "\n"
   ]
  },
  {
   "cell_type": "code",
   "execution_count": 20,
   "metadata": {
    "collapsed": false
   },
   "outputs": [
    {
     "data": {
      "text/html": [
       "\n",
       "          <script src=\"/static/components/requirejs/require.js\"></script>\n",
       "          <script>\n",
       "            requirejs.config({\n",
       "              paths: {\n",
       "                base: '/static/base',\n",
       "              },\n",
       "            });\n",
       "          </script>\n",
       "          "
      ],
      "text/plain": [
       "<IPython.core.display.HTML object>"
      ]
     },
     "metadata": {},
     "output_type": "display_data"
    },
    {
     "data": {
      "text/html": [
       "\n",
       "    <div class=\"bqgc-container\">\n",
       "      \n",
       "      <div class=\"bqgc \" id=\"2_150991776946\">\n",
       "      </div>\n",
       "    </div>\n",
       "    <script>\n",
       "\n",
       "      require.config({\n",
       "        paths: {\n",
       "          d3: '//cdnjs.cloudflare.com/ajax/libs/d3/3.4.13/d3',\n",
       "          plotly: 'https://cdn.plot.ly/plotly-1.5.1.min.js?noext',\n",
       "          jquery: '//ajax.googleapis.com/ajax/libs/jquery/2.0.0/jquery.min'\n",
       "        },\n",
       "        map: {\n",
       "          '*': {\n",
       "            datalab: 'nbextensions/gcpdatalab'\n",
       "          }\n",
       "        },\n",
       "        shim: {\n",
       "          plotly: {\n",
       "            deps: ['d3', 'jquery'],\n",
       "            exports: 'plotly'\n",
       "          }\n",
       "        }\n",
       "      });\n",
       "\n",
       "      require(['datalab/charting',\n",
       "               'datalab/element!2_150991776946',\n",
       "               'base/js/events',\n",
       "               'datalab/style!/nbextensions/gcpdatalab/charting.css'\n",
       "              ],\n",
       "        function(charts, dom, events) {\n",
       "          charts.render(\n",
       "              'gcharts',\n",
       "              dom,\n",
       "              events,\n",
       "              'columns',\n",
       "              [],\n",
       "              {\"rows\": [{\"c\": [{\"v\": \"15-19\"}, {\"v\": 479896}]}, {\"c\": [{\"v\": \"20-24\"}, {\"v\": 1008758}]}, {\"c\": [{\"v\": \"25-29\"}, {\"v\": 975768}]}, {\"c\": [{\"v\": \"30-34\"}, {\"v\": 818980}]}, {\"c\": [{\"v\": \"35-39\"}, {\"v\": 712602}]}, {\"c\": [{\"v\": \"40-44\"}, {\"v\": 702850}]}, {\"c\": [{\"v\": \"45-49\"}, {\"v\": 674446}]}, {\"c\": [{\"v\": \"50-54\"}, {\"v\": 658437}]}, {\"c\": [{\"v\": \"55-59\"}, {\"v\": 636865}]}, {\"c\": [{\"v\": \"60-64\"}, {\"v\": 441882}]}, {\"c\": [{\"v\": \"65-69\"}, {\"v\": 191812}]}, {\"c\": [{\"v\": \"70-74\"}, {\"v\": 61300}]}, {\"c\": [{\"v\": \"75+\"}, {\"v\": 27576}]}, {\"c\": [{\"v\": \"UNSP\"}, {\"v\": 50477}]}], \"cols\": [{\"type\": \"string\", \"id\": \"age\", \"label\": \"age\"}, {\"type\": \"number\", \"id\": \"num_records\", \"label\": \"num_records\"}]},\n",
       "              {},\n",
       "              {\"fields\": \"age,num_records\", \"source_index\": 0, \"name\": 0},\n",
       "              0,\n",
       "              14);\n",
       "          }\n",
       "        );\n",
       "    </script>\n",
       "  "
      ],
      "text/plain": [
       "<IPython.core.display.HTML object>"
      ]
     },
     "execution_count": 20,
     "metadata": {},
     "output_type": "execute_result"
    },
    {
     "data": {
      "image/png": "[encoded data removed]"
     },
     "metadata": {
      "source_id": "2_150991776946"
     },
     "output_type": "display_data"
    }
   ],
   "source": [
    "%chart columns --data age_counts --fields age,num_records"
   ]
  },
  {
   "cell_type": "markdown",
   "metadata": {},
   "source": [
    "** Comments: **\n",
    "1. Most employees are between 20-29 years old\n",
    "2. A small fraction of records do not have age specified. **Need to investigate if these employees have a second record with age recorded.**"
   ]
  },
  {
   "cell_type": "markdown",
   "metadata": {},
   "source": [
    "#### Pay Plan and Grade\n"
   ]
  },
  {
   "cell_type": "markdown",
   "metadata": {},
   "source": []
  },
  {
   "cell_type": "code",
   "execution_count": 21,
   "metadata": {
    "collapsed": false
   },
   "outputs": [
    {
     "data": {
      "text/html": [
       "\n",
       "          <script src=\"/static/components/requirejs/require.js\"></script>\n",
       "          <script>\n",
       "            requirejs.config({\n",
       "              paths: {\n",
       "                base: '/static/base',\n",
       "              },\n",
       "            });\n",
       "          </script>\n",
       "          "
      ],
      "text/plain": [
       "<IPython.core.display.HTML object>"
      ]
     },
     "metadata": {},
     "output_type": "display_data"
    }
   ],
   "source": [
    "%%bq query --name pay_plan\n",
    "\n",
    "SELECT pay_plan, COUNT(*) as num_records \n",
    "FROM `w210-fedwork.processed_data.dynamic`\n",
    "GROUP BY pay_plan\n",
    "ORDER BY pay_plan"
   ]
  },
  {
   "cell_type": "code",
   "execution_count": 23,
   "metadata": {
    "collapsed": false
   },
   "outputs": [
    {
     "data": {
      "text/html": [
       "\n",
       "          <script src=\"/static/components/requirejs/require.js\"></script>\n",
       "          <script>\n",
       "            requirejs.config({\n",
       "              paths: {\n",
       "                base: '/static/base',\n",
       "              },\n",
       "            });\n",
       "          </script>\n",
       "          "
      ],
      "text/plain": [
       "<IPython.core.display.HTML object>"
      ]
     },
     "metadata": {},
     "output_type": "display_data"
    },
    {
     "data": {
      "text/html": [
       "\n",
       "    <div class=\"bqgc-container\">\n",
       "      \n",
       "      <div class=\"bqgc \" id=\"2_150993340980\">\n",
       "      </div>\n",
       "    </div>\n",
       "    <script>\n",
       "\n",
       "      require.config({\n",
       "        paths: {\n",
       "          d3: '//cdnjs.cloudflare.com/ajax/libs/d3/3.4.13/d3',\n",
       "          plotly: 'https://cdn.plot.ly/plotly-1.5.1.min.js?noext',\n",
       "          jquery: '//ajax.googleapis.com/ajax/libs/jquery/2.0.0/jquery.min'\n",
       "        },\n",
       "        map: {\n",
       "          '*': {\n",
       "            datalab: 'nbextensions/gcpdatalab'\n",
       "          }\n",
       "        },\n",
       "        shim: {\n",
       "          plotly: {\n",
       "            deps: ['d3', 'jquery'],\n",
       "            exports: 'plotly'\n",
       "          }\n",
       "        }\n",
       "      });\n",
       "\n",
       "      require(['datalab/charting',\n",
       "               'datalab/element!2_150993340980',\n",
       "               'base/js/events',\n",
       "               'datalab/style!/nbextensions/gcpdatalab/charting.css'\n",
       "              ],\n",
       "        function(charts, dom, events) {\n",
       "          charts.render(\n",
       "              'gcharts',\n",
       "              dom,\n",
       "              events,\n",
       "              'columns',\n",
       "              [],\n",
       "              {\"rows\": [{\"c\": [{\"v\": \"\"}, {\"v\": 31}]}, {\"c\": [{\"v\": \"**\"}, {\"v\": 2418}]}, {\"c\": [{\"v\": \"AA\"}, {\"v\": 43}]}, {\"c\": [{\"v\": \"AD\"}, {\"v\": 493727}]}, {\"c\": [{\"v\": \"AI\"}, {\"v\": 40}]}, {\"c\": [{\"v\": \"AJ\"}, {\"v\": 21}]}, {\"c\": [{\"v\": \"AL\"}, {\"v\": 2564}]}, {\"c\": [{\"v\": \"AO\"}, {\"v\": 458}]}, {\"c\": [{\"v\": \"AP\"}, {\"v\": 1576}]}, {\"c\": [{\"v\": \"AS\"}, {\"v\": 57}]}, {\"c\": [{\"v\": \"AT\"}, {\"v\": 17968}]}, {\"c\": [{\"v\": \"BB\"}, {\"v\": 4795}]}, {\"c\": [{\"v\": \"BL\"}, {\"v\": 113}]}, {\"c\": [{\"v\": \"BP\"}, {\"v\": 2}]}, {\"c\": [{\"v\": \"BS\"}, {\"v\": 144}]}, {\"c\": [{\"v\": \"CA\"}, {\"v\": 81}]}, {\"c\": [{\"v\": \"CE\"}, {\"v\": 1732}]}, {\"c\": [{\"v\": \"CG\"}, {\"v\": 18693}]}, {\"c\": [{\"v\": \"CM\"}, {\"v\": 573}]}, {\"c\": [{\"v\": \"CN\"}, {\"v\": 2194}]}, {\"c\": [{\"v\": \"CT\"}, {\"v\": 1469}]}, {\"c\": [{\"v\": \"CU\"}, {\"v\": 2437}]}, {\"c\": [{\"v\": \"CX\"}, {\"v\": 17}]}, {\"c\": [{\"v\": \"CY\"}, {\"v\": 12943}]}, {\"c\": [{\"v\": \"CZ\"}, {\"v\": 116}]}, {\"c\": [{\"v\": \"DA\"}, {\"v\": 1331}]}, {\"c\": [{\"v\": \"DB\"}, {\"v\": 9451}]}, {\"c\": [{\"v\": \"DE\"}, {\"v\": 5512}]}, {\"c\": [{\"v\": \"DG\"}, {\"v\": 1932}]}, {\"c\": [{\"v\": \"DJ\"}, {\"v\": 1861}]}, {\"c\": [{\"v\": \"DK\"}, {\"v\": 2443}]}, {\"c\": [{\"v\": \"DN\"}, {\"v\": 167}]}, {\"c\": [{\"v\": \"DO\"}, {\"v\": 185}]}, {\"c\": [{\"v\": \"DP\"}, {\"v\": 8341}]}, {\"c\": [{\"v\": \"DR\"}, {\"v\": 3506}]}, {\"c\": [{\"v\": \"DS\"}, {\"v\": 1629}]}, {\"c\": [{\"v\": \"DT\"}, {\"v\": 2093}]}, {\"c\": [{\"v\": \"DU\"}, {\"v\": 128}]}, {\"c\": [{\"v\": \"DX\"}, {\"v\": 78}]}, {\"c\": [{\"v\": \"ED\"}, {\"v\": 4197}]}, {\"c\": [{\"v\": \"EE\"}, {\"v\": 2952}]}, {\"c\": [{\"v\": \"EF\"}, {\"v\": 13662}]}, {\"c\": [{\"v\": \"EG\"}, {\"v\": 7494}]}, {\"c\": [{\"v\": \"EH\"}, {\"v\": 6381}]}, {\"c\": [{\"v\": \"EI\"}, {\"v\": 12852}]}, {\"c\": [{\"v\": \"EJ\"}, {\"v\": 461}]}, {\"c\": [{\"v\": \"EK\"}, {\"v\": 161}]}, {\"c\": [{\"v\": \"EL\"}, {\"v\": 707}]}, {\"c\": [{\"v\": \"EM\"}, {\"v\": 128}]}, {\"c\": [{\"v\": \"EN\"}, {\"v\": 259}]}, {\"c\": [{\"v\": \"EO\"}, {\"v\": 11}]}, {\"c\": [{\"v\": \"ER\"}, {\"v\": 23}]}, {\"c\": [{\"v\": \"ES\"}, {\"v\": 20638}]}, {\"c\": [{\"v\": \"ET\"}, {\"v\": 10}]}, {\"c\": [{\"v\": \"EV\"}, {\"v\": 373}]}, {\"c\": [{\"v\": \"EX\"}, {\"v\": 2839}]}, {\"c\": [{\"v\": \"EZ\"}, {\"v\": 13}]}, {\"c\": [{\"v\": \"FC\"}, {\"v\": 19}]}, {\"c\": [{\"v\": \"FE\"}, {\"v\": 548}]}, {\"c\": [{\"v\": \"FG\"}, {\"v\": 21299}]}, {\"c\": [{\"v\": \"FJ\"}, {\"v\": 38}]}, {\"c\": [{\"v\": \"FL\"}, {\"v\": 19}]}, {\"c\": [{\"v\": \"FM\"}, {\"v\": 56}]}, {\"c\": [{\"v\": \"FO\"}, {\"v\": 617}]}, {\"c\": [{\"v\": \"FP\"}, {\"v\": 8757}]}, {\"c\": [{\"v\": \"FS\"}, {\"v\": 8}]}, {\"c\": [{\"v\": \"FT\"}, {\"v\": 9}]}, {\"c\": [{\"v\": \"FV\"}, {\"v\": 39619}]}, {\"c\": [{\"v\": \"FW\"}, {\"v\": 535}]}, {\"c\": [{\"v\": \"FX\"}, {\"v\": 3}]}, {\"c\": [{\"v\": \"GE\"}, {\"v\": 41}]}, {\"c\": [{\"v\": \"GG\"}, {\"v\": 143591}]}, {\"c\": [{\"v\": \"GH\"}, {\"v\": 21}]}, {\"c\": [{\"v\": \"GI\"}, {\"v\": 33}]}, {\"c\": [{\"v\": \"GL\"}, {\"v\": 63921}]}, {\"c\": [{\"v\": \"GM\"}, {\"v\": 19100}]}, {\"c\": [{\"v\": \"GN\"}, {\"v\": 323}]}, {\"c\": [{\"v\": \"GP\"}, {\"v\": 4347}]}, {\"c\": [{\"v\": \"GR\"}, {\"v\": 8}]}, {\"c\": [{\"v\": \"GS\"}, {\"v\": 4749837}]}, {\"c\": [{\"v\": \"HU\"}, {\"v\": 451}]}, {\"c\": [{\"v\": \"IA\"}, {\"v\": 10491}]}, {\"c\": [{\"v\": \"IE\"}, {\"v\": 169}]}, {\"c\": [{\"v\": \"IG\"}, {\"v\": 25}]}, {\"c\": [{\"v\": \"IJ\"}, {\"v\": 251}]}, {\"c\": [{\"v\": \"IP\"}, {\"v\": 201}]}, {\"c\": [{\"v\": \"IR\"}, {\"v\": 5468}]}, {\"c\": [{\"v\": \"JB\"}, {\"v\": 3}]}, {\"c\": [{\"v\": \"KA\"}, {\"v\": 792}]}, {\"c\": [{\"v\": \"KB\"}, {\"v\": 116}]}, {\"c\": [{\"v\": \"KE\"}, {\"v\": 99}]}, {\"c\": [{\"v\": \"KG\"}, {\"v\": 581}]}, {\"c\": [{\"v\": \"KI\"}, {\"v\": 278}]}, {\"c\": [{\"v\": \"KJ\"}, {\"v\": 34}]}, {\"c\": [{\"v\": \"KL\"}, {\"v\": 12}]}, {\"c\": [{\"v\": \"KM\"}, {\"v\": 111}]}, {\"c\": [{\"v\": \"KN\"}, {\"v\": 10}]}, {\"c\": [{\"v\": \"KO\"}, {\"v\": 44}]}, {\"c\": [{\"v\": \"KP\"}, {\"v\": 75}]}, {\"c\": [{\"v\": \"KS\"}, {\"v\": 38}]}, {\"c\": [{\"v\": \"KT\"}, {\"v\": 46}]}, {\"c\": [{\"v\": \"KU\"}, {\"v\": 1}]}, {\"c\": [{\"v\": \"KX\"}, {\"v\": 243}]}, {\"c\": [{\"v\": \"KY\"}, {\"v\": 83}]}, {\"c\": [{\"v\": \"LE\"}, {\"v\": 6065}]}, {\"c\": [{\"v\": \"LL\"}, {\"v\": 40}]}, {\"c\": [{\"v\": \"MA\"}, {\"v\": 388}]}, {\"c\": [{\"v\": \"MC\"}, {\"v\": 1058}]}, {\"c\": [{\"v\": \"MG\"}, {\"v\": 99}]}, {\"c\": [{\"v\": \"NA\"}, {\"v\": 18778}]}, {\"c\": [{\"v\": \"NB\"}, {\"v\": 7690}]}, {\"c\": [{\"v\": \"NC\"}, {\"v\": 1584}]}, {\"c\": [{\"v\": \"ND\"}, {\"v\": 14519}]}, {\"c\": [{\"v\": \"NF\"}, {\"v\": 116}]}, {\"c\": [{\"v\": \"NG\"}, {\"v\": 1346}]}, {\"c\": [{\"v\": \"NH\"}, {\"v\": 13164}]}, {\"c\": [{\"v\": \"NJ\"}, {\"v\": 531}]}, {\"c\": [{\"v\": \"NK\"}, {\"v\": 1544}]}, {\"c\": [{\"v\": \"NL\"}, {\"v\": 204}]}, {\"c\": [{\"v\": \"NM\"}, {\"v\": 257}]}, {\"c\": [{\"v\": \"NN\"}, {\"v\": 315}]}, {\"c\": [{\"v\": \"NO\"}, {\"v\": 2255}]}, {\"c\": [{\"v\": \"NP\"}, {\"v\": 3165}]}, {\"c\": [{\"v\": \"NQ\"}, {\"v\": 1033}]}, {\"c\": [{\"v\": \"NR\"}, {\"v\": 2062}]}, {\"c\": [{\"v\": \"NS\"}, {\"v\": 202}]}, {\"c\": [{\"v\": \"NT\"}, {\"v\": 5971}]}, {\"c\": [{\"v\": \"NU\"}, {\"v\": 486}]}, {\"c\": [{\"v\": \"NV\"}, {\"v\": 291}]}, {\"c\": [{\"v\": \"NX\"}, {\"v\": 200}]}, {\"c\": [{\"v\": \"NY\"}, {\"v\": 2366}]}, {\"c\": [{\"v\": \"NZ\"}, {\"v\": 108}]}, {\"c\": [{\"v\": \"OC\"}, {\"v\": 586}]}, {\"c\": [{\"v\": \"OE\"}, {\"v\": 10}]}, {\"c\": [{\"v\": \"OF\"}, {\"v\": 447}]}, {\"c\": [{\"v\": \"OR\"}, {\"v\": 222}]}, {\"c\": [{\"v\": \"PD\"}, {\"v\": 1227}]}, {\"c\": [{\"v\": \"PG\"}, {\"v\": 2970}]}, {\"c\": [{\"v\": \"PJ\"}, {\"v\": 11}]}, {\"c\": [{\"v\": \"PQ\"}, {\"v\": 65}]}, {\"c\": [{\"v\": \"PU\"}, {\"v\": 48}]}, {\"c\": [{\"v\": \"PZ\"}, {\"v\": 22}]}, {\"c\": [{\"v\": \"RA\"}, {\"v\": 12}]}, {\"c\": [{\"v\": \"RG\"}, {\"v\": 47}]}, {\"c\": [{\"v\": \"RS\"}, {\"v\": 135}]}, {\"c\": [{\"v\": \"SK\"}, {\"v\": 10321}]}, {\"c\": [{\"v\": \"SL\"}, {\"v\": 1493}]}, {\"c\": [{\"v\": \"SN\"}, {\"v\": 98}]}, {\"c\": [{\"v\": \"SO\"}, {\"v\": 268}]}, {\"c\": [{\"v\": \"SP\"}, {\"v\": 1063}]}, {\"c\": [{\"v\": \"SQ\"}, {\"v\": 6}]}, {\"c\": [{\"v\": \"SR\"}, {\"v\": 738}]}, {\"c\": [{\"v\": \"SS\"}, {\"v\": 68}]}, {\"c\": [{\"v\": \"ST\"}, {\"v\": 501}]}, {\"c\": [{\"v\": \"SV\"}, {\"v\": 385798}]}, {\"c\": [{\"v\": \"SW\"}, {\"v\": 767}]}, {\"c\": [{\"v\": \"TF\"}, {\"v\": 40}]}, {\"c\": [{\"v\": \"TG\"}, {\"v\": 2306}]}, {\"c\": [{\"v\": \"TM\"}, {\"v\": 249}]}, {\"c\": [{\"v\": \"TP\"}, {\"v\": 85152}]}, {\"c\": [{\"v\": \"TR\"}, {\"v\": 713}]}, {\"c\": [{\"v\": \"TS\"}, {\"v\": 216}]}, {\"c\": [{\"v\": \"TW\"}, {\"v\": 188}]}, {\"c\": [{\"v\": \"VC\"}, {\"v\": 9910}]}, {\"c\": [{\"v\": \"VE\"}, {\"v\": 17}]}, {\"c\": [{\"v\": \"VG\"}, {\"v\": 18}]}, {\"c\": [{\"v\": \"VH\"}, {\"v\": 963}]}, {\"c\": [{\"v\": \"VM\"}, {\"v\": 23947}]}, {\"c\": [{\"v\": \"VN\"}, {\"v\": 78415}]}, {\"c\": [{\"v\": \"VP\"}, {\"v\": 896}]}, {\"c\": [{\"v\": \"WA\"}, {\"v\": 173}]}, {\"c\": [{\"v\": \"WB\"}, {\"v\": 12468}]}, {\"c\": [{\"v\": \"WD\"}, {\"v\": 1613}]}, {\"c\": [{\"v\": \"WE\"}, {\"v\": 924}]}, {\"c\": [{\"v\": \"WG\"}, {\"v\": 712802}]}, {\"c\": [{\"v\": \"WJ\"}, {\"v\": 153}]}, {\"c\": [{\"v\": \"WK\"}, {\"v\": 471}]}, {\"c\": [{\"v\": \"WL\"}, {\"v\": 14951}]}, {\"c\": [{\"v\": \"WM\"}, {\"v\": 20737}]}, {\"c\": [{\"v\": \"WN\"}, {\"v\": 93}]}, {\"c\": [{\"v\": \"WO\"}, {\"v\": 81}]}, {\"c\": [{\"v\": \"WQ\"}, {\"v\": 27}]}, {\"c\": [{\"v\": \"WR\"}, {\"v\": 1}]}, {\"c\": [{\"v\": \"WS\"}, {\"v\": 26953}]}, {\"c\": [{\"v\": \"WT\"}, {\"v\": 3250}]}, {\"c\": [{\"v\": \"WU\"}, {\"v\": 807}]}, {\"c\": [{\"v\": \"WY\"}, {\"v\": 3695}]}, {\"c\": [{\"v\": \"WZ\"}, {\"v\": 5}]}, {\"c\": [{\"v\": \"XA\"}, {\"v\": 5437}]}, {\"c\": [{\"v\": \"XB\"}, {\"v\": 40}]}, {\"c\": [{\"v\": \"XC\"}, {\"v\": 28}]}, {\"c\": [{\"v\": \"XE\"}, {\"v\": 91}]}, {\"c\": [{\"v\": \"XF\"}, {\"v\": 6451}]}, {\"c\": [{\"v\": \"XG\"}, {\"v\": 70}]}, {\"c\": [{\"v\": \"XH\"}, {\"v\": 482}]}, {\"c\": [{\"v\": \"XI\"}, {\"v\": 20}]}, {\"c\": [{\"v\": \"XL\"}, {\"v\": 37}]}, {\"c\": [{\"v\": \"XP\"}, {\"v\": 303}]}, {\"c\": [{\"v\": \"XS\"}, {\"v\": 37}]}, {\"c\": [{\"v\": \"YA\"}, {\"v\": 58636}]}, {\"c\": [{\"v\": \"YB\"}, {\"v\": 27765}]}, {\"c\": [{\"v\": \"YC\"}, {\"v\": 14663}]}, {\"c\": [{\"v\": \"YD\"}, {\"v\": 16616}]}, {\"c\": [{\"v\": \"YE\"}, {\"v\": 1976}]}, {\"c\": [{\"v\": \"YF\"}, {\"v\": 2302}]}, {\"c\": [{\"v\": \"YG\"}, {\"v\": 1854}]}, {\"c\": [{\"v\": \"YH\"}, {\"v\": 8556}]}, {\"c\": [{\"v\": \"YI\"}, {\"v\": 2536}]}, {\"c\": [{\"v\": \"YJ\"}, {\"v\": 1178}]}, {\"c\": [{\"v\": \"YK\"}, {\"v\": 834}]}, {\"c\": [{\"v\": \"YL\"}, {\"v\": 133}]}, {\"c\": [{\"v\": \"YM\"}, {\"v\": 1543}]}, {\"c\": [{\"v\": \"YN\"}, {\"v\": 1259}]}, {\"c\": [{\"v\": \"YP\"}, {\"v\": 20935}]}, {\"c\": [{\"v\": \"ZA\"}, {\"v\": 4803}]}, {\"c\": [{\"v\": \"ZP\"}, {\"v\": 10429}]}, {\"c\": [{\"v\": \"ZS\"}, {\"v\": 3987}]}, {\"c\": [{\"v\": \"ZT\"}, {\"v\": 2339}]}, {\"c\": [{\"v\": \"ZZ\"}, {\"v\": 2914}]}], \"cols\": [{\"type\": \"string\", \"id\": \"pay_plan\", \"label\": \"pay_plan\"}, {\"type\": \"number\", \"id\": \"num_records\", \"label\": \"num_records\"}]},\n",
       "              {},\n",
       "              {\"fields\": \"pay_plan,num_records\", \"source_index\": 0, \"name\": 0},\n",
       "              0,\n",
       "              219);\n",
       "          }\n",
       "        );\n",
       "    </script>\n",
       "  "
      ],
      "text/plain": [
       "<IPython.core.display.HTML object>"
      ]
     },
     "execution_count": 23,
     "metadata": {},
     "output_type": "execute_result"
    },
    {
     "data": {
      "image/png": "[encoded data removed]"
     },
     "metadata": {
      "source_id": "2_150993340980"
     },
     "output_type": "display_data"
    }
   ],
   "source": [
    "%chart columns --data pay_plan --fields pay_plan,num_records"
   ]
  },
  {
   "cell_type": "markdown",
   "metadata": {},
   "source": [
    "The top pay plan categories are\n"
   ]
  },
  {
   "cell_type": "code",
   "execution_count": 16,
   "metadata": {
    "collapsed": false
   },
   "outputs": [
    {
     "data": {
      "text/html": [
       "\n",
       "          <script src=\"/static/components/requirejs/require.js\"></script>\n",
       "          <script>\n",
       "            requirejs.config({\n",
       "              paths: {\n",
       "                base: '/static/base',\n",
       "              },\n",
       "            });\n",
       "          </script>\n",
       "          "
      ],
      "text/plain": [
       "<IPython.core.display.HTML object>"
      ]
     },
     "metadata": {},
     "output_type": "display_data"
    }
   ],
   "source": [
    "%%bq query --name top_pay_plans\n",
    "\n",
    "\n",
    "SELECT pay_plan, num_records, user_rank\n",
    "FROM (\n",
    "    SELECT pay_plan\n",
    "          ,num_records\n",
    "          ,RANK() \n",
    "            OVER (\n",
    "            ORDER BY num_records DESC) AS user_rank\n",
    "    FROM (\n",
    "          SELECT pay_plan, COUNT(*) as num_records \n",
    "          FROM `w210-fedwork.processed_data.dynamic`\n",
    "          GROUP BY pay_plan\n",
    "         )\n",
    "    )\n",
    "WHERE user_rank <=15"
   ]
  },
  {
   "cell_type": "code",
   "execution_count": 17,
   "metadata": {
    "collapsed": false
   },
   "outputs": [
    {
     "data": {
      "text/html": [
       "\n",
       "          <script src=\"/static/components/requirejs/require.js\"></script>\n",
       "          <script>\n",
       "            requirejs.config({\n",
       "              paths: {\n",
       "                base: '/static/base',\n",
       "              },\n",
       "            });\n",
       "          </script>\n",
       "          "
      ],
      "text/plain": [
       "<IPython.core.display.HTML object>"
      ]
     },
     "metadata": {},
     "output_type": "display_data"
    },
    {
     "data": {
      "text/html": [
       "\n",
       "    <div class=\"bqgc-container\">\n",
       "      \n",
       "      <div class=\"bqgc \" id=\"4_150998999459\">\n",
       "      </div>\n",
       "    </div>\n",
       "    <script>\n",
       "\n",
       "      require.config({\n",
       "        paths: {\n",
       "          d3: '//cdnjs.cloudflare.com/ajax/libs/d3/3.4.13/d3',\n",
       "          plotly: 'https://cdn.plot.ly/plotly-1.5.1.min.js?noext',\n",
       "          jquery: '//ajax.googleapis.com/ajax/libs/jquery/2.0.0/jquery.min'\n",
       "        },\n",
       "        map: {\n",
       "          '*': {\n",
       "            datalab: 'nbextensions/gcpdatalab'\n",
       "          }\n",
       "        },\n",
       "        shim: {\n",
       "          plotly: {\n",
       "            deps: ['d3', 'jquery'],\n",
       "            exports: 'plotly'\n",
       "          }\n",
       "        }\n",
       "      });\n",
       "\n",
       "      require(['datalab/charting',\n",
       "               'datalab/element!4_150998999459',\n",
       "               'base/js/events',\n",
       "               'datalab/style!/nbextensions/gcpdatalab/charting.css'\n",
       "              ],\n",
       "        function(charts, dom, events) {\n",
       "          charts.render(\n",
       "              'gcharts',\n",
       "              dom,\n",
       "              events,\n",
       "              'columns',\n",
       "              [],\n",
       "              {\"rows\": [{\"c\": [{\"v\": \"GS\"}, {\"v\": 4749837}]}, {\"c\": [{\"v\": \"WG\"}, {\"v\": 712802}]}, {\"c\": [{\"v\": \"AD\"}, {\"v\": 493727}]}, {\"c\": [{\"v\": \"SV\"}, {\"v\": 385798}]}, {\"c\": [{\"v\": \"GG\"}, {\"v\": 143591}]}, {\"c\": [{\"v\": \"TP\"}, {\"v\": 85152}]}, {\"c\": [{\"v\": \"VN\"}, {\"v\": 78415}]}, {\"c\": [{\"v\": \"GL\"}, {\"v\": 63921}]}, {\"c\": [{\"v\": \"YA\"}, {\"v\": 58636}]}, {\"c\": [{\"v\": \"FV\"}, {\"v\": 39619}]}, {\"c\": [{\"v\": \"YB\"}, {\"v\": 27765}]}, {\"c\": [{\"v\": \"WS\"}, {\"v\": 26953}]}, {\"c\": [{\"v\": \"VM\"}, {\"v\": 23947}]}, {\"c\": [{\"v\": \"FG\"}, {\"v\": 21299}]}, {\"c\": [{\"v\": \"YP\"}, {\"v\": 20935}]}], \"cols\": [{\"type\": \"string\", \"id\": \"pay_plan\", \"label\": \"pay_plan\"}, {\"type\": \"number\", \"id\": \"num_records\", \"label\": \"num_records\"}]},\n",
       "              {},\n",
       "              {\"fields\": \"pay_plan,num_records\", \"source_index\": 0, \"name\": 0},\n",
       "              0,\n",
       "              15);\n",
       "          }\n",
       "        );\n",
       "    </script>\n",
       "  "
      ],
      "text/plain": [
       "<IPython.core.display.HTML object>"
      ]
     },
     "execution_count": 17,
     "metadata": {},
     "output_type": "execute_result"
    },
    {
     "data": {
      "image/png": "[encoded data removed]"
     },
     "metadata": {
      "source_id": "4_150998999459"
     },
     "output_type": "display_data"
    }
   ],
   "source": [
    "%chart columns --data top_pay_plans --fields pay_plan,num_records"
   ]
  },
  {
   "cell_type": "markdown",
   "metadata": {},
   "source": []
  },
  {
   "cell_type": "code",
   "execution_count": 20,
   "metadata": {
    "collapsed": false
   },
   "outputs": [
    {
     "data": {
      "text/html": [
       "\n",
       "          <script src=\"/static/components/requirejs/require.js\"></script>\n",
       "          <script>\n",
       "            requirejs.config({\n",
       "              paths: {\n",
       "                base: '/static/base',\n",
       "              },\n",
       "            });\n",
       "          </script>\n",
       "          "
      ],
      "text/plain": [
       "<IPython.core.display.HTML object>"
      ]
     },
     "metadata": {},
     "output_type": "display_data"
    },
    {
     "data": {
      "text/html": [
       "\n",
       "    <div class=\"bqtv\" id=\"2_150999011712\"><table><tr><th>grade</th><th>num_records</th><th>user_rank</th></tr><tr><td>05</td><td>940173</td><td>1</td></tr><tr><td>04</td><td>889250</td><td>2</td></tr><tr><td>03</td><td>655332</td><td>3</td></tr><tr><td>07</td><td>570001</td><td>4</td></tr><tr><td>02</td><td>446874</td><td>5</td></tr><tr><td>11</td><td>444225</td><td>6</td></tr><tr><td>00</td><td>443767</td><td>7</td></tr><tr><td>09</td><td>421016</td><td>8</td></tr><tr><td>12</td><td>418221</td><td>9</td></tr><tr><td>01</td><td>355491</td><td>10</td></tr><tr><td>06</td><td>324182</td><td>11</td></tr><tr><td>13</td><td>317160</td><td>12</td></tr><tr><td>DD</td><td>205636</td><td>13</td></tr><tr><td>08</td><td>170248</td><td>14</td></tr><tr><td>14</td><td>164402</td><td>15</td></tr><tr><td>10</td><td>164373</td><td>16</td></tr><tr><td>15</td><td>116869</td><td>17</td></tr><tr><td>D</td><td>96756</td><td>18</td></tr><tr><td>AA</td><td>44537</td><td>19</td></tr><tr><td>PH</td><td>31322</td><td>20</td></tr><tr><td>GG</td><td>26916</td><td>21</td></tr><tr><td>FF</td><td>17205</td><td>22</td></tr><tr><td>E</td><td>15267</td><td>23</td></tr><tr><td>HH</td><td>11474</td><td>24</td></tr><tr><td>CE</td><td>9803</td><td>25</td></tr></table></div>\n",
       "    <br />(rows: 191, time: 1.6s,    29MB processed, job: job_7ZpKywGD8Nzt8K9jmNNNDvBKmzLE)<br />\n",
       "    <script>\n",
       "\n",
       "      require.config({\n",
       "        paths: {\n",
       "          d3: '//cdnjs.cloudflare.com/ajax/libs/d3/3.4.13/d3',\n",
       "          plotly: 'https://cdn.plot.ly/plotly-1.5.1.min.js?noext',\n",
       "          jquery: '//ajax.googleapis.com/ajax/libs/jquery/2.0.0/jquery.min'\n",
       "        },\n",
       "        map: {\n",
       "          '*': {\n",
       "            datalab: 'nbextensions/gcpdatalab'\n",
       "          }\n",
       "        },\n",
       "        shim: {\n",
       "          plotly: {\n",
       "            deps: ['d3', 'jquery'],\n",
       "            exports: 'plotly'\n",
       "          }\n",
       "        }\n",
       "      });\n",
       "\n",
       "      require(['datalab/charting', 'datalab/element!2_150999011712', 'base/js/events',\n",
       "          'datalab/style!/nbextensions/gcpdatalab/charting.css'],\n",
       "        function(charts, dom, events) {\n",
       "          charts.render('gcharts', dom, events, 'paged_table', [], {\"rows\": [{\"c\": [{\"v\": \"05\"}, {\"v\": 940173}, {\"v\": 1}]}, {\"c\": [{\"v\": \"04\"}, {\"v\": 889250}, {\"v\": 2}]}, {\"c\": [{\"v\": \"03\"}, {\"v\": 655332}, {\"v\": 3}]}, {\"c\": [{\"v\": \"07\"}, {\"v\": 570001}, {\"v\": 4}]}, {\"c\": [{\"v\": \"02\"}, {\"v\": 446874}, {\"v\": 5}]}, {\"c\": [{\"v\": \"11\"}, {\"v\": 444225}, {\"v\": 6}]}, {\"c\": [{\"v\": \"00\"}, {\"v\": 443767}, {\"v\": 7}]}, {\"c\": [{\"v\": \"09\"}, {\"v\": 421016}, {\"v\": 8}]}, {\"c\": [{\"v\": \"12\"}, {\"v\": 418221}, {\"v\": 9}]}, {\"c\": [{\"v\": \"01\"}, {\"v\": 355491}, {\"v\": 10}]}, {\"c\": [{\"v\": \"06\"}, {\"v\": 324182}, {\"v\": 11}]}, {\"c\": [{\"v\": \"13\"}, {\"v\": 317160}, {\"v\": 12}]}, {\"c\": [{\"v\": \"DD\"}, {\"v\": 205636}, {\"v\": 13}]}, {\"c\": [{\"v\": \"08\"}, {\"v\": 170248}, {\"v\": 14}]}, {\"c\": [{\"v\": \"14\"}, {\"v\": 164402}, {\"v\": 15}]}, {\"c\": [{\"v\": \"10\"}, {\"v\": 164373}, {\"v\": 16}]}, {\"c\": [{\"v\": \"15\"}, {\"v\": 116869}, {\"v\": 17}]}, {\"c\": [{\"v\": \"D\"}, {\"v\": 96756}, {\"v\": 18}]}, {\"c\": [{\"v\": \"AA\"}, {\"v\": 44537}, {\"v\": 19}]}, {\"c\": [{\"v\": \"PH\"}, {\"v\": 31322}, {\"v\": 20}]}, {\"c\": [{\"v\": \"GG\"}, {\"v\": 26916}, {\"v\": 21}]}, {\"c\": [{\"v\": \"FF\"}, {\"v\": 17205}, {\"v\": 22}]}, {\"c\": [{\"v\": \"E\"}, {\"v\": 15267}, {\"v\": 23}]}, {\"c\": [{\"v\": \"HH\"}, {\"v\": 11474}, {\"v\": 24}]}, {\"c\": [{\"v\": \"CE\"}, {\"v\": 9803}, {\"v\": 25}]}], \"cols\": [{\"type\": \"string\", \"id\": \"grade\", \"label\": \"grade\"}, {\"type\": \"number\", \"id\": \"num_records\", \"label\": \"num_records\"}, {\"type\": \"number\", \"id\": \"user_rank\", \"label\": \"user_rank\"}]},\n",
       "            {\n",
       "              pageSize: 25,\n",
       "              cssClassNames:  {\n",
       "                tableRow: 'gchart-table-row',\n",
       "                headerRow: 'gchart-table-headerrow',\n",
       "                oddTableRow: 'gchart-table-oddrow',\n",
       "                selectedTableRow: 'gchart-table-selectedrow',\n",
       "                hoverTableRow: 'gchart-table-hoverrow',\n",
       "                tableCell: 'gchart-table-cell',\n",
       "                headerCell: 'gchart-table-headercell',\n",
       "                rowNumberCell: 'gchart-table-rownumcell'\n",
       "              }\n",
       "            },\n",
       "            {source_index: 1, fields: 'grade,num_records,user_rank'},\n",
       "            0,\n",
       "            191);\n",
       "        }\n",
       "      );\n",
       "    </script>\n",
       "  "
      ],
      "text/plain": [
       "QueryResultsTable job_7ZpKywGD8Nzt8K9jmNNNDvBKmzLE"
      ]
     },
     "execution_count": 20,
     "metadata": {},
     "output_type": "execute_result"
    }
   ],
   "source": [
    "%%bq query \n",
    "\n",
    "\n",
    "SELECT grade, num_records, user_rank\n",
    "FROM (\n",
    "    SELECT grade\n",
    "          ,num_records\n",
    "          ,RANK() \n",
    "            OVER (\n",
    "            ORDER BY num_records DESC) AS user_rank\n",
    "    FROM (\n",
    "          SELECT grade, COUNT(*) as num_records \n",
    "          FROM `w210-fedwork.processed_data.dynamic`\n",
    "          GROUP BY grade\n",
    "         )\n",
    "    )\n",
    "--WHERE user_rank <=15"
   ]
  },
  {
   "cell_type": "markdown",
   "metadata": {},
   "source": []
  },
  {
   "cell_type": "code",
   "execution_count": 33,
   "metadata": {
    "collapsed": false
   },
   "outputs": [
    {
     "data": {
      "text/html": [
       "\n",
       "          <script src=\"/static/components/requirejs/require.js\"></script>\n",
       "          <script>\n",
       "            requirejs.config({\n",
       "              paths: {\n",
       "                base: '/static/base',\n",
       "              },\n",
       "            });\n",
       "          </script>\n",
       "          "
      ],
      "text/plain": [
       "<IPython.core.display.HTML object>"
      ]
     },
     "metadata": {},
     "output_type": "display_data"
    }
   ],
   "source": [
    "%%bq query --name type_appointment\n",
    "\n",
    "\n",
    "\n",
    "    SELECT type_appoint\n",
    "          ,num_records\n",
    "          ,RANK() \n",
    "            OVER (\n",
    "            ORDER BY num_records DESC) AS user_rank\n",
    "    FROM (\n",
    "          SELECT type_appoint, COUNT(*) as num_records \n",
    "          FROM `w210-fedwork.processed_data.dynamic`\n",
    "          GROUP BY type_appoint\n",
    "         )\n"
   ]
  },
  {
   "cell_type": "code",
   "execution_count": 34,
   "metadata": {
    "collapsed": false
   },
   "outputs": [
    {
     "data": {
      "text/html": [
       "\n",
       "          <script src=\"/static/components/requirejs/require.js\"></script>\n",
       "          <script>\n",
       "            requirejs.config({\n",
       "              paths: {\n",
       "                base: '/static/base',\n",
       "              },\n",
       "            });\n",
       "          </script>\n",
       "          "
      ],
      "text/plain": [
       "<IPython.core.display.HTML object>"
      ]
     },
     "metadata": {},
     "output_type": "display_data"
    },
    {
     "data": {
      "text/html": [
       "\n",
       "    <div class=\"bqgc-container\">\n",
       "      \n",
       "      <div class=\"bqgc \" id=\"6_150999087757\">\n",
       "      </div>\n",
       "    </div>\n",
       "    <script>\n",
       "\n",
       "      require.config({\n",
       "        paths: {\n",
       "          d3: '//cdnjs.cloudflare.com/ajax/libs/d3/3.4.13/d3',\n",
       "          plotly: 'https://cdn.plot.ly/plotly-1.5.1.min.js?noext',\n",
       "          jquery: '//ajax.googleapis.com/ajax/libs/jquery/2.0.0/jquery.min'\n",
       "        },\n",
       "        map: {\n",
       "          '*': {\n",
       "            datalab: 'nbextensions/gcpdatalab'\n",
       "          }\n",
       "        },\n",
       "        shim: {\n",
       "          plotly: {\n",
       "            deps: ['d3', 'jquery'],\n",
       "            exports: 'plotly'\n",
       "          }\n",
       "        }\n",
       "      });\n",
       "\n",
       "      require(['datalab/charting',\n",
       "               'datalab/element!6_150999087757',\n",
       "               'base/js/events',\n",
       "               'datalab/style!/nbextensions/gcpdatalab/charting.css'\n",
       "              ],\n",
       "        function(charts, dom, events) {\n",
       "          charts.render(\n",
       "              'gcharts',\n",
       "              dom,\n",
       "              events,\n",
       "              'columns',\n",
       "              [],\n",
       "              {\"rows\": [{\"c\": [{\"v\": \"10\"}, {\"v\": 1468213}]}, {\"c\": [{\"v\": \"15\"}, {\"v\": 1243109}]}, {\"c\": [{\"v\": \"20\"}, {\"v\": 1011727}]}, {\"c\": [{\"v\": \"38\"}, {\"v\": 897696}]}, {\"c\": [{\"v\": \"48\"}, {\"v\": 892901}]}, {\"c\": [{\"v\": \"42\"}, {\"v\": 749429}]}, {\"c\": [{\"v\": \"40\"}, {\"v\": 716613}]}, {\"c\": [{\"v\": \"32\"}, {\"v\": 240699}]}, {\"c\": [{\"v\": \"30\"}, {\"v\": 148238}]}, {\"c\": [{\"v\": \"44\"}, {\"v\": 15755}]}, {\"c\": [{\"v\": \"45\"}, {\"v\": 14965}]}, {\"c\": [{\"v\": \"50\"}, {\"v\": 14237}]}, {\"c\": [{\"v\": \"**\"}, {\"v\": 9539}]}, {\"c\": [{\"v\": \"35\"}, {\"v\": 8191}]}, {\"c\": [{\"v\": \"55\"}, {\"v\": 5007}]}, {\"c\": [{\"v\": \"46\"}, {\"v\": 4110}]}, {\"c\": [{\"v\": \"60\"}, {\"v\": 1067}]}, {\"c\": [{\"v\": \"36\"}, {\"v\": 95}]}, {\"c\": [{\"v\": \"65\"}, {\"v\": 58}]}], \"cols\": [{\"type\": \"string\", \"id\": \"type_appoint\", \"label\": \"type_appoint\"}, {\"type\": \"number\", \"id\": \"num_records\", \"label\": \"num_records\"}]},\n",
       "              {},\n",
       "              {\"fields\": \"type_appoint,num_records\", \"source_index\": 2, \"name\": 2},\n",
       "              0,\n",
       "              19);\n",
       "          }\n",
       "        );\n",
       "    </script>\n",
       "  "
      ],
      "text/plain": [
       "<IPython.core.display.HTML object>"
      ]
     },
     "execution_count": 34,
     "metadata": {},
     "output_type": "execute_result"
    },
    {
     "data": {
      "image/png": "[encoded data removed]"
     },
     "metadata": {
      "source_id": "6_150999087757"
     },
     "output_type": "display_data"
    }
   ],
   "source": [
    "%chart columns --data type_appointment --fields type_appoint,num_records"
   ]
  },
  {
   "cell_type": "markdown",
   "metadata": {},
   "source": [
    "### Wrk Schedule"
   ]
  },
  {
   "cell_type": "code",
   "execution_count": 35,
   "metadata": {
    "collapsed": false
   },
   "outputs": [
    {
     "data": {
      "text/html": [
       "\n",
       "          <script src=\"/static/components/requirejs/require.js\"></script>\n",
       "          <script>\n",
       "            requirejs.config({\n",
       "              paths: {\n",
       "                base: '/static/base',\n",
       "              },\n",
       "            });\n",
       "          </script>\n",
       "          "
      ],
      "text/plain": [
       "<IPython.core.display.HTML object>"
      ]
     },
     "metadata": {},
     "output_type": "display_data"
    },
    {
     "data": {
      "text/html": [
       "\n",
       "    <div class=\"bqtv\" id=\"3_150999095899\"><table><tr><th>work_schedule</th><th>num_records</th><th>user_rank</th></tr><tr><td>F</td><td>5730466</td><td>1</td></tr><tr><td>P</td><td>581371</td><td>2</td></tr><tr><td>I</td><td>570596</td><td>3</td></tr><tr><td>G</td><td>401440</td><td>4</td></tr><tr><td>J</td><td>93332</td><td>5</td></tr><tr><td>Q</td><td>61248</td><td>6</td></tr><tr><td>S</td><td>2150</td><td>7</td></tr><tr><td>*</td><td>984</td><td>8</td></tr><tr><td></td><td>30</td><td>9</td></tr><tr><td>T</td><td>24</td><td>10</td></tr><tr><td>B</td><td>8</td><td>11</td></tr></table></div>\n",
       "    <br />(rows: 11, time: 1.9s,    22MB processed, job: job_5a8okqjmf2eeXk-RMszZnLqhVl-s)<br />\n",
       "    <script>\n",
       "\n",
       "      require.config({\n",
       "        paths: {\n",
       "          d3: '//cdnjs.cloudflare.com/ajax/libs/d3/3.4.13/d3',\n",
       "          plotly: 'https://cdn.plot.ly/plotly-1.5.1.min.js?noext',\n",
       "          jquery: '//ajax.googleapis.com/ajax/libs/jquery/2.0.0/jquery.min'\n",
       "        },\n",
       "        map: {\n",
       "          '*': {\n",
       "            datalab: 'nbextensions/gcpdatalab'\n",
       "          }\n",
       "        },\n",
       "        shim: {\n",
       "          plotly: {\n",
       "            deps: ['d3', 'jquery'],\n",
       "            exports: 'plotly'\n",
       "          }\n",
       "        }\n",
       "      });\n",
       "\n",
       "      require(['datalab/charting', 'datalab/element!3_150999095899', 'base/js/events',\n",
       "          'datalab/style!/nbextensions/gcpdatalab/charting.css'],\n",
       "        function(charts, dom, events) {\n",
       "          charts.render('gcharts', dom, events, 'table', [], {\"rows\": [{\"c\": [{\"v\": \"F\"}, {\"v\": 5730466}, {\"v\": 1}]}, {\"c\": [{\"v\": \"P\"}, {\"v\": 581371}, {\"v\": 2}]}, {\"c\": [{\"v\": \"I\"}, {\"v\": 570596}, {\"v\": 3}]}, {\"c\": [{\"v\": \"G\"}, {\"v\": 401440}, {\"v\": 4}]}, {\"c\": [{\"v\": \"J\"}, {\"v\": 93332}, {\"v\": 5}]}, {\"c\": [{\"v\": \"Q\"}, {\"v\": 61248}, {\"v\": 6}]}, {\"c\": [{\"v\": \"S\"}, {\"v\": 2150}, {\"v\": 7}]}, {\"c\": [{\"v\": \"*\"}, {\"v\": 984}, {\"v\": 8}]}, {\"c\": [{\"v\": \"\"}, {\"v\": 30}, {\"v\": 9}]}, {\"c\": [{\"v\": \"T\"}, {\"v\": 24}, {\"v\": 10}]}, {\"c\": [{\"v\": \"B\"}, {\"v\": 8}, {\"v\": 11}]}], \"cols\": [{\"type\": \"string\", \"id\": \"work_schedule\", \"label\": \"work_schedule\"}, {\"type\": \"number\", \"id\": \"num_records\", \"label\": \"num_records\"}, {\"type\": \"number\", \"id\": \"user_rank\", \"label\": \"user_rank\"}]},\n",
       "            {\n",
       "              pageSize: 25,\n",
       "              cssClassNames:  {\n",
       "                tableRow: 'gchart-table-row',\n",
       "                headerRow: 'gchart-table-headerrow',\n",
       "                oddTableRow: 'gchart-table-oddrow',\n",
       "                selectedTableRow: 'gchart-table-selectedrow',\n",
       "                hoverTableRow: 'gchart-table-hoverrow',\n",
       "                tableCell: 'gchart-table-cell',\n",
       "                headerCell: 'gchart-table-headercell',\n",
       "                rowNumberCell: 'gchart-table-rownumcell'\n",
       "              }\n",
       "            },\n",
       "            {source_index: 2, fields: 'work_schedule,num_records,user_rank'},\n",
       "            0,\n",
       "            11);\n",
       "        }\n",
       "      );\n",
       "    </script>\n",
       "  "
      ],
      "text/plain": [
       "QueryResultsTable job_5a8okqjmf2eeXk-RMszZnLqhVl-s"
      ]
     },
     "execution_count": 35,
     "metadata": {},
     "output_type": "execute_result"
    }
   ],
   "source": [
    "%%bq query \n",
    "\n",
    "\n",
    "\n",
    "    SELECT work_schedule\n",
    "          ,num_records\n",
    "          ,RANK() \n",
    "            OVER (\n",
    "            ORDER BY num_records DESC) AS user_rank\n",
    "    FROM (\n",
    "          SELECT work_schedule, COUNT(*) as num_records \n",
    "          FROM `w210-fedwork.processed_data.dynamic`\n",
    "          GROUP BY work_schedule\n",
    "         )"
   ]
  },
  {
   "cell_type": "markdown",
   "metadata": {},
   "source": [
    "| Work Schedule Code  |Work Schedule Translation     |\n",
    "| ------------------ |:----------------------|\n",
    "|                    |No Data Reported|                                                        \n",
    "|B                   |BAYLOR PLAN|                                                              \n",
    "|F                   |FULL-TIME|                                                               \n",
    "|G                   |FULL-TIME SEASONAL|                                                        \n",
    "|I                   |INTERMITTENT|                                                            \n",
    "|J                   |INTERMITTENT SEASONAL|                                                      \n",
    "|P                   |PART-TIME|                                                            \n",
    "|Q                   |PART-TIME SEASONAL|                                                         \n",
    "|R                   |A SCHEDULE REQUIRED WHEN AN EMPLOYEE HAS ELECTED PHASED EMPLOYMENT/PHASED RE|\n",
    "|S                   |PART-TIME JOB SHARER|                                                  \n",
    "|T                   |PART-TIME SEASONAL JOB SHARER|    \n"
   ]
  },
  {
   "cell_type": "markdown",
   "metadata": {},
   "source": [
    "One comment in the documentations reads the following:\n",
    "\n",
    "\"A combination of Type of Appointment and Work Schedule dimensions. The Work Status\n",
    "dimension is limited to \"Non-Seasonal Full Time Permanent\" and \"Other Employees\". \""
   ]
  },
  {
   "cell_type": "markdown",
   "metadata": {},
   "source": [
    "### Basic Pay (Salary)"
   ]
  },
  {
   "cell_type": "code",
   "execution_count": 26,
   "metadata": {
    "collapsed": false
   },
   "outputs": [
    {
     "data": {
      "text/html": [
       "\n",
       "          <script src=\"/static/components/requirejs/require.js\"></script>\n",
       "          <script>\n",
       "            requirejs.config({\n",
       "              paths: {\n",
       "                base: '/static/base',\n",
       "              },\n",
       "            });\n",
       "          </script>\n",
       "          "
      ],
      "text/plain": [
       "<IPython.core.display.HTML object>"
      ]
     },
     "metadata": {},
     "output_type": "display_data"
    },
    {
     "data": {
      "text/html": [
       "\n",
       "    <div class=\"bqtv\" id=\"10_150991956592\"><table><tr><th>avg_pay</th><th>min_pay</th><th>max_pay</th><th>std_pay</th><th>var_pay</th></tr><tr><td>46141.3253348</td><td>0</td><td>385980</td><td>30214.0021348</td><td>912885925.0</td></tr></table></div>\n",
       "    <br />(rows: 1, time: 1.4s,    59MB processed, job: job_6Jp1hcwIQhzKhq4h1UWQyYZS_nri)<br />\n",
       "    <script>\n",
       "\n",
       "      require.config({\n",
       "        paths: {\n",
       "          d3: '//cdnjs.cloudflare.com/ajax/libs/d3/3.4.13/d3',\n",
       "          plotly: 'https://cdn.plot.ly/plotly-1.5.1.min.js?noext',\n",
       "          jquery: '//ajax.googleapis.com/ajax/libs/jquery/2.0.0/jquery.min'\n",
       "        },\n",
       "        map: {\n",
       "          '*': {\n",
       "            datalab: 'nbextensions/gcpdatalab'\n",
       "          }\n",
       "        },\n",
       "        shim: {\n",
       "          plotly: {\n",
       "            deps: ['d3', 'jquery'],\n",
       "            exports: 'plotly'\n",
       "          }\n",
       "        }\n",
       "      });\n",
       "\n",
       "      require(['datalab/charting', 'datalab/element!10_150991956592', 'base/js/events',\n",
       "          'datalab/style!/nbextensions/gcpdatalab/charting.css'],\n",
       "        function(charts, dom, events) {\n",
       "          charts.render('gcharts', dom, events, 'table', [], {\"rows\": [{\"c\": [{\"v\": 46141.325334832676}, {\"v\": 0}, {\"v\": 385980}, {\"v\": 30214.002134773273}, {\"v\": 912885925.0000838}]}], \"cols\": [{\"type\": \"number\", \"id\": \"avg_pay\", \"label\": \"avg_pay\"}, {\"type\": \"number\", \"id\": \"min_pay\", \"label\": \"min_pay\"}, {\"type\": \"number\", \"id\": \"max_pay\", \"label\": \"max_pay\"}, {\"type\": \"number\", \"id\": \"std_pay\", \"label\": \"std_pay\"}, {\"type\": \"number\", \"id\": \"var_pay\", \"label\": \"var_pay\"}]},\n",
       "            {\n",
       "              pageSize: 25,\n",
       "              cssClassNames:  {\n",
       "                tableRow: 'gchart-table-row',\n",
       "                headerRow: 'gchart-table-headerrow',\n",
       "                oddTableRow: 'gchart-table-oddrow',\n",
       "                selectedTableRow: 'gchart-table-selectedrow',\n",
       "                hoverTableRow: 'gchart-table-hoverrow',\n",
       "                tableCell: 'gchart-table-cell',\n",
       "                headerCell: 'gchart-table-headercell',\n",
       "                rowNumberCell: 'gchart-table-rownumcell'\n",
       "              }\n",
       "            },\n",
       "            {source_index: 9, fields: 'avg_pay,min_pay,max_pay,std_pay,var_pay'},\n",
       "            0,\n",
       "            1);\n",
       "        }\n",
       "      );\n",
       "    </script>\n",
       "  "
      ],
      "text/plain": [
       "QueryResultsTable job_6Jp1hcwIQhzKhq4h1UWQyYZS_nri"
      ]
     },
     "execution_count": 26,
     "metadata": {},
     "output_type": "execute_result"
    }
   ],
   "source": [
    "%%bq query\n",
    "\n",
    "SELECT AVG(basic_pay) as avg_pay, MIN(basic_pay) as min_pay, MAX(basic_pay) as max_pay, STDDEV(basic_pay) as std_pay, VAR_SAMP(basic_pay) as var_pay\n",
    "FROM `w210-fedwork.processed_data.dynamic`"
   ]
  },
  {
   "cell_type": "code",
   "execution_count": 30,
   "metadata": {
    "collapsed": false
   },
   "outputs": [
    {
     "data": {
      "text/html": [
       "\n",
       "          <script src=\"/static/components/requirejs/require.js\"></script>\n",
       "          <script>\n",
       "            requirejs.config({\n",
       "              paths: {\n",
       "                base: '/static/base',\n",
       "              },\n",
       "            });\n",
       "          </script>\n",
       "          "
      ],
      "text/plain": [
       "<IPython.core.display.HTML object>"
      ]
     },
     "metadata": {},
     "output_type": "display_data"
    },
    {
     "data": {
      "text/html": [
       "\n",
       "    <div class=\"bqtv\" id=\"12_150992461753\"><table><tr><th>num_records</th></tr><tr><td>11504</td></tr></table></div>\n",
       "    <br />(rows: 1, time: 1.0s,    59MB processed, job: job_tS2m-znIcjGzP4ky_T2M7sZ_k4uh)<br />\n",
       "    <script>\n",
       "\n",
       "      require.config({\n",
       "        paths: {\n",
       "          d3: '//cdnjs.cloudflare.com/ajax/libs/d3/3.4.13/d3',\n",
       "          plotly: 'https://cdn.plot.ly/plotly-1.5.1.min.js?noext',\n",
       "          jquery: '//ajax.googleapis.com/ajax/libs/jquery/2.0.0/jquery.min'\n",
       "        },\n",
       "        map: {\n",
       "          '*': {\n",
       "            datalab: 'nbextensions/gcpdatalab'\n",
       "          }\n",
       "        },\n",
       "        shim: {\n",
       "          plotly: {\n",
       "            deps: ['d3', 'jquery'],\n",
       "            exports: 'plotly'\n",
       "          }\n",
       "        }\n",
       "      });\n",
       "\n",
       "      require(['datalab/charting', 'datalab/element!12_150992461753', 'base/js/events',\n",
       "          'datalab/style!/nbextensions/gcpdatalab/charting.css'],\n",
       "        function(charts, dom, events) {\n",
       "          charts.render('gcharts', dom, events, 'table', [], {\"rows\": [{\"c\": [{\"v\": 11504}]}], \"cols\": [{\"type\": \"number\", \"id\": \"num_records\", \"label\": \"num_records\"}]},\n",
       "            {\n",
       "              pageSize: 25,\n",
       "              cssClassNames:  {\n",
       "                tableRow: 'gchart-table-row',\n",
       "                headerRow: 'gchart-table-headerrow',\n",
       "                oddTableRow: 'gchart-table-oddrow',\n",
       "                selectedTableRow: 'gchart-table-selectedrow',\n",
       "                hoverTableRow: 'gchart-table-hoverrow',\n",
       "                tableCell: 'gchart-table-cell',\n",
       "                headerCell: 'gchart-table-headercell',\n",
       "                rowNumberCell: 'gchart-table-rownumcell'\n",
       "              }\n",
       "            },\n",
       "            {source_index: 11, fields: 'num_records'},\n",
       "            0,\n",
       "            1);\n",
       "        }\n",
       "      );\n",
       "    </script>\n",
       "  "
      ],
      "text/plain": [
       "QueryResultsTable job_tS2m-znIcjGzP4ky_T2M7sZ_k4uh"
      ]
     },
     "execution_count": 30,
     "metadata": {},
     "output_type": "execute_result"
    }
   ],
   "source": [
    "%%bq query\n",
    "\n",
    "SELECT COUNT(basic_pay) as num_records\n",
    "FROM `w210-fedwork.processed_data.dynamic`\n",
    "where basic_pay=0 or  basic_pay is null"
   ]
  },
  {
   "cell_type": "markdown",
   "metadata": {},
   "source": [
    "There is a very small fraction of records with no payment information."
   ]
  },
  {
   "cell_type": "code",
   "execution_count": 37,
   "metadata": {
    "collapsed": false
   },
   "outputs": [
    {
     "data": {
      "text/html": [
       "\n",
       "          <script src=\"/static/components/requirejs/require.js\"></script>\n",
       "          <script>\n",
       "            requirejs.config({\n",
       "              paths: {\n",
       "                base: '/static/base',\n",
       "              },\n",
       "            });\n",
       "          </script>\n",
       "          "
      ],
      "text/plain": [
       "<IPython.core.display.HTML object>"
      ]
     },
     "metadata": {},
     "output_type": "display_data"
    },
    {
     "data": {
      "text/html": [
       "\n",
       "    <div class=\"bqtv\" id=\"4_150999244286\"><table><tr><th>nsftp_ind</th><th>num_records</th></tr><tr><td>1</td><td>95749245</td></tr><tr><td>2</td><td>14548158</td></tr></table></div>\n",
       "    <br />(rows: 2, time: 2.4s,   330MB processed, job: job_mreduqgklbUBOiTlWeMxcm2-IGZp)<br />\n",
       "    <script>\n",
       "\n",
       "      require.config({\n",
       "        paths: {\n",
       "          d3: '//cdnjs.cloudflare.com/ajax/libs/d3/3.4.13/d3',\n",
       "          plotly: 'https://cdn.plot.ly/plotly-1.5.1.min.js?noext',\n",
       "          jquery: '//ajax.googleapis.com/ajax/libs/jquery/2.0.0/jquery.min'\n",
       "        },\n",
       "        map: {\n",
       "          '*': {\n",
       "            datalab: 'nbextensions/gcpdatalab'\n",
       "          }\n",
       "        },\n",
       "        shim: {\n",
       "          plotly: {\n",
       "            deps: ['d3', 'jquery'],\n",
       "            exports: 'plotly'\n",
       "          }\n",
       "        }\n",
       "      });\n",
       "\n",
       "      require(['datalab/charting', 'datalab/element!4_150999244286', 'base/js/events',\n",
       "          'datalab/style!/nbextensions/gcpdatalab/charting.css'],\n",
       "        function(charts, dom, events) {\n",
       "          charts.render('gcharts', dom, events, 'table', [], {\"rows\": [{\"c\": [{\"v\": \"1\"}, {\"v\": 95749245}]}, {\"c\": [{\"v\": \"2\"}, {\"v\": 14548158}]}], \"cols\": [{\"type\": \"string\", \"id\": \"nsftp_ind\", \"label\": \"nsftp_ind\"}, {\"type\": \"number\", \"id\": \"num_records\", \"label\": \"num_records\"}]},\n",
       "            {\n",
       "              pageSize: 25,\n",
       "              cssClassNames:  {\n",
       "                tableRow: 'gchart-table-row',\n",
       "                headerRow: 'gchart-table-headerrow',\n",
       "                oddTableRow: 'gchart-table-oddrow',\n",
       "                selectedTableRow: 'gchart-table-selectedrow',\n",
       "                hoverTableRow: 'gchart-table-hoverrow',\n",
       "                tableCell: 'gchart-table-cell',\n",
       "                headerCell: 'gchart-table-headercell',\n",
       "                rowNumberCell: 'gchart-table-rownumcell'\n",
       "              }\n",
       "            },\n",
       "            {source_index: 3, fields: 'nsftp_ind,num_records'},\n",
       "            0,\n",
       "            2);\n",
       "        }\n",
       "      );\n",
       "    </script>\n",
       "  "
      ],
      "text/plain": [
       "QueryResultsTable job_mreduqgklbUBOiTlWeMxcm2-IGZp"
      ]
     },
     "execution_count": 37,
     "metadata": {},
     "output_type": "execute_result"
    }
   ],
   "source": [
    "%%bq query\n",
    "\n",
    "SELECT nsftp_ind, COUNT(*) as num_records \n",
    "FROM `w210-fedwork.processed_data.status`\n",
    "GROUP BY nsftp_ind\n"
   ]
  },
  {
   "cell_type": "code",
   "execution_count": 40,
   "metadata": {
    "collapsed": false
   },
   "outputs": [
    {
     "data": {
      "text/html": [
       "\n",
       "          <script src=\"/static/components/requirejs/require.js\"></script>\n",
       "          <script>\n",
       "            requirejs.config({\n",
       "              paths: {\n",
       "                base: '/static/base',\n",
       "              },\n",
       "            });\n",
       "          </script>\n",
       "          "
      ],
      "text/plain": [
       "<IPython.core.display.HTML object>"
      ]
     },
     "metadata": {},
     "output_type": "display_data"
    }
   ],
   "source": [
    "%%bq query --name education_level\n",
    "\n",
    "\n",
    "\n",
    "    SELECT education_level\n",
    "          ,num_records\n",
    "          ,RANK() \n",
    "            OVER (\n",
    "            ORDER BY num_records DESC) AS user_rank\n",
    "    FROM (\n",
    "          SELECT education_level, COUNT(*) as num_records \n",
    "          FROM `w210-fedwork.processed_data.status`\n",
    "          GROUP BY education_level\n",
    "         )"
   ]
  },
  {
   "cell_type": "code",
   "execution_count": 41,
   "metadata": {
    "collapsed": false
   },
   "outputs": [
    {
     "data": {
      "text/html": [
       "\n",
       "          <script src=\"/static/components/requirejs/require.js\"></script>\n",
       "          <script>\n",
       "            requirejs.config({\n",
       "              paths: {\n",
       "                base: '/static/base',\n",
       "              },\n",
       "            });\n",
       "          </script>\n",
       "          "
      ],
      "text/plain": [
       "<IPython.core.display.HTML object>"
      ]
     },
     "metadata": {},
     "output_type": "display_data"
    },
    {
     "data": {
      "text/html": [
       "\n",
       "    <div class=\"bqgc-container\">\n",
       "      \n",
       "      <div class=\"bqgc \" id=\"8_150999259984\">\n",
       "      </div>\n",
       "    </div>\n",
       "    <script>\n",
       "\n",
       "      require.config({\n",
       "        paths: {\n",
       "          d3: '//cdnjs.cloudflare.com/ajax/libs/d3/3.4.13/d3',\n",
       "          plotly: 'https://cdn.plot.ly/plotly-1.5.1.min.js?noext',\n",
       "          jquery: '//ajax.googleapis.com/ajax/libs/jquery/2.0.0/jquery.min'\n",
       "        },\n",
       "        map: {\n",
       "          '*': {\n",
       "            datalab: 'nbextensions/gcpdatalab'\n",
       "          }\n",
       "        },\n",
       "        shim: {\n",
       "          plotly: {\n",
       "            deps: ['d3', 'jquery'],\n",
       "            exports: 'plotly'\n",
       "          }\n",
       "        }\n",
       "      });\n",
       "\n",
       "      require(['datalab/charting',\n",
       "               'datalab/element!8_150999259984',\n",
       "               'base/js/events',\n",
       "               'datalab/style!/nbextensions/gcpdatalab/charting.css'\n",
       "              ],\n",
       "        function(charts, dom, events) {\n",
       "          charts.render(\n",
       "              'gcharts',\n",
       "              dom,\n",
       "              events,\n",
       "              'columns',\n",
       "              [],\n",
       "              {\"rows\": [{\"c\": [{\"v\": \"04\"}, {\"v\": 30123140}]}, {\"c\": [{\"v\": \"13\"}, {\"v\": 26015039}]}, {\"c\": [{\"v\": \"17\"}, {\"v\": 11292321}]}, {\"c\": [{\"v\": \"07\"}, {\"v\": 6519491}]}, {\"c\": [{\"v\": \"10\"}, {\"v\": 6294051}]}, {\"c\": [{\"v\": \"08\"}, {\"v\": 4598974}]}, {\"c\": [{\"v\": \"09\"}, {\"v\": 3958293}]}, {\"c\": [{\"v\": \"06\"}, {\"v\": 3435128}]}, {\"c\": [{\"v\": \"15\"}, {\"v\": 3407967}]}, {\"c\": [{\"v\": \"14\"}, {\"v\": 2769722}]}, {\"c\": [{\"v\": \"21\"}, {\"v\": 2549069}]}, {\"c\": [{\"v\": \"\"}, {\"v\": 2485802}]}, {\"c\": [{\"v\": \"11\"}, {\"v\": 1805858}]}, {\"c\": [{\"v\": \"12\"}, {\"v\": 1230693}]}, {\"c\": [{\"v\": \"03\"}, {\"v\": 993339}]}, {\"c\": [{\"v\": \"05\"}, {\"v\": 984089}]}, {\"c\": [{\"v\": \"18\"}, {\"v\": 800160}]}, {\"c\": [{\"v\": \"22\"}, {\"v\": 432509}]}, {\"c\": [{\"v\": \"01\"}, {\"v\": 170621}]}, {\"c\": [{\"v\": \"16\"}, {\"v\": 149158}]}, {\"c\": [{\"v\": \"**\"}, {\"v\": 118642}]}, {\"c\": [{\"v\": \"19\"}, {\"v\": 68074}]}, {\"c\": [{\"v\": \"02\"}, {\"v\": 48946}]}, {\"c\": [{\"v\": \"20\"}, {\"v\": 46317}]}], \"cols\": [{\"type\": \"string\", \"id\": \"education_level\", \"label\": \"education_level\"}, {\"type\": \"number\", \"id\": \"num_records\", \"label\": \"num_records\"}]},\n",
       "              {},\n",
       "              {\"fields\": \"education_level,num_records\", \"source_index\": 3, \"name\": 3},\n",
       "              0,\n",
       "              24);\n",
       "          }\n",
       "        );\n",
       "    </script>\n",
       "  "
      ],
      "text/plain": [
       "<IPython.core.display.HTML object>"
      ]
     },
     "execution_count": 41,
     "metadata": {},
     "output_type": "execute_result"
    },
    {
     "data": {
      "image/png": "[encoded data removed]"
     },
     "metadata": {
      "source_id": "8_150999259984"
     },
     "output_type": "display_data"
    }
   ],
   "source": [
    "%chart columns --data education_level --fields education_level,num_records"
   ]
  },
  {
   "cell_type": "markdown",
   "metadata": {},
   "source": [
    "Ed. Level Code           Education Level Translation\n",
    "                          -No Data Reported                                                            \n",
    "*                        *-Invalid                                                                     \n",
    "01                       01-NO FORMAL EDUCATION OR SOME ELEMENTARY SCHOOL - DID NOT COMPLETE           \n",
    "02                       02-ELEMENTARY SCHOOL COMPLETED - NO HIGH SCHOOL                               \n",
    "03                       03-SOME HIGH SCHOOL - DID NOT COMPLETE                                        \n",
    "04                       04-HIGH SCHOOL GRADUATE OR CERTIFICATE OF EQUIVALENCY                         \n",
    "05                       05-TERMINAL OCCUPATIONAL PROGRAM - DID NOT COMPLETE                           \n",
    "06                       06-TERMINAL OCCUPATIONAL PROGRAM - CERTIFICATE OF COMPLETION, DIPLOMA OR EQUIV                  \n",
    "07                       07-SOME COLLEGE - LESS THAN ONE YEAR                                          \n",
    "08                       08-ONE YEAR COLLEGE                                                           \n",
    "09                       09-TWO YEARS COLLEGE                                                          \n",
    "10                       10-ASSOCIATE DEGREE                                                           \n",
    "11                       11-THREE YEARS COLLEGE                                                        \n",
    "12                       12-FOUR YEARS COLLEGE                                                         \n",
    "13                       13-BACHELOR'S DEGREE                                                          \n",
    "14                       14-POST-BACHELOR'S                                                            \n",
    "15                       15-FIRST PROFESSIONAL                                                         \n",
    "16                       16-POST-FIRST PROFESSIONAL                                                    \n",
    "17                       17-MASTER'S DEGREE                                                            \n",
    "18                       18-POST-MASTER'S                                                              \n",
    "19                       19-SIXTH-YEAR DEGREE                                                          \n",
    "20                       20-POST-SIXTH YEAR                                                            \n",
    "21                       21-DOCTORATE DEGREE                                                           \n",
    "22                       22-POST-DOCTORATE     "
   ]
  },
  {
   "cell_type": "code",
   "execution_count": null,
   "metadata": {
    "collapsed": true
   },
   "outputs": [],
   "source": []
  },
  {
   "cell_type": "code",
   "execution_count": 21,
   "metadata": {
    "collapsed": false
   },
   "outputs": [
    {
     "data": {
      "text/html": [
       "\n",
       "          <script src=\"/static/components/requirejs/require.js\"></script>\n",
       "          <script>\n",
       "            requirejs.config({\n",
       "              paths: {\n",
       "                base: '/static/base',\n",
       "              },\n",
       "            });\n",
       "          </script>\n",
       "          "
      ],
      "text/plain": [
       "<IPython.core.display.HTML object>"
      ]
     },
     "metadata": {},
     "output_type": "display_data"
    }
   ],
   "source": [
    "import google.datalab.ml as ml\n",
    "import json\n",
    "import math\n",
    "import matplotlib.pyplot as plot\n",
    "import mltoolbox.regression.dnn as regression\n",
    "import numpy as np\n",
    "import pandas as pd\n",
    "import os\n",
    "import seaborn as sns\n",
    "import sklearn.metrics as metrics"
   ]
  },
  {
   "cell_type": "code",
   "execution_count": 22,
   "metadata": {
    "collapsed": false
   },
   "outputs": [
    {
     "data": {
      "text/html": [
       "\n",
       "          <script src=\"/static/components/requirejs/require.js\"></script>\n",
       "          <script>\n",
       "            requirejs.config({\n",
       "              paths: {\n",
       "                base: '/static/base',\n",
       "              },\n",
       "            });\n",
       "          </script>\n",
       "          "
      ],
      "text/plain": [
       "<IPython.core.display.HTML object>"
      ]
     },
     "metadata": {},
     "output_type": "display_data"
    },
    {
     "name": "stderr",
     "output_type": "stream",
     "text": [
      "/usr/local/lib/python2.7/dist-packages/sklearn/cross_validation.py:44: DeprecationWarning: This module was deprecated in version 0.18 in favor of the model_selection module into which all the refactored classes and functions are moved. Also note that the interface of the new CV iterators are different from that of this module. This module will be removed in 0.20.\n",
      "  \"This module will be removed in 0.20.\", DeprecationWarning)\n"
     ]
    }
   ],
   "source": [
    "from sklearn.linear_model import LogisticRegression\n",
    "from sklearn.cross_validation import train_test_split\n",
    "import seaborn as sns\n",
    "sns.set(style=\"white\")\n",
    "sns.set(style=\"whitegrid\", color_codes=True)"
   ]
  },
  {
   "cell_type": "code",
   "execution_count": 23,
   "metadata": {
    "collapsed": false
   },
   "outputs": [
    {
     "data": {
      "text/html": [
       "\n",
       "          <script src=\"/static/components/requirejs/require.js\"></script>\n",
       "          <script>\n",
       "            requirejs.config({\n",
       "              paths: {\n",
       "                base: '/static/base',\n",
       "              },\n",
       "            });\n",
       "          </script>\n",
       "          "
      ],
      "text/plain": [
       "<IPython.core.display.HTML object>"
      ]
     },
     "metadata": {},
     "output_type": "display_data"
    }
   ],
   "source": [
    "workspace_path = '/content/datalab/workspace/exploration'"
   ]
  },
  {
   "cell_type": "markdown",
   "metadata": {},
   "source": [
    "#### The following sample dataset contains 30,000 rows"
   ]
  },
  {
   "cell_type": "code",
   "execution_count": 28,
   "metadata": {
    "collapsed": false
   },
   "outputs": [
    {
     "data": {
      "text/html": [
       "\n",
       "          <script src=\"/static/components/requirejs/require.js\"></script>\n",
       "          <script>\n",
       "            requirejs.config({\n",
       "              paths: {\n",
       "                base: '/static/base',\n",
       "              },\n",
       "            });\n",
       "          </script>\n",
       "          "
      ],
      "text/plain": [
       "<IPython.core.display.HTML object>"
      ]
     },
     "metadata": {},
     "output_type": "display_data"
    },
    {
     "name": "stdout",
     "output_type": "stream",
     "text": [
      "30000 rows\n"
     ]
    },
    {
     "data": {
      "text/html": [
       "<div>\n",
       "<table border=\"1\" class=\"dataframe\">\n",
       "  <thead>\n",
       "    <tr style=\"text-align: right;\">\n",
       "      <th></th>\n",
       "      <th>emp_id</th>\n",
       "      <th>agency</th>\n",
       "      <th>acces_sep_ind</th>\n",
       "      <th>effective_dt</th>\n",
       "      <th>age</th>\n",
       "      <th>pay_plan</th>\n",
       "      <th>grade</th>\n",
       "      <th>los</th>\n",
       "      <th>duty_station</th>\n",
       "      <th>occupation</th>\n",
       "      <th>occupation_cat</th>\n",
       "      <th>basic_pay</th>\n",
       "      <th>type_appoint</th>\n",
       "      <th>work_schedule</th>\n",
       "      <th>dod_ind</th>\n",
       "      <th>year_eff_dt</th>\n",
       "      <th>month_eff_dt</th>\n",
       "      <th>day_eff_dt</th>\n",
       "      <th>quarter_eff_dt</th>\n",
       "      <th>week_eff_dt</th>\n",
       "    </tr>\n",
       "  </thead>\n",
       "  <tbody>\n",
       "    <tr>\n",
       "      <th>0</th>\n",
       "      <td>001731070</td>\n",
       "      <td>DD34</td>\n",
       "      <td>SC</td>\n",
       "      <td>2010-01-01</td>\n",
       "      <td>20-24</td>\n",
       "      <td>YB</td>\n",
       "      <td>01</td>\n",
       "      <td>1-2</td>\n",
       "      <td>#########</td>\n",
       "      <td>****</td>\n",
       "      <td>*</td>\n",
       "      <td>21517</td>\n",
       "      <td>40</td>\n",
       "      <td>F</td>\n",
       "      <td>1</td>\n",
       "      <td>2010</td>\n",
       "      <td>1</td>\n",
       "      <td>1</td>\n",
       "      <td>1</td>\n",
       "      <td>0</td>\n",
       "    </tr>\n",
       "    <tr>\n",
       "      <th>1</th>\n",
       "      <td>002741047</td>\n",
       "      <td>NV24</td>\n",
       "      <td>SD</td>\n",
       "      <td>2010-01-02</td>\n",
       "      <td>50-54</td>\n",
       "      <td>**</td>\n",
       "      <td>**</td>\n",
       "      <td>35+</td>\n",
       "      <td>#########</td>\n",
       "      <td>****</td>\n",
       "      <td>*</td>\n",
       "      <td>NaN</td>\n",
       "      <td>10</td>\n",
       "      <td>F</td>\n",
       "      <td>1</td>\n",
       "      <td>2010</td>\n",
       "      <td>1</td>\n",
       "      <td>2</td>\n",
       "      <td>1</td>\n",
       "      <td>0</td>\n",
       "    </tr>\n",
       "    <tr>\n",
       "      <th>2</th>\n",
       "      <td>004045502</td>\n",
       "      <td>NV19</td>\n",
       "      <td>SD</td>\n",
       "      <td>2010-01-02</td>\n",
       "      <td>60-64</td>\n",
       "      <td>**</td>\n",
       "      <td>**</td>\n",
       "      <td>35+</td>\n",
       "      <td>#########</td>\n",
       "      <td>****</td>\n",
       "      <td>*</td>\n",
       "      <td>NaN</td>\n",
       "      <td>10</td>\n",
       "      <td>G</td>\n",
       "      <td>1</td>\n",
       "      <td>2010</td>\n",
       "      <td>1</td>\n",
       "      <td>2</td>\n",
       "      <td>1</td>\n",
       "      <td>0</td>\n",
       "    </tr>\n",
       "    <tr>\n",
       "      <th>3</th>\n",
       "      <td>009203122</td>\n",
       "      <td>NV27</td>\n",
       "      <td>SJ</td>\n",
       "      <td>2010-01-07</td>\n",
       "      <td>25-29</td>\n",
       "      <td>**</td>\n",
       "      <td>**</td>\n",
       "      <td>3-4</td>\n",
       "      <td>#########</td>\n",
       "      <td>****</td>\n",
       "      <td>*</td>\n",
       "      <td>NaN</td>\n",
       "      <td>20</td>\n",
       "      <td>P</td>\n",
       "      <td>1</td>\n",
       "      <td>2010</td>\n",
       "      <td>1</td>\n",
       "      <td>7</td>\n",
       "      <td>1</td>\n",
       "      <td>1</td>\n",
       "    </tr>\n",
       "    <tr>\n",
       "      <th>4</th>\n",
       "      <td>008030594</td>\n",
       "      <td>NV27</td>\n",
       "      <td>SC</td>\n",
       "      <td>2010-01-08</td>\n",
       "      <td>50-54</td>\n",
       "      <td>**</td>\n",
       "      <td>**</td>\n",
       "      <td>&lt; 1</td>\n",
       "      <td>#########</td>\n",
       "      <td>****</td>\n",
       "      <td>*</td>\n",
       "      <td>NaN</td>\n",
       "      <td>15</td>\n",
       "      <td>F</td>\n",
       "      <td>1</td>\n",
       "      <td>2010</td>\n",
       "      <td>1</td>\n",
       "      <td>8</td>\n",
       "      <td>1</td>\n",
       "      <td>1</td>\n",
       "    </tr>\n",
       "  </tbody>\n",
       "</table>\n",
       "</div>"
      ],
      "text/plain": [
       "      emp_id agency acces_sep_ind effective_dt    age pay_plan grade  los  \\\n",
       "0  001731070   DD34            SC   2010-01-01  20-24       YB    01  1-2   \n",
       "1  002741047   NV24            SD   2010-01-02  50-54       **    **  35+   \n",
       "2  004045502   NV19            SD   2010-01-02  60-64       **    **  35+   \n",
       "3  009203122   NV27            SJ   2010-01-07  25-29       **    **  3-4   \n",
       "4  008030594   NV27            SC   2010-01-08  50-54       **    **  < 1   \n",
       "\n",
       "  duty_station occupation occupation_cat basic_pay type_appoint work_schedule  \\\n",
       "0    #########       ****              *     21517           40             F   \n",
       "1    #########       ****              *       NaN           10             F   \n",
       "2    #########       ****              *       NaN           10             G   \n",
       "3    #########       ****              *       NaN           20             P   \n",
       "4    #########       ****              *       NaN           15             F   \n",
       "\n",
       "  dod_ind year_eff_dt month_eff_dt day_eff_dt quarter_eff_dt week_eff_dt  \n",
       "0       1        2010            1          1              1           0  \n",
       "1       1        2010            1          2              1           0  \n",
       "2       1        2010            1          2              1           0  \n",
       "3       1        2010            1          7              1           1  \n",
       "4       1        2010            1          8              1           1  "
      ]
     },
     "execution_count": 28,
     "metadata": {},
     "output_type": "execute_result"
    }
   ],
   "source": [
    "df_data = pd.read_csv(os.path.join(workspace_path, 'data/sample_dynamic.csv'), dtype=str)\n",
    "print '%d rows' % len(df_data)\n",
    "df_data.head()"
   ]
  },
  {
   "cell_type": "markdown",
   "metadata": {},
   "source": [
    "Remove Duplicates"
   ]
  },
  {
   "cell_type": "code",
   "execution_count": 29,
   "metadata": {
    "collapsed": false
   },
   "outputs": [
    {
     "data": {
      "text/html": [
       "\n",
       "          <script src=\"/static/components/requirejs/require.js\"></script>\n",
       "          <script>\n",
       "            requirejs.config({\n",
       "              paths: {\n",
       "                base: '/static/base',\n",
       "              },\n",
       "            });\n",
       "          </script>\n",
       "          "
      ],
      "text/plain": [
       "<IPython.core.display.HTML object>"
      ]
     },
     "metadata": {},
     "output_type": "display_data"
    }
   ],
   "source": [
    "df_data2 = df_data[['emp_id','effective_dt']].groupby(['emp_id'], as_index=False).count()\n",
    "df_data2.rename(columns={'effective_dt':'num_records'}, inplace=True)\n",
    "duplicates=df_data2[df_data2['num_records']>=2].emp_id.tolist()\n",
    "df_data=df_data[~df_data['emp_id'].isin(duplicates)]"
   ]
  },
  {
   "cell_type": "code",
   "execution_count": 30,
   "metadata": {
    "collapsed": false
   },
   "outputs": [
    {
     "data": {
      "text/html": [
       "\n",
       "          <script src=\"/static/components/requirejs/require.js\"></script>\n",
       "          <script>\n",
       "            requirejs.config({\n",
       "              paths: {\n",
       "                base: '/static/base',\n",
       "              },\n",
       "            });\n",
       "          </script>\n",
       "          "
      ],
      "text/plain": [
       "<IPython.core.display.HTML object>"
      ]
     },
     "metadata": {},
     "output_type": "display_data"
    }
   ],
   "source": [
    "# This code is packaged as a function that can be reused if you need to apply to future\n",
    "# datasets, esp. to prediction data, to ensure consistent transformations are applied.\n",
    "\n",
    "def transform_data(df):\n",
    "  \n",
    " \n",
    "  \n",
    "  #interesting_columns = ['emp_id','age','basic_pay', 'dod_ind', 'pay_plan', 'grade','los', 'occupation_cat', 'acces_sep_ind']\n",
    "  #df = df[interesting_columns]\n",
    "  \n",
    "  # Replace whitespace with NaN, and NaNs with empty string\n",
    "  df = df.replace('\\s+', np.nan, regex=True).fillna('')\n",
    "\n",
    "  # Filter out the rows without an income, i.e. there is no target value to learn from\n",
    "  df = df[df.basic_pay != '']\n",
    "\n",
    "  \n",
    "  # Convert the wage value into units of 1000. So someone making an income from wages\n",
    "  # of $23200 will have it encoded as 23.2\n",
    "  df['basic_pay'] = df.basic_pay.astype(np.int64) / 1000.0\n",
    "\n",
    "  df['quit']= df.acces_sep_ind =='SC'\n",
    "  df['quit']= df.quit.astype(np.int64)\n",
    "  return df"
   ]
  },
  {
   "cell_type": "code",
   "execution_count": 31,
   "metadata": {
    "collapsed": false
   },
   "outputs": [
    {
     "data": {
      "text/html": [
       "\n",
       "          <script src=\"/static/components/requirejs/require.js\"></script>\n",
       "          <script>\n",
       "            requirejs.config({\n",
       "              paths: {\n",
       "                base: '/static/base',\n",
       "              },\n",
       "            });\n",
       "          </script>\n",
       "          "
      ],
      "text/plain": [
       "<IPython.core.display.HTML object>"
      ]
     },
     "metadata": {},
     "output_type": "display_data"
    },
    {
     "name": "stdout",
     "output_type": "stream",
     "text": [
      "28718 rows\n"
     ]
    },
    {
     "data": {
      "text/html": [
       "<div>\n",
       "<table border=\"1\" class=\"dataframe\">\n",
       "  <thead>\n",
       "    <tr style=\"text-align: right;\">\n",
       "      <th></th>\n",
       "      <th>emp_id</th>\n",
       "      <th>agency</th>\n",
       "      <th>acces_sep_ind</th>\n",
       "      <th>effective_dt</th>\n",
       "      <th>age</th>\n",
       "      <th>pay_plan</th>\n",
       "      <th>grade</th>\n",
       "      <th>los</th>\n",
       "      <th>duty_station</th>\n",
       "      <th>occupation</th>\n",
       "      <th>...</th>\n",
       "      <th>basic_pay</th>\n",
       "      <th>type_appoint</th>\n",
       "      <th>work_schedule</th>\n",
       "      <th>dod_ind</th>\n",
       "      <th>year_eff_dt</th>\n",
       "      <th>month_eff_dt</th>\n",
       "      <th>day_eff_dt</th>\n",
       "      <th>quarter_eff_dt</th>\n",
       "      <th>week_eff_dt</th>\n",
       "      <th>quit</th>\n",
       "    </tr>\n",
       "  </thead>\n",
       "  <tbody>\n",
       "    <tr>\n",
       "      <th>0</th>\n",
       "      <td>001731070</td>\n",
       "      <td>DD34</td>\n",
       "      <td>SC</td>\n",
       "      <td>2010-01-01</td>\n",
       "      <td>20-24</td>\n",
       "      <td>YB</td>\n",
       "      <td>01</td>\n",
       "      <td>1-2</td>\n",
       "      <td>#########</td>\n",
       "      <td>****</td>\n",
       "      <td>...</td>\n",
       "      <td>21.517</td>\n",
       "      <td>40</td>\n",
       "      <td>F</td>\n",
       "      <td>1</td>\n",
       "      <td>2010</td>\n",
       "      <td>1</td>\n",
       "      <td>1</td>\n",
       "      <td>1</td>\n",
       "      <td>0</td>\n",
       "      <td>1</td>\n",
       "    </tr>\n",
       "    <tr>\n",
       "      <th>9</th>\n",
       "      <td>001150242</td>\n",
       "      <td>ARHR</td>\n",
       "      <td>AD</td>\n",
       "      <td>2000-12-31</td>\n",
       "      <td>50-54</td>\n",
       "      <td>GS</td>\n",
       "      <td>12</td>\n",
       "      <td>10-14</td>\n",
       "      <td>#########</td>\n",
       "      <td>****</td>\n",
       "      <td>...</td>\n",
       "      <td>58.124</td>\n",
       "      <td>38</td>\n",
       "      <td>F</td>\n",
       "      <td>1</td>\n",
       "      <td>2000</td>\n",
       "      <td>12</td>\n",
       "      <td>31</td>\n",
       "      <td>4</td>\n",
       "      <td>53</td>\n",
       "      <td>0</td>\n",
       "    </tr>\n",
       "    <tr>\n",
       "      <th>10</th>\n",
       "      <td>004432817</td>\n",
       "      <td>AF1M</td>\n",
       "      <td>SD</td>\n",
       "      <td>2000-12-31</td>\n",
       "      <td>60-64</td>\n",
       "      <td>WG</td>\n",
       "      <td>10</td>\n",
       "      <td>20-24</td>\n",
       "      <td>#########</td>\n",
       "      <td>****</td>\n",
       "      <td>...</td>\n",
       "      <td>41.490</td>\n",
       "      <td>10</td>\n",
       "      <td>F</td>\n",
       "      <td>1</td>\n",
       "      <td>2000</td>\n",
       "      <td>12</td>\n",
       "      <td>31</td>\n",
       "      <td>4</td>\n",
       "      <td>53</td>\n",
       "      <td>0</td>\n",
       "    </tr>\n",
       "    <tr>\n",
       "      <th>11</th>\n",
       "      <td>004920194</td>\n",
       "      <td>ARMC</td>\n",
       "      <td>AD</td>\n",
       "      <td>2008-01-07</td>\n",
       "      <td>40-44</td>\n",
       "      <td>YB</td>\n",
       "      <td>01</td>\n",
       "      <td>1-2</td>\n",
       "      <td>#########</td>\n",
       "      <td>****</td>\n",
       "      <td>...</td>\n",
       "      <td>27.480</td>\n",
       "      <td>40</td>\n",
       "      <td>F</td>\n",
       "      <td>1</td>\n",
       "      <td>2008</td>\n",
       "      <td>1</td>\n",
       "      <td>7</td>\n",
       "      <td>1</td>\n",
       "      <td>1</td>\n",
       "      <td>0</td>\n",
       "    </tr>\n",
       "    <tr>\n",
       "      <th>12</th>\n",
       "      <td>002593889</td>\n",
       "      <td>ARCE</td>\n",
       "      <td>AC</td>\n",
       "      <td>2001-01-08</td>\n",
       "      <td>40-44</td>\n",
       "      <td>WB</td>\n",
       "      <td>00</td>\n",
       "      <td>3-4</td>\n",
       "      <td>#########</td>\n",
       "      <td>****</td>\n",
       "      <td>...</td>\n",
       "      <td>63.236</td>\n",
       "      <td>15</td>\n",
       "      <td>F</td>\n",
       "      <td>1</td>\n",
       "      <td>2001</td>\n",
       "      <td>1</td>\n",
       "      <td>8</td>\n",
       "      <td>1</td>\n",
       "      <td>1</td>\n",
       "      <td>0</td>\n",
       "    </tr>\n",
       "  </tbody>\n",
       "</table>\n",
       "<p>5 rows × 21 columns</p>\n",
       "</div>"
      ],
      "text/plain": [
       "       emp_id agency acces_sep_ind effective_dt    age pay_plan grade    los  \\\n",
       "0   001731070   DD34            SC   2010-01-01  20-24       YB    01    1-2   \n",
       "9   001150242   ARHR            AD   2000-12-31  50-54       GS    12  10-14   \n",
       "10  004432817   AF1M            SD   2000-12-31  60-64       WG    10  20-24   \n",
       "11  004920194   ARMC            AD   2008-01-07  40-44       YB    01    1-2   \n",
       "12  002593889   ARCE            AC   2001-01-08  40-44       WB    00    3-4   \n",
       "\n",
       "   duty_station occupation ...  basic_pay  type_appoint work_schedule dod_ind  \\\n",
       "0     #########       **** ...     21.517            40             F       1   \n",
       "9     #########       **** ...     58.124            38             F       1   \n",
       "10    #########       **** ...     41.490            10             F       1   \n",
       "11    #########       **** ...     27.480            40             F       1   \n",
       "12    #########       **** ...     63.236            15             F       1   \n",
       "\n",
       "   year_eff_dt month_eff_dt day_eff_dt quarter_eff_dt week_eff_dt quit  \n",
       "0         2010            1          1              1           0    1  \n",
       "9         2000           12         31              4          53    0  \n",
       "10        2000           12         31              4          53    0  \n",
       "11        2008            1          7              1           1    0  \n",
       "12        2001            1          8              1           1    0  \n",
       "\n",
       "[5 rows x 21 columns]"
      ]
     },
     "execution_count": 31,
     "metadata": {},
     "output_type": "execute_result"
    }
   ],
   "source": [
    "df_data = transform_data(df_data)\n",
    "print '%d rows' % len(df_data)\n",
    "df_data.head()"
   ]
  },
  {
   "cell_type": "code",
   "execution_count": 15,
   "metadata": {
    "collapsed": false
   },
   "outputs": [
    {
     "data": {
      "text/html": [
       "\n",
       "          <script src=\"/static/components/requirejs/require.js\"></script>\n",
       "          <script>\n",
       "            requirejs.config({\n",
       "              paths: {\n",
       "                base: '/static/base',\n",
       "              },\n",
       "            });\n",
       "          </script>\n",
       "          "
      ],
      "text/plain": [
       "<IPython.core.display.HTML object>"
      ]
     },
     "metadata": {},
     "output_type": "display_data"
    },
    {
     "data": {
      "image/png": "[encoded data removed]",
      "text/plain": [
       "<matplotlib.figure.Figure at 0x7f9c2f3c7f10>"
      ]
     },
     "metadata": {},
     "output_type": "display_data"
    }
   ],
   "source": [
    "sns.countplot(x='quit', data=df_data, palette='hls')\n",
    "plot.show()"
   ]
  },
  {
   "cell_type": "code",
   "execution_count": 17,
   "metadata": {
    "collapsed": false
   },
   "outputs": [
    {
     "data": {
      "text/html": [
       "\n",
       "          <script src=\"/static/components/requirejs/require.js\"></script>\n",
       "          <script>\n",
       "            requirejs.config({\n",
       "              paths: {\n",
       "                base: '/static/base',\n",
       "              },\n",
       "            });\n",
       "          </script>\n",
       "          "
      ],
      "text/plain": [
       "<IPython.core.display.HTML object>"
      ]
     },
     "metadata": {},
     "output_type": "display_data"
    },
    {
     "data": {
      "text/plain": [
       "emp_id            0\n",
       "age               0\n",
       "basic_pay         0\n",
       "dod_ind           0\n",
       "pay_plan          0\n",
       "grade             0\n",
       "los               0\n",
       "occupation_cat    0\n",
       "acces_sep_ind     0\n",
       "quit              0\n",
       "dtype: int64"
      ]
     },
     "execution_count": 17,
     "metadata": {},
     "output_type": "execute_result"
    }
   ],
   "source": [
    "df_data.isnull().sum()"
   ]
  },
  {
   "cell_type": "code",
   "execution_count": 19,
   "metadata": {
    "collapsed": false
   },
   "outputs": [
    {
     "data": {
      "text/html": [
       "\n",
       "          <script src=\"/static/components/requirejs/require.js\"></script>\n",
       "          <script>\n",
       "            requirejs.config({\n",
       "              paths: {\n",
       "                base: '/static/base',\n",
       "              },\n",
       "            });\n",
       "          </script>\n",
       "          "
      ],
      "text/plain": [
       "<IPython.core.display.HTML object>"
      ]
     },
     "metadata": {},
     "output_type": "display_data"
    },
    {
     "data": {
      "image/png": "[encoded data removed]",
      "text/plain": [
       "<matplotlib.figure.Figure at 0x7f9c3c0d8b90>"
      ]
     },
     "metadata": {},
     "output_type": "display_data"
    }
   ],
   "source": [
    "sns.countplot(y='grade', data=df_data, palette='hls')\n",
    "plot.show()"
   ]
  },
  {
   "cell_type": "code",
   "execution_count": 20,
   "metadata": {
    "collapsed": false
   },
   "outputs": [
    {
     "data": {
      "text/html": [
       "\n",
       "          <script src=\"/static/components/requirejs/require.js\"></script>\n",
       "          <script>\n",
       "            requirejs.config({\n",
       "              paths: {\n",
       "                base: '/static/base',\n",
       "              },\n",
       "            });\n",
       "          </script>\n",
       "          "
      ],
      "text/plain": [
       "<IPython.core.display.HTML object>"
      ]
     },
     "metadata": {},
     "output_type": "display_data"
    },
    {
     "data": {
      "image/png": "[encoded data removed]",
      "text/plain": [
       "<matplotlib.figure.Figure at 0x7f9c2f15ee90>"
      ]
     },
     "metadata": {},
     "output_type": "display_data"
    }
   ],
   "source": [
    "sns.countplot(y='pay_plan', data=df_data, palette='hls')\n",
    "plot.show()"
   ]
  },
  {
   "cell_type": "code",
   "execution_count": 32,
   "metadata": {
    "collapsed": false
   },
   "outputs": [
    {
     "data": {
      "text/html": [
       "\n",
       "          <script src=\"/static/components/requirejs/require.js\"></script>\n",
       "          <script>\n",
       "            requirejs.config({\n",
       "              paths: {\n",
       "                base: '/static/base',\n",
       "              },\n",
       "            });\n",
       "          </script>\n",
       "          "
      ],
      "text/plain": [
       "<IPython.core.display.HTML object>"
      ]
     },
     "metadata": {},
     "output_type": "display_data"
    },
    {
     "data": {
      "image/png": "[encoded data removed]",
      "text/plain": [
       "<matplotlib.figure.Figure at 0x7f41f598c950>"
      ]
     },
     "metadata": {},
     "output_type": "display_data"
    }
   ],
   "source": [
    "sns.countplot(y='type_appoint', data=df_data, palette='hls')\n",
    "plot.show()"
   ]
  },
  {
   "cell_type": "code",
   "execution_count": null,
   "metadata": {
    "collapsed": true
   },
   "outputs": [],
   "source": []
  }
 ],
 "metadata": {
  "kernelspec": {
   "display_name": "Python 2",
   "language": "python",
   "name": "python2"
  },
  "language_info": {
   "codemirror_mode": {
    "name": "ipython",
    "version": 2
   },
   "file_extension": ".py",
   "mimetype": "text/x-python",
   "name": "python",
   "nbconvert_exporter": "python",
   "pygments_lexer": "ipython2",
   "version": "2.7.12"
  }
 },
 "nbformat": 4,
 "nbformat_minor": 2
}
