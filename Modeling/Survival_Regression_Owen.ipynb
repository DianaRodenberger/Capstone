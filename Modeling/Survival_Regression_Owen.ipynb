{
 "cells": [
  {
   "cell_type": "code",
   "execution_count": 4,
   "metadata": {
    "collapsed": false
   },
   "outputs": [
    {
     "data": {
      "text/html": [
       "\n",
       "          <script src=\"/static/components/requirejs/require.js\"></script>\n",
       "          <script>\n",
       "            requirejs.config({\n",
       "              paths: {\n",
       "                base: '/static/base',\n",
       "              },\n",
       "            });\n",
       "          </script>\n",
       "          "
      ],
      "text/plain": [
       "<IPython.core.display.HTML object>"
      ]
     },
     "metadata": {},
     "output_type": "display_data"
    },
    {
     "name": "stdout",
     "output_type": "stream",
     "text": [
      "Requirement already satisfied: lifelines in /usr/local/lib/python2.7/dist-packages\n",
      "Requirement already satisfied: numpy in /usr/local/lib/python2.7/dist-packages (from lifelines)\n",
      "Requirement already satisfied: scipy in /usr/local/lib/python2.7/dist-packages (from lifelines)\n",
      "Requirement already satisfied: pandas>=0.18 in /usr/local/lib/python2.7/dist-packages (from lifelines)\n",
      "Requirement already satisfied: pytz>=2011k in /usr/local/lib/python2.7/dist-packages (from pandas>=0.18->lifelines)\n",
      "Requirement already satisfied: python-dateutil in /usr/local/lib/python2.7/dist-packages (from pandas>=0.18->lifelines)\n",
      "Requirement already satisfied: six>=1.5 in /usr/local/lib/python2.7/dist-packages (from python-dateutil->pandas>=0.18->lifelines)\n",
      "Requirement already satisfied: openpyxl in /usr/local/lib/python2.7/dist-packages\n",
      "Requirement already satisfied: et-xmlfile in /usr/local/lib/python2.7/dist-packages (from openpyxl)\n",
      "Requirement already satisfied: jdcal in /usr/local/lib/python2.7/dist-packages (from openpyxl)\n",
      "Collecting xlrd\n",
      "  Downloading xlrd-1.1.0-py2.py3-none-any.whl (108kB)\n",
      "\u001b[K    100% |████████████████████████████████| 112kB 2.1MB/s \n",
      "\u001b[?25hInstalling collected packages: xlrd\n",
      "Successfully installed xlrd-1.1.0\n"
     ]
    }
   ],
   "source": [
    "import google.datalab.bigquery as bq\n",
    "import pandas as pd\n",
    "import numpy as np\n",
    "import warnings\n",
    "\n",
    "!pip install lifelines\n",
    "!pip install openpyxl\n",
    "!pip install xlrd\n",
    "\n",
    "from lifelines import CoxPHFitter\n",
    "from lifelines.utils import k_fold_cross_validation\n",
    "from lifelines.utils import concordance_index"
   ]
  },
  {
   "cell_type": "code",
   "execution_count": 2,
   "metadata": {
    "collapsed": false
   },
   "outputs": [
    {
     "data": {
      "text/html": [
       "\n",
       "          <script src=\"/static/components/requirejs/require.js\"></script>\n",
       "          <script>\n",
       "            requirejs.config({\n",
       "              paths: {\n",
       "                base: '/static/base',\n",
       "              },\n",
       "            });\n",
       "          </script>\n",
       "          "
      ],
      "text/plain": [
       "<IPython.core.display.HTML object>"
      ]
     },
     "metadata": {},
     "output_type": "display_data"
    },
    {
     "name": "stdout",
     "output_type": "stream",
     "text": [
      "[]\n",
      "0\n"
     ]
    }
   ],
   "source": [
    "#Grab Agency Names\n",
    "\n",
    "agency_query = bq.Query('SELECT agency_cat \\\n",
    "                        FROM `w210-fedwork.processed_data.status_dynamic_v3` \\\n",
    "                        GROUP BY agency_cat')\n",
    "df = agency_query.execute(output_options=bq.QueryOutput.dataframe()).result()\n",
    "\n",
    "agencies = list(df['agency_cat'])\n",
    "\n",
    "agencies_clean = []\n",
    "\n",
    "small_agencies = ['ZU','ZR','ZS','ZP','ZL','YF','YE','UT','UJ','TS','RZ','RS','RF','RE','QQ','OS','NS','NP','NM',\n",
    "                  'NK','MA','IF','HW','HT','HP','HB','GY','GX','GQ','GO','GM','GG','GE','FK','FJ','FI','EW',\n",
    "                  'EQ','EO','DQ','DF','DB','CX','CF','CE','CC','BZ','BW','BT','BK','AW','AP','AN','YB','JL','CG',\n",
    "                 'BH','EX','IW','DG','ZN','RO','YD','ZW','IG','VD','YG','EM','EB','GI','YA','ZT','VB','PC','DA',\n",
    "                 'GN','FR','ZZ','ZQ','AI']\n",
    "\n",
    "medium_agencies = ['AH','AU','BD','BF','BG','BO','CT','EB','EC','FL','FM','FW','GB','GJ','GW','HD','HF','KS',\n",
    "                       'LF','LT','MC','MI','PU','RH','RR','SK','SS','TB','TC','TN']\n",
    "\n",
    "already_complete = ['NU','FW','TD','CM','TR','FQ','KS','AH','MI','BD','GB','GJ','AF','AU','ST','FM','EE','HF','DD',\n",
    "                   'GS','NL','OM','BO','HD','NV','NN','AM','PU','FT','VA','DL','HS','SZ','TN','SB','EC','CT','DN',\n",
    "                    'LP','SK','RR','FC','FD','ED','HU','FL','FY','AA','IB','BG','LT','TB','SS','LF','MC','AR','EP',\n",
    "                    'BF','AB','SE','TC','DJ','AG','IN','GW','HE','NQ','CU','RH','SM','NF']\n",
    "\n",
    "to_remove = small_agencies + already_complete\n",
    "\n",
    "for agency in agencies:\n",
    "  if agency not in to_remove:\n",
    "    agencies_clean.append(agency)\n",
    "    \n",
    "print agencies_clean\n",
    "print len(agencies_clean)"
   ]
  },
  {
   "cell_type": "code",
   "execution_count": 8,
   "metadata": {
    "collapsed": false
   },
   "outputs": [
    {
     "data": {
      "text/html": [
       "\n",
       "          <script src=\"/static/components/requirejs/require.js\"></script>\n",
       "          <script>\n",
       "            requirejs.config({\n",
       "              paths: {\n",
       "                base: '/static/base',\n",
       "              },\n",
       "            });\n",
       "          </script>\n",
       "          "
      ],
      "text/plain": [
       "<IPython.core.display.HTML object>"
      ]
     },
     "metadata": {},
     "output_type": "display_data"
    }
   ],
   "source": [
    "#Create Model Stats File\n",
    "!touch model_stats.txt\n",
    "!echo \"agency,n,events,concordence\" >model_stats.txt"
   ]
  },
  {
   "cell_type": "code",
   "execution_count": 9,
   "metadata": {
    "collapsed": false
   },
   "outputs": [
    {
     "data": {
      "text/html": [
       "\n",
       "          <script src=\"/static/components/requirejs/require.js\"></script>\n",
       "          <script>\n",
       "            requirejs.config({\n",
       "              paths: {\n",
       "                base: '/static/base',\n",
       "              },\n",
       "            });\n",
       "          </script>\n",
       "          "
      ],
      "text/plain": [
       "<IPython.core.display.HTML object>"
      ]
     },
     "metadata": {},
     "output_type": "display_data"
    },
    {
     "name": "stdout",
     "output_type": "stream",
     "text": [
      "NU\n",
      "FW\n",
      "SE\n",
      "TC\n",
      "AR\n",
      "EP\n",
      "BF\n",
      "AB\n",
      "DD\n",
      "GS\n",
      "SM\n",
      "NF\n",
      "DL\n",
      "VA\n",
      "HS\n",
      "SZ\n",
      "SB\n",
      "TN\n",
      "EC\n",
      "CT\n",
      "ST\n",
      "FM\n",
      "EE\n",
      "HF\n",
      "HU\n",
      "ED\n",
      "FL\n",
      "FY\n",
      "AA\n",
      "NV\n",
      "NN\n",
      "FT\n",
      "AM\n",
      "PU\n",
      "IB\n",
      "TB\n",
      "BG\n",
      "LF\n",
      "SS\n",
      "LT\n",
      "MC\n",
      "TD\n",
      "TR\n",
      "FQ\n",
      "CM\n",
      "AH\n",
      "KS\n",
      "GB\n",
      "BD\n",
      "GJ\n",
      "MI\n",
      "AF\n",
      "AU\n",
      "DJ\n",
      "IN\n",
      "AG\n",
      "GW\n",
      "HE\n",
      "RH\n",
      "NQ\n",
      "CU\n",
      "LP\n",
      "DN\n",
      "FD\n",
      "SK\n",
      "FC\n",
      "RR\n",
      "OM\n",
      "HD\n",
      "NL\n",
      "BO\n"
     ]
    }
   ],
   "source": [
    "#Loop to Run Model\n",
    "warnings.filterwarnings('ignore',category=RuntimeWarning)\n",
    "\n",
    "for agency in agencies_clean:\n",
    "  print agency\n",
    "  query = 'SELECT emp_id, age, basic_pay, los,occupation_fam, superv_status, count(*) as duration, max(attrit) as attrition \\\n",
    "                        FROM `w210-fedwork.processed_data.status_dynamic_v3` \\\n",
    "                        WHERE year > 2003 AND agency_cat = \"'+agency+'\" AND (occupation_cat = \"P\" OR occupation_cat = \"T\") AND basic_pay>0 AND nsftp_ind = \"1\" \\\n",
    "                        GROUP BY emp_id,los,age, basic_pay,occupation_fam,superv_status'\n",
    "  data_for_model = bq.Query(query)\n",
    "  df = data_for_model.execute(output_options=bq.QueryOutput.dataframe()).result()\n",
    "  \n",
    "  df['attrition'] = df['attrition'].fillna(0)\n",
    "  df_no_nan = df.drop(['emp_id'],1)\n",
    "  \n",
    "  df_with_dummies = pd.get_dummies(df_no_nan)\n",
    "  df_with_dummies['basic_pay'] = df_with_dummies['basic_pay']/1000\n",
    "  df_with_dummies['basic_pay_squared'] = (df_with_dummies['basic_pay'])**2\n",
    "  \n",
    "  age_to_drop = str(df_with_dummies.filter(like='age').columns[0])\n",
    "  los_to_drop = str(df_with_dummies.filter(like='los').columns[0])\n",
    "  occupation_to_drop = str(df_with_dummies.filter(like='occupation_fam').columns[0])\n",
    "  superv_status_to_drop = str(df_with_dummies.filter(like='superv_status').columns[0])\n",
    "  \n",
    "  final_df=df_with_dummies.drop([age_to_drop,los_to_drop,occupation_to_drop,superv_status_to_drop],1)\n",
    "  \n",
    "  cph = CoxPHFitter(penalizer=0.1)\n",
    "  cph.fit(final_df, duration_col='duration', event_col='attrition')\n",
    "  concord_index = concordance_index(cph.durations,-cph.predict_partial_hazard(cph.data).values.ravel(),cph.event_observed)\n",
    "  \n",
    "  with open('model_stats.txt','a') as text_file:\n",
    "    text_file.write('\\n{},{},{},{}'.format(agency,final_df.shape[0],np.sum(cph.event_observed),concord_index))\n",
    "  \n",
    "  file_title = str(agency)+'_results.xlsx'\n",
    "  \n",
    "  writer = pd.ExcelWriter(file_title)\n",
    "  cph.summary.transpose().to_excel(writer,'model_results')\n",
    "  cph.baseline_hazard_.transpose().to_excel(writer,'baseline_hazard')\n",
    "  cph.baseline_cumulative_hazard_.transpose().to_excel(writer,'baseline_cumulative_hazard')\n",
    "  writer.save()"
   ]
  },
  {
   "cell_type": "code",
   "execution_count": 22,
   "metadata": {
    "collapsed": false
   },
   "outputs": [
    {
     "data": {
      "text/html": [
       "\n",
       "          <script src=\"/static/components/requirejs/require.js\"></script>\n",
       "          <script>\n",
       "            requirejs.config({\n",
       "              paths: {\n",
       "                base: '/static/base',\n",
       "              },\n",
       "            });\n",
       "          </script>\n",
       "          "
      ],
      "text/plain": [
       "<IPython.core.display.HTML object>"
      ]
     },
     "metadata": {},
     "output_type": "display_data"
    }
   ],
   "source": [
    "#Loop to Combine Results\n",
    "\n",
    "model_results_combined = pd.DataFrame()\n",
    "baseline_hazard_combined = pd.DataFrame()\n",
    "baseline_cumulative_hazard_combined = pd.DataFrame()\n",
    "\n",
    "for agency in already_complete:\n",
    "  file_title = str(agency)+'_results.xlsx'\n",
    "  \n",
    "  results_input = pd.read_excel(file_title,'model_results', index_col = 0)\n",
    "  results_input['agency'] = agency\n",
    "  model_results_combined = model_results_combined.append(results_input, ignore_index = False)\n",
    "  \n",
    "  baseline_hazard_input = pd.read_excel(file_title,'baseline_hazard', index_col = 0)\n",
    "  baseline_hazard_input['agency'] = agency\n",
    "  baseline_hazard_combined = baseline_hazard_combined.append(baseline_hazard_input, ignore_index = True)\n",
    "  \n",
    "  baseline_cumulative_hazard_input = pd.read_excel(file_title,'baseline_cumulative_hazard', index_col = 0)\n",
    "  baseline_cumulative_hazard_input['agency'] = agency\n",
    "  baseline_cumulative_hazard_combined = baseline_cumulative_hazard_combined.append(baseline_cumulative_hazard_input, ignore_index = True)\n",
    "  \n",
    "writer = pd.ExcelWriter('combined_model_results.xlsx')\n",
    "model_results_combined.to_excel(writer,'model_results')\n",
    "baseline_hazard_combined.to_excel(writer,'baseline_hazard')\n",
    "baseline_cumulative_hazard_combined.to_excel(writer,'baseline_cumulative_hazard')\n",
    "writer.save()"
   ]
  }
 ],
 "metadata": {
  "kernelspec": {
   "display_name": "Python 2",
   "language": "python",
   "name": "python2"
  },
  "language_info": {
   "codemirror_mode": {
    "name": "ipython",
    "version": 2
   },
   "file_extension": ".py",
   "mimetype": "text/x-python",
   "name": "python",
   "nbconvert_exporter": "python",
   "pygments_lexer": "ipython2",
   "version": "2.7.12"
  }
 },
 "nbformat": 4,
 "nbformat_minor": 2
}
