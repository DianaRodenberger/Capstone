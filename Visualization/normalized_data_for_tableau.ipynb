{
 "cells": [
  {
   "cell_type": "code",
   "execution_count": 4,
   "metadata": {
    "collapsed": false
   },
   "outputs": [
    {
     "data": {
      "text/html": [
       "\n",
       "          <script src=\"/static/components/requirejs/require.js\"></script>\n",
       "          <script>\n",
       "            requirejs.config({\n",
       "              paths: {\n",
       "                base: '/static/base',\n",
       "              },\n",
       "            });\n",
       "          </script>\n",
       "          "
      ],
      "text/plain": [
       "<IPython.core.display.HTML object>"
      ]
     },
     "metadata": {},
     "output_type": "display_data"
    }
   ],
   "source": [
    "import pandas as pd\n",
    "from cStringIO import StringIO"
   ]
  },
  {
   "cell_type": "code",
   "execution_count": 60,
   "metadata": {
    "collapsed": false
   },
   "outputs": [
    {
     "data": {
      "text/html": [
       "\n",
       "          <script src=\"/static/components/requirejs/require.js\"></script>\n",
       "          <script>\n",
       "            requirejs.config({\n",
       "              paths: {\n",
       "                base: '/static/base',\n",
       "              },\n",
       "            });\n",
       "          </script>\n",
       "          "
      ],
      "text/plain": [
       "<IPython.core.display.HTML object>"
      ]
     },
     "metadata": {},
     "output_type": "display_data"
    }
   ],
   "source": [
    "%%storage read --object \"gs://fedwork_bigquery_exports/status_dynamic_dummies_all_agencies\" --variable text"
   ]
  },
  {
   "cell_type": "code",
   "execution_count": 61,
   "metadata": {
    "collapsed": false
   },
   "outputs": [
    {
     "data": {
      "text/html": [
       "\n",
       "          <script src=\"/static/components/requirejs/require.js\"></script>\n",
       "          <script>\n",
       "            requirejs.config({\n",
       "              paths: {\n",
       "                base: '/static/base',\n",
       "              },\n",
       "            });\n",
       "          </script>\n",
       "          "
      ],
      "text/plain": [
       "<IPython.core.display.HTML object>"
      ]
     },
     "metadata": {},
     "output_type": "display_data"
    },
    {
     "name": "stdout",
     "output_type": "stream",
     "text": [
      "(771325, 57)\n"
     ]
    },
    {
     "data": {
      "text/html": [
       "<div>\n",
       "<table border=\"1\" class=\"dataframe\">\n",
       "  <thead>\n",
       "    <tr style=\"text-align: right;\">\n",
       "      <th></th>\n",
       "      <th>emp_id</th>\n",
       "      <th>agency_cat</th>\n",
       "      <th>occupation_cat</th>\n",
       "      <th>basic_pay</th>\n",
       "      <th>basic_pay_squared</th>\n",
       "      <th>age_15_19</th>\n",
       "      <th>age_20_24</th>\n",
       "      <th>age_25_29</th>\n",
       "      <th>age_30_34</th>\n",
       "      <th>age_35_39</th>\n",
       "      <th>...</th>\n",
       "      <th>occupation_fam_18</th>\n",
       "      <th>occupation_fam_19</th>\n",
       "      <th>occupation_fam_20</th>\n",
       "      <th>occupation_fam_21</th>\n",
       "      <th>superv_status_2</th>\n",
       "      <th>superv_status_4</th>\n",
       "      <th>superv_status_5</th>\n",
       "      <th>superv_status_6</th>\n",
       "      <th>superv_status_7</th>\n",
       "      <th>superv_status_8</th>\n",
       "    </tr>\n",
       "  </thead>\n",
       "  <tbody>\n",
       "    <tr>\n",
       "      <th>0</th>\n",
       "      <td>898655</td>\n",
       "      <td>AA</td>\n",
       "      <td>P</td>\n",
       "      <td>161600.0</td>\n",
       "      <td>2.611456e+10</td>\n",
       "      <td>0</td>\n",
       "      <td>0</td>\n",
       "      <td>0</td>\n",
       "      <td>0</td>\n",
       "      <td>0</td>\n",
       "      <td>...</td>\n",
       "      <td>0</td>\n",
       "      <td>0</td>\n",
       "      <td>0</td>\n",
       "      <td>0</td>\n",
       "      <td>0</td>\n",
       "      <td>0</td>\n",
       "      <td>0</td>\n",
       "      <td>0</td>\n",
       "      <td>0</td>\n",
       "      <td>1</td>\n",
       "    </tr>\n",
       "    <tr>\n",
       "      <th>1</th>\n",
       "      <td>2257068</td>\n",
       "      <td>AA</td>\n",
       "      <td>P</td>\n",
       "      <td>161600.0</td>\n",
       "      <td>2.611456e+10</td>\n",
       "      <td>0</td>\n",
       "      <td>0</td>\n",
       "      <td>0</td>\n",
       "      <td>0</td>\n",
       "      <td>0</td>\n",
       "      <td>...</td>\n",
       "      <td>0</td>\n",
       "      <td>0</td>\n",
       "      <td>0</td>\n",
       "      <td>0</td>\n",
       "      <td>1</td>\n",
       "      <td>0</td>\n",
       "      <td>0</td>\n",
       "      <td>0</td>\n",
       "      <td>0</td>\n",
       "      <td>0</td>\n",
       "    </tr>\n",
       "    <tr>\n",
       "      <th>2</th>\n",
       "      <td>1745142</td>\n",
       "      <td>AA</td>\n",
       "      <td>P</td>\n",
       "      <td>113346.0</td>\n",
       "      <td>1.284732e+10</td>\n",
       "      <td>0</td>\n",
       "      <td>0</td>\n",
       "      <td>0</td>\n",
       "      <td>1</td>\n",
       "      <td>0</td>\n",
       "      <td>...</td>\n",
       "      <td>0</td>\n",
       "      <td>0</td>\n",
       "      <td>0</td>\n",
       "      <td>0</td>\n",
       "      <td>0</td>\n",
       "      <td>0</td>\n",
       "      <td>0</td>\n",
       "      <td>0</td>\n",
       "      <td>0</td>\n",
       "      <td>1</td>\n",
       "    </tr>\n",
       "    <tr>\n",
       "      <th>3</th>\n",
       "      <td>5050496</td>\n",
       "      <td>AA</td>\n",
       "      <td>P</td>\n",
       "      <td>75621.0</td>\n",
       "      <td>5.718536e+09</td>\n",
       "      <td>0</td>\n",
       "      <td>0</td>\n",
       "      <td>0</td>\n",
       "      <td>1</td>\n",
       "      <td>0</td>\n",
       "      <td>...</td>\n",
       "      <td>0</td>\n",
       "      <td>0</td>\n",
       "      <td>0</td>\n",
       "      <td>0</td>\n",
       "      <td>0</td>\n",
       "      <td>0</td>\n",
       "      <td>0</td>\n",
       "      <td>0</td>\n",
       "      <td>0</td>\n",
       "      <td>1</td>\n",
       "    </tr>\n",
       "    <tr>\n",
       "      <th>4</th>\n",
       "      <td>8638776</td>\n",
       "      <td>AA</td>\n",
       "      <td>P</td>\n",
       "      <td>157100.0</td>\n",
       "      <td>2.468041e+10</td>\n",
       "      <td>0</td>\n",
       "      <td>0</td>\n",
       "      <td>0</td>\n",
       "      <td>0</td>\n",
       "      <td>0</td>\n",
       "      <td>...</td>\n",
       "      <td>0</td>\n",
       "      <td>0</td>\n",
       "      <td>0</td>\n",
       "      <td>0</td>\n",
       "      <td>0</td>\n",
       "      <td>0</td>\n",
       "      <td>0</td>\n",
       "      <td>0</td>\n",
       "      <td>0</td>\n",
       "      <td>1</td>\n",
       "    </tr>\n",
       "  </tbody>\n",
       "</table>\n",
       "<p>5 rows × 57 columns</p>\n",
       "</div>"
      ],
      "text/plain": [
       "    emp_id agency_cat occupation_cat  basic_pay  basic_pay_squared  age_15_19  \\\n",
       "0   898655         AA              P   161600.0       2.611456e+10          0   \n",
       "1  2257068         AA              P   161600.0       2.611456e+10          0   \n",
       "2  1745142         AA              P   113346.0       1.284732e+10          0   \n",
       "3  5050496         AA              P    75621.0       5.718536e+09          0   \n",
       "4  8638776         AA              P   157100.0       2.468041e+10          0   \n",
       "\n",
       "   age_20_24  age_25_29  age_30_34  age_35_39       ...         \\\n",
       "0          0          0          0          0       ...          \n",
       "1          0          0          0          0       ...          \n",
       "2          0          0          1          0       ...          \n",
       "3          0          0          1          0       ...          \n",
       "4          0          0          0          0       ...          \n",
       "\n",
       "   occupation_fam_18  occupation_fam_19  occupation_fam_20  occupation_fam_21  \\\n",
       "0                  0                  0                  0                  0   \n",
       "1                  0                  0                  0                  0   \n",
       "2                  0                  0                  0                  0   \n",
       "3                  0                  0                  0                  0   \n",
       "4                  0                  0                  0                  0   \n",
       "\n",
       "   superv_status_2  superv_status_4  superv_status_5  superv_status_6  \\\n",
       "0                0                0                0                0   \n",
       "1                1                0                0                0   \n",
       "2                0                0                0                0   \n",
       "3                0                0                0                0   \n",
       "4                0                0                0                0   \n",
       "\n",
       "   superv_status_7  superv_status_8  \n",
       "0                0                1  \n",
       "1                0                0  \n",
       "2                0                1  \n",
       "3                0                1  \n",
       "4                0                1  \n",
       "\n",
       "[5 rows x 57 columns]"
      ]
     },
     "execution_count": 61,
     "metadata": {},
     "output_type": "execute_result"
    }
   ],
   "source": [
    "# Load data to dataframe\n",
    "df = pd.read_csv(StringIO(text)) \n",
    "print df.shape\n",
    "df.head()"
   ]
  },
  {
   "cell_type": "code",
   "execution_count": 63,
   "metadata": {
    "collapsed": false
   },
   "outputs": [
    {
     "data": {
      "text/html": [
       "\n",
       "          <script src=\"/static/components/requirejs/require.js\"></script>\n",
       "          <script>\n",
       "            requirejs.config({\n",
       "              paths: {\n",
       "                base: '/static/base',\n",
       "              },\n",
       "            });\n",
       "          </script>\n",
       "          "
      ],
      "text/plain": [
       "<IPython.core.display.HTML object>"
      ]
     },
     "metadata": {},
     "output_type": "display_data"
    },
    {
     "name": "stdout",
     "output_type": "stream",
     "text": [
      "dataframe without individuals in small agencies (770518, 57)\n"
     ]
    }
   ],
   "source": [
    "# Remove rows for small agencies\n",
    "small_agencies = ['ZU','ZR','ZS','ZP','ZL','YF','YE','UT','UJ','TS','RZ','RS','RF','RE','QQ','OS','NS','NP','NM',\n",
    "                  'NK','MA','IF','HW','HT','HP','HB','GY','GX','GQ','GO','GM','GG','GE','FK','FJ','FI','EW',\n",
    "                  'EQ','EO','DQ','DF','DB','CX','CF','CE','CC','BZ','BW','BT','BK','AW','AP','AN','YB','JL','CG',\n",
    "                 'BH','EX','IW','DG','ZN','RO','YD','ZW','IG','VD','YG','EM','EB','GI','YA','ZT','VB','PC','DA',\n",
    "                 'GN','FR','ZZ','ZQ','AI', 'PU']\n",
    "\n",
    "df = df[~df['agency_cat'].isin(small_agencies)]\n",
    "print 'dataframe without individuals in small agencies', df.shape"
   ]
  },
  {
   "cell_type": "code",
   "execution_count": 64,
   "metadata": {
    "collapsed": false
   },
   "outputs": [
    {
     "data": {
      "text/html": [
       "\n",
       "          <script src=\"/static/components/requirejs/require.js\"></script>\n",
       "          <script>\n",
       "            requirejs.config({\n",
       "              paths: {\n",
       "                base: '/static/base',\n",
       "              },\n",
       "            });\n",
       "          </script>\n",
       "          "
      ],
      "text/plain": [
       "<IPython.core.display.HTML object>"
      ]
     },
     "metadata": {},
     "output_type": "display_data"
    },
    {
     "name": "stdout",
     "output_type": "stream",
     "text": [
      "dataframe without null pay values (769918, 57)\n"
     ]
    }
   ],
   "source": [
    "# Count null values\n",
    "[[i, df[i].isnull().sum()] for i in df.columns.values]\n",
    "\n",
    "# Remove rows with null values\n",
    "# There were only null values in basic pay, individuals with null basic pay were not included in the model cox regression\n",
    "df = df.dropna(axis=0, how='any')\n",
    "print 'dataframe without null pay values', df.shape"
   ]
  },
  {
   "cell_type": "code",
   "execution_count": 65,
   "metadata": {
    "collapsed": false
   },
   "outputs": [
    {
     "data": {
      "text/html": [
       "\n",
       "          <script src=\"/static/components/requirejs/require.js\"></script>\n",
       "          <script>\n",
       "            requirejs.config({\n",
       "              paths: {\n",
       "                base: '/static/base',\n",
       "              },\n",
       "            });\n",
       "          </script>\n",
       "          "
      ],
      "text/plain": [
       "<IPython.core.display.HTML object>"
      ]
     },
     "metadata": {},
     "output_type": "display_data"
    },
    {
     "data": {
      "text/html": [
       "<div>\n",
       "<table border=\"1\" class=\"dataframe\">\n",
       "  <thead>\n",
       "    <tr style=\"text-align: right;\">\n",
       "      <th></th>\n",
       "      <th>emp_id</th>\n",
       "      <th>agency_cat</th>\n",
       "      <th>occupation_cat</th>\n",
       "      <th>basic_pay</th>\n",
       "      <th>basic_pay_squared</th>\n",
       "      <th>age_15_19</th>\n",
       "      <th>age_20_24</th>\n",
       "      <th>age_25_29</th>\n",
       "      <th>age_30_34</th>\n",
       "      <th>age_35_39</th>\n",
       "      <th>...</th>\n",
       "      <th>occupation_fam_20</th>\n",
       "      <th>occupation_fam_21</th>\n",
       "      <th>superv_status_2</th>\n",
       "      <th>superv_status_4</th>\n",
       "      <th>superv_status_5</th>\n",
       "      <th>superv_status_6</th>\n",
       "      <th>superv_status_7</th>\n",
       "      <th>superv_status_8</th>\n",
       "      <th>basic_pay_norm</th>\n",
       "      <th>basic_pay_squared_norm</th>\n",
       "    </tr>\n",
       "  </thead>\n",
       "  <tbody>\n",
       "    <tr>\n",
       "      <th>0</th>\n",
       "      <td>898655</td>\n",
       "      <td>AA</td>\n",
       "      <td>P</td>\n",
       "      <td>161600.0</td>\n",
       "      <td>2.611456e+10</td>\n",
       "      <td>0</td>\n",
       "      <td>0</td>\n",
       "      <td>0</td>\n",
       "      <td>0</td>\n",
       "      <td>0</td>\n",
       "      <td>...</td>\n",
       "      <td>0</td>\n",
       "      <td>0</td>\n",
       "      <td>0</td>\n",
       "      <td>0</td>\n",
       "      <td>0</td>\n",
       "      <td>0</td>\n",
       "      <td>0</td>\n",
       "      <td>1</td>\n",
       "      <td>1.158587</td>\n",
       "      <td>1.208730</td>\n",
       "    </tr>\n",
       "    <tr>\n",
       "      <th>1</th>\n",
       "      <td>2257068</td>\n",
       "      <td>AA</td>\n",
       "      <td>P</td>\n",
       "      <td>161600.0</td>\n",
       "      <td>2.611456e+10</td>\n",
       "      <td>0</td>\n",
       "      <td>0</td>\n",
       "      <td>0</td>\n",
       "      <td>0</td>\n",
       "      <td>0</td>\n",
       "      <td>...</td>\n",
       "      <td>0</td>\n",
       "      <td>0</td>\n",
       "      <td>1</td>\n",
       "      <td>0</td>\n",
       "      <td>0</td>\n",
       "      <td>0</td>\n",
       "      <td>0</td>\n",
       "      <td>0</td>\n",
       "      <td>1.158587</td>\n",
       "      <td>1.208730</td>\n",
       "    </tr>\n",
       "    <tr>\n",
       "      <th>2</th>\n",
       "      <td>1745142</td>\n",
       "      <td>AA</td>\n",
       "      <td>P</td>\n",
       "      <td>113346.0</td>\n",
       "      <td>1.284732e+10</td>\n",
       "      <td>0</td>\n",
       "      <td>0</td>\n",
       "      <td>0</td>\n",
       "      <td>1</td>\n",
       "      <td>0</td>\n",
       "      <td>...</td>\n",
       "      <td>0</td>\n",
       "      <td>0</td>\n",
       "      <td>0</td>\n",
       "      <td>0</td>\n",
       "      <td>0</td>\n",
       "      <td>0</td>\n",
       "      <td>0</td>\n",
       "      <td>1</td>\n",
       "      <td>-0.296075</td>\n",
       "      <td>-0.397890</td>\n",
       "    </tr>\n",
       "    <tr>\n",
       "      <th>3</th>\n",
       "      <td>5050496</td>\n",
       "      <td>AA</td>\n",
       "      <td>P</td>\n",
       "      <td>75621.0</td>\n",
       "      <td>5.718536e+09</td>\n",
       "      <td>0</td>\n",
       "      <td>0</td>\n",
       "      <td>0</td>\n",
       "      <td>1</td>\n",
       "      <td>0</td>\n",
       "      <td>...</td>\n",
       "      <td>0</td>\n",
       "      <td>0</td>\n",
       "      <td>0</td>\n",
       "      <td>0</td>\n",
       "      <td>0</td>\n",
       "      <td>0</td>\n",
       "      <td>0</td>\n",
       "      <td>1</td>\n",
       "      <td>-1.433330</td>\n",
       "      <td>-1.261162</td>\n",
       "    </tr>\n",
       "    <tr>\n",
       "      <th>4</th>\n",
       "      <td>8638776</td>\n",
       "      <td>AA</td>\n",
       "      <td>P</td>\n",
       "      <td>157100.0</td>\n",
       "      <td>2.468041e+10</td>\n",
       "      <td>0</td>\n",
       "      <td>0</td>\n",
       "      <td>0</td>\n",
       "      <td>0</td>\n",
       "      <td>0</td>\n",
       "      <td>...</td>\n",
       "      <td>0</td>\n",
       "      <td>0</td>\n",
       "      <td>0</td>\n",
       "      <td>0</td>\n",
       "      <td>0</td>\n",
       "      <td>0</td>\n",
       "      <td>0</td>\n",
       "      <td>1</td>\n",
       "      <td>1.022931</td>\n",
       "      <td>1.035060</td>\n",
       "    </tr>\n",
       "  </tbody>\n",
       "</table>\n",
       "<p>5 rows × 59 columns</p>\n",
       "</div>"
      ],
      "text/plain": [
       "    emp_id agency_cat occupation_cat  basic_pay  basic_pay_squared  age_15_19  \\\n",
       "0   898655         AA              P   161600.0       2.611456e+10          0   \n",
       "1  2257068         AA              P   161600.0       2.611456e+10          0   \n",
       "2  1745142         AA              P   113346.0       1.284732e+10          0   \n",
       "3  5050496         AA              P    75621.0       5.718536e+09          0   \n",
       "4  8638776         AA              P   157100.0       2.468041e+10          0   \n",
       "\n",
       "   age_20_24  age_25_29  age_30_34  age_35_39           ...            \\\n",
       "0          0          0          0          0           ...             \n",
       "1          0          0          0          0           ...             \n",
       "2          0          0          1          0           ...             \n",
       "3          0          0          1          0           ...             \n",
       "4          0          0          0          0           ...             \n",
       "\n",
       "   occupation_fam_20  occupation_fam_21  superv_status_2  superv_status_4  \\\n",
       "0                  0                  0                0                0   \n",
       "1                  0                  0                1                0   \n",
       "2                  0                  0                0                0   \n",
       "3                  0                  0                0                0   \n",
       "4                  0                  0                0                0   \n",
       "\n",
       "   superv_status_5  superv_status_6  superv_status_7  superv_status_8  \\\n",
       "0                0                0                0                1   \n",
       "1                0                0                0                0   \n",
       "2                0                0                0                1   \n",
       "3                0                0                0                1   \n",
       "4                0                0                0                1   \n",
       "\n",
       "   basic_pay_norm  basic_pay_squared_norm  \n",
       "0        1.158587                1.208730  \n",
       "1        1.158587                1.208730  \n",
       "2       -0.296075               -0.397890  \n",
       "3       -1.433330               -1.261162  \n",
       "4        1.022931                1.035060  \n",
       "\n",
       "[5 rows x 59 columns]"
      ]
     },
     "execution_count": 65,
     "metadata": {},
     "output_type": "execute_result"
    }
   ],
   "source": [
    "# Create columns for normalized basic_pay and basic_pay_squared\n",
    "df['basic_pay_norm'] = df[['agency_cat','basic_pay']].groupby('agency_cat').transform(lambda x: (x - x.mean()) / x.std())\n",
    "df['basic_pay_squared_norm'] = df[['agency_cat','basic_pay_squared']].groupby('agency_cat').transform(lambda x: (x - x.mean()) / x.std())\n",
    "df.head()"
   ]
  },
  {
   "cell_type": "code",
   "execution_count": 66,
   "metadata": {
    "collapsed": false
   },
   "outputs": [
    {
     "data": {
      "text/html": [
       "\n",
       "          <script src=\"/static/components/requirejs/require.js\"></script>\n",
       "          <script>\n",
       "            requirejs.config({\n",
       "              paths: {\n",
       "                base: '/static/base',\n",
       "              },\n",
       "            });\n",
       "          </script>\n",
       "          "
      ],
      "text/plain": [
       "<IPython.core.display.HTML object>"
      ]
     },
     "metadata": {},
     "output_type": "display_data"
    },
    {
     "data": {
      "text/html": [
       "<div>\n",
       "<table border=\"1\" class=\"dataframe\">\n",
       "  <thead>\n",
       "    <tr style=\"text-align: right;\">\n",
       "      <th></th>\n",
       "      <th>emp_id</th>\n",
       "      <th>agency_cat</th>\n",
       "      <th>occupation_cat</th>\n",
       "      <th>basic_pay</th>\n",
       "      <th>basic_pay_squared</th>\n",
       "      <th>age_15_19</th>\n",
       "      <th>age_20_24</th>\n",
       "      <th>age_25_29</th>\n",
       "      <th>age_30_34</th>\n",
       "      <th>age_35_39</th>\n",
       "      <th>...</th>\n",
       "      <th>occupation_fam_20</th>\n",
       "      <th>occupation_fam_21</th>\n",
       "      <th>superv_status_2</th>\n",
       "      <th>superv_status_4</th>\n",
       "      <th>superv_status_5</th>\n",
       "      <th>superv_status_6</th>\n",
       "      <th>superv_status_7</th>\n",
       "      <th>superv_status_8</th>\n",
       "      <th>basic_pay_norm</th>\n",
       "      <th>basic_pay_squared_norm</th>\n",
       "    </tr>\n",
       "  </thead>\n",
       "  <tbody>\n",
       "    <tr>\n",
       "      <th>771319</th>\n",
       "      <td>2797409</td>\n",
       "      <td>VA</td>\n",
       "      <td>P</td>\n",
       "      <td>309439.0</td>\n",
       "      <td>9.575249e+10</td>\n",
       "      <td>0</td>\n",
       "      <td>0</td>\n",
       "      <td>0</td>\n",
       "      <td>0</td>\n",
       "      <td>0</td>\n",
       "      <td>...</td>\n",
       "      <td>0</td>\n",
       "      <td>0</td>\n",
       "      <td>0</td>\n",
       "      <td>0</td>\n",
       "      <td>0</td>\n",
       "      <td>0</td>\n",
       "      <td>0</td>\n",
       "      <td>1</td>\n",
       "      <td>4.727701</td>\n",
       "      <td>6.442418</td>\n",
       "    </tr>\n",
       "    <tr>\n",
       "      <th>771320</th>\n",
       "      <td>8292536</td>\n",
       "      <td>VA</td>\n",
       "      <td>P</td>\n",
       "      <td>309439.0</td>\n",
       "      <td>9.575249e+10</td>\n",
       "      <td>0</td>\n",
       "      <td>0</td>\n",
       "      <td>0</td>\n",
       "      <td>0</td>\n",
       "      <td>0</td>\n",
       "      <td>...</td>\n",
       "      <td>0</td>\n",
       "      <td>0</td>\n",
       "      <td>0</td>\n",
       "      <td>0</td>\n",
       "      <td>0</td>\n",
       "      <td>0</td>\n",
       "      <td>0</td>\n",
       "      <td>1</td>\n",
       "      <td>4.727701</td>\n",
       "      <td>6.442418</td>\n",
       "    </tr>\n",
       "    <tr>\n",
       "      <th>771321</th>\n",
       "      <td>244892</td>\n",
       "      <td>VA</td>\n",
       "      <td>P</td>\n",
       "      <td>309695.0</td>\n",
       "      <td>9.591099e+10</td>\n",
       "      <td>0</td>\n",
       "      <td>0</td>\n",
       "      <td>0</td>\n",
       "      <td>0</td>\n",
       "      <td>0</td>\n",
       "      <td>...</td>\n",
       "      <td>0</td>\n",
       "      <td>0</td>\n",
       "      <td>1</td>\n",
       "      <td>0</td>\n",
       "      <td>0</td>\n",
       "      <td>0</td>\n",
       "      <td>0</td>\n",
       "      <td>0</td>\n",
       "      <td>4.732965</td>\n",
       "      <td>6.454146</td>\n",
       "    </tr>\n",
       "    <tr>\n",
       "      <th>771322</th>\n",
       "      <td>2263970</td>\n",
       "      <td>VA</td>\n",
       "      <td>P</td>\n",
       "      <td>277311.0</td>\n",
       "      <td>7.690139e+10</td>\n",
       "      <td>0</td>\n",
       "      <td>0</td>\n",
       "      <td>0</td>\n",
       "      <td>0</td>\n",
       "      <td>0</td>\n",
       "      <td>...</td>\n",
       "      <td>0</td>\n",
       "      <td>0</td>\n",
       "      <td>1</td>\n",
       "      <td>0</td>\n",
       "      <td>0</td>\n",
       "      <td>0</td>\n",
       "      <td>0</td>\n",
       "      <td>0</td>\n",
       "      <td>4.067028</td>\n",
       "      <td>5.047472</td>\n",
       "    </tr>\n",
       "    <tr>\n",
       "      <th>771323</th>\n",
       "      <td>2881482</td>\n",
       "      <td>VA</td>\n",
       "      <td>P</td>\n",
       "      <td>277695.0</td>\n",
       "      <td>7.711451e+10</td>\n",
       "      <td>0</td>\n",
       "      <td>0</td>\n",
       "      <td>0</td>\n",
       "      <td>0</td>\n",
       "      <td>0</td>\n",
       "      <td>...</td>\n",
       "      <td>0</td>\n",
       "      <td>0</td>\n",
       "      <td>1</td>\n",
       "      <td>0</td>\n",
       "      <td>0</td>\n",
       "      <td>0</td>\n",
       "      <td>0</td>\n",
       "      <td>0</td>\n",
       "      <td>4.074924</td>\n",
       "      <td>5.063242</td>\n",
       "    </tr>\n",
       "  </tbody>\n",
       "</table>\n",
       "<p>5 rows × 59 columns</p>\n",
       "</div>"
      ],
      "text/plain": [
       "         emp_id agency_cat occupation_cat  basic_pay  basic_pay_squared  \\\n",
       "771319  2797409         VA              P   309439.0       9.575249e+10   \n",
       "771320  8292536         VA              P   309439.0       9.575249e+10   \n",
       "771321   244892         VA              P   309695.0       9.591099e+10   \n",
       "771322  2263970         VA              P   277311.0       7.690139e+10   \n",
       "771323  2881482         VA              P   277695.0       7.711451e+10   \n",
       "\n",
       "        age_15_19  age_20_24  age_25_29  age_30_34  age_35_39  \\\n",
       "771319          0          0          0          0          0   \n",
       "771320          0          0          0          0          0   \n",
       "771321          0          0          0          0          0   \n",
       "771322          0          0          0          0          0   \n",
       "771323          0          0          0          0          0   \n",
       "\n",
       "                 ...            occupation_fam_20  occupation_fam_21  \\\n",
       "771319           ...                            0                  0   \n",
       "771320           ...                            0                  0   \n",
       "771321           ...                            0                  0   \n",
       "771322           ...                            0                  0   \n",
       "771323           ...                            0                  0   \n",
       "\n",
       "        superv_status_2  superv_status_4  superv_status_5  superv_status_6  \\\n",
       "771319                0                0                0                0   \n",
       "771320                0                0                0                0   \n",
       "771321                1                0                0                0   \n",
       "771322                1                0                0                0   \n",
       "771323                1                0                0                0   \n",
       "\n",
       "        superv_status_7  superv_status_8  basic_pay_norm  \\\n",
       "771319                0                1        4.727701   \n",
       "771320                0                1        4.727701   \n",
       "771321                0                0        4.732965   \n",
       "771322                0                0        4.067028   \n",
       "771323                0                0        4.074924   \n",
       "\n",
       "        basic_pay_squared_norm  \n",
       "771319                6.442418  \n",
       "771320                6.442418  \n",
       "771321                6.454146  \n",
       "771322                5.047472  \n",
       "771323                5.063242  \n",
       "\n",
       "[5 rows x 59 columns]"
      ]
     },
     "execution_count": 66,
     "metadata": {},
     "output_type": "execute_result"
    }
   ],
   "source": [
    "df.tail()"
   ]
  },
  {
   "cell_type": "code",
   "execution_count": 67,
   "metadata": {
    "collapsed": false
   },
   "outputs": [
    {
     "data": {
      "text/html": [
       "\n",
       "          <script src=\"/static/components/requirejs/require.js\"></script>\n",
       "          <script>\n",
       "            requirejs.config({\n",
       "              paths: {\n",
       "                base: '/static/base',\n",
       "              },\n",
       "            });\n",
       "          </script>\n",
       "          "
      ],
      "text/plain": [
       "<IPython.core.display.HTML object>"
      ]
     },
     "metadata": {},
     "output_type": "display_data"
    },
    {
     "name": "stdout",
     "output_type": "stream",
     "text": [
      "1.1585873474 1.1585873474\n",
      "1.20873048814 1.20873048814\n",
      "4.07492422455 4.07492422455\n",
      "5.06324219842 5.06324219842\n"
     ]
    }
   ],
   "source": [
    "# Check that normalizations are correct\n",
    "mAA = df[df['agency_cat'] == 'AA']['basic_pay'].mean()\n",
    "sdAA = df[df['agency_cat'] == 'AA']['basic_pay'].std()\n",
    "\n",
    "m2AA = df[df['agency_cat'] == 'AA']['basic_pay_squared'].mean()\n",
    "sd2AA = df[df['agency_cat'] == 'AA']['basic_pay_squared'].std()\n",
    "\n",
    "print df.iloc[0]['basic_pay_norm'] , (df.iloc[0]['basic_pay'] - mAA) / sdAA\n",
    "print df.iloc[0]['basic_pay_squared_norm'] , (df.iloc[0]['basic_pay_squared'] - m2AA) / sd2AA\n",
    "\n",
    "mVA = df[df['agency_cat'] == 'VA']['basic_pay'].mean()\n",
    "sdVA = df[df['agency_cat'] == 'VA']['basic_pay'].std()\n",
    "\n",
    "m2VA = df[df['agency_cat'] == 'VA']['basic_pay_squared'].mean()\n",
    "sd2VA = df[df['agency_cat'] == 'VA']['basic_pay_squared'].std()\n",
    "\n",
    "print df.iloc[-1]['basic_pay_norm'] , (df.iloc[-1]['basic_pay'] - mVA) / sdVA\n",
    "print df.iloc[-1]['basic_pay_squared_norm'] , (df.iloc[-1]['basic_pay_squared'] - m2VA) / sd2VA"
   ]
  },
  {
   "cell_type": "code",
   "execution_count": 68,
   "metadata": {
    "collapsed": false
   },
   "outputs": [
    {
     "data": {
      "text/html": [
       "\n",
       "          <script src=\"/static/components/requirejs/require.js\"></script>\n",
       "          <script>\n",
       "            requirejs.config({\n",
       "              paths: {\n",
       "                base: '/static/base',\n",
       "              },\n",
       "            });\n",
       "          </script>\n",
       "          "
      ],
      "text/plain": [
       "<IPython.core.display.HTML object>"
      ]
     },
     "metadata": {},
     "output_type": "display_data"
    },
    {
     "data": {
      "text/plain": [
       "[['emp_id', 0],\n",
       " ['agency_cat', 0],\n",
       " ['occupation_cat', 0],\n",
       " ['basic_pay', 0],\n",
       " ['basic_pay_squared', 0],\n",
       " ['age_15_19', 0],\n",
       " ['age_20_24', 0],\n",
       " ['age_25_29', 0],\n",
       " ['age_30_34', 0],\n",
       " ['age_35_39', 0],\n",
       " ['age_40_44', 0],\n",
       " ['age_45_49', 0],\n",
       " ['age_50_54', 0],\n",
       " ['age_55_59', 0],\n",
       " ['age_60_64', 0],\n",
       " ['age_65_69', 0],\n",
       " ['age_70_74', 0],\n",
       " ['age_75', 0],\n",
       " ['age_UNSP', 0],\n",
       " ['los_1', 0],\n",
       " ['los_1_2', 0],\n",
       " ['los_3_4', 0],\n",
       " ['los_5_9', 0],\n",
       " ['los_10_14', 0],\n",
       " ['los_15_19', 0],\n",
       " ['los_20_24', 0],\n",
       " ['los_25_29', 0],\n",
       " ['los_30_34', 0],\n",
       " ['los_35', 0],\n",
       " ['los_UNSP', 0],\n",
       " ['occupation_fam_01', 0],\n",
       " ['occupation_fam_02', 0],\n",
       " ['occupation_fam_03', 0],\n",
       " ['occupation_fam_04', 0],\n",
       " ['occupation_fam_05', 0],\n",
       " ['occupation_fam_06', 0],\n",
       " ['occupation_fam_07', 0],\n",
       " ['occupation_fam_08', 0],\n",
       " ['occupation_fam_09', 0],\n",
       " ['occupation_fam_10', 0],\n",
       " ['occupation_fam_11', 0],\n",
       " ['occupation_fam_12', 0],\n",
       " ['occupation_fam_13', 0],\n",
       " ['occupation_fam_14', 0],\n",
       " ['occupation_fam_15', 0],\n",
       " ['occupation_fam_16', 0],\n",
       " ['occupation_fam_17', 0],\n",
       " ['occupation_fam_18', 0],\n",
       " ['occupation_fam_19', 0],\n",
       " ['occupation_fam_20', 0],\n",
       " ['occupation_fam_21', 0],\n",
       " ['superv_status_2', 0],\n",
       " ['superv_status_4', 0],\n",
       " ['superv_status_5', 0],\n",
       " ['superv_status_6', 0],\n",
       " ['superv_status_7', 0],\n",
       " ['superv_status_8', 0],\n",
       " ['basic_pay_norm', 0],\n",
       " ['basic_pay_squared_norm', 0]]"
      ]
     },
     "execution_count": 68,
     "metadata": {},
     "output_type": "execute_result"
    }
   ],
   "source": [
    "# Check for any null values\n",
    "[[i, df[i].isnull().sum()] for i in df.columns.values]"
   ]
  },
  {
   "cell_type": "code",
   "execution_count": 69,
   "metadata": {
    "collapsed": false
   },
   "outputs": [
    {
     "data": {
      "text/html": [
       "\n",
       "          <script src=\"/static/components/requirejs/require.js\"></script>\n",
       "          <script>\n",
       "            requirejs.config({\n",
       "              paths: {\n",
       "                base: '/static/base',\n",
       "              },\n",
       "            });\n",
       "          </script>\n",
       "          "
      ],
      "text/plain": [
       "<IPython.core.display.HTML object>"
      ]
     },
     "metadata": {},
     "output_type": "display_data"
    },
    {
     "data": {
      "text/plain": [
       "(769918, 59)"
      ]
     },
     "execution_count": 69,
     "metadata": {},
     "output_type": "execute_result"
    }
   ],
   "source": [
    "# Shape of final df for tableau\n",
    "df.shape"
   ]
  },
  {
   "cell_type": "code",
   "execution_count": 71,
   "metadata": {
    "collapsed": false
   },
   "outputs": [
    {
     "data": {
      "text/html": [
       "\n",
       "          <script src=\"/static/components/requirejs/require.js\"></script>\n",
       "          <script>\n",
       "            requirejs.config({\n",
       "              paths: {\n",
       "                base: '/static/base',\n",
       "              },\n",
       "            });\n",
       "          </script>\n",
       "          "
      ],
      "text/plain": [
       "<IPython.core.display.HTML object>"
      ]
     },
     "metadata": {},
     "output_type": "display_data"
    }
   ],
   "source": [
    "# Write to file\n",
    "df.to_csv('norm_data.csv', sep=',')"
   ]
  }
 ],
 "metadata": {
  "kernelspec": {
   "display_name": "Python 2",
   "language": "python",
   "name": "python2"
  },
  "language_info": {
   "codemirror_mode": {
    "name": "ipython",
    "version": 2
   },
   "file_extension": ".py",
   "mimetype": "text/x-python",
   "name": "python",
   "nbconvert_exporter": "python",
   "pygments_lexer": "ipython2",
   "version": "2.7.12"
  }
 },
 "nbformat": 4,
 "nbformat_minor": 2
}
